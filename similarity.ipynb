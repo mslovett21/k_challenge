{
 "cells": [
  {
   "cell_type": "code",
   "execution_count": 13,
   "metadata": {},
   "outputs": [],
   "source": [
    "import re\n",
    "import copy\n",
    "import pandas as pd\n",
    "import os\n",
    "import numpy as np\n",
    "import matplotlib.pyplot as plt\n",
    "import json"
   ]
  },
  {
   "cell_type": "code",
   "execution_count": 15,
   "metadata": {},
   "outputs": [],
   "source": [
    "drug_names_file = 'drugs_names.txt'\n",
    "drug_index_file = 'similarity/int_index.json'\n",
    "similarity_file = 'similarity/chem_chem_sim.csv'"
   ]
  },
  {
   "cell_type": "code",
   "execution_count": 16,
   "metadata": {},
   "outputs": [],
   "source": [
    "col_names      = [\"chemical_name\"]\n",
    "drugs_index_df = pd.read_csv(drug_names_file, names=col_names)"
   ]
  },
  {
   "cell_type": "code",
   "execution_count": 17,
   "metadata": {},
   "outputs": [],
   "source": [
    "drugs_names = list()\n",
    "for i in range(len(drugs_index_df)):\n",
    "    name = drugs_index_df[\"chemical_name\"][i]\n",
    "    drugs_names.append(name)"
   ]
  },
  {
   "cell_type": "code",
   "execution_count": 18,
   "metadata": {},
   "outputs": [],
   "source": [
    "drugs_index_dict = {}\n",
    "for i in range(len(drugs_names)):\n",
    "    drugs_index_dict[drugs_names[i]] = 0"
   ]
  },
  {
   "cell_type": "code",
   "execution_count": 43,
   "metadata": {},
   "outputs": [
    {
     "data": {
      "text/plain": [
       "41464"
      ]
     },
     "execution_count": 43,
     "metadata": {},
     "output_type": "execute_result"
    }
   ],
   "source": [
    "len(drugs_names)"
   ]
  },
  {
   "cell_type": "code",
   "execution_count": 44,
   "metadata": {},
   "outputs": [],
   "source": [
    "my_list=['P00533','P35968','P00519','Q16539','P36888','P10721','P12931','P49841','P08581','O14965','O14757','P06239','Q96GD4','O60674','P11309','P31749','P24941','P51812','P07333','P11362','P04626','P07949','O75116','P08069','P45983','P45984','P29597','Q9Y478','P49137','P52333','Q13627','P17948','P31751','Q13464','O75582','P49840','Q9UM73','P53350','P17612','Q00535','P06213','Q08881','P06493','Q9NWZ3','P35916','P09619','P28482','P43405','O95819','Q9P1W9','P04629','O14920','P51955','P49760','P68400','O15264','Q9Y243','Q13188','P23458','P06241','P42345','P11802','O15530','O96017','Q86V86','Q16620','P22607','P48729','Q04759','Q9HAZ1','P42336','P53778','Q15418','Q06187','Q05655','Q12851','O94806','Q13153','Q9HBH9','Q96SB4','P51451','Q8N4C8','Q9Y6M4','Q5VT25','P23443','P53779','P29317','P27448','Q9BZL6','P48730','P30530','P51817','Q15303','P07948','O96013','Q13557','Q06418','O75676','Q02750','O00141','Q7KZI7','P15735','O43293','Q16288','P15056','Q15349','Q02763','Q14680','Q8TDC3','Q9UK32','P04049','P08922','Q9HBY8','Q05397','Q5S007','Q14289','Q14012','P54760','Q13882','P05129','Q9HCP0','P41743','P53667','Q9UHD2','Q8NE63','P78368','P16591','Q8IW41','Q7L7X3','P42685','Q9Y463','O15111','Q9H2G2','Q07912','Q9H4B4','P16234','Q9H2X6','Q04912','Q13976','Q9BXA7','Q16644','Q13555','Q16513','Q14164','Q8IU85','O00444','P36897','Q9NYL2','Q9Y4K4','Q13237','P51617','P07332','Q12866','Q16832','P33981','Q13177','P24723','O15075','P17252','P29376','Q9H3Y6','Q9UEE5','P08631','Q05513','Q92630','P51957','P29323','P54753','Q9UQM7','Q15759','P07947','Q8IWQ3','P09769','Q13554','Q9UQB9','Q9BUB5','P54764','Q15139','P43403','P50750','P42684','O60285','P51813','P42680','Q9P0L2','Q86Z02','P50613','Q00526','P21802','Q96L34','P53355','P41240','Q9P286','O94804','O15146','Q9NQU5','P22455','P05771','P42681','P49759','O75914','P49761','Q13043','P27361','Q96BR1','Q9HC98','P49336','Q96PF2','Q16816','Q9UPE1','Q8TD19','Q04771','P29320','Q02156','Q9H0K1','P36507','P14616','P57059','P42679','Q8N568','Q9P289','Q15746','P30291','Q8TDX7','Q96RR4','Q9Y5S2','O00311','O43353','O43781','Q13470','Q96PY6','P54762','P49674','P19784','Q16566','O75716','Q9H422','Q8WTQ7','Q96KB5','Q6ZN16','Q16584','Q6PHR2','P29322','Q9NR20','P21709','Q9UBE8','Q9BWU1','P51956','Q15831','Q00534','O00418','P52564','O75385','Q9BYT3','Q99683','O14976','O14578','Q16512','Q13131','Q9H1R3','P80192','Q9H2K8','Q8N5S9','Q15375','Q9BRS2','Q9NSY1','Q9Y6E0','Q02779','O95747','Q15569','Q2M2I8','Q9UF33','Q8TD08','Q13163','Q9H093','Q15208','P22694','Q92772','P37173','Q56UN5','Q13233','Q9UIK4','Q08345','Q9UEW8','P32298','Q96D53','O15197','Q96NX5','Q9Y6R4','Q92918','Q8NI60','P53671','O14730','P36896','O60331','O00506','O94921','Q9NYY3','P78356','P78527','Q96Q40','Q8IYT8','Q09013','Q9Y2U5','Q13523','Q8N752','P78362','P20794','P45985','Q6XUX3','Q99558','Q9BYP7','Q99759','Q9UKI8','Q9UKE5','Q86YV6','Q9UQ88','P34947','P57078','P54756','Q00536','Q8IY84','Q6P3R8','Q13873','Q96RG2','Q07002','Q00532','Q8TF76','Q52WX2','O14936','Q8NEV4','Q9P2K8','Q86Y07','Q9C098','P35590','P37023','P43250','Q99755','Q86UE8','Q9UL54','O75460','P31152','Q86UX6','Q12852','Q9Y616','Q13546','Q8NG66','Q6P2M8','P35626','Q8TBX8','P0C1S8','P48736','Q13705','Q59H18','Q9NY57','Q99640','Q8NFD2','Q9BVS4','Q32MK0','Q9NRM7','Q9Y3S1','Q6DT37','Q15835','Q9Y2K2','O94768','O43318','Q9Y2H1','O43683','Q9UBS0','Q9NRP7','O00329','Q8WXR4','O95835','P19525','Q8WU08','P21860','P57058','Q9UPZ9','P46734','P36894','Q00537','Q9Y2H9','Q16659','Q9UBF8','Q9BX84','Q13164','P27037','Q8IVH8','O14733','O00238','P42338','Q96PN8','O00750','Q6ZWH5','O76039','Q8TDR2','P0C264','Q9BQI3','O75747','P41279','Q9H4A3','P25098','P21127','Q8IVW4','O95382','O43283','Q96J92','Q8NEB9','Q14004','Q9NRH2','O60885','Q9Y2I7','P54646','P22612','P10398','Q99986','Q13535','Q9NZJ5','P25440','Q15059']"
   ]
  },
  {
   "cell_type": "code",
   "execution_count": 45,
   "metadata": {},
   "outputs": [
    {
     "data": {
      "text/plain": [
       "420"
      ]
     },
     "execution_count": 45,
     "metadata": {},
     "output_type": "execute_result"
    }
   ],
   "source": [
    "len(my_list)"
   ]
  },
  {
   "cell_type": "markdown",
   "metadata": {},
   "source": [
    "### Indexes file"
   ]
  },
  {
   "cell_type": "code",
   "execution_count": 19,
   "metadata": {},
   "outputs": [],
   "source": [
    "json_data   = open(drug_index_file ).read()\n",
    "drugs_index = json.loads(json_data)"
   ]
  },
  {
   "cell_type": "code",
   "execution_count": 25,
   "metadata": {},
   "outputs": [
    {
     "name": "stdout",
     "output_type": "stream",
     "text": [
      "226\n"
     ]
    }
   ],
   "source": [
    "j = 0\n",
    "missing_drugs = []\n",
    "for i in range(len(drugs_names)):\n",
    "    if drugs_names[i] in drugs_index:\n",
    "        val = drugs_index[drugs_names[i]]\n",
    "        drugs_index_dict[drugs_names[i]] = val\n",
    "    else:\n",
    "        j= j+1\n",
    "        missing_drugs.append(drugs_names[i])\n",
    "print(j)        "
   ]
  },
  {
   "cell_type": "code",
   "execution_count": 31,
   "metadata": {},
   "outputs": [
    {
     "data": {
      "text/plain": [
       "['CPOSSPYZTUNDSV-XUWBISKJSA-N',\n",
       " 'WMNBBIBFYBDUFE-UTLKBRERSA-N',\n",
       " 'GHHRMMSOBHPXKG-UHFFFAOYSA-N',\n",
       " 'RVCDWDPAFBPOBR-PNESKVBLSA-N',\n",
       " 'XQSQQVYJUHNNRF-ZSOIEALJSA-N']"
      ]
     },
     "execution_count": 31,
     "metadata": {},
     "output_type": "execute_result"
    }
   ],
   "source": [
    "missing_drugs[0:5]"
   ]
  },
  {
   "cell_type": "code",
   "execution_count": 27,
   "metadata": {},
   "outputs": [],
   "source": [
    "col_names_sim        = [\"drug_1_id\", \"drug_2_id\", \"similarity\"]\n",
    "drugs_similarity_df  = pd.read_csv(similarity_file, sep=',', names=col_names_sim)"
   ]
  },
  {
   "cell_type": "code",
   "execution_count": 29,
   "metadata": {},
   "outputs": [
    {
     "data": {
      "text/html": [
       "<div>\n",
       "<style scoped>\n",
       "    .dataframe tbody tr th:only-of-type {\n",
       "        vertical-align: middle;\n",
       "    }\n",
       "\n",
       "    .dataframe tbody tr th {\n",
       "        vertical-align: top;\n",
       "    }\n",
       "\n",
       "    .dataframe thead th {\n",
       "        text-align: right;\n",
       "    }\n",
       "</style>\n",
       "<table border=\"1\" class=\"dataframe\">\n",
       "  <thead>\n",
       "    <tr style=\"text-align: right;\">\n",
       "      <th></th>\n",
       "      <th>drug_1_id</th>\n",
       "      <th>drug_2_id</th>\n",
       "      <th>similarity</th>\n",
       "    </tr>\n",
       "  </thead>\n",
       "  <tbody>\n",
       "    <tr>\n",
       "      <th>0</th>\n",
       "      <td>46001</td>\n",
       "      <td>62923</td>\n",
       "      <td>0.674419</td>\n",
       "    </tr>\n",
       "    <tr>\n",
       "      <th>1</th>\n",
       "      <td>46001</td>\n",
       "      <td>1482731</td>\n",
       "      <td>0.659091</td>\n",
       "    </tr>\n",
       "    <tr>\n",
       "      <th>2</th>\n",
       "      <td>46001</td>\n",
       "      <td>1399397</td>\n",
       "      <td>0.625000</td>\n",
       "    </tr>\n",
       "    <tr>\n",
       "      <th>3</th>\n",
       "      <td>46001</td>\n",
       "      <td>1065215</td>\n",
       "      <td>0.615385</td>\n",
       "    </tr>\n",
       "    <tr>\n",
       "      <th>4</th>\n",
       "      <td>46001</td>\n",
       "      <td>1060027</td>\n",
       "      <td>0.608696</td>\n",
       "    </tr>\n",
       "  </tbody>\n",
       "</table>\n",
       "</div>"
      ],
      "text/plain": [
       "   drug_1_id  drug_2_id  similarity\n",
       "0      46001      62923    0.674419\n",
       "1      46001    1482731    0.659091\n",
       "2      46001    1399397    0.625000\n",
       "3      46001    1065215    0.615385\n",
       "4      46001    1060027    0.608696"
      ]
     },
     "execution_count": 29,
     "metadata": {},
     "output_type": "execute_result"
    }
   ],
   "source": [
    "drugs_similarity_df.head()"
   ]
  },
  {
   "cell_type": "markdown",
   "metadata": {},
   "source": [
    "### All involved indexes"
   ]
  },
  {
   "cell_type": "code",
   "execution_count": 32,
   "metadata": {},
   "outputs": [],
   "source": [
    "valid_indexes = drugs_index_dict.values()"
   ]
  },
  {
   "cell_type": "markdown",
   "metadata": {},
   "source": [
    "## Which rows of the data frame should be kept"
   ]
  },
  {
   "cell_type": "code",
   "execution_count": 35,
   "metadata": {},
   "outputs": [],
   "source": [
    "indexes_with_valid_pairs_drugs = []\n",
    "for i in range(len(drugs_similarity_df)):\n",
    "    tem_drug1_id  = int(drugs_similarity_df.loc[[i], \"drug_1_id\"])\n",
    "    tem_drug2_id  = int(drugs_similarity_df.loc[[i], 'drug_2_id'])\n",
    "    if tem_drug1_id in valid_indexes and tem_drug2_id in valid_indexes:\n",
    "        indexes_with_valid_pairs_drugs.append(i)"
   ]
  },
  {
   "cell_type": "code",
   "execution_count": 36,
   "metadata": {},
   "outputs": [
    {
     "data": {
      "text/plain": [
       "140810"
      ]
     },
     "execution_count": 36,
     "metadata": {},
     "output_type": "execute_result"
    }
   ],
   "source": [
    "len(indexes_with_valid_pairs_drugs)"
   ]
  },
  {
   "cell_type": "code",
   "execution_count": 40,
   "metadata": {},
   "outputs": [],
   "source": [
    "with open('index_similarity.txt', 'w') as f:\n",
    "    for i in indexes_with_valid_pairs_drugs:\n",
    "        f.write(str(i))\n",
    "        f.write(',')"
   ]
  },
  {
   "cell_type": "code",
   "execution_count": 41,
   "metadata": {},
   "outputs": [],
   "source": [
    "drug_similarity_valid = drugs_similarity_df.iloc[indexes_with_valid_pairs_drugs]"
   ]
  },
  {
   "cell_type": "code",
   "execution_count": 42,
   "metadata": {},
   "outputs": [],
   "source": [
    "drug_similarity_valid.to_csv( \"valid_pairs_similarity.csv\",index =False)"
   ]
  },
  {
   "cell_type": "code",
   "execution_count": null,
   "metadata": {},
   "outputs": [],
   "source": []
  }
 ],
 "metadata": {
  "kernelspec": {
   "display_name": "Python 3",
   "language": "python",
   "name": "python3"
  },
  "language_info": {
   "codemirror_mode": {
    "name": "ipython",
    "version": 3
   },
   "file_extension": ".py",
   "mimetype": "text/x-python",
   "name": "python",
   "nbconvert_exporter": "python",
   "pygments_lexer": "ipython3",
   "version": "3.6.6"
  }
 },
 "nbformat": 4,
 "nbformat_minor": 2
}
