{
 "cells": [
  {
   "cell_type": "markdown",
   "metadata": {},
   "source": [
    "## ResNet Implementation"
   ]
  },
  {
   "cell_type": "code",
   "execution_count": 1,
   "metadata": {},
   "outputs": [],
   "source": [
    "%matplotlib inline\n",
    "import matplotlib.pyplot as plt\n",
    "import tensorflow as tf\n",
    "import numpy as np\n",
    "from sklearn.metrics import confusion_matrix\n",
    "import time\n",
    "from datetime import timedelta\n",
    "import math"
   ]
  },
  {
   "cell_type": "markdown",
   "metadata": {},
   "source": [
    "# Load Data"
   ]
  },
  {
   "cell_type": "code",
   "execution_count": null,
   "metadata": {},
   "outputs": [],
   "source": []
  },
  {
   "cell_type": "markdown",
   "metadata": {},
   "source": [
    "https://github.com/tensorflow/tpu/blob/master/models/official/resnet/resnet_model.py"
   ]
  },
  {
   "cell_type": "markdown",
   "metadata": {},
   "source": [
    "A **TensorFlow** graph consists of the following parts:\n",
    "\n",
    "* **Placeholder** variables used for inputting data to the graph.\n",
    "* **Variables** that are going to be optimized so as to make the convolutional network perform better.\n",
    "* The mathematical formulas for the convolutional network.\n",
    "* **Cost function** be used to guide the optimization of the variables.\n",
    "* **Optimization** method which updates the variables.\n"
   ]
  },
  {
   "cell_type": "markdown",
   "metadata": {},
   "source": [
    "# 1. Placeholders"
   ]
  },
  {
   "cell_type": "markdown",
   "metadata": {},
   "source": [
    "### Data dimensions"
   ]
  },
  {
   "cell_type": "code",
   "execution_count": 7,
   "metadata": {},
   "outputs": [],
   "source": [
    "# The fingerprint are stored in one-dimensional arrays of this length.\n",
    "fingerprint_size_flat = 1024\n",
    "\n",
    "# The number of pixels in each dimension of an image.\n",
    "fingerprint_size = 32\n",
    "\n",
    "# Tuple with height and width of images used to reshape arrays.\n",
    "fingerprint_shape = (32,32)\n",
    "\n",
    "# Number of classes, one class for each of the targets.\n",
    "num_classes = 420\n",
    "\n",
    "# Number of colour channels for the images: 1 channel for gray-scale.\n",
    "num_channels = 1"
   ]
  },
  {
   "cell_type": "markdown",
   "metadata": {},
   "source": [
    "### Placeholders"
   ]
  },
  {
   "cell_type": "code",
   "execution_count": 8,
   "metadata": {},
   "outputs": [],
   "source": [
    "x = tf.placeholder(tf.float32, shape=[None, fingerprint_size_flat], name='x')"
   ]
  },
  {
   "cell_type": "code",
   "execution_count": 10,
   "metadata": {},
   "outputs": [],
   "source": [
    "x_fingerprint = tf.reshape(x, [-1, fingerprint_size, fingerprint_size, num_channels])"
   ]
  },
  {
   "cell_type": "markdown",
   "metadata": {},
   "source": [
    "The data-type is set to `float32` and the shape is set to `[None,fingerprint_size, fingerprint_size, num_channels]`, where `None` means that the tensor may hold an arbitrary number of fingerprints with each image being a `finger_print` by `finger_print` matrix."
   ]
  },
  {
   "cell_type": "code",
   "execution_count": 11,
   "metadata": {},
   "outputs": [
    {
     "data": {
      "text/plain": [
       "<tf.Tensor 'Reshape_1:0' shape=(?, 32, 32, 1) dtype=float32>"
      ]
     },
     "execution_count": 11,
     "metadata": {},
     "output_type": "execute_result"
    }
   ],
   "source": [
    "x_fingerprint"
   ]
  },
  {
   "cell_type": "markdown",
   "metadata": {},
   "source": [
    "Next we have the placeholder variable for the true labels associated with the fingerprints that were input in the placeholder variable `x`. The shape of this placeholder variable is `[None, num_classes]` which means it may hold an arbitrary number of labels and each label is a vector of length `num_classes`."
   ]
  },
  {
   "cell_type": "code",
   "execution_count": 12,
   "metadata": {},
   "outputs": [],
   "source": [
    "y_true = tf.placeholder(tf.float32, shape=[None, num_classes], name='y_true')"
   ]
  },
  {
   "cell_type": "code",
   "execution_count": 16,
   "metadata": {},
   "outputs": [],
   "source": [
    "#Special weight for cross-validation"
   ]
  },
  {
   "cell_type": "markdown",
   "metadata": {},
   "source": [
    "# 2. Variables"
   ]
  },
  {
   "cell_type": "code",
   "execution_count": 14,
   "metadata": {},
   "outputs": [],
   "source": [
    "def new_weights(shape):\n",
    "    return tf.Variable(tf.truncated_normal(shape, stddev=0.05))"
   ]
  },
  {
   "cell_type": "code",
   "execution_count": 15,
   "metadata": {},
   "outputs": [],
   "source": [
    "def new_biases(length):\n",
    "    return tf.Variable(tf.constant(0.05, shape=[length]))"
   ]
  },
  {
   "cell_type": "markdown",
   "metadata": {},
   "source": [
    "### Info about Convolution layer API"
   ]
  },
  {
   "cell_type": "markdown",
   "metadata": {},
   "source": [
    "`tf.nn.conv2d` function from TensorFlow API\n",
    "<br>\n",
    "<br>\n",
    "`tf.nn.conv2d`(\n",
    "<br>\n",
    "    input,\n",
    " <br>\n",
    "    filter,\n",
    "    <br>\n",
    "    strides,\n",
    "    <br>\n",
    "    padding,\n",
    "    <br>\n",
    "    use_cudnn_on_gpu=True,\n",
    "    <br>\n",
    "    data_format='NHWC',\n",
    "    <br>\n",
    "    dilations=[1, 1, 1, 1],\n",
    "    <br>\n",
    "    name=None\n",
    ")\n",
    "<br>\n",
    "<br>\n",
    "Computes a 2-D convolution given 4-D input and filter tensors.\n",
    "<br>\n",
    "<br>\n",
    "Given an input tensor of shape `[batch, in_height, in_width, in_channels]` and a filter / kernel tensor of shape `[filter_height, filter_width, in_channels, out_channels]`, this op performs the following:\n",
    "<br>\n",
    "<br>\n",
    "* Flattens the filter to a 2-D matrix with shape `[filter_height * filter_width * in_channels, output_channels]`.\n",
    "* Extracts image patches from the input tensor to form a virtual tensor of shape `[batch, out_height, out_width, filter_height * filter_width * in_channels]`.\n",
    "* For each patch, right-multiplies the filter matrix and the image patch vector."
   ]
  },
  {
   "cell_type": "markdown",
   "metadata": {},
   "source": [
    "### Info about Max Pooling layer API"
   ]
  },
  {
   "cell_type": "markdown",
   "metadata": {},
   "source": [
    "`tf.nn.max_pool`(\n",
    "<br>\n",
    "    value,\n",
    "    <br>\n",
    "    ksize,\n",
    "    <br>\n",
    "    strides,\n",
    "    <br>\n",
    "    padding,\n",
    "    <br>\n",
    "    data_format='NHWC',\n",
    "    <br>\n",
    "    name=None\n",
    ")\n",
    "<br>\n",
    "* `value`: A 4-D Tensor of the format specified by data_format.\n",
    "* `ksize`: A list or tuple of 4 ints. The size of the window for each dimension of the input tensor.\n",
    "* `strides`: A list or tuple of 4 ints. The stride of the sliding window for each dimension of the input tensor."
   ]
  },
  {
   "cell_type": "code",
   "execution_count": 4,
   "metadata": {},
   "outputs": [],
   "source": [
    "def new_conv_layer(input,              # previous layer in the network\n",
    "                   filter_size,        # size of a filer, width=height=size\n",
    "                   in_channels,        # number of channels in the input layer\n",
    "                   out_channels,       # number of channels in the output layer, aka number of filers\n",
    "                   stride = 1):        # strides = [1,stride, stride, 1]\n",
    "    \n",
    "    #Shape of the filter weights for convolution\n",
    "    shape = [filter_size, filter_size, in_channels, out_channels]\n",
    "    \n",
    "    #Create new weights = new filters of specified dimensions\n",
    "    weights = new_weights(shape = shape)\n",
    "    \n",
    "    #Create new biases, one for each filter\n",
    "    biases = new_biases(length = out_channels)\n",
    "    \n",
    "    #Create a new TensorFlow operation for convolution.\n",
    "    layer = tf.nn.conv2d(onput = input, filter = weights, strides = [1, stride, stride, 1],padding='SAME')\n",
    "    \n",
    "    layer = layer + biases\n",
    "    \n",
    "    return layer   "
   ]
  },
  {
   "cell_type": "code",
   "execution_count": null,
   "metadata": {},
   "outputs": [],
   "source": [
    "def batch_normalization_activation():\n",
    "    \n",
    "    inputs = tf.layers.batch_normalization(inputs=inputs,axis=axis,\n",
    "                                           momentum=BATCH_NORM_DECAY,\n",
    "                                           epsilon=BATCH_NORM_EPSILON,\n",
    "                                           center=True,scale=True,\n",
    "                                           training=True,\n",
    "                                           fused=True, \n",
    "                                           gamma_initializer=gamma_initializer)\n",
    "    \n",
    "    "
   ]
  },
  {
   "cell_type": "code",
   "execution_count": null,
   "metadata": {},
   "outputs": [],
   "source": [
    "def residual_unit(inputs, filters, is_training, strides,use_projection=False):\n",
    "    \n",
    "    skipped = inputs\n",
    "    \n",
    "    if use_projection:\n",
    "        shortcut = conv2d_fixed_padding(inputs=inputs, filters=filters, kernel_size=1, strides=strides)\n",
    "        shortcut = batch_norm_relu(shortcut, is_training, relu=False,data_format=data_format)\n",
    "    \n",
    "    inputs = conv2d_fixed_padding(inputs=inputs, filters=filters, kernel_size=3, strides=strides,data_format=data_format)\n",
    "    \n",
    "    inputs = batch_norm_relu(inputs, is_training, data_format=data_format)\n",
    "    \n",
    "    inputs = conv2d_fixed_padding(inputs=inputs, filters=filters, kernel_size=3, strides=1,data_format=data_format)\n",
    "    \n",
    "    inputs = batch_norm_relu(inputs, is_training, relu=False, init_zero=True,\n",
    "                           data_format=data_format)\n",
    "    \n",
    "    return tf.nn.relu(inputs + shortcut)"
   ]
  },
  {
   "cell_type": "code",
   "execution_count": 2,
   "metadata": {},
   "outputs": [],
   "source": [
    "def block_group(inputs, blocks, out_channels, strides, name):\n",
    "    # Only the first block per block_group uses projection shortcut and strides.\n",
    "    inputs = residual_unit(inputs, out_channels, strides,use_projection=True)\n",
    "    \n",
    "    for _ in range(1, blocks):\n",
    "        inputs = residual_unit(inputs, out_channels,1)\n",
    "    \n",
    "    return tf.identity(inputs, name)"
   ]
  },
  {
   "cell_type": "markdown",
   "metadata": {},
   "source": [
    "# 3.Architecture of 34-layer residual neural network:"
   ]
  },
  {
   "cell_type": "markdown",
   "metadata": {},
   "source": [
    "* **Image** of shape `fingerprint_size` by `fingerprint_size` and `num_channels`"
   ]
  },
  {
   "cell_type": "code",
   "execution_count": 1,
   "metadata": {},
   "outputs": [],
   "source": [
    "# Creates the model graph\n",
    "def model(x):\n",
    "    \n",
    "    #conv1 as per paper (7x7 conv, 64,/2) \n",
    "    inputs = new_conv_layer(input=x,filter_size=7,in_channels=1,out_channels=64, stride=2)\n",
    "    \n",
    "    #identity node in the grapph\n",
    "    inputs = tf.identity(inputs, 'initial_conv')\n",
    "    \n",
    "    #each convolution is followed by batch normalization and activation\n",
    "    inputs = batch_normalization_activation(inputs)\n",
    "    \n",
    "    #first convolution in the network is followed by max pooling (pool,/2)\n",
    "    inputs = tf.nn.max_pool(value=inputs,ksize=[1, 3, 3, 1],strides=[1, 2, 2, 1],padding='SAME')\n",
    "    \n",
    "    inputs = tf.identity(inputs, 'initial_max_pool')\n",
    "    \n",
    "    # conv2_x block that includes 3 residual units with (3x3 conv, 64)\n",
    "    inputs = block_group(inputs=inputs, blocks=3, out_channels=64, strides=1, name=\"block1\" )\n",
    "    \n",
    "    # conv3_x block that includes 4 residual units with (3x3 conv, 128)\n",
    "    inputs = block_group(inputs=inputs, blocks=4, out_channels=128, strides=2, name=\"block2\" )\n",
    "    \n",
    "    # conv4_x block that includes 6 residual units with (3x3 conv, 256)\n",
    "    inputs = block_group(inputs=inputs, blocks=6, out_channels=256, strides=2, name=\"block3\" ) \n",
    "    \n",
    "    # conv5_x block that includes 3 residual units with (3x3 conv, 512)\n",
    "    inputs = block_group(inputs=inputs, blocks=3, out_channels=512, strides=2, name=\"block4\" )\n",
    "    \n",
    "    return inputs\n",
    "#    inputs = tf.layers.average_pooling2d"
   ]
  },
  {
   "cell_type": "code",
   "execution_count": null,
   "metadata": {},
   "outputs": [],
   "source": []
  },
  {
   "cell_type": "code",
   "execution_count": null,
   "metadata": {},
   "outputs": [],
   "source": []
  },
  {
   "cell_type": "code",
   "execution_count": 3,
   "metadata": {},
   "outputs": [
    {
     "name": "stdout",
     "output_type": "stream",
     "text": [
      "/home/patrycja/TensorFlow-Tutorials\r\n"
     ]
    }
   ],
   "source": [
    "! pwd"
   ]
  },
  {
   "cell_type": "markdown",
   "metadata": {},
   "source": [
    "## Architecture of 34-layer residual neural network:"
   ]
  },
  {
   "cell_type": "markdown",
   "metadata": {},
   "source": [
    "\n",
    "* **Input Layer** (gets image of shape 32 by 32)\n",
    "* **Variables** that are going to be optimized so as to make the convolutional network perform better.\n",
    "* The mathematical formulas for the convolutional network.\n",
    "* **Cost function** be used to guide the optimization of the variables.\n",
    "* **Optimization** method which updates the variables.\n"
   ]
  },
  {
   "attachments": {
    "image.png": {
     "image/png": "[encoded data removed]"
    }
   },
   "cell_type": "markdown",
   "metadata": {},
   "source": [
    "![image.png](attachment:image.png)"
   ]
  },
  {
   "cell_type": "code",
   "execution_count": 13,
   "metadata": {},
   "outputs": [
    {
     "name": "stdout",
     "output_type": "stream",
     "text": [
      "/bin/sh: 1: Syntax error: word unexpected (expecting \")\")\r\n"
     ]
    }
   ],
   "source": [
    "def residual_unit(layer):\n",
    "    '''\n",
    "    Input(s): layer - conv layer before this res unit\n",
    "    \n",
    "    Output(s): ResUnit layer - implemented as described in the paper\n",
    "    '''\n",
    "    step1 = tf.layers.batch_normalization(layer)\n",
    "    step2 = tf.nn.relu(step1)\n",
    "    step3 = conv2d_custom(step2, 3, 32, 32, activation=None, max_pool=False) #32 number of feautres is hyperparam\n",
    "    step4 = tf.layers.batch_normalization(step3)\n",
    "    step5 = tf.nn.relu(step4)\n",
    "    step6 = conv2d_custom(step5, 3, 32, 32, activation=None, max_pool=False)\n",
    "    return layer + step6"
   ]
  },
  {
   "cell_type": "code",
   "execution_count": 2,
   "metadata": {},
   "outputs": [],
   "source": [
    "def new_weights(shape):\n",
    "    return tf.Variable(tf.truncated_normal(shape, stddev=0.05))"
   ]
  },
  {
   "cell_type": "code",
   "execution_count": 3,
   "metadata": {},
   "outputs": [],
   "source": [
    "def new_biases(length):\n",
    "    return tf.Variable(tf.constant(0.05, shape=[length]))"
   ]
  },
  {
   "cell_type": "code",
   "execution_count": null,
   "metadata": {},
   "outputs": [],
   "source": []
  }
 ],
 "metadata": {
  "kernelspec": {
   "display_name": "Python 3",
   "language": "python",
   "name": "python3"
  },
  "language_info": {
   "codemirror_mode": {
    "name": "ipython",
    "version": 3
   },
   "file_extension": ".py",
   "mimetype": "text/x-python",
   "name": "python",
   "nbconvert_exporter": "python",
   "pygments_lexer": "ipython3",
   "version": "3.6.6"
  }
 },
 "nbformat": 4,
 "nbformat_minor": 2
}
