{
 "cells": [
  {
   "cell_type": "code",
   "execution_count": 1,
   "metadata": {},
   "outputs": [
    {
     "name": "stdout",
     "output_type": "stream",
     "text": [
      "Matrix was loaded to the memory\n"
     ]
    }
   ],
   "source": [
    "import markov_clustering as mc\n",
    "import numpy as np\n",
    "from sklearn.preprocessing import normalize\n",
    "\n",
    "similarity_matrix = np.loadtxt(open('similarity_test100.txt', \"r\"), delimiter=\",\")\n",
    "print(\"Matrix was loaded to the memory\")\n",
    "similarity_matrix = similarity_matrix + similarity_matrix.T\n",
    "A = similarity_matrix"
   ]
  },
  {
   "cell_type": "code",
   "execution_count": 5,
   "metadata": {},
   "outputs": [],
   "source": [
    "A[A<0.30]=0.0"
   ]
  },
  {
   "cell_type": "code",
   "execution_count": 6,
   "metadata": {},
   "outputs": [],
   "source": [
    "A =normalize(A,norm='l1' )"
   ]
  },
  {
   "cell_type": "code",
   "execution_count": 8,
   "metadata": {},
   "outputs": [],
   "source": [
    "result   = mc.run_mcl(A, inflation = 2.1)\n",
    "clusters = mc.get_clusters(result)"
   ]
  },
  {
   "cell_type": "code",
   "execution_count": 9,
   "metadata": {},
   "outputs": [],
   "source": [
    "with open('drugs_clusters.txt', 'w') as f:\n",
    "    for item in clusters:\n",
    "        for i in range(len(item)):\n",
    "            f.write(str(item[i]))\n",
    "            f.write(\",\")\n",
    "        f.write('\\n')"
   ]
  }
 ],
 "metadata": {
  "kernelspec": {
   "display_name": "Python 3",
   "language": "python",
   "name": "python3"
  },
  "language_info": {
   "codemirror_mode": {
    "name": "ipython",
    "version": 3
   },
   "file_extension": ".py",
   "mimetype": "text/x-python",
   "name": "python",
   "nbconvert_exporter": "python",
   "pygments_lexer": "ipython3",
   "version": "3.6.6"
  }
 },
 "nbformat": 4,
 "nbformat_minor": 2
}
