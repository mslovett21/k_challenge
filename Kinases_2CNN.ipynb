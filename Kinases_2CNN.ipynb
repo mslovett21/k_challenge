{
 "cells": [
  {
   "cell_type": "markdown",
   "metadata": {},
   "source": [
    "# TensorFlow Tutorial"
   ]
  },
  {
   "cell_type": "markdown",
   "metadata": {},
   "source": [
    "## Drug-Kinase Interaction Prediction with CNN"
   ]
  },
  {
   "cell_type": "code",
   "execution_count": 108,
   "metadata": {},
   "outputs": [],
   "source": [
    "%matplotlib inline\n",
    "import matplotlib.pyplot as plt\n",
    "import tensorflow as tf\n",
    "import numpy as np\n",
    "from sklearn.metrics import confusion_matrix\n",
    "import time\n",
    "from datetime import timedelta\n",
    "import math"
   ]
  },
  {
   "cell_type": "markdown",
   "metadata": {},
   "source": [
    "# PROBLEM:\n",
    "\n",
    "* This is a Multi-label classification problem where multiple labels may be assigned to each instance."
   ]
  },
  {
   "cell_type": "markdown",
   "metadata": {},
   "source": [
    "https://nickcdryan.com/2017/01/23/multi-label-classification-a-guided-tour/"
   ]
  },
  {
   "cell_type": "markdown",
   "metadata": {},
   "source": [
    "https://stats.stackexchange.com/questions/12702/what-are-the-measure-for-accuracy-of-multilabel-data?utm_medium=organic&utm_source=google_rich_qa&utm_campaign=google_rich_qa"
   ]
  },
  {
   "cell_type": "markdown",
   "metadata": {},
   "source": [
    "## Cost Function"
   ]
  },
  {
   "cell_type": "markdown",
   "metadata": {},
   "source": [
    "There are two ways to penalize the instances:\n",
    "* if you do not want to miss any label in an image then if the classification gets all right but one,you should consider the whole things wrong,\n",
    "* you can also that the label missed or misclassified is an error\n",
    "\n",
    "We use the second method:\n",
    "\n",
    "`sigmoid_cross_entropy_with_logits` is a TensorFlow function that penalizes each output node independently. It uses binary loss and model the output of the netowrk as an independed Bernouli distribution per label."
   ]
  },
  {
   "cell_type": "markdown",
   "metadata": {},
   "source": [
    "## Load data"
   ]
  },
  {
   "cell_type": "code",
   "execution_count": 109,
   "metadata": {},
   "outputs": [],
   "source": [
    "drug_fingerprints_fh = 'sample/sample_fingerprints.csv'\n",
    "drug_targets_fh      = 'sample/sample_targets.csv'\n",
    "drug_weights_fh      = 'sample/sample_weights.csv'"
   ]
  },
  {
   "cell_type": "markdown",
   "metadata": {},
   "source": [
    "### Dimensions of data "
   ]
  },
  {
   "cell_type": "code",
   "execution_count": 110,
   "metadata": {},
   "outputs": [],
   "source": [
    "sample_size       = 101\n",
    "fingerprint_size  = 1024\n",
    "fingerprint_width = 32\n",
    "targets_num       = 420\n",
    "weights_num       = 420\n",
    "num_channels      = 1"
   ]
  },
  {
   "cell_type": "markdown",
   "metadata": {},
   "source": [
    "### Function helper that populates data structures with the actual data"
   ]
  },
  {
   "cell_type": "code",
   "execution_count": 111,
   "metadata": {},
   "outputs": [],
   "source": [
    "import re\n",
    "def populate_data(file_handle,data_matrix, data_size):\n",
    "    with open(file_handle) as fh:\n",
    "        j=0\n",
    "        content = fh.readlines()\n",
    "        content = [x.strip() for x in content]\n",
    "        for line in content:\n",
    "            result = re.split(r'[,\\t]\\s*',line)\n",
    "            for i in range(1,data_size+1):\n",
    "                data_matrix[j][i-1] = np.float32(result[i])\n",
    "            j = j+1\n",
    "    print(j)\n",
    "    fh.close()"
   ]
  },
  {
   "cell_type": "markdown",
   "metadata": {},
   "source": [
    "### Data structures for loaded data"
   ]
  },
  {
   "cell_type": "code",
   "execution_count": 112,
   "metadata": {},
   "outputs": [],
   "source": [
    "drug_fingerprints = []\n",
    "drug_targets      = []\n",
    "drug_weights      = []\n",
    "\n",
    "\n",
    "for i in range(sample_size):\n",
    "    fingerprint_holder = [0]* fingerprint_size\n",
    "    drug_fingerprints.append(fingerprint_holder)\n",
    "    \n",
    "for i in range(sample_size):\n",
    "    target_holder = [0]* targets_num\n",
    "    drug_targets.append(target_holder)\n",
    "\n",
    "for i in range(sample_size):\n",
    "    weight_holder = [0]* weights_num\n",
    "    drug_weights.append(weight_holder)"
   ]
  },
  {
   "cell_type": "code",
   "execution_count": 113,
   "metadata": {},
   "outputs": [
    {
     "ename": "IndexError",
     "evalue": "list index out of range",
     "output_type": "error",
     "traceback": [
      "\u001b[0;31m---------------------------------------------------------------------------\u001b[0m",
      "\u001b[0;31mIndexError\u001b[0m                                Traceback (most recent call last)",
      "\u001b[0;32m<ipython-input-113-1a6ec8afc945>\u001b[0m in \u001b[0;36m<module>\u001b[0;34m\u001b[0m\n\u001b[0;32m----> 1\u001b[0;31m \u001b[0mpopulate_data\u001b[0m\u001b[0;34m(\u001b[0m\u001b[0mdrug_weights_fh\u001b[0m\u001b[0;34m,\u001b[0m \u001b[0mdrug_weights\u001b[0m\u001b[0;34m,\u001b[0m \u001b[0mweights_num\u001b[0m\u001b[0;34m)\u001b[0m\u001b[0;34m\u001b[0m\u001b[0;34m\u001b[0m\u001b[0m\n\u001b[0m\u001b[1;32m      2\u001b[0m \u001b[0mpopulate_data\u001b[0m\u001b[0;34m(\u001b[0m\u001b[0mdrug_targets_fh\u001b[0m\u001b[0;34m,\u001b[0m \u001b[0mdrug_targets\u001b[0m\u001b[0;34m,\u001b[0m \u001b[0mtargets_num\u001b[0m\u001b[0;34m)\u001b[0m\u001b[0;34m\u001b[0m\u001b[0;34m\u001b[0m\u001b[0m\n\u001b[1;32m      3\u001b[0m \u001b[0mpopulate_data\u001b[0m\u001b[0;34m(\u001b[0m\u001b[0mdrug_fingerprints_fh\u001b[0m\u001b[0;34m,\u001b[0m \u001b[0mdrug_fingerprints\u001b[0m\u001b[0;34m,\u001b[0m \u001b[0mfingerprint_size\u001b[0m\u001b[0;34m)\u001b[0m\u001b[0;34m\u001b[0m\u001b[0;34m\u001b[0m\u001b[0m\n",
      "\u001b[0;32m<ipython-input-111-acfa8dba8d28>\u001b[0m in \u001b[0;36mpopulate_data\u001b[0;34m(file_handle, data_matrix, data_size)\u001b[0m\n\u001b[1;32m      8\u001b[0m             \u001b[0mresult\u001b[0m \u001b[0;34m=\u001b[0m \u001b[0mre\u001b[0m\u001b[0;34m.\u001b[0m\u001b[0msplit\u001b[0m\u001b[0;34m(\u001b[0m\u001b[0;34mr'[,\\t]\\s*'\u001b[0m\u001b[0;34m,\u001b[0m\u001b[0mline\u001b[0m\u001b[0;34m)\u001b[0m\u001b[0;34m\u001b[0m\u001b[0;34m\u001b[0m\u001b[0m\n\u001b[1;32m      9\u001b[0m             \u001b[0;32mfor\u001b[0m \u001b[0mi\u001b[0m \u001b[0;32min\u001b[0m \u001b[0mrange\u001b[0m\u001b[0;34m(\u001b[0m\u001b[0;36m1\u001b[0m\u001b[0;34m,\u001b[0m\u001b[0mdata_size\u001b[0m\u001b[0;34m+\u001b[0m\u001b[0;36m1\u001b[0m\u001b[0;34m)\u001b[0m\u001b[0;34m:\u001b[0m\u001b[0;34m\u001b[0m\u001b[0;34m\u001b[0m\u001b[0m\n\u001b[0;32m---> 10\u001b[0;31m                 \u001b[0mdata_matrix\u001b[0m\u001b[0;34m[\u001b[0m\u001b[0mj\u001b[0m\u001b[0;34m]\u001b[0m\u001b[0;34m[\u001b[0m\u001b[0mi\u001b[0m\u001b[0;34m-\u001b[0m\u001b[0;36m1\u001b[0m\u001b[0;34m]\u001b[0m \u001b[0;34m=\u001b[0m \u001b[0mnp\u001b[0m\u001b[0;34m.\u001b[0m\u001b[0mfloat32\u001b[0m\u001b[0;34m(\u001b[0m\u001b[0mresult\u001b[0m\u001b[0;34m[\u001b[0m\u001b[0mi\u001b[0m\u001b[0;34m]\u001b[0m\u001b[0;34m)\u001b[0m\u001b[0;34m\u001b[0m\u001b[0;34m\u001b[0m\u001b[0m\n\u001b[0m\u001b[1;32m     11\u001b[0m             \u001b[0mj\u001b[0m \u001b[0;34m=\u001b[0m \u001b[0mj\u001b[0m\u001b[0;34m+\u001b[0m\u001b[0;36m1\u001b[0m\u001b[0;34m\u001b[0m\u001b[0;34m\u001b[0m\u001b[0m\n\u001b[1;32m     12\u001b[0m     \u001b[0mprint\u001b[0m\u001b[0;34m(\u001b[0m\u001b[0mj\u001b[0m\u001b[0;34m)\u001b[0m\u001b[0;34m\u001b[0m\u001b[0;34m\u001b[0m\u001b[0m\n",
      "\u001b[0;31mIndexError\u001b[0m: list index out of range"
     ]
    }
   ],
   "source": [
    "populate_data(drug_weights_fh, drug_weights, weights_num)\n",
    "populate_data(drug_targets_fh, drug_targets, targets_num)\n",
    "populate_data(drug_fingerprints_fh, drug_fingerprints, fingerprint_size)"
   ]
  },
  {
   "cell_type": "code",
   "execution_count": 98,
   "metadata": {},
   "outputs": [],
   "source": [
    "drug_fingerprints = np.array(drug_fingerprints)\n",
    "drug_targets      = np.array(drug_targets)\n",
    "drug_weights      = np.array(drug_weights)"
   ]
  },
  {
   "cell_type": "code",
   "execution_count": 99,
   "metadata": {},
   "outputs": [
    {
     "data": {
      "text/plain": [
       "numpy.ndarray"
      ]
     },
     "execution_count": 99,
     "metadata": {},
     "output_type": "execute_result"
    }
   ],
   "source": [
    "type(drug_fingerprints)"
   ]
  },
  {
   "cell_type": "code",
   "execution_count": 100,
   "metadata": {},
   "outputs": [
    {
     "data": {
      "text/plain": [
       "numpy.ndarray"
      ]
     },
     "execution_count": 100,
     "metadata": {},
     "output_type": "execute_result"
    }
   ],
   "source": [
    "type(drug_fingerprints[0])"
   ]
  },
  {
   "cell_type": "code",
   "execution_count": 101,
   "metadata": {},
   "outputs": [
    {
     "data": {
      "text/plain": [
       "numpy.float32"
      ]
     },
     "execution_count": 101,
     "metadata": {},
     "output_type": "execute_result"
    }
   ],
   "source": [
    "type(drug_fingerprints[0][0])"
   ]
  },
  {
   "cell_type": "markdown",
   "metadata": {},
   "source": [
    "# TensorFlow"
   ]
  },
  {
   "cell_type": "markdown",
   "metadata": {},
   "source": [
    "## Placeholders"
   ]
  },
  {
   "cell_type": "markdown",
   "metadata": {},
   "source": [
    "Placeholder for the flat 'array' with **fingerprint** of each compound. `None` means that this tensor can hold arbitrary number of arrays with the fingerprints."
   ]
  },
  {
   "cell_type": "code",
   "execution_count": 102,
   "metadata": {},
   "outputs": [],
   "source": [
    "x = tf.placeholder(tf.float32, [None, fingerprint_size])"
   ]
  },
  {
   "cell_type": "markdown",
   "metadata": {},
   "source": [
    "X is first define as and vecor of size `fingerprint_size` and its then redefine and reshape input as a 2D matrix (image)"
   ]
  },
  {
   "cell_type": "code",
   "execution_count": 103,
   "metadata": {},
   "outputs": [],
   "source": [
    "x_image = tf.reshape(x, [-1, fingerprint_width, fingerprint_width, num_channels])"
   ]
  },
  {
   "cell_type": "markdown",
   "metadata": {},
   "source": [
    "Placeholder for the true labels (true targets) for each compound. (Here we have 420 targets - kinases)."
   ]
  },
  {
   "cell_type": "code",
   "execution_count": 104,
   "metadata": {},
   "outputs": [],
   "source": [
    "y_true = tf.placeholder(tf.float32, [None, targets_num])"
   ]
  },
  {
   "cell_type": "markdown",
   "metadata": {},
   "source": [
    "Placeholder for weights. The weights will be used to calculate cross-entropy cost function."
   ]
  },
  {
   "cell_type": "code",
   "execution_count": 105,
   "metadata": {},
   "outputs": [],
   "source": [
    "cross_entropy_weights = tf.placeholder(tf.float32, [None, weights_num])"
   ]
  },
  {
   "cell_type": "markdown",
   "metadata": {},
   "source": [
    "## Variables to Optimize"
   ]
  },
  {
   "cell_type": "code",
   "execution_count": 106,
   "metadata": {},
   "outputs": [],
   "source": [
    "def new_weights(shape):\n",
    "    return tf.Variable(tf.truncated_normal(shape, stddev=0.05))"
   ]
  },
  {
   "cell_type": "code",
   "execution_count": 107,
   "metadata": {},
   "outputs": [],
   "source": [
    "def new_biases(length):\n",
    "    return tf.Variable(tf.constant(0.05, shape=[length]))"
   ]
  },
  {
   "cell_type": "markdown",
   "metadata": {},
   "source": [
    "## Helper Function to Create Convolutional Layer"
   ]
  },
  {
   "cell_type": "code",
   "execution_count": 34,
   "metadata": {},
   "outputs": [],
   "source": [
    "def new_conv_layer(input,              # The previous layer.\n",
    "                   num_input_channels, # Num. channels in prev. layer.\n",
    "                   filter_size,        # Width and height of each filter.\n",
    "                   num_filters,        # Number of filters.\n",
    "                   use_pooling=True):  # Use 2x2 max-pooling.\n",
    "\n",
    "    # Shape of the filter-weights for the convolution.\n",
    "    shape = [filter_size, filter_size, num_input_channels, num_filters]\n",
    "\n",
    "    # Create new weights aka. filters with the given shape.\n",
    "    weights = new_weights(shape=shape)\n",
    "\n",
    "    # Create new biases, one for each filter.\n",
    "    biases = new_biases(length=num_filters)\n",
    "\n",
    "    # But e.g. strides=[1, 2, 2, 1] would mean that the filter\n",
    "    # is moved 2 pixels across the x- and y-axis of the image.\n",
    "    layer = tf.nn.conv2d(input=input,\n",
    "                         filter=weights,\n",
    "                         strides=[1, 1, 1, 1],\n",
    "                         padding='SAME')\n",
    "    \n",
    "    # Add the biases to the results of the convolution.\n",
    "    layer += biases\n",
    "\n",
    "    # Use pooling to down-sample the image resolution?\n",
    "    if use_pooling:\n",
    "        # This is 2x2 max-pooling, which means that we\n",
    "        # consider 2x2 windows and select the largest value\n",
    "        # in each window. Then we move 2 pixels to the next window.\n",
    "        layer = tf.nn.max_pool(value=layer,\n",
    "                               ksize=[1, 2, 2, 1],\n",
    "                               strides=[1, 2, 2, 1],\n",
    "                               padding='SAME')\n",
    "\n",
    "    # Rectified Linear Unit (ReLU).\n",
    "    layer = tf.nn.relu(layer)\n",
    "\n",
    "    return layer, weights"
   ]
  },
  {
   "cell_type": "code",
   "execution_count": null,
   "metadata": {},
   "outputs": [],
   "source": []
  },
  {
   "cell_type": "markdown",
   "metadata": {},
   "source": [
    "## Helper Function for Flattening a Layer\n",
    "\n",
    "A convolutional layer produces an output tensor with 4 dimensions. We will add fully-connected layers after the convolution layers, so we need to reduce the 4-dim tensor to 2-dim which can be used as input to the fully-connected layer."
   ]
  },
  {
   "cell_type": "code",
   "execution_count": 35,
   "metadata": {},
   "outputs": [],
   "source": [
    "def flatten_layer(layer):\n",
    "        # Get the shape of the input layer.\n",
    "    layer_shape = layer.get_shape()\n",
    "\n",
    "    # The shape of the input layer is assumed to be:\n",
    "    # layer_shape == [num_images, img_height, img_width, num_channels]\n",
    "\n",
    "    # The number of features is: img_height * img_width * num_channels\n",
    "    # We can use a function from TensorFlow to calculate this.\n",
    "    num_features = layer_shape[1:4].num_elements()\n",
    "    \n",
    "    # Reshape the layer to [num_images, num_features].\n",
    "    # Note that we just set the size of the second dimension\n",
    "    # to num_features and the size of the first dimension to -1\n",
    "    # which means the size in that dimension is calculated\n",
    "    # so the total size of the tensor is unchanged from the reshaping.\n",
    "    layer_flat = tf.reshape(layer, [-1, num_features])\n",
    "\n",
    "    # The shape of the flattened layer is now:\n",
    "    # [num_images, img_height * img_width * num_channels]\n",
    "\n",
    "    # Return both the flattened layer and the number of features.\n",
    "    return layer_flat, num_features"
   ]
  },
  {
   "cell_type": "markdown",
   "metadata": {},
   "source": [
    "## Helper Function for Creating a New Fully-Connected Layer"
   ]
  },
  {
   "cell_type": "markdown",
   "metadata": {},
   "source": [
    "This function creates a new fully-connected layer in the computational graph for TensorFlow. Nothing is actually calculated here, we are just adding the mathematical formulas to the TensorFlow graph.\n",
    "\n",
    "It is assumed that the input is a 2-dim tensor of shape `[num_images, num_inputs]`. The output is a 2-dim tensor of shape `[num_images, num_outputs]`."
   ]
  },
  {
   "cell_type": "code",
   "execution_count": 36,
   "metadata": {},
   "outputs": [],
   "source": [
    "def new_fc_layer(input,          # The previous layer.\n",
    "                 num_inputs,     # Num. inputs from prev. layer.\n",
    "                 num_outputs,    # Num. outputs.\n",
    "                 use_relu=True): # Use Rectified Linear Unit (ReLU)?\n",
    "\n",
    "    # Create new weights and biases.\n",
    "    weights = new_weights(shape=[num_inputs, num_outputs])\n",
    "    biases = new_biases(length=num_outputs)\n",
    "\n",
    "    # Calculate the layer as the matrix multiplication of\n",
    "    # the input and weights, and then add the bias-values.\n",
    "    layer = tf.matmul(input, weights) + biases\n",
    "\n",
    "    # Use ReLU?\n",
    "    if use_relu:\n",
    "        layer = tf.nn.relu(layer)\n",
    "\n",
    "    return layer"
   ]
  },
  {
   "cell_type": "markdown",
   "metadata": {},
   "source": [
    "# Design Computational Graph for CNN"
   ]
  },
  {
   "cell_type": "markdown",
   "metadata": {},
   "source": [
    "We will create a CNN with two convolutional layers and flat layers. Specifically:\n",
    "* **Fist Layer** "
   ]
  },
  {
   "cell_type": "code",
   "execution_count": 37,
   "metadata": {},
   "outputs": [],
   "source": [
    "filter_size1 = 7\n",
    "num_filters1 = 16"
   ]
  },
  {
   "cell_type": "markdown",
   "metadata": {},
   "source": [
    "* **Second Layer**"
   ]
  },
  {
   "cell_type": "code",
   "execution_count": 38,
   "metadata": {},
   "outputs": [],
   "source": [
    "filter_size2 = 3\n",
    "num_filters2 = 32"
   ]
  },
  {
   "cell_type": "markdown",
   "metadata": {},
   "source": [
    "* **Fully Connected Layer**"
   ]
  },
  {
   "cell_type": "code",
   "execution_count": 39,
   "metadata": {},
   "outputs": [],
   "source": [
    "fc_size = 576"
   ]
  },
  {
   "cell_type": "markdown",
   "metadata": {},
   "source": [
    "### Convolutional Layer #1"
   ]
  },
  {
   "cell_type": "code",
   "execution_count": 40,
   "metadata": {},
   "outputs": [],
   "source": [
    "layer_conv1, weights_conv1 = \\\n",
    "    new_conv_layer(input=x_image,\n",
    "                   num_input_channels=num_channels,\n",
    "                   filter_size=filter_size1,\n",
    "                   num_filters=num_filters1,\n",
    "                   use_pooling=True)"
   ]
  },
  {
   "cell_type": "code",
   "execution_count": 41,
   "metadata": {},
   "outputs": [
    {
     "data": {
      "text/plain": [
       "<tf.Tensor 'Relu:0' shape=(?, 16, 16, 16) dtype=float32>"
      ]
     },
     "execution_count": 41,
     "metadata": {},
     "output_type": "execute_result"
    }
   ],
   "source": [
    "layer_conv1"
   ]
  },
  {
   "cell_type": "markdown",
   "metadata": {},
   "source": [
    "### Convolutional Layer #2"
   ]
  },
  {
   "cell_type": "code",
   "execution_count": 42,
   "metadata": {},
   "outputs": [],
   "source": [
    "layer_conv2, weights_conv2 = \\\n",
    "    new_conv_layer(input=layer_conv1,\n",
    "                   num_input_channels=num_filters1,\n",
    "                   filter_size=filter_size2,\n",
    "                   num_filters=num_filters2,\n",
    "                   use_pooling=True)"
   ]
  },
  {
   "cell_type": "code",
   "execution_count": 43,
   "metadata": {},
   "outputs": [
    {
     "data": {
      "text/plain": [
       "<tf.Tensor 'Relu_1:0' shape=(?, 8, 8, 32) dtype=float32>"
      ]
     },
     "execution_count": 43,
     "metadata": {},
     "output_type": "execute_result"
    }
   ],
   "source": [
    "layer_conv2"
   ]
  },
  {
   "cell_type": "markdown",
   "metadata": {},
   "source": [
    "### Flatten Layer"
   ]
  },
  {
   "cell_type": "code",
   "execution_count": 44,
   "metadata": {},
   "outputs": [],
   "source": [
    "layer_flat, num_features = flatten_layer(layer_conv2)"
   ]
  },
  {
   "cell_type": "code",
   "execution_count": 45,
   "metadata": {},
   "outputs": [
    {
     "data": {
      "text/plain": [
       "<tf.Tensor 'Reshape_1:0' shape=(?, 2048) dtype=float32>"
      ]
     },
     "execution_count": 45,
     "metadata": {},
     "output_type": "execute_result"
    }
   ],
   "source": [
    "layer_flat"
   ]
  },
  {
   "cell_type": "markdown",
   "metadata": {},
   "source": [
    "### Fully-Connected Layer 1"
   ]
  },
  {
   "cell_type": "code",
   "execution_count": 46,
   "metadata": {},
   "outputs": [],
   "source": [
    "layer_fc1 = new_fc_layer(input=layer_flat,\n",
    "                         num_inputs=num_features,\n",
    "                         num_outputs=fc_size,\n",
    "                         use_relu=True)"
   ]
  },
  {
   "cell_type": "code",
   "execution_count": 47,
   "metadata": {},
   "outputs": [
    {
     "data": {
      "text/plain": [
       "<tf.Tensor 'Relu_2:0' shape=(?, 576) dtype=float32>"
      ]
     },
     "execution_count": 47,
     "metadata": {},
     "output_type": "execute_result"
    }
   ],
   "source": [
    "layer_fc1"
   ]
  },
  {
   "cell_type": "markdown",
   "metadata": {},
   "source": [
    "### Fully-Connected Layer 2"
   ]
  },
  {
   "cell_type": "code",
   "execution_count": 48,
   "metadata": {},
   "outputs": [],
   "source": [
    "layer_fc2 = new_fc_layer(input=layer_fc1,\n",
    "                         num_inputs=fc_size,\n",
    "                         num_outputs=targets_num,\n",
    "                         use_relu=False)"
   ]
  },
  {
   "cell_type": "code",
   "execution_count": 49,
   "metadata": {},
   "outputs": [
    {
     "data": {
      "text/plain": [
       "<tf.Tensor 'add_3:0' shape=(?, 420) dtype=float32>"
      ]
     },
     "execution_count": 49,
     "metadata": {},
     "output_type": "execute_result"
    }
   ],
   "source": [
    "layer_fc2"
   ]
  },
  {
   "cell_type": "markdown",
   "metadata": {},
   "source": [
    "## Predicted Classes"
   ]
  },
  {
   "cell_type": "code",
   "execution_count": 50,
   "metadata": {},
   "outputs": [],
   "source": [
    "y_pred =tf.round(tf.nn.sigmoid(layer_fc2))"
   ]
  },
  {
   "cell_type": "code",
   "execution_count": 51,
   "metadata": {},
   "outputs": [
    {
     "data": {
      "text/plain": [
       "<tf.Tensor 'Round:0' shape=(?, 420) dtype=float32>"
      ]
     },
     "execution_count": 51,
     "metadata": {},
     "output_type": "execute_result"
    }
   ],
   "source": [
    "y_pred"
   ]
  },
  {
   "cell_type": "markdown",
   "metadata": {},
   "source": [
    "# Cost Function to be Optimized"
   ]
  },
  {
   "cell_type": "markdown",
   "metadata": {},
   "source": [
    "## tf.nn.weighted_cross_entropy_with_logits "
   ]
  },
  {
   "cell_type": "code",
   "execution_count": 52,
   "metadata": {},
   "outputs": [],
   "source": [
    "cross_entropy = tf.nn.sigmoid_cross_entropy_with_logits(logits=layer_fc2,\n",
    "                                                        labels=y_true)"
   ]
  },
  {
   "cell_type": "code",
   "execution_count": 53,
   "metadata": {},
   "outputs": [
    {
     "data": {
      "text/plain": [
       "<tf.Tensor 'logistic_loss:0' shape=(?, 420) dtype=float32>"
      ]
     },
     "execution_count": 53,
     "metadata": {},
     "output_type": "execute_result"
    }
   ],
   "source": [
    "cross_entropy"
   ]
  },
  {
   "cell_type": "code",
   "execution_count": 54,
   "metadata": {},
   "outputs": [],
   "source": [
    "cost = tf.reduce_mean(cross_entropy)"
   ]
  },
  {
   "cell_type": "code",
   "execution_count": 55,
   "metadata": {},
   "outputs": [
    {
     "data": {
      "text/plain": [
       "<tf.Tensor 'Mean:0' shape=() dtype=float32>"
      ]
     },
     "execution_count": 55,
     "metadata": {},
     "output_type": "execute_result"
    }
   ],
   "source": [
    "cost"
   ]
  },
  {
   "cell_type": "markdown",
   "metadata": {},
   "source": [
    "### Optimization Method"
   ]
  },
  {
   "cell_type": "code",
   "execution_count": 56,
   "metadata": {},
   "outputs": [],
   "source": [
    "optimizer = tf.train.AdamOptimizer(learning_rate=1e-4).minimize(cost)"
   ]
  },
  {
   "cell_type": "markdown",
   "metadata": {},
   "source": [
    "### Performance Measures"
   ]
  },
  {
   "cell_type": "code",
   "execution_count": 57,
   "metadata": {},
   "outputs": [],
   "source": [
    "#accuracy =tf.metrics.accuracy(labels=y_true,predictions=y_pred, weights=cross_entropy_weights)"
   ]
  },
  {
   "cell_type": "code",
   "execution_count": 58,
   "metadata": {},
   "outputs": [],
   "source": [
    "accuracy, accuracy_ops =tf.metrics.accuracy(labels=y_true,predictions=y_pred)"
   ]
  },
  {
   "cell_type": "code",
   "execution_count": 59,
   "metadata": {},
   "outputs": [],
   "source": [
    "stream_vars = [i for i in tf.local_variables()]"
   ]
  },
  {
   "cell_type": "code",
   "execution_count": 60,
   "metadata": {},
   "outputs": [
    {
     "name": "stdout",
     "output_type": "stream",
     "text": [
      "[<tf.Variable 'accuracy/total:0' shape=() dtype=float32_ref>, <tf.Variable 'accuracy/count:0' shape=() dtype=float32_ref>]\n"
     ]
    }
   ],
   "source": [
    "print(stream_vars)"
   ]
  },
  {
   "cell_type": "markdown",
   "metadata": {},
   "source": [
    "### Create TensorFlow session"
   ]
  },
  {
   "cell_type": "code",
   "execution_count": 61,
   "metadata": {},
   "outputs": [],
   "source": [
    "session = tf.Session()\n",
    "init = tf.group(tf.global_variables_initializer(), tf.local_variables_initializer())\n",
    "session.run(init)"
   ]
  },
  {
   "cell_type": "code",
   "execution_count": null,
   "metadata": {},
   "outputs": [],
   "source": []
  },
  {
   "cell_type": "code",
   "execution_count": 62,
   "metadata": {},
   "outputs": [],
   "source": [
    "train_batch_size = 64"
   ]
  },
  {
   "cell_type": "code",
   "execution_count": 63,
   "metadata": {},
   "outputs": [],
   "source": [
    "def fetch_batch(batch_size):\n",
    "    chosen = np.random.randint(len(drug_fingerprints), size = batch_size)\n",
    "    X_batch = drug_fingerprints[chosen, :]\n",
    "    y_batch = drug_targets[chosen, :]\n",
    "    cross_entropy_weights = drug_weights[chosen,:]\n",
    "    return X_batch,y_batch,cross_entropy_weights"
   ]
  },
  {
   "cell_type": "code",
   "execution_count": 64,
   "metadata": {},
   "outputs": [],
   "source": [
    "# Counter for total number of iterations performed so far.\n",
    "total_iterations = 0\n",
    "\n",
    "def optimize(num_iterations):\n",
    "    # Ensure we update the global variable rather than a local copy.\n",
    "    global total_iterations\n",
    "\n",
    "    # Start-time used for printing time-usage below.\n",
    "    start_time = time.time()\n",
    "\n",
    "    for i in range(total_iterations,\n",
    "                   total_iterations + num_iterations):\n",
    "\n",
    "        # Get a batch of training examples.\n",
    "        # x_batch now holds a batch of images and\n",
    "        # y_true_batch are the true labels for those images.\n",
    "        x_batch, y_true_batch, weights_batch = fetch_batch(train_batch_size)\n",
    "\n",
    "        # Put the batch into a dict with the proper names\n",
    "        # for placeholder variables in the TensorFlow graph.\n",
    "        feed_dict_train = {x: x_batch,\n",
    "                           y_true: y_true_batch,\n",
    "                          cross_entropy_weights: weights_batch}\n",
    "\n",
    "        # Run the optimizer using this batch of training data.\n",
    "        # TensorFlow assigns the variables in feed_dict_train\n",
    "        # to the placeholder variables and then runs the optimizer.\n",
    "        session.run(optimizer, feed_dict=feed_dict_train)\n",
    "\n",
    "        # Print status every 100 iterations.\n",
    "        if i % 1 == 0:\n",
    "            # Calculate the accuracy on the training-set.\n",
    "            acc_ops = session.run(accuracy_ops, feed_dict=feed_dict_train)\n",
    "\n",
    "            # Message for printing.\n",
    "            msg = \"Optimization Iteration: , Training Accuracy:\"\n",
    "\n",
    "            # Print it.\n",
    "            print(msg)\n",
    "            print(acc_ops)\n",
    "            print(i+1)\n",
    "            print('[total, count]:',session.run(stream_vars)) \n",
    "\n",
    "    # Update the total number of iterations performed.\n",
    "    total_iterations += num_iterations\n",
    "\n",
    "    # Ending time.\n",
    "    end_time = time.time()\n",
    "\n",
    "    # Difference between start and end-times.\n",
    "    time_dif = end_time - start_time\n",
    "\n",
    "    # Print the time-usage.\n",
    "    print(\"Time usage: \" + str(timedelta(seconds=int(round(time_dif)))))"
   ]
  },
  {
   "cell_type": "code",
   "execution_count": 65,
   "metadata": {},
   "outputs": [
    {
     "name": "stdout",
     "output_type": "stream",
     "text": [
      "Optimization Iteration: , Training Accuracy:\n",
      "0.39401042\n",
      "1\n",
      "[total, count]: [10591.0, 26880.0]\n",
      "Optimization Iteration: , Training Accuracy:\n",
      "0.4124814\n",
      "2\n",
      "[total, count]: [22175.0, 53760.0]\n",
      "Optimization Iteration: , Training Accuracy:\n",
      "0.43451142\n",
      "3\n",
      "[total, count]: [35039.0, 80640.0]\n",
      "Optimization Iteration: , Training Accuracy:\n",
      "0.45207402\n",
      "4\n",
      "[total, count]: [48607.0, 107520.0]\n",
      "Optimization Iteration: , Training Accuracy:\n",
      "0.47118303\n",
      "5\n",
      "[total, count]: [63327.0, 134400.0]\n",
      "Optimization Iteration: , Training Accuracy:\n",
      "0.48868427\n",
      "6\n",
      "[total, count]: [78815.0, 161280.0]\n",
      "Optimization Iteration: , Training Accuracy:\n",
      "0.5062872\n",
      "7\n",
      "[total, count]: [95263.0, 188160.0]\n",
      "Optimization Iteration: , Training Accuracy:\n",
      "0.5225028\n",
      "8\n",
      "[total, count]: [112359.0, 215040.0]\n",
      "Optimization Iteration: , Training Accuracy:\n",
      "0.5390666\n",
      "9\n",
      "[total, count]: [130411.0, 241920.0]\n",
      "Optimization Iteration: , Training Accuracy:\n",
      "0.5534933\n",
      "10\n",
      "[total, count]: [148779.0, 268800.0]\n",
      "Optimization Iteration: , Training Accuracy:\n",
      "0.5672754\n",
      "11\n",
      "[total, count]: [167732.0, 295680.0]\n",
      "Optimization Iteration: , Training Accuracy:\n",
      "0.5807354\n",
      "12\n",
      "[total, count]: [187322.0, 322560.0]\n",
      "Optimization Iteration: , Training Accuracy:\n",
      "0.59338945\n",
      "13\n",
      "[total, count]: [207354.0, 349440.0]\n",
      "Optimization Iteration: , Training Accuracy:\n",
      "0.60510737\n",
      "14\n",
      "[total, count]: [227714.0, 376320.0]\n",
      "Optimization Iteration: , Training Accuracy:\n",
      "0.61749506\n",
      "15\n",
      "[total, count]: [248974.0, 403200.0]\n",
      "Optimization Iteration: , Training Accuracy:\n",
      "0.629555\n",
      "16\n",
      "[total, count]: [270759.0, 430080.0]\n",
      "Optimization Iteration: , Training Accuracy:\n",
      "0.64084166\n",
      "17\n",
      "[total, count]: [292839.0, 456960.0]\n",
      "Optimization Iteration: , Training Accuracy:\n",
      "0.65180016\n",
      "18\n",
      "[total, count]: [315367.0, 483840.0]\n",
      "Optimization Iteration: , Training Accuracy:\n",
      "0.662733\n",
      "19\n",
      "[total, count]: [338471.0, 510720.0]\n",
      "Optimization Iteration: , Training Accuracy:\n",
      "0.6734059\n",
      "20\n",
      "[total, count]: [362023.0, 537600.0]\n",
      "Optimization Iteration: , Training Accuracy:\n",
      "0.6834024\n",
      "21\n",
      "[total, count]: [385767.0, 564480.0]\n",
      "Optimization Iteration: , Training Accuracy:\n",
      "0.69250035\n",
      "22\n",
      "[total, count]: [409517.0, 591360.0]\n",
      "Optimization Iteration: , Training Accuracy:\n",
      "0.70152205\n",
      "23\n",
      "[total, count]: [433709.0, 618240.0]\n",
      "Optimization Iteration: , Training Accuracy:\n",
      "0.71028954\n",
      "24\n",
      "[total, count]: [458222.0, 645120.0]\n",
      "Optimization Iteration: , Training Accuracy:\n",
      "0.71854466\n",
      "25\n",
      "[total, count]: [482862.0, 672000.0]\n",
      "Optimization Iteration: , Training Accuracy:\n",
      "0.7262563\n",
      "26\n",
      "[total, count]: [507566.0, 698880.0]\n",
      "Optimization Iteration: , Training Accuracy:\n",
      "0.7336613\n",
      "27\n",
      "[total, count]: [532462.0, 725760.0]\n",
      "Optimization Iteration: , Training Accuracy:\n",
      "0.7407924\n",
      "28\n",
      "[total, count]: [557550.0, 752640.0]\n",
      "Optimization Iteration: , Training Accuracy:\n",
      "0.74759597\n",
      "29\n",
      "[total, count]: [582766.0, 779520.0]\n",
      "Optimization Iteration: , Training Accuracy:\n",
      "0.754184\n",
      "30\n",
      "[total, count]: [608174.0, 806400.0]\n",
      "Optimization Iteration: , Training Accuracy:\n",
      "0.76042384\n",
      "31\n",
      "[total, count]: [633646.0, 833280.0]\n",
      "Optimization Iteration: , Training Accuracy:\n",
      "0.7664225\n",
      "32\n",
      "[total, count]: [659246.0, 860160.0]\n",
      "Optimization Iteration: , Training Accuracy:\n",
      "0.77220196\n",
      "33\n",
      "[total, count]: [684974.0, 887040.0]\n",
      "Optimization Iteration: , Training Accuracy:\n",
      "0.7777114\n",
      "34\n",
      "[total, count]: [710766.0, 913920.0]\n",
      "Optimization Iteration: , Training Accuracy:\n",
      "0.7830442\n",
      "35\n",
      "[total, count]: [736688.0, 940800.0]\n",
      "Optimization Iteration: , Training Accuracy:\n",
      "0.7881469\n",
      "36\n",
      "[total, count]: [762674.0, 967680.0]\n",
      "Optimization Iteration: , Training Accuracy:\n",
      "0.7931608\n",
      "37\n",
      "[total, count]: [788846.0, 994560.0]\n",
      "Optimization Iteration: , Training Accuracy:\n",
      "0.7979774\n",
      "38\n",
      "[total, count]: [815086.0, 1021440.0]\n",
      "Optimization Iteration: , Training Accuracy:\n",
      "0.80266905\n",
      "39\n",
      "[total, count]: [841454.0, 1048320.0]\n",
      "Optimization Iteration: , Training Accuracy:\n",
      "0.80724514\n",
      "40\n",
      "[total, count]: [867950.0, 1075200.0]\n",
      "Optimization Iteration: , Training Accuracy:\n",
      "0.8116561\n",
      "41\n",
      "[total, count]: [894510.0, 1102080.0]\n",
      "Optimization Iteration: , Training Accuracy:\n",
      "0.8160236\n",
      "42\n",
      "[total, count]: [921258.0, 1128960.0]\n",
      "Optimization Iteration: , Training Accuracy:\n",
      "0.82024676\n",
      "43\n",
      "[total, count]: [948074.0, 1155840.0]\n",
      "Optimization Iteration: , Training Accuracy:\n",
      "0.82427794\n",
      "44\n",
      "[total, count]: [974890.0, 1182720.0]\n",
      "Optimization Iteration: , Training Accuracy:\n",
      "0.8281291\n",
      "45\n",
      "[total, count]: [1001705.0, 1209600.0]\n",
      "Optimization Iteration: , Training Accuracy:\n",
      "0.83181286\n",
      "46\n",
      "[total, count]: [1028520.0, 1236480.0]\n",
      "Optimization Iteration: , Training Accuracy:\n",
      "0.8353407\n",
      "47\n",
      "[total, count]: [1055336.0, 1263360.0]\n",
      "Optimization Iteration: , Training Accuracy:\n",
      "0.8387199\n",
      "48\n",
      "[total, count]: [1082150.0, 1290240.0]\n",
      "Optimization Iteration: , Training Accuracy:\n",
      "0.84196275\n",
      "49\n",
      "[total, count]: [1108966.0, 1317120.0]\n",
      "Optimization Iteration: , Training Accuracy:\n",
      "0.8451235\n",
      "50\n",
      "[total, count]: [1135846.0, 1344000.0]\n",
      "Optimization Iteration: , Training Accuracy:\n",
      "0.8481603\n",
      "51\n",
      "[total, count]: [1162726.0, 1370880.0]\n",
      "Optimization Iteration: , Training Accuracy:\n",
      "0.8510803\n",
      "52\n",
      "[total, count]: [1189606.0, 1397760.0]\n",
      "Optimization Iteration: , Training Accuracy:\n",
      "0.8538901\n",
      "53\n",
      "[total, count]: [1216486.0, 1424640.0]\n",
      "Optimization Iteration: , Training Accuracy:\n",
      "0.8565959\n",
      "54\n",
      "[total, count]: [1243366.0, 1451520.0]\n",
      "Optimization Iteration: , Training Accuracy:\n",
      "0.8592025\n",
      "55\n",
      "[total, count]: [1270245.0, 1478400.0]\n",
      "Optimization Iteration: , Training Accuracy:\n",
      "0.86171675\n",
      "56\n",
      "[total, count]: [1297125.0, 1505280.0]\n",
      "Optimization Iteration: , Training Accuracy:\n",
      "0.8641428\n",
      "57\n",
      "[total, count]: [1324005.0, 1532160.0]\n",
      "Optimization Iteration: , Training Accuracy:\n",
      "0.8664813\n",
      "58\n",
      "[total, count]: [1350879.0, 1559040.0]\n",
      "Optimization Iteration: , Training Accuracy:\n",
      "0.8687437\n",
      "59\n",
      "[total, count]: [1377758.0, 1585920.0]\n",
      "Optimization Iteration: , Training Accuracy:\n",
      "0.8709313\n",
      "60\n",
      "[total, count]: [1404638.0, 1612800.0]\n",
      "Optimization Iteration: , Training Accuracy:\n",
      "0.8730472\n",
      "61\n",
      "[total, count]: [1431518.0, 1639680.0]\n",
      "Optimization Iteration: , Training Accuracy:\n",
      "0.87509483\n",
      "62\n",
      "[total, count]: [1458398.0, 1666560.0]\n",
      "Optimization Iteration: , Training Accuracy:\n",
      "0.87707686\n",
      "63\n",
      "[total, count]: [1485277.0, 1693440.0]\n",
      "Optimization Iteration: , Training Accuracy:\n",
      "0.8789964\n",
      "64\n",
      "[total, count]: [1512155.0, 1720320.0]\n",
      "Optimization Iteration: , Training Accuracy:\n",
      "0.88085794\n",
      "65\n",
      "[total, count]: [1539035.0, 1747200.0]\n",
      "Optimization Iteration: , Training Accuracy:\n",
      "0.88266313\n",
      "66\n",
      "[total, count]: [1565915.0, 1774080.0]\n",
      "Optimization Iteration: , Training Accuracy:\n",
      "0.88441384\n",
      "67\n",
      "[total, count]: [1592794.0, 1800960.0]\n",
      "Optimization Iteration: , Training Accuracy:\n",
      "0.8861131\n",
      "68\n",
      "[total, count]: [1619673.0, 1827840.0]\n",
      "Optimization Iteration: , Training Accuracy:\n",
      "0.8877637\n",
      "69\n",
      "[total, count]: [1646553.0, 1854720.0]\n",
      "Optimization Iteration: , Training Accuracy:\n",
      "0.88936704\n",
      "70\n",
      "[total, count]: [1673433.0, 1881600.0]\n",
      "Optimization Iteration: , Training Accuracy:\n",
      "0.8909252\n",
      "71\n",
      "[total, count]: [1700313.0, 1908480.0]\n",
      "Optimization Iteration: , Training Accuracy:\n",
      "0.89244014\n",
      "72\n",
      "[total, count]: [1727193.0, 1935360.0]\n",
      "Optimization Iteration: , Training Accuracy:\n",
      "0.89391357\n",
      "73\n",
      "[total, count]: [1754073.0, 1962240.0]\n",
      "Optimization Iteration: , Training Accuracy:\n",
      "0.8953472\n",
      "74\n",
      "[total, count]: [1780953.0, 1989120.0]\n",
      "Optimization Iteration: , Training Accuracy:\n",
      "0.8967401\n",
      "75\n",
      "[total, count]: [1807828.0, 2016000.0]\n",
      "Optimization Iteration: , Training Accuracy:\n",
      "0.89809877\n",
      "76\n",
      "[total, count]: [1834708.0, 2042880.0]\n",
      "Optimization Iteration: , Training Accuracy:\n",
      "0.89942217\n",
      "77\n",
      "[total, count]: [1861588.0, 2069760.0]\n",
      "Optimization Iteration: , Training Accuracy:\n",
      "0.9007116\n",
      "78\n",
      "[total, count]: [1888468.0, 2096640.0]\n",
      "Optimization Iteration: , Training Accuracy:\n",
      "0.9019684\n",
      "79\n",
      "[total, count]: [1915348.0, 2123520.0]\n",
      "Optimization Iteration: , Training Accuracy:\n",
      "0.90319383\n",
      "80\n",
      "[total, count]: [1942228.0, 2150400.0]\n",
      "Optimization Iteration: , Training Accuracy:\n",
      "0.90438896\n",
      "81\n",
      "[total, count]: [1969108.0, 2177280.0]\n",
      "Optimization Iteration: , Training Accuracy:\n",
      "0.90555495\n",
      "82\n",
      "[total, count]: [1995988.0, 2204160.0]\n",
      "Optimization Iteration: , Training Accuracy:\n",
      "0.9066924\n",
      "83\n",
      "[total, count]: [2022867.0, 2231040.0]\n",
      "Optimization Iteration: , Training Accuracy:\n",
      "0.90780056\n",
      "84\n",
      "[total, count]: [2049741.0, 2257920.0]\n",
      "Optimization Iteration: , Training Accuracy:\n",
      "0.90888524\n",
      "85\n",
      "[total, count]: [2076621.0, 2284800.0]\n",
      "Optimization Iteration: , Training Accuracy:\n",
      "0.9099447\n",
      "86\n",
      "[total, count]: [2103501.0, 2311680.0]\n",
      "Optimization Iteration: , Training Accuracy:\n",
      "0.9109798\n",
      "87\n",
      "[total, count]: [2130381.0, 2338560.0]\n",
      "Optimization Iteration: , Training Accuracy:\n",
      "0.9119914\n",
      "88\n",
      "[total, count]: [2157261.0, 2365440.0]\n",
      "Optimization Iteration: , Training Accuracy:\n",
      "0.91297984\n",
      "89\n",
      "[total, count]: [2184140.0, 2392320.0]\n",
      "Optimization Iteration: , Training Accuracy:\n",
      "0.91394675\n",
      "90\n",
      "[total, count]: [2211020.0, 2419200.0]\n"
     ]
    },
    {
     "name": "stdout",
     "output_type": "stream",
     "text": [
      "Optimization Iteration: , Training Accuracy:\n",
      "0.9148924\n",
      "91\n",
      "[total, count]: [2237900.0, 2446080.0]\n",
      "Optimization Iteration: , Training Accuracy:\n",
      "0.91581666\n",
      "92\n",
      "[total, count]: [2264778.0, 2472960.0]\n",
      "Optimization Iteration: , Training Accuracy:\n",
      "0.91671985\n",
      "93\n",
      "[total, count]: [2291653.0, 2499840.0]\n",
      "Optimization Iteration: , Training Accuracy:\n",
      "0.9176058\n",
      "94\n",
      "[total, count]: [2318533.0, 2526720.0]\n",
      "Optimization Iteration: , Training Accuracy:\n",
      "0.9184731\n",
      "95\n",
      "[total, count]: [2345413.0, 2553600.0]\n",
      "Optimization Iteration: , Training Accuracy:\n",
      "0.9193224\n",
      "96\n",
      "[total, count]: [2372293.0, 2580480.0]\n",
      "Optimization Iteration: , Training Accuracy:\n",
      "0.9201541\n",
      "97\n",
      "[total, count]: [2399173.0, 2607360.0]\n",
      "Optimization Iteration: , Training Accuracy:\n",
      "0.9209681\n",
      "98\n",
      "[total, count]: [2426051.0, 2634240.0]\n",
      "Optimization Iteration: , Training Accuracy:\n",
      "0.9217664\n",
      "99\n",
      "[total, count]: [2452931.0, 2661120.0]\n",
      "Optimization Iteration: , Training Accuracy:\n",
      "0.9225487\n",
      "100\n",
      "[total, count]: [2479811.0, 2688000.0]\n",
      "Optimization Iteration: , Training Accuracy:\n",
      "0.9233156\n",
      "101\n",
      "[total, count]: [2506691.0, 2714880.0]\n",
      "Optimization Iteration: , Training Accuracy:\n",
      "0.9240674\n",
      "102\n",
      "[total, count]: [2533571.0, 2741760.0]\n",
      "Optimization Iteration: , Training Accuracy:\n",
      "0.9248028\n",
      "103\n",
      "[total, count]: [2560446.0, 2768640.0]\n",
      "Optimization Iteration: , Training Accuracy:\n",
      "0.9255251\n",
      "104\n",
      "[total, count]: [2587324.0, 2795520.0]\n",
      "Optimization Iteration: , Training Accuracy:\n",
      "0.9262312\n",
      "105\n",
      "[total, count]: [2614195.0, 2822400.0]\n",
      "Optimization Iteration: , Training Accuracy:\n",
      "0.92692715\n",
      "106\n",
      "[total, count]: [2641075.0, 2849280.0]\n",
      "Optimization Iteration: , Training Accuracy:\n",
      "0.9276101\n",
      "107\n",
      "[total, count]: [2667955.0, 2876160.0]\n",
      "Optimization Iteration: , Training Accuracy:\n",
      "0.92828\n",
      "108\n",
      "[total, count]: [2694834.0, 2903040.0]\n",
      "Optimization Iteration: , Training Accuracy:\n",
      "0.928938\n",
      "109\n",
      "[total, count]: [2721714.0, 2929920.0]\n",
      "Optimization Iteration: , Training Accuracy:\n",
      "0.929584\n",
      "110\n",
      "[total, count]: [2748594.0, 2956800.0]\n",
      "Optimization Iteration: , Training Accuracy:\n",
      "0.9302184\n",
      "111\n",
      "[total, count]: [2775474.0, 2983680.0]\n",
      "Optimization Iteration: , Training Accuracy:\n",
      "0.9308411\n",
      "112\n",
      "[total, count]: [2802353.0, 3010560.0]\n",
      "Optimization Iteration: , Training Accuracy:\n",
      "0.9314531\n",
      "113\n",
      "[total, count]: [2829233.0, 3037440.0]\n",
      "Optimization Iteration: , Training Accuracy:\n",
      "0.9320544\n",
      "114\n",
      "[total, count]: [2856113.0, 3064320.0]\n",
      "Optimization Iteration: , Training Accuracy:\n",
      "0.93264526\n",
      "115\n",
      "[total, count]: [2882993.0, 3091200.0]\n",
      "Optimization Iteration: , Training Accuracy:\n",
      "0.93322587\n",
      "116\n",
      "[total, count]: [2909873.0, 3118080.0]\n",
      "Optimization Iteration: , Training Accuracy:\n",
      "0.9337947\n",
      "117\n",
      "[total, count]: [2936747.0, 3144960.0]\n",
      "Optimization Iteration: , Training Accuracy:\n",
      "0.9343558\n",
      "118\n",
      "[total, count]: [2963627.0, 3171840.0]\n",
      "Optimization Iteration: , Training Accuracy:\n",
      "0.9349074\n",
      "119\n",
      "[total, count]: [2990507.0, 3198720.0]\n",
      "Optimization Iteration: , Training Accuracy:\n",
      "0.9354489\n",
      "120\n",
      "[total, count]: [3017384.0, 3225600.0]\n",
      "Optimization Iteration: , Training Accuracy:\n",
      "0.9359821\n",
      "121\n",
      "[total, count]: [3044263.0, 3252480.0]\n",
      "Optimization Iteration: , Training Accuracy:\n",
      "0.9365065\n",
      "122\n",
      "[total, count]: [3071142.0, 3279360.0]\n",
      "Optimization Iteration: , Training Accuracy:\n",
      "0.93702275\n",
      "123\n",
      "[total, count]: [3098022.0, 3306240.0]\n",
      "Optimization Iteration: , Training Accuracy:\n",
      "0.9375306\n",
      "124\n",
      "[total, count]: [3124902.0, 3333120.0]\n",
      "Optimization Iteration: , Training Accuracy:\n",
      "0.93803036\n",
      "125\n",
      "[total, count]: [3151782.0, 3360000.0]\n",
      "Optimization Iteration: , Training Accuracy:\n",
      "0.93852156\n",
      "126\n",
      "[total, count]: [3178660.0, 3386880.0]\n",
      "Optimization Iteration: , Training Accuracy:\n",
      "0.9390057\n",
      "127\n",
      "[total, count]: [3205540.0, 3413760.0]\n",
      "Optimization Iteration: , Training Accuracy:\n",
      "0.9394822\n",
      "128\n",
      "[total, count]: [3232420.0, 3440640.0]\n",
      "Optimization Iteration: , Training Accuracy:\n",
      "0.9399513\n",
      "129\n",
      "[total, count]: [3259300.0, 3467520.0]\n",
      "Optimization Iteration: , Training Accuracy:\n",
      "0.94041324\n",
      "130\n",
      "[total, count]: [3286180.0, 3494400.0]\n",
      "Optimization Iteration: , Training Accuracy:\n",
      "0.9408681\n",
      "131\n",
      "[total, count]: [3313060.0, 3521280.0]\n",
      "Optimization Iteration: , Training Accuracy:\n",
      "0.94131607\n",
      "132\n",
      "[total, count]: [3339940.0, 3548160.0]\n",
      "Optimization Iteration: , Training Accuracy:\n",
      "0.9417567\n",
      "133\n",
      "[total, count]: [3366818.0, 3575040.0]\n",
      "Optimization Iteration: , Training Accuracy:\n",
      "0.94219136\n",
      "134\n",
      "[total, count]: [3393698.0, 3601920.0]\n",
      "Optimization Iteration: , Training Accuracy:\n",
      "0.9426196\n",
      "135\n",
      "[total, count]: [3420578.0, 3628800.0]\n",
      "Optimization Iteration: , Training Accuracy:\n",
      "0.94304067\n",
      "136\n",
      "[total, count]: [3447455.0, 3655680.0]\n",
      "Optimization Iteration: , Training Accuracy:\n",
      "0.9434565\n",
      "137\n",
      "[total, count]: [3474335.0, 3682560.0]\n",
      "Optimization Iteration: , Training Accuracy:\n",
      "0.9438662\n",
      "138\n",
      "[total, count]: [3501215.0, 3709440.0]\n",
      "Optimization Iteration: , Training Accuracy:\n",
      "0.94427\n",
      "139\n",
      "[total, count]: [3528095.0, 3736320.0]\n",
      "Optimization Iteration: , Training Accuracy:\n",
      "0.9446681\n",
      "140\n",
      "[total, count]: [3554975.0, 3763200.0]\n",
      "Optimization Iteration: , Training Accuracy:\n",
      "0.94506055\n",
      "141\n",
      "[total, count]: [3581855.0, 3790080.0]\n",
      "Optimization Iteration: , Training Accuracy:\n",
      "0.94544744\n",
      "142\n",
      "[total, count]: [3608735.0, 3816960.0]\n",
      "Optimization Iteration: , Training Accuracy:\n",
      "0.9458289\n",
      "143\n",
      "[total, count]: [3635615.0, 3843840.0]\n",
      "Optimization Iteration: , Training Accuracy:\n",
      "0.9462038\n",
      "144\n",
      "[total, count]: [3662490.0, 3870720.0]\n",
      "Optimization Iteration: , Training Accuracy:\n",
      "0.9465748\n",
      "145\n",
      "[total, count]: [3689370.0, 3897600.0]\n",
      "Optimization Iteration: , Training Accuracy:\n",
      "0.9469407\n",
      "146\n",
      "[total, count]: [3716250.0, 3924480.0]\n",
      "Optimization Iteration: , Training Accuracy:\n",
      "0.9473017\n",
      "147\n",
      "[total, count]: [3743130.0, 3951360.0]\n",
      "Optimization Iteration: , Training Accuracy:\n",
      "0.94765776\n",
      "148\n",
      "[total, count]: [3770010.0, 3978240.0]\n",
      "Optimization Iteration: , Training Accuracy:\n",
      "0.9480088\n",
      "149\n",
      "[total, count]: [3796889.0, 4005120.0]\n",
      "Optimization Iteration: , Training Accuracy:\n",
      "0.94835514\n",
      "150\n",
      "[total, count]: [3823768.0, 4032000.0]\n",
      "Optimization Iteration: , Training Accuracy:\n",
      "0.9486967\n",
      "151\n",
      "[total, count]: [3850646.0, 4058880.0]\n",
      "Optimization Iteration: , Training Accuracy:\n",
      "0.9490342\n",
      "152\n",
      "[total, count]: [3877526.0, 4085760.0]\n",
      "Optimization Iteration: , Training Accuracy:\n",
      "0.94936734\n",
      "153\n",
      "[total, count]: [3904406.0, 4112640.0]\n",
      "Optimization Iteration: , Training Accuracy:\n",
      "0.9496961\n",
      "154\n",
      "[total, count]: [3931286.0, 4139520.0]\n",
      "Optimization Iteration: , Training Accuracy:\n",
      "0.9500207\n",
      "155\n",
      "[total, count]: [3958166.0, 4166400.0]\n",
      "Optimization Iteration: , Training Accuracy:\n",
      "0.95034105\n",
      "156\n",
      "[total, count]: [3985046.0, 4193280.0]\n",
      "Optimization Iteration: , Training Accuracy:\n",
      "0.9506573\n",
      "157\n",
      "[total, count]: [4011926.0, 4220160.0]\n",
      "Optimization Iteration: , Training Accuracy:\n",
      "0.95096964\n",
      "158\n",
      "[total, count]: [4038806.0, 4247040.0]\n",
      "Optimization Iteration: , Training Accuracy:\n",
      "0.951278\n",
      "159\n",
      "[total, count]: [4065686.0, 4273920.0]\n",
      "Optimization Iteration: , Training Accuracy:\n",
      "0.9515825\n",
      "160\n",
      "[total, count]: [4092566.0, 4300800.0]\n",
      "Optimization Iteration: , Training Accuracy:\n",
      "0.9518832\n",
      "161\n",
      "[total, count]: [4119446.0, 4327680.0]\n",
      "Optimization Iteration: , Training Accuracy:\n",
      "0.95218027\n",
      "162\n",
      "[total, count]: [4146326.0, 4354560.0]\n",
      "Optimization Iteration: , Training Accuracy:\n",
      "0.95247227\n",
      "163\n",
      "[total, count]: [4173200.0, 4381440.0]\n",
      "Optimization Iteration: , Training Accuracy:\n",
      "0.95276207\n",
      "164\n",
      "[total, count]: [4200080.0, 4408320.0]\n",
      "Optimization Iteration: , Training Accuracy:\n",
      "0.9530479\n",
      "165\n",
      "[total, count]: [4226958.0, 4435200.0]\n",
      "Optimization Iteration: , Training Accuracy:\n",
      "0.95333076\n",
      "166\n",
      "[total, count]: [4253838.0, 4462080.0]\n",
      "Optimization Iteration: , Training Accuracy:\n",
      "0.9536102\n",
      "167\n",
      "[total, count]: [4280718.0, 4488960.0]\n",
      "Optimization Iteration: , Training Accuracy:\n",
      "0.95388633\n",
      "168\n",
      "[total, count]: [4307598.0, 4515840.0]\n",
      "Optimization Iteration: , Training Accuracy:\n",
      "0.9541583\n",
      "169\n",
      "[total, count]: [4334474.0, 4542720.0]\n",
      "Optimization Iteration: , Training Accuracy:\n",
      "0.95442796\n",
      "170\n",
      "[total, count]: [4361354.0, 4569600.0]\n",
      "Optimization Iteration: , Training Accuracy:\n",
      "0.95469445\n",
      "171\n",
      "[total, count]: [4388234.0, 4596480.0]\n",
      "Optimization Iteration: , Training Accuracy:\n",
      "0.95495784\n",
      "172\n",
      "[total, count]: [4415114.0, 4623360.0]\n",
      "Optimization Iteration: , Training Accuracy:\n",
      "0.9552182\n",
      "173\n",
      "[total, count]: [4441994.0, 4650240.0]\n",
      "Optimization Iteration: , Training Accuracy:\n",
      "0.9554754\n",
      "174\n",
      "[total, count]: [4468873.0, 4677120.0]\n",
      "Optimization Iteration: , Training Accuracy:\n",
      "0.9557298\n",
      "175\n",
      "[total, count]: [4495753.0, 4704000.0]\n"
     ]
    },
    {
     "name": "stdout",
     "output_type": "stream",
     "text": [
      "Optimization Iteration: , Training Accuracy:\n",
      "0.9559813\n",
      "176\n",
      "[total, count]: [4522633.0, 4730880.0]\n",
      "Optimization Iteration: , Training Accuracy:\n",
      "0.95623004\n",
      "177\n",
      "[total, count]: [4549513.0, 4757760.0]\n",
      "Optimization Iteration: , Training Accuracy:\n",
      "0.9564759\n",
      "178\n",
      "[total, count]: [4576393.0, 4784640.0]\n",
      "Optimization Iteration: , Training Accuracy:\n",
      "0.9567191\n",
      "179\n",
      "[total, count]: [4603273.0, 4811520.0]\n",
      "Optimization Iteration: , Training Accuracy:\n",
      "0.95695955\n",
      "180\n",
      "[total, count]: [4630153.0, 4838400.0]\n",
      "Optimization Iteration: , Training Accuracy:\n",
      "0.9571973\n",
      "181\n",
      "[total, count]: [4657033.0, 4865280.0]\n",
      "Optimization Iteration: , Training Accuracy:\n",
      "0.9574325\n",
      "182\n",
      "[total, count]: [4683913.0, 4892160.0]\n",
      "Optimization Iteration: , Training Accuracy:\n",
      "0.9576651\n",
      "183\n",
      "[total, count]: [4710793.0, 4919040.0]\n",
      "Optimization Iteration: , Training Accuracy:\n",
      "0.9578952\n",
      "184\n",
      "[total, count]: [4737673.0, 4945920.0]\n",
      "Optimization Iteration: , Training Accuracy:\n",
      "0.95812196\n",
      "185\n",
      "[total, count]: [4764549.0, 4972800.0]\n",
      "Optimization Iteration: , Training Accuracy:\n",
      "0.95834714\n",
      "186\n",
      "[total, count]: [4791429.0, 4999680.0]\n",
      "Optimization Iteration: , Training Accuracy:\n",
      "0.9585699\n",
      "187\n",
      "[total, count]: [4818309.0, 5026560.0]\n",
      "Optimization Iteration: , Training Accuracy:\n",
      "0.95879024\n",
      "188\n",
      "[total, count]: [4845189.0, 5053440.0]\n",
      "Optimization Iteration: , Training Accuracy:\n",
      "0.9590083\n",
      "189\n",
      "[total, count]: [4872069.0, 5080320.0]\n",
      "Optimization Iteration: , Training Accuracy:\n",
      "0.95922387\n",
      "190\n",
      "[total, count]: [4898948.0, 5107200.0]\n",
      "Optimization Iteration: , Training Accuracy:\n",
      "0.9594362\n",
      "191\n",
      "[total, count]: [4925822.0, 5134080.0]\n",
      "Optimization Iteration: , Training Accuracy:\n",
      "0.9596468\n",
      "192\n",
      "[total, count]: [4952699.0, 5160960.0]\n",
      "Optimization Iteration: , Training Accuracy:\n",
      "0.95985574\n",
      "193\n",
      "[total, count]: [4979578.0, 5187840.0]\n",
      "Optimization Iteration: , Training Accuracy:\n",
      "0.9600627\n",
      "194\n",
      "[total, count]: [5006458.0, 5214720.0]\n",
      "Optimization Iteration: , Training Accuracy:\n",
      "0.96026653\n",
      "195\n",
      "[total, count]: [5033333.0, 5241600.0]\n",
      "Optimization Iteration: , Training Accuracy:\n",
      "0.96046925\n",
      "196\n",
      "[total, count]: [5060213.0, 5268480.0]\n",
      "Optimization Iteration: , Training Accuracy:\n",
      "0.96066993\n",
      "197\n",
      "[total, count]: [5087093.0, 5295360.0]\n",
      "Optimization Iteration: , Training Accuracy:\n",
      "0.96086854\n",
      "198\n",
      "[total, count]: [5113973.0, 5322240.0]\n",
      "Optimization Iteration: , Training Accuracy:\n",
      "0.9610652\n",
      "199\n",
      "[total, count]: [5140853.0, 5349120.0]\n",
      "Optimization Iteration: , Training Accuracy:\n",
      "0.96125984\n",
      "200\n",
      "[total, count]: [5167733.0, 5376000.0]\n",
      "Optimization Iteration: , Training Accuracy:\n",
      "0.9614524\n",
      "201\n",
      "[total, count]: [5194612.0, 5402880.0]\n",
      "Time usage: 0:00:10\n"
     ]
    }
   ],
   "source": [
    "optimize(num_iterations=201)"
   ]
  },
  {
   "cell_type": "code",
   "execution_count": null,
   "metadata": {},
   "outputs": [],
   "source": []
  },
  {
   "cell_type": "code",
   "execution_count": null,
   "metadata": {},
   "outputs": [],
   "source": []
  },
  {
   "cell_type": "markdown",
   "metadata": {},
   "source": [
    "# How to correctly use accuracy in TensorFlow?"
   ]
  },
  {
   "cell_type": "markdown",
   "metadata": {},
   "source": [
    "https://stackoverflow.com/questions/46409626/how-to-properly-use-tf-metrics-accuracy"
   ]
  },
  {
   "cell_type": "markdown",
   "metadata": {},
   "source": [
    "The accuracy function `tf.metrics.accuracy` calculates how often predictions matches labels based on two local variables it creates: `total` and `count`, that are used to compute the frequency with which logits matches labels. "
   ]
  },
  {
   "cell_type": "code",
   "execution_count": 2,
   "metadata": {},
   "outputs": [],
   "source": [
    "logits = tf.placeholder(tf.int64, [2,3])\n",
    "labels = tf.Variable([[0, 1, 0], [1, 0, 1]])\n",
    "\n",
    "acc, acc_op = tf.metrics.accuracy(labels=tf.argmax(labels, 1),   \n",
    "                                  predictions=tf.argmax(logits,1))"
   ]
  },
  {
   "cell_type": "markdown",
   "metadata": {},
   "source": [
    "### Initialize local variables\n",
    "Since metrics.accuracy creates two local variables `total` and `count`, we need to call `local_variables_initializer()` to initialize them."
   ]
  },
  {
   "cell_type": "code",
   "execution_count": 3,
   "metadata": {},
   "outputs": [
    {
     "name": "stdout",
     "output_type": "stream",
     "text": [
      "[<tf.Variable 'accuracy/total:0' shape=() dtype=float32_ref>, <tf.Variable 'accuracy/count:0' shape=() dtype=float32_ref>]\n"
     ]
    }
   ],
   "source": [
    "sess = tf.Session()\n",
    "\n",
    "sess.run(tf.local_variables_initializer())\n",
    "sess.run(tf.global_variables_initializer())\n",
    "\n",
    "stream_vars = [i for i in tf.local_variables()]\n",
    "print(stream_vars)"
   ]
  },
  {
   "cell_type": "code",
   "execution_count": 4,
   "metadata": {},
   "outputs": [],
   "source": [
    "a=[[0,1,0],[1,0,1]]"
   ]
  },
  {
   "cell_type": "code",
   "execution_count": 5,
   "metadata": {},
   "outputs": [
    {
     "data": {
      "text/plain": [
       "array([1, 0])"
      ]
     },
     "execution_count": 5,
     "metadata": {},
     "output_type": "execute_result"
    }
   ],
   "source": [
    "np.argmax(a,axis=1)"
   ]
  },
  {
   "cell_type": "code",
   "execution_count": 6,
   "metadata": {},
   "outputs": [],
   "source": [
    "b = [[1,0,0],[0,1,0]]"
   ]
  },
  {
   "cell_type": "code",
   "execution_count": 7,
   "metadata": {},
   "outputs": [
    {
     "data": {
      "text/plain": [
       "array([0, 1])"
      ]
     },
     "execution_count": 7,
     "metadata": {},
     "output_type": "execute_result"
    }
   ],
   "source": [
    "np.argmax(b,axis=1)"
   ]
  },
  {
   "cell_type": "code",
   "execution_count": 8,
   "metadata": {},
   "outputs": [
    {
     "name": "stdout",
     "output_type": "stream",
     "text": [
      "acc: 0.0\n"
     ]
    }
   ],
   "source": [
    "print('acc:',sess.run(acc, {logits:[[0,1,0],[1,0,1]]}))"
   ]
  },
  {
   "cell_type": "markdown",
   "metadata": {},
   "source": [
    "In the example above even though we gave exactly matching examples, the total and count is zero => accuracy is 0.0"
   ]
  },
  {
   "cell_type": "code",
   "execution_count": 9,
   "metadata": {},
   "outputs": [
    {
     "name": "stdout",
     "output_type": "stream",
     "text": [
      "[total, count]: [0.0, 0.0]\n"
     ]
    }
   ],
   "source": [
    "print('[total, count]:',sess.run(stream_vars)) "
   ]
  },
  {
   "cell_type": "code",
   "execution_count": 10,
   "metadata": {},
   "outputs": [
    {
     "name": "stdout",
     "output_type": "stream",
     "text": [
      "ops: 1.0\n",
      "[total, count]: [2.0, 2.0]\n"
     ]
    }
   ],
   "source": [
    "print('ops:', sess.run(acc_op, {logits:[[0,1,0],[1,0,1]]})) \n",
    "print('[total, count]:',sess.run(stream_vars)) "
   ]
  },
  {
   "cell_type": "markdown",
   "metadata": {},
   "source": [
    "Above, we do it again now calling acc_op and we get actual updated results"
   ]
  },
  {
   "cell_type": "markdown",
   "metadata": {},
   "source": [
    "Now we give new instance that is totally wrong/mismatched"
   ]
  },
  {
   "cell_type": "code",
   "execution_count": 11,
   "metadata": {},
   "outputs": [
    {
     "name": "stdout",
     "output_type": "stream",
     "text": [
      "acc: 1.0\n"
     ]
    }
   ],
   "source": [
    "print('acc:', sess.run(acc,{logits:[[1,0,0],[0,1,0]]}))"
   ]
  },
  {
   "cell_type": "code",
   "execution_count": 12,
   "metadata": {},
   "outputs": [
    {
     "name": "stdout",
     "output_type": "stream",
     "text": [
      "op: 0.75\n"
     ]
    }
   ],
   "source": [
    "print('op:',sess.run(acc_op,{logits:[[0,1,0],[0,1,0]]}))"
   ]
  },
  {
   "cell_type": "code",
   "execution_count": 13,
   "metadata": {},
   "outputs": [
    {
     "name": "stdout",
     "output_type": "stream",
     "text": [
      "[total, count]: [3.0, 4.0]\n"
     ]
    }
   ],
   "source": [
    "print('[total, count]:',sess.run(stream_vars)) "
   ]
  },
  {
   "cell_type": "code",
   "execution_count": null,
   "metadata": {},
   "outputs": [],
   "source": []
  },
  {
   "cell_type": "code",
   "execution_count": null,
   "metadata": {},
   "outputs": [],
   "source": []
  },
  {
   "cell_type": "code",
   "execution_count": null,
   "metadata": {},
   "outputs": [],
   "source": []
  }
 ],
 "metadata": {
  "kernelspec": {
   "display_name": "Python 3",
   "language": "python",
   "name": "python3"
  },
  "language_info": {
   "codemirror_mode": {
    "name": "ipython",
    "version": 3
   },
   "file_extension": ".py",
   "mimetype": "text/x-python",
   "name": "python",
   "nbconvert_exporter": "python",
   "pygments_lexer": "ipython3",
   "version": "3.6.6"
  }
 },
 "nbformat": 4,
 "nbformat_minor": 2
}
