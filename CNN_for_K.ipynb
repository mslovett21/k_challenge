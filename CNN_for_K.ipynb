{
 "cells": [
  {
   "cell_type": "markdown",
   "metadata": {},
   "source": [
    "## Drug-Kinase Interaction Prediction with CNN"
   ]
  },
  {
   "cell_type": "markdown",
   "metadata": {},
   "source": [
    "## Problem:\n",
    "\n",
    "* This is a Multi-Label Classification problem where multiple labels may be assigned to each instance."
   ]
  },
  {
   "cell_type": "markdown",
   "metadata": {},
   "source": [
    "https://nickcdryan.com/2017/01/23/multi-label-classification-a-guided-tour/"
   ]
  },
  {
   "cell_type": "markdown",
   "metadata": {},
   "source": [
    "https://stats.stackexchange.com/questions/12702/what-are-the-measure-for-accuracy-of-multilabel-data?utm_medium=organic&utm_source=google_rich_qa&utm_campaign=google_rich_qa"
   ]
  },
  {
   "cell_type": "markdown",
   "metadata": {},
   "source": [
    "## Network Architecture\n",
    "\n",
    "\n",
    "* INPUT->[CONV -> RELU -> CONV ->RELU ->POOL] ->FC -> RELU -> FC ->SIGMOID ->OUTPUT"
   ]
  },
  {
   "cell_type": "markdown",
   "metadata": {},
   "source": [
    "![title](img/CNN1.png)"
   ]
  },
  {
   "cell_type": "markdown",
   "metadata": {},
   "source": [
    "## Cost Function"
   ]
  },
  {
   "cell_type": "markdown",
   "metadata": {},
   "source": [
    "There are two ways to penalize the instances:\n",
    "* if you do not want to miss any label in an image then if the classification gets all right but one,you should consider the whole things wrong,\n",
    "* you can also that the label missed or misclassified is an error\n",
    "\n",
    "We use the second method:\n",
    "\n",
    "`sigmoid_cross_entropy_with_logits` is a TensorFlow function that penalizes each output node independently. It uses binary loss and model the output of the netowrk as an independed Bernouli distribution per label."
   ]
  },
  {
   "cell_type": "code",
   "execution_count": 1,
   "metadata": {},
   "outputs": [],
   "source": [
    "%matplotlib inline\n",
    "import matplotlib.pyplot as plt\n",
    "import tensorflow as tf\n",
    "import numpy as np\n",
    "from sklearn.metrics import confusion_matrix\n",
    "import time\n",
    "from datetime import timedelta\n",
    "import math"
   ]
  },
  {
   "cell_type": "markdown",
   "metadata": {},
   "source": [
    "## Load data"
   ]
  },
  {
   "cell_type": "code",
   "execution_count": 2,
   "metadata": {},
   "outputs": [],
   "source": [
    "drug_fingerprints_fh = 'sample/sample_fingerprints.csv'\n",
    "drug_targets_fh      = 'sample/sample_targets.csv'\n",
    "drug_weights_fh      = 'sample/sample_weights.csv'"
   ]
  },
  {
   "cell_type": "markdown",
   "metadata": {},
   "source": [
    "### Dimensions of data "
   ]
  },
  {
   "cell_type": "code",
   "execution_count": 3,
   "metadata": {},
   "outputs": [],
   "source": [
    "sample_size       = 10000\n",
    "fingerprint_size  = 1024\n",
    "fingerprint_width = 32\n",
    "targets_num       = 420\n",
    "weights_num       = 420\n",
    "num_channels      = 1"
   ]
  },
  {
   "cell_type": "markdown",
   "metadata": {},
   "source": [
    "### Function helper that populates data structures with the actual data"
   ]
  },
  {
   "cell_type": "code",
   "execution_count": 4,
   "metadata": {},
   "outputs": [],
   "source": [
    "import re\n",
    "def populate_data(file_handle,data_matrix, data_size):\n",
    "    with open(file_handle) as fh:\n",
    "        j=0\n",
    "        content = fh.readlines()\n",
    "        content = [x.strip() for x in content]\n",
    "        for line in content:\n",
    "            result = re.split(r'[,\\t]\\s*',line)\n",
    "            for i in range(1,data_size+1):\n",
    "                data_matrix[j][i-1] = np.float32(result[i])\n",
    "            j = j+1\n",
    "    print(j)\n",
    "    fh.close()"
   ]
  },
  {
   "cell_type": "markdown",
   "metadata": {},
   "source": [
    "### Data structures for loaded data"
   ]
  },
  {
   "cell_type": "code",
   "execution_count": 5,
   "metadata": {},
   "outputs": [],
   "source": [
    "drug_fingerprints = []\n",
    "drug_targets      = []\n",
    "drug_weights      = []\n",
    "\n",
    "\n",
    "for i in range(sample_size):\n",
    "    fingerprint_holder = [0]* fingerprint_size\n",
    "    drug_fingerprints.append(fingerprint_holder)\n",
    "    \n",
    "for i in range(sample_size):\n",
    "    target_holder = [0]* targets_num\n",
    "    drug_targets.append(target_holder)\n",
    "\n",
    "for i in range(sample_size):\n",
    "    weight_holder = [0]* weights_num\n",
    "    drug_weights.append(weight_holder)"
   ]
  },
  {
   "cell_type": "code",
   "execution_count": 6,
   "metadata": {},
   "outputs": [
    {
     "name": "stdout",
     "output_type": "stream",
     "text": [
      "10000\n",
      "10000\n",
      "10000\n"
     ]
    }
   ],
   "source": [
    "populate_data(drug_weights_fh, drug_weights, weights_num)\n",
    "populate_data(drug_targets_fh, drug_targets, targets_num)\n",
    "populate_data(drug_fingerprints_fh, drug_fingerprints, fingerprint_size)"
   ]
  },
  {
   "cell_type": "code",
   "execution_count": 7,
   "metadata": {},
   "outputs": [],
   "source": [
    "drug_fingerprints = np.array(drug_fingerprints)\n",
    "drug_targets      = np.array(drug_targets)\n",
    "drug_weights      = np.array(drug_weights)"
   ]
  },
  {
   "cell_type": "markdown",
   "metadata": {},
   "source": [
    "# TensorFlow"
   ]
  },
  {
   "cell_type": "markdown",
   "metadata": {},
   "source": [
    "## Placeholders\n",
    "Placeholder for the flat 'array' with **fingerprint** of each compound. `None` means that this tensor can hold arbitrary number of arrays with the fingerprints."
   ]
  },
  {
   "cell_type": "code",
   "execution_count": 8,
   "metadata": {},
   "outputs": [],
   "source": [
    "x = tf.placeholder(tf.float32, [None, fingerprint_size],name = \"In_Flat_Drug_Fingerprint\")"
   ]
  },
  {
   "cell_type": "markdown",
   "metadata": {},
   "source": [
    "X is first define as and vecor of size `fingerprint_size` and its then redefine and reshape input as a 2D matrix (image)"
   ]
  },
  {
   "cell_type": "code",
   "execution_count": 9,
   "metadata": {},
   "outputs": [],
   "source": [
    "drug_image = tf.reshape(x, [-1, fingerprint_width, fingerprint_width, num_channels], name=\"Drug_Image_32x32\")"
   ]
  },
  {
   "cell_type": "markdown",
   "metadata": {},
   "source": [
    "Placeholder for the true labels (true targets) for each compound. (Here we have 420 targets - kinases)."
   ]
  },
  {
   "cell_type": "code",
   "execution_count": 10,
   "metadata": {},
   "outputs": [],
   "source": [
    "y_true = tf.placeholder(tf.float32, [None, targets_num],name='True_Labels')"
   ]
  },
  {
   "cell_type": "markdown",
   "metadata": {},
   "source": [
    "Placeholder for weights. The weights will be used to calculate cross-entropy cost function."
   ]
  },
  {
   "cell_type": "code",
   "execution_count": 11,
   "metadata": {},
   "outputs": [],
   "source": [
    "cross_entropy_weights = tf.placeholder(tf.float32, [None, weights_num],name = \"Cross_Entropy_Weights\")"
   ]
  },
  {
   "cell_type": "markdown",
   "metadata": {},
   "source": [
    "## Variables to Optimize"
   ]
  },
  {
   "cell_type": "code",
   "execution_count": 12,
   "metadata": {},
   "outputs": [],
   "source": [
    "def new_weights(shape):\n",
    "    return tf.Variable(tf.truncated_normal(shape, stddev=0.05), name=\"Weights\")"
   ]
  },
  {
   "cell_type": "code",
   "execution_count": 13,
   "metadata": {},
   "outputs": [],
   "source": [
    "def new_biases(length):\n",
    "    return tf.Variable(tf.constant(0.05, shape=[length]), name=\"Biases\")"
   ]
  },
  {
   "cell_type": "markdown",
   "metadata": {},
   "source": [
    "## Network Architecture\n",
    "\n",
    "* INPUT->[CONV -> RELU -> CONV ->RELU ->POOL] ->FC ->RELU->FC->SIGMOID->FC"
   ]
  },
  {
   "cell_type": "markdown",
   "metadata": {},
   "source": [
    "## Helper Functions to Create the Network's Layers"
   ]
  },
  {
   "cell_type": "markdown",
   "metadata": {},
   "source": [
    "### NEW CONVOLUTION LAYER"
   ]
  },
  {
   "cell_type": "code",
   "execution_count": 14,
   "metadata": {},
   "outputs": [],
   "source": [
    "def new_conv_layer_with_RELU(input, num_input_channels, filter_size, num_filters):        \n",
    "    \n",
    "    #number and shape of the filters\n",
    "    shape = [filter_size, filter_size, num_input_channels, num_filters]\n",
    "    \n",
    "    #create the filters\n",
    "    weights = new_weights(shape=shape)\n",
    "\n",
    "    #create bias for each depth slice of the filter volumne\n",
    "    biases = new_biases(length=num_filters)\n",
    "\n",
    "    #convolute stride =[1,1,1,1] move by pixel, padding = \"SAME\" -> add zero padding to keep the dimensions\n",
    "    layer = tf.nn.conv2d(input   = input,filter  = weights, strides = [1, 1, 1, 1],\n",
    "                         padding = 'SAME', name=\"CONVOLUTION_LAYER\")\n",
    "    \n",
    "    # Add the biases \n",
    "    layer += biases\n",
    "    \n",
    "    #  non-linearity (ReLU).\n",
    "    layer = tf.nn.relu(layer)\n",
    "                   \n",
    "    return layer"
   ]
  },
  {
   "cell_type": "markdown",
   "metadata": {},
   "source": [
    "### NEW POOLING LAYER"
   ]
  },
  {
   "cell_type": "code",
   "execution_count": 15,
   "metadata": {},
   "outputs": [],
   "source": [
    "def new_pooling_layer(input, stride):\n",
    "    \n",
    "    layer = tf.nn.max_pool(value=input,ksize=[1, 2, 2, 1],strides=[1, stride, stride, 1],\n",
    "                           padding='SAME', name = \"POOLING_LAYER\")\n",
    "    \n",
    "    return layer"
   ]
  },
  {
   "cell_type": "markdown",
   "metadata": {},
   "source": [
    "### Helper Function for Flattening a Layer"
   ]
  },
  {
   "cell_type": "code",
   "execution_count": 16,
   "metadata": {},
   "outputs": [],
   "source": [
    "def flatten_layer(layer):\n",
    "        \n",
    "    # get the shape of the input layer in a format [num_images, img_height, img_width, num_channels]\n",
    "    layer_shape = layer.get_shape()\n",
    "\n",
    "    # number of features is  img_height * img_width * num_channels\n",
    "    num_features = int(layer_shape[1] * layer_shape[2] * layer_shape[3])\n",
    "    \n",
    "    # reshape the layer to [num_images, num_features].\n",
    "    # -1  means the size in that dimension is calculated so the total size of the tensor is unchanged from the reshaping.\n",
    "    layer_flat = tf.reshape(layer, [-1, num_features],name = \"FLAT_LAYER\")\n",
    "\n",
    "    # return both the flattened layer and the number of features.\n",
    "    return layer_flat, num_features"
   ]
  },
  {
   "cell_type": "markdown",
   "metadata": {},
   "source": [
    "### NEW FULLY-CONNECTED LAYER"
   ]
  },
  {
   "cell_type": "code",
   "execution_count": 17,
   "metadata": {},
   "outputs": [],
   "source": [
    "def new_fc_layer(input, num_inputs,num_outputs,use_relu, use_sigmoid): \n",
    "\n",
    "    # new weights and biases for the layer\n",
    "    weights = new_weights(shape = [num_inputs, num_outputs])\n",
    "    biases = new_biases(length = num_outputs)\n",
    "\n",
    "    # calculate the layer as the matrix multiplication of the input and weights, and then add the bias-values.\n",
    "    layer = tf.matmul(input, weights) + biases\n",
    "\n",
    "    if use_relu:\n",
    "        layer = tf.nn.relu(layer, name = \"FULLY_CONNECTED_WITH_RELU\")\n",
    "       \n",
    "    if use_sigmoid:\n",
    "        layer = tf.nn.sigmoid(layer,name = \"FULLY_CONNECTED_WITH_SIGMOID\")\n",
    "\n",
    "    return layer"
   ]
  },
  {
   "cell_type": "markdown",
   "metadata": {},
   "source": [
    "# Design Computational Graph for CNN"
   ]
  },
  {
   "cell_type": "markdown",
   "metadata": {},
   "source": [
    "### HYPER-PARAMETERS OF THE NETWORK"
   ]
  },
  {
   "cell_type": "markdown",
   "metadata": {},
   "source": [
    "INPUT->[CONV -> RELU -> CONV ->RELU ->POOL] ->FC -> RELU -> FC ->SIGMOID ->OUTPUT"
   ]
  },
  {
   "cell_type": "markdown",
   "metadata": {},
   "source": [
    "* **CONV 1**"
   ]
  },
  {
   "cell_type": "code",
   "execution_count": 18,
   "metadata": {},
   "outputs": [],
   "source": [
    "filter_size1 = 2\n",
    "num_filters1 = 16"
   ]
  },
  {
   "cell_type": "markdown",
   "metadata": {},
   "source": [
    "* **CONV 2**"
   ]
  },
  {
   "cell_type": "code",
   "execution_count": 19,
   "metadata": {},
   "outputs": [],
   "source": [
    "filter_size2 = 3\n",
    "num_filters2 = 32"
   ]
  },
  {
   "cell_type": "markdown",
   "metadata": {},
   "source": [
    "* **FC 1 & FC 2**"
   ]
  },
  {
   "cell_type": "code",
   "execution_count": 20,
   "metadata": {},
   "outputs": [],
   "source": [
    "fc_size1 = 2576\n",
    "fc_size2 = 420"
   ]
  },
  {
   "cell_type": "markdown",
   "metadata": {},
   "source": [
    "DATA DIMENSION REMINDER:\n",
    "* sample_size       = 10000\n",
    "* fingerprint_size  = 1024\n",
    "* fingerprint_width = 32\n",
    "* targets_num       = 420\n",
    "* weights_num       = 420\n",
    "* num_channels      = 1"
   ]
  },
  {
   "cell_type": "markdown",
   "metadata": {},
   "source": [
    "## DEFINE THE LAYERS"
   ]
  },
  {
   "cell_type": "markdown",
   "metadata": {},
   "source": [
    "### Convolutional Layer #1 with RELU"
   ]
  },
  {
   "cell_type": "code",
   "execution_count": 21,
   "metadata": {},
   "outputs": [],
   "source": [
    "conv_layer1 = new_conv_layer_with_RELU(input=drug_image,\n",
    "                                       num_input_channels = num_channels,\n",
    "                                       filter_size = filter_size1,\n",
    "                                       num_filters = num_filters1 )  "
   ]
  },
  {
   "cell_type": "code",
   "execution_count": 22,
   "metadata": {},
   "outputs": [
    {
     "data": {
      "text/plain": [
       "<tf.Tensor 'Relu:0' shape=(?, 32, 32, 16) dtype=float32>"
      ]
     },
     "execution_count": 22,
     "metadata": {},
     "output_type": "execute_result"
    }
   ],
   "source": [
    "conv_layer1"
   ]
  },
  {
   "cell_type": "markdown",
   "metadata": {},
   "source": [
    "### Convolutional Layer #2 with RELU"
   ]
  },
  {
   "cell_type": "code",
   "execution_count": 23,
   "metadata": {},
   "outputs": [],
   "source": [
    "conv_layer2 = new_conv_layer_with_RELU(input = conv_layer1,\n",
    "                                       num_input_channels = num_filters1 ,\n",
    "                                       filter_size = filter_size2,\n",
    "                                       num_filters = num_filters2)  "
   ]
  },
  {
   "cell_type": "code",
   "execution_count": 24,
   "metadata": {},
   "outputs": [
    {
     "data": {
      "text/plain": [
       "<tf.Tensor 'Relu_1:0' shape=(?, 32, 32, 32) dtype=float32>"
      ]
     },
     "execution_count": 24,
     "metadata": {},
     "output_type": "execute_result"
    }
   ],
   "source": [
    "conv_layer2"
   ]
  },
  {
   "cell_type": "markdown",
   "metadata": {},
   "source": [
    "### Pooling Layer"
   ]
  },
  {
   "cell_type": "code",
   "execution_count": 25,
   "metadata": {},
   "outputs": [],
   "source": [
    "pooling_layer = new_pooling_layer(input= conv_layer2, stride = 2)"
   ]
  },
  {
   "cell_type": "code",
   "execution_count": 26,
   "metadata": {},
   "outputs": [
    {
     "data": {
      "text/plain": [
       "<tf.Tensor 'POOLING_LAYER:0' shape=(?, 16, 16, 32) dtype=float32>"
      ]
     },
     "execution_count": 26,
     "metadata": {},
     "output_type": "execute_result"
    }
   ],
   "source": [
    "pooling_layer "
   ]
  },
  {
   "cell_type": "markdown",
   "metadata": {},
   "source": [
    "### Prepare input to FC layer aka flattering the layer"
   ]
  },
  {
   "cell_type": "code",
   "execution_count": 27,
   "metadata": {},
   "outputs": [],
   "source": [
    "layer_flat, features_num = flatten_layer(pooling_layer)"
   ]
  },
  {
   "cell_type": "code",
   "execution_count": 28,
   "metadata": {},
   "outputs": [
    {
     "data": {
      "text/plain": [
       "<tf.Tensor 'FLAT_LAYER:0' shape=(?, 8192) dtype=float32>"
      ]
     },
     "execution_count": 28,
     "metadata": {},
     "output_type": "execute_result"
    }
   ],
   "source": [
    "layer_flat"
   ]
  },
  {
   "cell_type": "markdown",
   "metadata": {},
   "source": [
    "### Fully- Connected Layer 1"
   ]
  },
  {
   "cell_type": "code",
   "execution_count": 29,
   "metadata": {},
   "outputs": [],
   "source": [
    "fc_layer1 = new_fc_layer(input = layer_flat,\n",
    "                         num_inputs = features_num,\n",
    "                         num_outputs = fc_size1,\n",
    "                         use_relu = True,\n",
    "                         use_sigmoid = False)"
   ]
  },
  {
   "cell_type": "code",
   "execution_count": 30,
   "metadata": {},
   "outputs": [
    {
     "data": {
      "text/plain": [
       "<tf.Tensor 'FULLY_CONNECTED_WITH_RELU:0' shape=(?, 2576) dtype=float32>"
      ]
     },
     "execution_count": 30,
     "metadata": {},
     "output_type": "execute_result"
    }
   ],
   "source": [
    "fc_layer1"
   ]
  },
  {
   "cell_type": "markdown",
   "metadata": {},
   "source": [
    "### Fully- Connected Layer 2"
   ]
  },
  {
   "cell_type": "code",
   "execution_count": 31,
   "metadata": {},
   "outputs": [],
   "source": [
    "fc_layer2 = new_fc_layer(input = fc_layer1,\n",
    "                         num_inputs = fc_size1,\n",
    "                         num_outputs = fc_size2,\n",
    "                         use_relu = False,\n",
    "                         use_sigmoid = True)"
   ]
  },
  {
   "cell_type": "code",
   "execution_count": 32,
   "metadata": {},
   "outputs": [
    {
     "data": {
      "text/plain": [
       "<tf.Tensor 'FULLY_CONNECTED_WITH_SIGMOID:0' shape=(?, 420) dtype=float32>"
      ]
     },
     "execution_count": 32,
     "metadata": {},
     "output_type": "execute_result"
    }
   ],
   "source": [
    "fc_layer2"
   ]
  },
  {
   "cell_type": "markdown",
   "metadata": {},
   "source": [
    "### OUTPUT -> Predicted Classes "
   ]
  },
  {
   "cell_type": "code",
   "execution_count": 33,
   "metadata": {},
   "outputs": [],
   "source": [
    "output = tf.round(fc_layer2)"
   ]
  },
  {
   "cell_type": "markdown",
   "metadata": {},
   "source": [
    "# Cost Function to Optimize"
   ]
  },
  {
   "cell_type": "markdown",
   "metadata": {},
   "source": [
    "Because we want to penalize each output node independently, we pick a binary loss and model the ouput of the network as an independent Bernouli Distribution per label."
   ]
  },
  {
   "cell_type": "code",
   "execution_count": 34,
   "metadata": {},
   "outputs": [],
   "source": [
    "cross_entropy = tf.nn.sigmoid_cross_entropy_with_logits(logits = fc_layer2,\n",
    "                                                        labels = y_true)"
   ]
  },
  {
   "cell_type": "markdown",
   "metadata": {},
   "source": [
    "### Multiply logistic loss with weights (ELEMENT-WISE) "
   ]
  },
  {
   "cell_type": "code",
   "execution_count": 35,
   "metadata": {},
   "outputs": [],
   "source": [
    "# sum of cost for all labels with weight 1\n",
    "cost_sum = tf.reduce_sum(tf.multiply(cross_entropy_weights,cross_entropy))\n",
    "\n",
    "# number of labels with weight 1\n",
    "num_nonzero_weights = tf.count_nonzero(input_tensor=cross_entropy_weights,dtype = tf.float32)\n",
    "\n",
    "# average cost\n",
    "cost = tf.divide(cost_sum, num_nonzero_weights, name= \"COST\")"
   ]
  },
  {
   "cell_type": "markdown",
   "metadata": {},
   "source": [
    "### Optimization Method"
   ]
  },
  {
   "cell_type": "code",
   "execution_count": 36,
   "metadata": {},
   "outputs": [],
   "source": [
    "optimizer = tf.train.AdamOptimizer(learning_rate=1e-4).minimize(cost)"
   ]
  },
  {
   "cell_type": "code",
   "execution_count": 37,
   "metadata": {},
   "outputs": [],
   "source": [
    "accuracy, accuracy_ops =tf.metrics.accuracy(labels=y_true,predictions=output, weights = cross_entropy_weights)"
   ]
  },
  {
   "cell_type": "code",
   "execution_count": 38,
   "metadata": {},
   "outputs": [],
   "source": [
    "# Local variables need to show updated accuracy on each iteration \n",
    "stream_vars = [i for i in tf.local_variables()]"
   ]
  },
  {
   "cell_type": "markdown",
   "metadata": {},
   "source": [
    "# Create TensorFlow session"
   ]
  },
  {
   "cell_type": "code",
   "execution_count": 39,
   "metadata": {},
   "outputs": [],
   "source": [
    "session = tf.Session()\n",
    "init = tf.group(tf.global_variables_initializer(), tf.local_variables_initializer())\n",
    "session.run(init)\n",
    "saver = tf.train.Saver()"
   ]
  },
  {
   "cell_type": "code",
   "execution_count": 40,
   "metadata": {},
   "outputs": [],
   "source": [
    "train_batch_size = 50"
   ]
  },
  {
   "cell_type": "code",
   "execution_count": 41,
   "metadata": {},
   "outputs": [],
   "source": [
    "def fetch_batch(batch_size, available_indexes):\n",
    "    chosen = np.random.choice(available_indexes,batch_size, replace=False)\n",
    "    available_indexes = set(available_indexes) - set(chosen)\n",
    "    X_batch = drug_fingerprints[chosen, :]\n",
    "    y_batch = drug_targets[chosen, :]\n",
    "    cross_entropy_weights = drug_weights[chosen,:]\n",
    "    return X_batch,y_batch,cross_entropy_weights, list(available_indexes)"
   ]
  },
  {
   "cell_type": "code",
   "execution_count": 42,
   "metadata": {},
   "outputs": [],
   "source": [
    "# counter for total number of epochs\n",
    "total_epochs = 0\n",
    "\n",
    "def optimize(num_epochs):\n",
    "    \n",
    "    # update the global variable rather than a local copy.\n",
    "    global total_epochs\n",
    "\n",
    "    # start-time \n",
    "    start_time = time.time()\n",
    "\n",
    "    for i in range(total_epochs, total_epochs + num_epochs):\n",
    "\n",
    "        for j in range(int(len(drug_targets)/train_batch_size)):\n",
    "            if j == 0:\n",
    "                available_indexes = list(range(len(drug_targets)))                         \n",
    "            x_batch,y_true_batch, weights_batch, available_indexes = fetch_batch(train_batch_size, available_indexes)\n",
    "\n",
    "            # put the batch into a dict with the proper names for placeholder variables\n",
    "            feed_dict_train = {x: x_batch,\n",
    "                               y_true: y_true_batch,\n",
    "                              cross_entropy_weights: weights_batch}\n",
    "\n",
    "            # run the optimizer with the btch training data\n",
    "            session.run(optimizer, feed_dict=feed_dict_train)\n",
    "            # save the model's weights at the end of each epoch\n",
    "            saver.save(session, \"./temp/my_model.ckpt\")\n",
    "\n",
    "            # print update every 10 iterations\n",
    "            if j % 20 == 0:\n",
    "\n",
    "                # calculate the accuracy on the training-set.\n",
    "                acc_ops = session.run(accuracy_ops, feed_dict=feed_dict_train)\n",
    "\n",
    "                # print update\n",
    "                print('[Total correct, Total count]:',session.run(stream_vars)) \n",
    "                print(\"Epoch: {}, Optimization Iteration (batch #): {}, Training Accuracy: {} \\n\".format(i+1,j+1,acc_ops))                        \n",
    "\n",
    "        # update the total number of iterations\n",
    "    total_epochs += num_epochs\n",
    "\n",
    "    # end time\n",
    "    end_time = time.time()\n",
    "\n",
    "    # difference between start and end-times.\n",
    "    time_dif = end_time - start_time\n",
    "\n",
    "    #time-usage\n",
    "    print(\"Time usage: \" + str(timedelta(seconds=int(round(time_dif)))))"
   ]
  },
  {
   "cell_type": "markdown",
   "metadata": {},
   "source": [
    "### How total count is calculated?\n",
    "<br>\n",
    "Per iteration we have 50 example (batch size) each of them has 420 variable\n",
    "<br>\n",
    "This is wrong because many entries are 0 because of inativity as well as luck of knowlegde.\n",
    "<br>\n",
    "\n",
    "**(In that case the Network could perform very well if it starts outputs zeros all the time as the data is unbalanced )**\n",
    "\n",
    "\n",
    "**Accuracy should only calculate among the examples with weight 1 as cross_entropy is.**"
   ]
  },
  {
   "cell_type": "code",
   "execution_count": 43,
   "metadata": {
    "scrolled": true
   },
   "outputs": [
    {
     "name": "stdout",
     "output_type": "stream",
     "text": [
      "[Total correct, Total count]: [86.0, 149.0]\n",
      "Epoch: 1, Optimization Iteration (batch #): 1, Training Accuracy: 0.5771812200546265 \n",
      "\n",
      "[Total correct, Total count]: [346.0, 440.0]\n",
      "Epoch: 1, Optimization Iteration (batch #): 21, Training Accuracy: 0.7863636612892151 \n",
      "\n",
      "[Total correct, Total count]: [1129.0, 1276.0]\n",
      "Epoch: 1, Optimization Iteration (batch #): 41, Training Accuracy: 0.8847962617874146 \n",
      "\n",
      "[Total correct, Total count]: [1387.0, 1567.0]\n",
      "Epoch: 1, Optimization Iteration (batch #): 61, Training Accuracy: 0.8851308226585388 \n",
      "\n",
      "[Total correct, Total count]: [1991.0, 2211.0]\n",
      "Epoch: 1, Optimization Iteration (batch #): 81, Training Accuracy: 0.9004974961280823 \n",
      "\n",
      "[Total correct, Total count]: [2491.0, 2749.0]\n",
      "Epoch: 1, Optimization Iteration (batch #): 101, Training Accuracy: 0.9061477184295654 \n",
      "\n",
      "[Total correct, Total count]: [3741.0, 4040.0]\n",
      "Epoch: 1, Optimization Iteration (batch #): 121, Training Accuracy: 0.925990104675293 \n",
      "\n",
      "[Total correct, Total count]: [4093.0, 4438.0]\n",
      "Epoch: 1, Optimization Iteration (batch #): 141, Training Accuracy: 0.9222622513771057 \n",
      "\n",
      "[Total correct, Total count]: [4640.0, 5062.0]\n",
      "Epoch: 1, Optimization Iteration (batch #): 161, Training Accuracy: 0.9166337251663208 \n",
      "\n",
      "[Total correct, Total count]: [5337.0, 5806.0]\n",
      "Epoch: 1, Optimization Iteration (batch #): 181, Training Accuracy: 0.9192215204238892 \n",
      "\n",
      "[Total correct, Total count]: [5656.0, 6158.0]\n",
      "Epoch: 2, Optimization Iteration (batch #): 1, Training Accuracy: 0.9184800386428833 \n",
      "\n",
      "[Total correct, Total count]: [5828.0, 6350.0]\n",
      "Epoch: 2, Optimization Iteration (batch #): 21, Training Accuracy: 0.9177953004837036 \n",
      "\n",
      "[Total correct, Total count]: [6289.0, 6853.0]\n",
      "Epoch: 2, Optimization Iteration (batch #): 41, Training Accuracy: 0.9177002906799316 \n",
      "\n",
      "[Total correct, Total count]: [7043.0, 7734.0]\n",
      "Epoch: 2, Optimization Iteration (batch #): 61, Training Accuracy: 0.9106542468070984 \n",
      "\n",
      "[Total correct, Total count]: [7412.0, 8135.0]\n",
      "Epoch: 2, Optimization Iteration (batch #): 81, Training Accuracy: 0.9111247658729553 \n",
      "\n",
      "[Total correct, Total count]: [8039.0, 8827.0]\n",
      "Epoch: 2, Optimization Iteration (batch #): 101, Training Accuracy: 0.9107284545898438 \n",
      "\n",
      "[Total correct, Total count]: [8857.0, 9683.0]\n",
      "Epoch: 2, Optimization Iteration (batch #): 121, Training Accuracy: 0.9146958589553833 \n",
      "\n",
      "[Total correct, Total count]: [9274.0, 10124.0]\n",
      "Epoch: 2, Optimization Iteration (batch #): 141, Training Accuracy: 0.9160410761833191 \n",
      "\n",
      "[Total correct, Total count]: [9763.0, 10665.0]\n",
      "Epoch: 2, Optimization Iteration (batch #): 161, Training Accuracy: 0.9154242873191833 \n",
      "\n",
      "[Total correct, Total count]: [9978.0, 10919.0]\n",
      "Epoch: 2, Optimization Iteration (batch #): 181, Training Accuracy: 0.9138199687004089 \n",
      "\n",
      "[Total correct, Total count]: [10281.0, 11266.0]\n",
      "Epoch: 3, Optimization Iteration (batch #): 1, Training Accuracy: 0.9125688076019287 \n",
      "\n",
      "[Total correct, Total count]: [11285.0, 12345.0]\n",
      "Epoch: 3, Optimization Iteration (batch #): 21, Training Accuracy: 0.9141352772712708 \n",
      "\n",
      "[Total correct, Total count]: [11711.0, 12818.0]\n",
      "Epoch: 3, Optimization Iteration (batch #): 41, Training Accuracy: 0.913637101650238 \n",
      "\n",
      "[Total correct, Total count]: [12472.0, 13641.0]\n",
      "Epoch: 3, Optimization Iteration (batch #): 61, Training Accuracy: 0.9143024682998657 \n",
      "\n",
      "[Total correct, Total count]: [12596.0, 13791.0]\n",
      "Epoch: 3, Optimization Iteration (batch #): 81, Training Accuracy: 0.9133492708206177 \n",
      "\n",
      "[Total correct, Total count]: [13406.0, 14688.0]\n",
      "Epoch: 3, Optimization Iteration (batch #): 101, Training Accuracy: 0.912717878818512 \n",
      "\n",
      "[Total correct, Total count]: [14350.0, 15672.0]\n",
      "Epoch: 3, Optimization Iteration (batch #): 121, Training Accuracy: 0.9156457185745239 \n",
      "\n",
      "[Total correct, Total count]: [14749.0, 16119.0]\n",
      "Epoch: 3, Optimization Iteration (batch #): 141, Training Accuracy: 0.9150071144104004 \n",
      "\n",
      "[Total correct, Total count]: [15099.0, 16526.0]\n",
      "Epoch: 3, Optimization Iteration (batch #): 161, Training Accuracy: 0.9136512279510498 \n",
      "\n",
      "[Total correct, Total count]: [15632.0, 17114.0]\n",
      "Epoch: 3, Optimization Iteration (batch #): 181, Training Accuracy: 0.9134042263031006 \n",
      "\n",
      "[Total correct, Total count]: [16062.0, 17598.0]\n",
      "Epoch: 4, Optimization Iteration (batch #): 1, Training Accuracy: 0.912717342376709 \n",
      "\n",
      "[Total correct, Total count]: [16724.0, 18292.0]\n",
      "Epoch: 4, Optimization Iteration (batch #): 21, Training Accuracy: 0.9142794609069824 \n",
      "\n",
      "[Total correct, Total count]: [17213.0, 18851.0]\n",
      "Epoch: 4, Optimization Iteration (batch #): 41, Training Accuracy: 0.9131080508232117 \n",
      "\n",
      "[Total correct, Total count]: [17897.0, 19594.0]\n",
      "Epoch: 4, Optimization Iteration (batch #): 61, Training Accuracy: 0.9133918285369873 \n",
      "\n",
      "[Total correct, Total count]: [18495.0, 20270.0]\n",
      "Epoch: 4, Optimization Iteration (batch #): 81, Training Accuracy: 0.9124321937561035 \n",
      "\n",
      "[Total correct, Total count]: [18625.0, 20436.0]\n",
      "Epoch: 4, Optimization Iteration (batch #): 101, Training Accuracy: 0.9113819003105164 \n",
      "\n",
      "[Total correct, Total count]: [18804.0, 20653.0]\n",
      "Epoch: 4, Optimization Iteration (batch #): 121, Training Accuracy: 0.9104730486869812 \n",
      "\n",
      "[Total correct, Total count]: [19672.0, 21553.0]\n",
      "Epoch: 4, Optimization Iteration (batch #): 141, Training Accuracy: 0.9127267599105835 \n",
      "\n",
      "[Total correct, Total count]: [20493.0, 22424.0]\n",
      "Epoch: 4, Optimization Iteration (batch #): 161, Training Accuracy: 0.9138869047164917 \n",
      "\n",
      "[Total correct, Total count]: [21372.0, 23333.0]\n",
      "Epoch: 4, Optimization Iteration (batch #): 181, Training Accuracy: 0.9159559607505798 \n",
      "\n",
      "[Total correct, Total count]: [21635.0, 23639.0]\n",
      "Epoch: 5, Optimization Iteration (batch #): 1, Training Accuracy: 0.9152248501777649 \n",
      "\n",
      "[Total correct, Total count]: [22237.0, 24261.0]\n",
      "Epoch: 5, Optimization Iteration (batch #): 21, Training Accuracy: 0.9165739417076111 \n",
      "\n",
      "[Total correct, Total count]: [22686.0, 24759.0]\n",
      "Epoch: 5, Optimization Iteration (batch #): 41, Training Accuracy: 0.9162728786468506 \n",
      "\n",
      "[Total correct, Total count]: [23691.0, 25870.0]\n",
      "Epoch: 5, Optimization Iteration (batch #): 61, Training Accuracy: 0.9157711863517761 \n",
      "\n",
      "[Total correct, Total count]: [24626.0, 26844.0]\n",
      "Epoch: 5, Optimization Iteration (batch #): 81, Training Accuracy: 0.9173744320869446 \n",
      "\n",
      "[Total correct, Total count]: [25581.0, 27854.0]\n",
      "Epoch: 5, Optimization Iteration (batch #): 101, Training Accuracy: 0.9183959364891052 \n",
      "\n",
      "[Total correct, Total count]: [26174.0, 28510.0]\n",
      "Epoch: 5, Optimization Iteration (batch #): 121, Training Accuracy: 0.9180638194084167 \n",
      "\n",
      "[Total correct, Total count]: [26249.0, 28619.0]\n",
      "Epoch: 5, Optimization Iteration (batch #): 141, Training Accuracy: 0.9171878695487976 \n",
      "\n",
      "[Total correct, Total count]: [26619.0, 29024.0]\n",
      "Epoch: 5, Optimization Iteration (batch #): 161, Training Accuracy: 0.9171375632286072 \n",
      "\n",
      "[Total correct, Total count]: [26951.0, 29389.0]\n",
      "Epoch: 5, Optimization Iteration (batch #): 181, Training Accuracy: 0.9170438051223755 \n",
      "\n",
      "[Total correct, Total count]: [27582.0, 30061.0]\n",
      "Epoch: 6, Optimization Iteration (batch #): 1, Training Accuracy: 0.917534351348877 \n",
      "\n",
      "[Total correct, Total count]: [27990.0, 30521.0]\n",
      "Epoch: 6, Optimization Iteration (batch #): 21, Training Accuracy: 0.9170734882354736 \n",
      "\n",
      "[Total correct, Total count]: [28904.0, 31473.0]\n",
      "Epoch: 6, Optimization Iteration (batch #): 41, Training Accuracy: 0.9183744788169861 \n",
      "\n",
      "[Total correct, Total count]: [29349.0, 31949.0]\n",
      "Epoch: 6, Optimization Iteration (batch #): 61, Training Accuracy: 0.9186202883720398 \n",
      "\n",
      "[Total correct, Total count]: [30163.0, 32814.0]\n",
      "Epoch: 6, Optimization Iteration (batch #): 81, Training Accuracy: 0.9192113280296326 \n",
      "\n",
      "[Total correct, Total count]: [31257.0, 33974.0]\n",
      "Epoch: 6, Optimization Iteration (batch #): 101, Training Accuracy: 0.9200270771980286 \n",
      "\n",
      "[Total correct, Total count]: [32374.0, 35122.0]\n",
      "Epoch: 6, Optimization Iteration (batch #): 121, Training Accuracy: 0.9217584133148193 \n",
      "\n",
      "[Total correct, Total count]: [33265.0, 36090.0]\n",
      "Epoch: 6, Optimization Iteration (batch #): 141, Training Accuracy: 0.921723484992981 \n",
      "\n",
      "[Total correct, Total count]: [34502.0, 37396.0]\n",
      "Epoch: 6, Optimization Iteration (batch #): 161, Training Accuracy: 0.9226120710372925 \n",
      "\n",
      "[Total correct, Total count]: [34635.0, 37565.0]\n",
      "Epoch: 6, Optimization Iteration (batch #): 181, Training Accuracy: 0.922001838684082 \n",
      "\n"
     ]
    },
    {
     "name": "stdout",
     "output_type": "stream",
     "text": [
      "[Total correct, Total count]: [35343.0, 38327.0]\n",
      "Epoch: 7, Optimization Iteration (batch #): 1, Training Accuracy: 0.9221436381340027 \n",
      "\n",
      "[Total correct, Total count]: [35716.0, 38754.0]\n",
      "Epoch: 7, Optimization Iteration (batch #): 21, Training Accuracy: 0.9216080904006958 \n",
      "\n",
      "[Total correct, Total count]: [35850.0, 38951.0]\n",
      "Epoch: 7, Optimization Iteration (batch #): 41, Training Accuracy: 0.9203871488571167 \n",
      "\n",
      "[Total correct, Total count]: [36327.0, 39466.0]\n",
      "Epoch: 7, Optimization Iteration (batch #): 61, Training Accuracy: 0.9204632043838501 \n",
      "\n",
      "[Total correct, Total count]: [36898.0, 40093.0]\n",
      "Epoch: 7, Optimization Iteration (batch #): 81, Training Accuracy: 0.9203102588653564 \n",
      "\n",
      "[Total correct, Total count]: [37858.0, 41101.0]\n",
      "Epoch: 7, Optimization Iteration (batch #): 101, Training Accuracy: 0.9210968017578125 \n",
      "\n",
      "[Total correct, Total count]: [38142.0, 41427.0]\n",
      "Epoch: 7, Optimization Iteration (batch #): 121, Training Accuracy: 0.9207038879394531 \n",
      "\n",
      "[Total correct, Total count]: [38975.0, 42324.0]\n",
      "Epoch: 7, Optimization Iteration (batch #): 141, Training Accuracy: 0.9208723306655884 \n",
      "\n",
      "[Total correct, Total count]: [39389.0, 42775.0]\n",
      "Epoch: 7, Optimization Iteration (batch #): 161, Training Accuracy: 0.920841634273529 \n",
      "\n",
      "[Total correct, Total count]: [40224.0, 43668.0]\n",
      "Epoch: 7, Optimization Iteration (batch #): 181, Training Accuracy: 0.9211322069168091 \n",
      "\n",
      "[Total correct, Total count]: [41389.0, 44883.0]\n",
      "Epoch: 8, Optimization Iteration (batch #): 1, Training Accuracy: 0.9221531748771667 \n",
      "\n",
      "[Total correct, Total count]: [42845.0, 46391.0]\n",
      "Epoch: 8, Optimization Iteration (batch #): 21, Training Accuracy: 0.92356276512146 \n",
      "\n",
      "[Total correct, Total count]: [43624.0, 47207.0]\n",
      "Epoch: 8, Optimization Iteration (batch #): 41, Training Accuracy: 0.9241002202033997 \n",
      "\n",
      "[Total correct, Total count]: [44558.0, 48189.0]\n",
      "Epoch: 8, Optimization Iteration (batch #): 61, Training Accuracy: 0.9246508479118347 \n",
      "\n",
      "[Total correct, Total count]: [45042.0, 48715.0]\n",
      "Epoch: 8, Optimization Iteration (batch #): 81, Training Accuracy: 0.9246022701263428 \n",
      "\n",
      "[Total correct, Total count]: [45211.0, 48914.0]\n",
      "Epoch: 8, Optimization Iteration (batch #): 101, Training Accuracy: 0.9242957234382629 \n",
      "\n",
      "[Total correct, Total count]: [45343.0, 49070.0]\n",
      "Epoch: 8, Optimization Iteration (batch #): 121, Training Accuracy: 0.9240472912788391 \n",
      "\n",
      "[Total correct, Total count]: [46704.0, 50506.0]\n",
      "Epoch: 8, Optimization Iteration (batch #): 141, Training Accuracy: 0.9247218370437622 \n",
      "\n",
      "[Total correct, Total count]: [47420.0, 51278.0]\n",
      "Epoch: 8, Optimization Iteration (batch #): 161, Training Accuracy: 0.9247630834579468 \n",
      "\n",
      "[Total correct, Total count]: [48277.0, 52193.0]\n",
      "Epoch: 8, Optimization Iteration (batch #): 181, Training Accuracy: 0.924970805644989 \n",
      "\n",
      "[Total correct, Total count]: [48846.0, 52807.0]\n",
      "Epoch: 9, Optimization Iteration (batch #): 1, Training Accuracy: 0.9249910116195679 \n",
      "\n",
      "[Total correct, Total count]: [49326.0, 53323.0]\n",
      "Epoch: 9, Optimization Iteration (batch #): 21, Training Accuracy: 0.9250417351722717 \n",
      "\n",
      "[Total correct, Total count]: [50008.0, 54096.0]\n",
      "Epoch: 9, Optimization Iteration (batch #): 41, Training Accuracy: 0.9244306683540344 \n",
      "\n",
      "[Total correct, Total count]: [50816.0, 54954.0]\n",
      "Epoch: 9, Optimization Iteration (batch #): 61, Training Accuracy: 0.9247006773948669 \n",
      "\n",
      "[Total correct, Total count]: [51425.0, 55703.0]\n",
      "Epoch: 9, Optimization Iteration (batch #): 81, Training Accuracy: 0.9231998324394226 \n",
      "\n",
      "[Total correct, Total count]: [51769.0, 56100.0]\n",
      "Epoch: 9, Optimization Iteration (batch #): 101, Training Accuracy: 0.9227985739707947 \n",
      "\n",
      "[Total correct, Total count]: [52509.0, 56883.0]\n",
      "Epoch: 9, Optimization Iteration (batch #): 121, Training Accuracy: 0.9231052994728088 \n",
      "\n",
      "[Total correct, Total count]: [53427.0, 57865.0]\n",
      "Epoch: 9, Optimization Iteration (batch #): 141, Training Accuracy: 0.9233042597770691 \n",
      "\n",
      "[Total correct, Total count]: [54393.0, 58895.0]\n",
      "Epoch: 9, Optimization Iteration (batch #): 161, Training Accuracy: 0.9235588908195496 \n",
      "\n",
      "[Total correct, Total count]: [55327.0, 59872.0]\n",
      "Epoch: 9, Optimization Iteration (batch #): 181, Training Accuracy: 0.9240880608558655 \n",
      "\n",
      "[Total correct, Total count]: [56305.0, 60971.0]\n",
      "Epoch: 10, Optimization Iteration (batch #): 1, Training Accuracy: 0.9234718084335327 \n",
      "\n",
      "[Total correct, Total count]: [56443.0, 61133.0]\n",
      "Epoch: 10, Optimization Iteration (batch #): 21, Training Accuracy: 0.9232820272445679 \n",
      "\n",
      "[Total correct, Total count]: [56904.0, 61628.0]\n",
      "Epoch: 10, Optimization Iteration (batch #): 41, Training Accuracy: 0.9233465194702148 \n",
      "\n",
      "[Total correct, Total count]: [57505.0, 62267.0]\n",
      "Epoch: 10, Optimization Iteration (batch #): 61, Training Accuracy: 0.9235228896141052 \n",
      "\n",
      "[Total correct, Total count]: [58361.0, 63250.0]\n",
      "Epoch: 10, Optimization Iteration (batch #): 81, Training Accuracy: 0.9227035641670227 \n",
      "\n",
      "[Total correct, Total count]: [59902.0, 64892.0]\n",
      "Epoch: 10, Optimization Iteration (batch #): 101, Training Accuracy: 0.9231029748916626 \n",
      "\n",
      "[Total correct, Total count]: [60160.0, 65177.0]\n",
      "Epoch: 10, Optimization Iteration (batch #): 121, Training Accuracy: 0.9230250120162964 \n",
      "\n",
      "[Total correct, Total count]: [60928.0, 66073.0]\n",
      "Epoch: 10, Optimization Iteration (batch #): 141, Training Accuracy: 0.9221315979957581 \n",
      "\n",
      "[Total correct, Total count]: [61302.0, 66493.0]\n",
      "Epoch: 10, Optimization Iteration (batch #): 161, Training Accuracy: 0.9219316244125366 \n",
      "\n",
      "[Total correct, Total count]: [61973.0, 67206.0]\n",
      "Epoch: 10, Optimization Iteration (batch #): 181, Training Accuracy: 0.9221349358558655 \n",
      "\n",
      "Time usage: 1:08:26\n"
     ]
    }
   ],
   "source": [
    "optimize(num_epochs = 10)"
   ]
  },
  {
   "cell_type": "code",
   "execution_count": 44,
   "metadata": {},
   "outputs": [],
   "source": [
    "writer = tf.summary.FileWriter(\"./logs/CNN_1\", session.graph)"
   ]
  },
  {
   "cell_type": "code",
   "execution_count": 45,
   "metadata": {},
   "outputs": [],
   "source": [
    "save_path= saver.save(session, \"./temp/my_model_final.ckpt\")"
   ]
  },
  {
   "cell_type": "code",
   "execution_count": 46,
   "metadata": {},
   "outputs": [],
   "source": [
    "# ! tensorboard --logdir=log+"
   ]
  },
  {
   "cell_type": "markdown",
   "metadata": {},
   "source": [
    "21000"
   ]
  },
  {
   "cell_type": "code",
   "execution_count": null,
   "metadata": {},
   "outputs": [],
   "source": []
  },
  {
   "cell_type": "code",
   "execution_count": null,
   "metadata": {},
   "outputs": [],
   "source": []
  }
 ],
 "metadata": {
  "kernelspec": {
   "display_name": "Python 3",
   "language": "python",
   "name": "python3"
  },
  "language_info": {
   "codemirror_mode": {
    "name": "ipython",
    "version": 3
   },
   "file_extension": ".py",
   "mimetype": "text/x-python",
   "name": "python",
   "nbconvert_exporter": "python",
   "pygments_lexer": "ipython3",
   "version": "3.6.6"
  }
 },
 "nbformat": 4,
 "nbformat_minor": 2
}
