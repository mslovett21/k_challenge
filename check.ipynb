{
 "cells": [
  {
   "cell_type": "code",
   "execution_count": 1,
   "metadata": {},
   "outputs": [],
   "source": [
    "%matplotlib inline\n",
    "import matplotlib.pyplot as plt\n",
    "import tensorflow as tf\n",
    "import numpy as np\n",
    "from sklearn.metrics import confusion_matrix\n",
    "import time\n",
    "from datetime import timedelta\n",
    "import math\n",
    "import numpy as np\n",
    "\n",
    "#\n",
    "# image dimensions\n",
    "#\n",
    "\n",
    "img_height = 32\n",
    "img_width = 32\n",
    "img_channels = 1\n"
   ]
  },
  {
   "cell_type": "code",
   "execution_count": 2,
   "metadata": {},
   "outputs": [],
   "source": [
    "drug_fingerprints_fh = 'sample/sample_fingerprints.csv'\n",
    "drug_targets_fh      = 'sample/sample_targets.csv'\n",
    "drug_weights_fh      = 'sample/sample_weights.csv'"
   ]
  },
  {
   "cell_type": "code",
   "execution_count": 3,
   "metadata": {},
   "outputs": [],
   "source": [
    "sample_size       = 10000\n",
    "fingerprint_size  = 1024\n",
    "fingerprint_width = 32\n",
    "targets_num       = 420\n",
    "weights_num       = 420\n",
    "num_channels      = 1"
   ]
  },
  {
   "cell_type": "code",
   "execution_count": 4,
   "metadata": {},
   "outputs": [],
   "source": [
    "import re\n",
    "def populate_data(file_handle,data_matrix, data_size):\n",
    "    with open(file_handle) as fh:\n",
    "        j=0\n",
    "        content = fh.readlines()\n",
    "        content = [x.strip() for x in content]\n",
    "        for line in content:\n",
    "            result = re.split(r'[,\\t]\\s*',line)\n",
    "            for i in range(1,data_size+1):\n",
    "                data_matrix[j][i-1] = np.float32(result[i])\n",
    "            j = j+1\n",
    "    print(j)\n",
    "    fh.close()"
   ]
  },
  {
   "cell_type": "code",
   "execution_count": 5,
   "metadata": {},
   "outputs": [],
   "source": [
    "drug_fingerprints = []\n",
    "drug_targets      = []\n",
    "drug_weights      = []\n",
    "\n",
    "\n",
    "for i in range(sample_size):\n",
    "    fingerprint_holder = [0]* fingerprint_size\n",
    "    drug_fingerprints.append(fingerprint_holder)\n",
    "    \n",
    "for i in range(sample_size):\n",
    "    target_holder = [0]* targets_num\n",
    "    drug_targets.append(target_holder)\n",
    "\n",
    "for i in range(sample_size):\n",
    "    weight_holder = [0]* weights_num\n",
    "    drug_weights.append(weight_holder)"
   ]
  },
  {
   "cell_type": "code",
   "execution_count": 6,
   "metadata": {},
   "outputs": [
    {
     "name": "stdout",
     "output_type": "stream",
     "text": [
      "10000\n",
      "10000\n",
      "10000\n"
     ]
    }
   ],
   "source": [
    "populate_data(drug_weights_fh, drug_weights, weights_num)\n",
    "populate_data(drug_targets_fh, drug_targets, targets_num)\n",
    "populate_data(drug_fingerprints_fh, drug_fingerprints, fingerprint_size)"
   ]
  },
  {
   "cell_type": "code",
   "execution_count": 7,
   "metadata": {},
   "outputs": [],
   "source": [
    "drug_fingerprints = np.array(drug_fingerprints)\n",
    "drug_targets      = np.array(drug_targets)\n",
    "drug_weights      = np.array(drug_weights)"
   ]
  },
  {
   "cell_type": "markdown",
   "metadata": {},
   "source": [
    "## PLACEHOLDERS"
   ]
  },
  {
   "cell_type": "code",
   "execution_count": 9,
   "metadata": {},
   "outputs": [],
   "source": [
    "x = tf.placeholder(tf.float32, [None, fingerprint_size],name = \"In_Flat_Drug_Fingerprint\")\n",
    "\n",
    "drug_image = tf.reshape(x, [-1, fingerprint_width, fingerprint_width, num_channels], name=\"Drug_Image_32x32\")\n",
    "\n",
    "y_true = tf.placeholder(tf.float32, [None, targets_num],name='True_Labels')\n",
    "\n",
    "cross_entropy_weights = tf.placeholder(tf.float32, [None, weights_num],name = \"Cross_Entropy_Weights\")"
   ]
  },
  {
   "cell_type": "code",
   "execution_count": 10,
   "metadata": {},
   "outputs": [],
   "source": [
    "# Data is transformed so that number of channels is first, this boost performance on GPU.\n",
    "# from shape = [number_img, hight, wigth, channels] to [number_img, channels ,height, wigth] "
   ]
  },
  {
   "cell_type": "code",
   "execution_count": 55,
   "metadata": {},
   "outputs": [],
   "source": [
    "inputs = tf.transpose(drug_image, [0, 3, 1, 2])"
   ]
  },
  {
   "cell_type": "code",
   "execution_count": 56,
   "metadata": {},
   "outputs": [
    {
     "data": {
      "text/plain": [
       "<tf.Tensor 'transpose_2:0' shape=(?, 1, 32, 32) dtype=float32>"
      ]
     },
     "execution_count": 56,
     "metadata": {},
     "output_type": "execute_result"
    }
   ],
   "source": [
    "inputs"
   ]
  },
  {
   "cell_type": "markdown",
   "metadata": {},
   "source": [
    "## FUNCTIONS"
   ]
  },
  {
   "cell_type": "code",
   "execution_count": 65,
   "metadata": {},
   "outputs": [],
   "source": [
    "def residual_block(inputs, filters, is_training, strides,\n",
    "                   use_projection=False, data_format='channels_first'):\n",
    "    shortcut = inputs\n",
    "    print(\"Residue unit:\")\n",
    "    if use_projection:\n",
    "        shortcut = conv2d_fixed_padding(\n",
    "        inputs=inputs, filters=filters, kernel_size=1, strides=strides,\n",
    "        data_format=data_format)\n",
    "        print(\"FIRST IN THE BLOCK\")\n",
    "    shortcut = batch_norm_relu(shortcut, is_training, relu=False,\n",
    "                               data_format=data_format)\n",
    "    print(\"Shortcut:\")\n",
    "    print(shortcut)\n",
    "    print(\"CONV 1\")\n",
    "    inputs = conv2d_fixed_padding(\n",
    "      inputs=inputs, filters=filters, kernel_size=3, strides=strides,\n",
    "      data_format=data_format)\n",
    "\n",
    "    print(inputs)\n",
    "    print(\"\\n\")\n",
    "    inputs = batch_norm_relu(inputs, is_training, data_format=data_format)\n",
    "    print(\"CONV 2\")\n",
    "    \n",
    "    inputs = conv2d_fixed_padding(\n",
    "      inputs=inputs, filters=filters, kernel_size=3, strides=1,\n",
    "      data_format=data_format)\n",
    "    print(inputs)\n",
    "    print(\"\\n\") \n",
    "    inputs = batch_norm_relu(inputs, is_training, relu=False, init_zero=True,\n",
    "                           data_format=data_format)\n",
    "    \n",
    "    print(\"Added Shortcut: \")\n",
    "    sum_with_shortcut = inputs + shortcut\n",
    "    print(sum_with_shortcut)\n",
    "    print(\"\\n\")\n",
    "\n",
    "    return tf.nn.relu( sum_with_shortcut )\n"
   ]
  },
  {
   "cell_type": "code",
   "execution_count": 39,
   "metadata": {},
   "outputs": [],
   "source": [
    "\n",
    "def block_group(inputs, filters, blocks, strides, is_training, name,\n",
    "                data_format='channels_first'):\n",
    "    inputs = residual_block(inputs, filters, is_training, strides,\n",
    "                    use_projection=True, data_format=data_format)\n",
    "    for _ in range(1, blocks):\n",
    "        inputs = residual_block(inputs, filters, is_training, 1,\n",
    "                      data_format=data_format)\n",
    "\n",
    "    return tf.identity(inputs, name)"
   ]
  },
  {
   "cell_type": "code",
   "execution_count": 15,
   "metadata": {},
   "outputs": [],
   "source": [
    "def fixed_padding(inputs, kernel_size, data_format):\n",
    "  \"\"\"Pads the input along the spatial dimensions independently of input size.\n",
    "  Args:\n",
    "    inputs: A tensor of size [batch, channels, height_in, width_in] or\n",
    "      [batch, height_in, width_in, channels] depending on data_format.\n",
    "    kernel_size: The kernel to be used in the conv2d or max_pool2d operation.\n",
    "                 Should be a positive integer.\n",
    "    data_format: The input format ('channels_last' or 'channels_first').\n",
    "  Returns:\n",
    "    A tensor with the same format as the input with the data either intact\n",
    "    (if kernel_size == 1) or padded (if kernel_size > 1).\n",
    "  \"\"\"\n",
    "  pad_total = kernel_size - 1\n",
    "  pad_beg = pad_total // 2\n",
    "  pad_end = pad_total - pad_beg\n",
    "\n",
    "  if data_format == 'channels_first':\n",
    "    padded_inputs = tf.pad(inputs, [[0, 0], [0, 0],\n",
    "                                    [pad_beg, pad_end], [pad_beg, pad_end]])\n",
    "  else:\n",
    "    padded_inputs = tf.pad(inputs, [[0, 0], [pad_beg, pad_end],\n",
    "                                    [pad_beg, pad_end], [0, 0]])\n",
    "  return padded_inputs"
   ]
  },
  {
   "cell_type": "code",
   "execution_count": 105,
   "metadata": {},
   "outputs": [],
   "source": [
    "def conv2d_fixed_padding(inputs, filters, kernel_size, strides, data_format):\n",
    "  \"\"\"Strided 2-D convolution with explicit padding.\"\"\"\n",
    "  # The padding is consistent and is based only on `kernel_size`, not on the\n",
    "  # dimensions of `inputs` (as opposed to using `tf.layers.conv2d` alone).\n",
    "#  if strides > 1:\n",
    "#    inputs = fixed_padding(inputs, kernel_size, data_format)\n",
    "\n",
    "  return tf.layers.conv2d(\n",
    "      inputs=inputs, filters=filters, kernel_size=kernel_size, strides=strides,\n",
    "      padding=('SAME' if strides == 1 else 'VALID'), use_bias=False,\n",
    "      kernel_initializer=tf.variance_scaling_initializer(),\n",
    "data_format=data_format)"
   ]
  },
  {
   "cell_type": "code",
   "execution_count": 66,
   "metadata": {},
   "outputs": [],
   "source": [
    "BATCH_NORM_DECAY = 0.997\n",
    "BATCH_NORM_EPSILON = 1e-5"
   ]
  },
  {
   "cell_type": "code",
   "execution_count": 20,
   "metadata": {},
   "outputs": [],
   "source": [
    "def batch_norm_relu(inputs, is_training, relu=True, init_zero=False,\n",
    "                    data_format='channels_first'):\n",
    "  \"\"\"Performs a batch normalization followed by a ReLU.\n",
    "  Args:\n",
    "    inputs: `Tensor` of shape `[batch, channels, ...]`.\n",
    "    is_training: `bool` for whether the model is training.\n",
    "    relu: `bool` if False, omits the ReLU operation.\n",
    "    init_zero: `bool` if True, initializes scale parameter of batch\n",
    "        normalization with 0 instead of 1 (default).\n",
    "    data_format: `str` either \"channels_first\" for `[batch, channels, height,\n",
    "        width]` or \"channels_last for `[batch, height, width, channels]`.\n",
    "  Returns:\n",
    "    A normalized `Tensor` with the same `data_format`.\n",
    "  \"\"\"\n",
    "  if init_zero:\n",
    "    gamma_initializer = tf.zeros_initializer()\n",
    "  else:\n",
    "    gamma_initializer = tf.ones_initializer()\n",
    "\n",
    "  if data_format == 'channels_first':\n",
    "    axis = 1\n",
    "  else:\n",
    "    axis = 3\n",
    "\n",
    "  inputs = tf.layers.batch_normalization(\n",
    "      inputs=inputs,\n",
    "      axis=axis,\n",
    "      momentum=BATCH_NORM_DECAY,\n",
    "      epsilon=BATCH_NORM_EPSILON,\n",
    "      center=True,\n",
    "      scale=True,\n",
    "      training=is_training,\n",
    "      fused=True,\n",
    "      gamma_initializer=gamma_initializer)\n",
    "\n",
    "  if relu:\n",
    "    inputs = tf.nn.relu(inputs)\n",
    "  return inputs\n"
   ]
  },
  {
   "cell_type": "code",
   "execution_count": 13,
   "metadata": {},
   "outputs": [],
   "source": [
    "data_format = 'channels_first'"
   ]
  },
  {
   "cell_type": "markdown",
   "metadata": {},
   "source": [
    "### First convolution"
   ]
  },
  {
   "cell_type": "code",
   "execution_count": 106,
   "metadata": {},
   "outputs": [],
   "source": [
    "inputs = tf.transpose(drug_image, [0, 3, 1, 2])"
   ]
  },
  {
   "cell_type": "code",
   "execution_count": 107,
   "metadata": {},
   "outputs": [],
   "source": [
    "inputs = conv2d_fixed_padding(\n",
    "          inputs=inputs, filters= 64 , kernel_size= 7,\n",
    "          strides= 2 , data_format=data_format)"
   ]
  },
  {
   "cell_type": "code",
   "execution_count": 108,
   "metadata": {},
   "outputs": [
    {
     "data": {
      "text/plain": [
       "<tf.Tensor 'conv2d_78/Conv2D:0' shape=(?, 64, 16, 16) dtype=float32>"
      ]
     },
     "execution_count": 108,
     "metadata": {},
     "output_type": "execute_result"
    }
   ],
   "source": [
    "inputs "
   ]
  },
  {
   "cell_type": "code",
   "execution_count": 109,
   "metadata": {},
   "outputs": [
    {
     "data": {
      "text/plain": [
       "<tf.Tensor 'initial_conv_6:0' shape=(?, 64, 16, 16) dtype=float32>"
      ]
     },
     "execution_count": 109,
     "metadata": {},
     "output_type": "execute_result"
    }
   ],
   "source": [
    "inputs = tf.identity(inputs, 'initial_conv')\n",
    "inputs"
   ]
  },
  {
   "cell_type": "code",
   "execution_count": 110,
   "metadata": {},
   "outputs": [
    {
     "data": {
      "text/plain": [
       "<tf.Tensor 'initial_conv_6:0' shape=(?, 64, 16, 16) dtype=float32>"
      ]
     },
     "execution_count": 110,
     "metadata": {},
     "output_type": "execute_result"
    }
   ],
   "source": [
    "batch_norm_relu(inputs, is_training=True, data_format='channels_first')\n",
    "inputs"
   ]
  },
  {
   "cell_type": "code",
   "execution_count": 111,
   "metadata": {},
   "outputs": [],
   "source": [
    "inputs = tf.layers.max_pooling2d(\n",
    "            inputs=inputs, pool_size=3,\n",
    "            strides=2, padding='SAME',\n",
    "            data_format='channels_first')"
   ]
  },
  {
   "cell_type": "code",
   "execution_count": 112,
   "metadata": {},
   "outputs": [
    {
     "data": {
      "text/plain": [
       "<tf.Tensor 'max_pooling2d_6/MaxPool:0' shape=(?, 64, 8, 8) dtype=float32>"
      ]
     },
     "execution_count": 112,
     "metadata": {},
     "output_type": "execute_result"
    }
   ],
   "source": [
    "inputs"
   ]
  },
  {
   "cell_type": "code",
   "execution_count": 113,
   "metadata": {},
   "outputs": [
    {
     "data": {
      "text/plain": [
       "<tf.Tensor 'initial_max_pool_5:0' shape=(?, 64, 8, 8) dtype=float32>"
      ]
     },
     "execution_count": 113,
     "metadata": {},
     "output_type": "execute_result"
    }
   ],
   "source": [
    "inputs = tf.identity(inputs, name='initial_max_pool')\n",
    "inputs"
   ]
  },
  {
   "cell_type": "code",
   "execution_count": 114,
   "metadata": {},
   "outputs": [
    {
     "name": "stdout",
     "output_type": "stream",
     "text": [
      "Residue unit:\n",
      "FIRST IN THE BLOCK\n",
      "Shortcut:\n",
      "Tensor(\"batch_normalization_85/FusedBatchNorm:0\", shape=(?, 64, 8, 8), dtype=float32)\n",
      "CONV 1\n",
      "Tensor(\"conv2d_80/Conv2D:0\", shape=(?, 64, 8, 8), dtype=float32)\n",
      "\n",
      "\n",
      "CONV 2\n",
      "Tensor(\"conv2d_81/Conv2D:0\", shape=(?, 64, 8, 8), dtype=float32)\n",
      "\n",
      "\n",
      "Added Shortcut: \n",
      "Tensor(\"add_30:0\", shape=(?, 64, 8, 8), dtype=float32)\n",
      "\n",
      "\n",
      "Residue unit:\n",
      "Shortcut:\n",
      "Tensor(\"batch_normalization_88/FusedBatchNorm:0\", shape=(?, 64, 8, 8), dtype=float32)\n",
      "CONV 1\n",
      "Tensor(\"conv2d_82/Conv2D:0\", shape=(?, 64, 8, 8), dtype=float32)\n",
      "\n",
      "\n",
      "CONV 2\n",
      "Tensor(\"conv2d_83/Conv2D:0\", shape=(?, 64, 8, 8), dtype=float32)\n",
      "\n",
      "\n",
      "Added Shortcut: \n",
      "Tensor(\"add_31:0\", shape=(?, 64, 8, 8), dtype=float32)\n",
      "\n",
      "\n",
      "Residue unit:\n",
      "Shortcut:\n",
      "Tensor(\"batch_normalization_91/FusedBatchNorm:0\", shape=(?, 64, 8, 8), dtype=float32)\n",
      "CONV 1\n",
      "Tensor(\"conv2d_84/Conv2D:0\", shape=(?, 64, 8, 8), dtype=float32)\n",
      "\n",
      "\n",
      "CONV 2\n",
      "Tensor(\"conv2d_85/Conv2D:0\", shape=(?, 64, 8, 8), dtype=float32)\n",
      "\n",
      "\n",
      "Added Shortcut: \n",
      "Tensor(\"add_32:0\", shape=(?, 64, 8, 8), dtype=float32)\n",
      "\n",
      "\n"
     ]
    }
   ],
   "source": [
    " inputs = block_group(\n",
    "        inputs=inputs, filters=64, blocks=3,\n",
    "        strides=1, is_training=True, name='block_group1',\n",
    "data_format=data_format)"
   ]
  },
  {
   "cell_type": "code",
   "execution_count": 115,
   "metadata": {},
   "outputs": [
    {
     "data": {
      "text/plain": [
       "<tf.Tensor 'block_group1_4:0' shape=(?, 64, 8, 8) dtype=float32>"
      ]
     },
     "execution_count": 115,
     "metadata": {},
     "output_type": "execute_result"
    }
   ],
   "source": [
    " inputs"
   ]
  },
  {
   "cell_type": "code",
   "execution_count": 116,
   "metadata": {},
   "outputs": [],
   "source": [
    "shortcut = conv2d_fixed_padding(\n",
    "        inputs=inputs, filters=128, kernel_size=1, strides=2,\n",
    "        data_format=data_format)"
   ]
  },
  {
   "cell_type": "code",
   "execution_count": 117,
   "metadata": {},
   "outputs": [
    {
     "data": {
      "text/plain": [
       "<tf.Tensor 'conv2d_86/Conv2D:0' shape=(?, 128, 4, 4) dtype=float32>"
      ]
     },
     "execution_count": 117,
     "metadata": {},
     "output_type": "execute_result"
    }
   ],
   "source": [
    "shortcut"
   ]
  },
  {
   "cell_type": "code",
   "execution_count": null,
   "metadata": {},
   "outputs": [],
   "source": []
  },
  {
   "cell_type": "code",
   "execution_count": 118,
   "metadata": {},
   "outputs": [
    {
     "name": "stdout",
     "output_type": "stream",
     "text": [
      "Residue unit:\n",
      "FIRST IN THE BLOCK\n",
      "Shortcut:\n",
      "Tensor(\"batch_normalization_94/FusedBatchNorm:0\", shape=(?, 128, 4, 4), dtype=float32)\n",
      "CONV 1\n",
      "Tensor(\"conv2d_88/Conv2D:0\", shape=(?, 128, 4, 4), dtype=float32)\n",
      "\n",
      "\n",
      "CONV 2\n",
      "Tensor(\"conv2d_89/Conv2D:0\", shape=(?, 128, 4, 4), dtype=float32)\n",
      "\n",
      "\n",
      "Added Shortcut: \n",
      "Tensor(\"add_33:0\", shape=(?, 128, 4, 4), dtype=float32)\n",
      "\n",
      "\n",
      "Residue unit:\n",
      "Shortcut:\n",
      "Tensor(\"batch_normalization_97/FusedBatchNorm:0\", shape=(?, 128, 4, 4), dtype=float32)\n",
      "CONV 1\n",
      "Tensor(\"conv2d_90/Conv2D:0\", shape=(?, 128, 4, 4), dtype=float32)\n",
      "\n",
      "\n",
      "CONV 2\n",
      "Tensor(\"conv2d_91/Conv2D:0\", shape=(?, 128, 4, 4), dtype=float32)\n",
      "\n",
      "\n",
      "Added Shortcut: \n",
      "Tensor(\"add_34:0\", shape=(?, 128, 4, 4), dtype=float32)\n",
      "\n",
      "\n",
      "Residue unit:\n",
      "Shortcut:\n",
      "Tensor(\"batch_normalization_100/FusedBatchNorm:0\", shape=(?, 128, 4, 4), dtype=float32)\n",
      "CONV 1\n",
      "Tensor(\"conv2d_92/Conv2D:0\", shape=(?, 128, 4, 4), dtype=float32)\n",
      "\n",
      "\n",
      "CONV 2\n",
      "Tensor(\"conv2d_93/Conv2D:0\", shape=(?, 128, 4, 4), dtype=float32)\n",
      "\n",
      "\n",
      "Added Shortcut: \n",
      "Tensor(\"add_35:0\", shape=(?, 128, 4, 4), dtype=float32)\n",
      "\n",
      "\n",
      "Residue unit:\n",
      "Shortcut:\n",
      "Tensor(\"batch_normalization_103/FusedBatchNorm:0\", shape=(?, 128, 4, 4), dtype=float32)\n",
      "CONV 1\n",
      "Tensor(\"conv2d_94/Conv2D:0\", shape=(?, 128, 4, 4), dtype=float32)\n",
      "\n",
      "\n",
      "CONV 2\n",
      "Tensor(\"conv2d_95/Conv2D:0\", shape=(?, 128, 4, 4), dtype=float32)\n",
      "\n",
      "\n",
      "Added Shortcut: \n",
      "Tensor(\"add_36:0\", shape=(?, 128, 4, 4), dtype=float32)\n",
      "\n",
      "\n"
     ]
    }
   ],
   "source": [
    " inputs = block_group(\n",
    "        inputs=inputs, filters=128, blocks=4,\n",
    "        strides=2, is_training=True, name='block_group2',\n",
    "data_format=data_format)"
   ]
  },
  {
   "cell_type": "code",
   "execution_count": 119,
   "metadata": {},
   "outputs": [],
   "source": [
    "is_training = True"
   ]
  },
  {
   "cell_type": "code",
   "execution_count": 120,
   "metadata": {},
   "outputs": [
    {
     "name": "stdout",
     "output_type": "stream",
     "text": [
      "Residue unit:\n",
      "FIRST IN THE BLOCK\n",
      "Shortcut:\n",
      "Tensor(\"batch_normalization_106/FusedBatchNorm:0\", shape=(?, 256, 2, 2), dtype=float32)\n",
      "CONV 1\n",
      "Tensor(\"conv2d_97/Conv2D:0\", shape=(?, 256, 2, 2), dtype=float32)\n",
      "\n",
      "\n",
      "CONV 2\n",
      "Tensor(\"conv2d_98/Conv2D:0\", shape=(?, 256, 2, 2), dtype=float32)\n",
      "\n",
      "\n",
      "Added Shortcut: \n",
      "Tensor(\"add_37:0\", shape=(?, 256, 2, 2), dtype=float32)\n",
      "\n",
      "\n",
      "Residue unit:\n",
      "Shortcut:\n",
      "Tensor(\"batch_normalization_109/FusedBatchNorm:0\", shape=(?, 256, 2, 2), dtype=float32)\n",
      "CONV 1\n",
      "Tensor(\"conv2d_99/Conv2D:0\", shape=(?, 256, 2, 2), dtype=float32)\n",
      "\n",
      "\n",
      "CONV 2\n",
      "Tensor(\"conv2d_100/Conv2D:0\", shape=(?, 256, 2, 2), dtype=float32)\n",
      "\n",
      "\n",
      "Added Shortcut: \n",
      "Tensor(\"add_38:0\", shape=(?, 256, 2, 2), dtype=float32)\n",
      "\n",
      "\n",
      "Residue unit:\n",
      "Shortcut:\n",
      "Tensor(\"batch_normalization_112/FusedBatchNorm:0\", shape=(?, 256, 2, 2), dtype=float32)\n",
      "CONV 1\n",
      "Tensor(\"conv2d_101/Conv2D:0\", shape=(?, 256, 2, 2), dtype=float32)\n",
      "\n",
      "\n",
      "CONV 2\n",
      "Tensor(\"conv2d_102/Conv2D:0\", shape=(?, 256, 2, 2), dtype=float32)\n",
      "\n",
      "\n",
      "Added Shortcut: \n",
      "Tensor(\"add_39:0\", shape=(?, 256, 2, 2), dtype=float32)\n",
      "\n",
      "\n",
      "Residue unit:\n",
      "Shortcut:\n",
      "Tensor(\"batch_normalization_115/FusedBatchNorm:0\", shape=(?, 256, 2, 2), dtype=float32)\n",
      "CONV 1\n",
      "Tensor(\"conv2d_103/Conv2D:0\", shape=(?, 256, 2, 2), dtype=float32)\n",
      "\n",
      "\n",
      "CONV 2\n",
      "Tensor(\"conv2d_104/Conv2D:0\", shape=(?, 256, 2, 2), dtype=float32)\n",
      "\n",
      "\n",
      "Added Shortcut: \n",
      "Tensor(\"add_40:0\", shape=(?, 256, 2, 2), dtype=float32)\n",
      "\n",
      "\n",
      "Residue unit:\n",
      "Shortcut:\n",
      "Tensor(\"batch_normalization_118/FusedBatchNorm:0\", shape=(?, 256, 2, 2), dtype=float32)\n",
      "CONV 1\n",
      "Tensor(\"conv2d_105/Conv2D:0\", shape=(?, 256, 2, 2), dtype=float32)\n",
      "\n",
      "\n",
      "CONV 2\n",
      "Tensor(\"conv2d_106/Conv2D:0\", shape=(?, 256, 2, 2), dtype=float32)\n",
      "\n",
      "\n",
      "Added Shortcut: \n",
      "Tensor(\"add_41:0\", shape=(?, 256, 2, 2), dtype=float32)\n",
      "\n",
      "\n",
      "Residue unit:\n",
      "Shortcut:\n",
      "Tensor(\"batch_normalization_121/FusedBatchNorm:0\", shape=(?, 256, 2, 2), dtype=float32)\n",
      "CONV 1\n",
      "Tensor(\"conv2d_107/Conv2D:0\", shape=(?, 256, 2, 2), dtype=float32)\n",
      "\n",
      "\n",
      "CONV 2\n",
      "Tensor(\"conv2d_108/Conv2D:0\", shape=(?, 256, 2, 2), dtype=float32)\n",
      "\n",
      "\n",
      "Added Shortcut: \n",
      "Tensor(\"add_42:0\", shape=(?, 256, 2, 2), dtype=float32)\n",
      "\n",
      "\n",
      "Residue unit:\n",
      "FIRST IN THE BLOCK\n",
      "Shortcut:\n",
      "Tensor(\"batch_normalization_124/FusedBatchNorm:0\", shape=(?, 512, 1, 1), dtype=float32)\n",
      "CONV 1\n",
      "Tensor(\"conv2d_110/Conv2D:0\", shape=(?, 512, 1, 1), dtype=float32)\n",
      "\n",
      "\n",
      "CONV 2\n",
      "Tensor(\"conv2d_111/Conv2D:0\", shape=(?, 512, 1, 1), dtype=float32)\n",
      "\n",
      "\n",
      "Added Shortcut: \n",
      "Tensor(\"add_43:0\", shape=(?, 512, 1, 1), dtype=float32)\n",
      "\n",
      "\n",
      "Residue unit:\n",
      "Shortcut:\n",
      "Tensor(\"batch_normalization_127/FusedBatchNorm:0\", shape=(?, 512, 1, 1), dtype=float32)\n",
      "CONV 1\n",
      "Tensor(\"conv2d_112/Conv2D:0\", shape=(?, 512, 1, 1), dtype=float32)\n",
      "\n",
      "\n",
      "CONV 2\n",
      "Tensor(\"conv2d_113/Conv2D:0\", shape=(?, 512, 1, 1), dtype=float32)\n",
      "\n",
      "\n",
      "Added Shortcut: \n",
      "Tensor(\"add_44:0\", shape=(?, 512, 1, 1), dtype=float32)\n",
      "\n",
      "\n",
      "Residue unit:\n",
      "Shortcut:\n",
      "Tensor(\"batch_normalization_130/FusedBatchNorm:0\", shape=(?, 512, 1, 1), dtype=float32)\n",
      "CONV 1\n",
      "Tensor(\"conv2d_114/Conv2D:0\", shape=(?, 512, 1, 1), dtype=float32)\n",
      "\n",
      "\n",
      "CONV 2\n",
      "Tensor(\"conv2d_115/Conv2D:0\", shape=(?, 512, 1, 1), dtype=float32)\n",
      "\n",
      "\n",
      "Added Shortcut: \n",
      "Tensor(\"add_45:0\", shape=(?, 512, 1, 1), dtype=float32)\n",
      "\n",
      "\n"
     ]
    }
   ],
   "source": [
    "inputs = block_group(\n",
    "        inputs=inputs, filters=256, blocks=6,\n",
    "        strides=2, is_training=is_training, name='block_group3',\n",
    "        data_format=data_format)\n",
    "inputs = block_group(\n",
    "        inputs=inputs, filters=512, blocks=3,\n",
    "        strides=2, is_training=is_training, name='block_group4',\n",
    "data_format=data_format)"
   ]
  },
  {
   "cell_type": "code",
   "execution_count": 121,
   "metadata": {},
   "outputs": [
    {
     "data": {
      "text/plain": [
       "<tf.Tensor 'block_group4_1:0' shape=(?, 512, 1, 1) dtype=float32>"
      ]
     },
     "execution_count": 121,
     "metadata": {},
     "output_type": "execute_result"
    }
   ],
   "source": [
    "inputs"
   ]
  },
  {
   "cell_type": "code",
   "execution_count": 123,
   "metadata": {},
   "outputs": [],
   "source": [
    "pool_size = (1, 1)\n",
    "inputs = tf.layers.average_pooling2d(\n",
    "    inputs=inputs, pool_size=pool_size, strides=1, padding='VALID',\n",
    "    data_format=data_format)"
   ]
  },
  {
   "cell_type": "code",
   "execution_count": 124,
   "metadata": {},
   "outputs": [
    {
     "data": {
      "text/plain": [
       "<tf.Tensor 'final_dense:0' shape=(?, 420) dtype=float32>"
      ]
     },
     "execution_count": 124,
     "metadata": {},
     "output_type": "execute_result"
    }
   ],
   "source": [
    "inputs = tf.identity(inputs, 'final_avg_pool')\n",
    "inputs = tf.reshape(inputs, [-1, 512])\n",
    "inputs = tf.layers.dense(inputs=inputs,units=420,kernel_initializer=tf.random_normal_initializer(stddev=.01))\n",
    "inputs = tf.identity(inputs, 'final_dense')\n",
    "inputs"
   ]
  },
  {
   "cell_type": "code",
   "execution_count": 125,
   "metadata": {},
   "outputs": [],
   "source": [
    "t = tf.constant([[1, 2, 3], [4, 5, 6]])\n",
    "paddings = tf.constant([[1, 1,], [2, 2]])\n"
   ]
  },
  {
   "cell_type": "code",
   "execution_count": 126,
   "metadata": {},
   "outputs": [
    {
     "data": {
      "text/plain": [
       "<tf.Tensor 'Const:0' shape=(2, 3) dtype=int32>"
      ]
     },
     "execution_count": 126,
     "metadata": {},
     "output_type": "execute_result"
    }
   ],
   "source": [
    "t"
   ]
  },
  {
   "cell_type": "code",
   "execution_count": 127,
   "metadata": {},
   "outputs": [
    {
     "data": {
      "text/plain": [
       "<tf.Tensor 'Const_1:0' shape=(2, 2) dtype=int32>"
      ]
     },
     "execution_count": 127,
     "metadata": {},
     "output_type": "execute_result"
    }
   ],
   "source": [
    "paddings"
   ]
  },
  {
   "cell_type": "code",
   "execution_count": 128,
   "metadata": {},
   "outputs": [
    {
     "data": {
      "text/plain": [
       "<tf.Tensor 'Pad_15:0' shape=(4, 7) dtype=int32>"
      ]
     },
     "execution_count": 128,
     "metadata": {},
     "output_type": "execute_result"
    }
   ],
   "source": [
    "tf.pad(t, paddings, \"CONSTANT\") "
   ]
  },
  {
   "cell_type": "code",
   "execution_count": null,
   "metadata": {},
   "outputs": [],
   "source": []
  }
 ],
 "metadata": {
  "kernelspec": {
   "display_name": "Python 3",
   "language": "python",
   "name": "python3"
  },
  "language_info": {
   "codemirror_mode": {
    "name": "ipython",
    "version": 3
   },
   "file_extension": ".py",
   "mimetype": "text/x-python",
   "name": "python",
   "nbconvert_exporter": "python",
   "pygments_lexer": "ipython3",
   "version": "3.6.6"
  }
 },
 "nbformat": 4,
 "nbformat_minor": 2
}
