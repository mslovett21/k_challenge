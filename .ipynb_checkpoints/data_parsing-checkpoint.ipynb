{
 "cells": [
  {
   "cell_type": "markdown",
   "metadata": {},
   "source": [
    "# Parsing Kinase Data into a Required Format"
   ]
  },
  {
   "cell_type": "code",
   "execution_count": 97,
   "metadata": {},
   "outputs": [],
   "source": [
    "import re\n",
    "import copy\n",
    "import pandas as pd\n",
    "import os\n",
    "import numpy as np\n",
    "import matplotlib.pyplot as plt\n",
    "import seaborn as sns"
   ]
  },
  {
   "cell_type": "markdown",
   "metadata": {},
   "source": [
    "### Files to consider:"
   ]
  },
  {
   "cell_type": "code",
   "execution_count": 26,
   "metadata": {},
   "outputs": [],
   "source": [
    "file_active      = 'kinome_assay_LINCS_kinomescan_active.csv'\n",
    "file_w_active    = 'kinome_assay_LINCS_kinomescan_weak_active.csv'\n",
    "file_inactive    = 'kinome_assay_LINCS_kinomescan_inactive.csv'\n",
    "file_w_inactive  = 'kinome_assay_LINCS_kinomescan_weak_inactive.csv'"
   ]
  },
  {
   "cell_type": "code",
   "execution_count": 45,
   "metadata": {},
   "outputs": [],
   "source": [
    "col_names=[\"compound_name\", \"target\", \"activity_measure\"]\n",
    "active_rel         = pd.read_csv(file_active,names=col_names)\n",
    "weak_active_rel    = pd.read_csv(file_w_active,names=col_names)\n",
    "inactive_rel       = pd.read_csv(file_inactive,names=col_names)\n",
    "weak_inactive_rel  = pd.read_csv(file_w_inactive,names=col_names)"
   ]
  },
  {
   "cell_type": "markdown",
   "metadata": {},
   "source": [
    "### Number of relations of each of 4 types:"
   ]
  },
  {
   "cell_type": "code",
   "execution_count": 46,
   "metadata": {},
   "outputs": [
    {
     "data": {
      "text/plain": [
       "15319"
      ]
     },
     "execution_count": 46,
     "metadata": {},
     "output_type": "execute_result"
    }
   ],
   "source": [
    "len(active_rel)"
   ]
  },
  {
   "cell_type": "code",
   "execution_count": 50,
   "metadata": {},
   "outputs": [
    {
     "data": {
      "text/plain": [
       "32153"
      ]
     },
     "execution_count": 50,
     "metadata": {},
     "output_type": "execute_result"
    }
   ],
   "source": [
    "len(weak_active_rel)"
   ]
  },
  {
   "cell_type": "code",
   "execution_count": 52,
   "metadata": {},
   "outputs": [
    {
     "data": {
      "text/plain": [
       "443682"
      ]
     },
     "execution_count": 52,
     "metadata": {},
     "output_type": "execute_result"
    }
   ],
   "source": [
    "len(inactive_rel)"
   ]
  },
  {
   "cell_type": "code",
   "execution_count": 53,
   "metadata": {},
   "outputs": [
    {
     "data": {
      "text/plain": [
       "59798"
      ]
     },
     "execution_count": 53,
     "metadata": {},
     "output_type": "execute_result"
    }
   ],
   "source": [
    "len(weak_inactive_rel)"
   ]
  },
  {
   "cell_type": "markdown",
   "metadata": {},
   "source": [
    "### Structure of the files:"
   ]
  },
  {
   "cell_type": "code",
   "execution_count": 54,
   "metadata": {},
   "outputs": [
    {
     "data": {
      "text/html": [
       "<div>\n",
       "<style scoped>\n",
       "    .dataframe tbody tr th:only-of-type {\n",
       "        vertical-align: middle;\n",
       "    }\n",
       "\n",
       "    .dataframe tbody tr th {\n",
       "        vertical-align: top;\n",
       "    }\n",
       "\n",
       "    .dataframe thead th {\n",
       "        text-align: right;\n",
       "    }\n",
       "</style>\n",
       "<table border=\"1\" class=\"dataframe\">\n",
       "  <thead>\n",
       "    <tr style=\"text-align: right;\">\n",
       "      <th></th>\n",
       "      <th>compound_name</th>\n",
       "      <th>target</th>\n",
       "      <th>activity_measure</th>\n",
       "    </tr>\n",
       "  </thead>\n",
       "  <tbody>\n",
       "    <tr>\n",
       "      <th>0</th>\n",
       "      <td>KTMLCPCWNLTDRL-UHFFFAOYSA-N</td>\n",
       "      <td>P42338</td>\n",
       "      <td>10.0</td>\n",
       "    </tr>\n",
       "    <tr>\n",
       "      <th>1</th>\n",
       "      <td>KTMLCPCWNLTDRL-UHFFFAOYSA-N</td>\n",
       "      <td>Q8NEB9</td>\n",
       "      <td>10.0</td>\n",
       "    </tr>\n",
       "    <tr>\n",
       "      <th>2</th>\n",
       "      <td>LIGGMBSSOOVGAE-UHFFFAOYSA-N</td>\n",
       "      <td>P00519</td>\n",
       "      <td>8.521574020385742</td>\n",
       "    </tr>\n",
       "    <tr>\n",
       "      <th>3</th>\n",
       "      <td>LIGGMBSSOOVGAE-UHFFFAOYSA-N</td>\n",
       "      <td>P07333</td>\n",
       "      <td>8.999565124511719</td>\n",
       "    </tr>\n",
       "    <tr>\n",
       "      <th>4</th>\n",
       "      <td>LIGGMBSSOOVGAE-UHFFFAOYSA-N</td>\n",
       "      <td>Q9UPZ9</td>\n",
       "      <td>10.0</td>\n",
       "    </tr>\n",
       "  </tbody>\n",
       "</table>\n",
       "</div>"
      ],
      "text/plain": [
       "                 compound_name  target   activity_measure\n",
       "0  KTMLCPCWNLTDRL-UHFFFAOYSA-N  P42338               10.0\n",
       "1  KTMLCPCWNLTDRL-UHFFFAOYSA-N  Q8NEB9               10.0\n",
       "2  LIGGMBSSOOVGAE-UHFFFAOYSA-N  P00519  8.521574020385742\n",
       "3  LIGGMBSSOOVGAE-UHFFFAOYSA-N  P07333  8.999565124511719\n",
       "4  LIGGMBSSOOVGAE-UHFFFAOYSA-N  Q9UPZ9               10.0"
      ]
     },
     "execution_count": 54,
     "metadata": {},
     "output_type": "execute_result"
    }
   ],
   "source": [
    "active_rel.head()"
   ]
  },
  {
   "cell_type": "markdown",
   "metadata": {},
   "source": [
    "Add \"activity_class\" to merge the dataframes.\n",
    "<br>\n",
    "* \"activity_class\" = 1 if from active_rel or weak_active_rel dataframe\n",
    "<br>\n",
    "* \"activity_class\" = 0 if from inactive_rel or weak_inactive_rel dataframe"
   ]
  },
  {
   "cell_type": "code",
   "execution_count": 55,
   "metadata": {},
   "outputs": [],
   "source": [
    "active_rel[\"activity_class\"]        = 1\n",
    "weak_active_rel[\"activity_class\"]   = 1\n",
    "inactive_rel[\"activity_class\"]      = 0\n",
    "weak_inactive_rel[\"activity_class\"] = 0"
   ]
  },
  {
   "cell_type": "code",
   "execution_count": 56,
   "metadata": {},
   "outputs": [
    {
     "data": {
      "text/html": [
       "<div>\n",
       "<style scoped>\n",
       "    .dataframe tbody tr th:only-of-type {\n",
       "        vertical-align: middle;\n",
       "    }\n",
       "\n",
       "    .dataframe tbody tr th {\n",
       "        vertical-align: top;\n",
       "    }\n",
       "\n",
       "    .dataframe thead th {\n",
       "        text-align: right;\n",
       "    }\n",
       "</style>\n",
       "<table border=\"1\" class=\"dataframe\">\n",
       "  <thead>\n",
       "    <tr style=\"text-align: right;\">\n",
       "      <th></th>\n",
       "      <th>compound_name</th>\n",
       "      <th>target</th>\n",
       "      <th>activity_measure</th>\n",
       "      <th>activity_class</th>\n",
       "    </tr>\n",
       "  </thead>\n",
       "  <tbody>\n",
       "    <tr>\n",
       "      <th>0</th>\n",
       "      <td>KTMLCPCWNLTDRL-UHFFFAOYSA-N</td>\n",
       "      <td>Q2M2I8</td>\n",
       "      <td>5.211629390716553</td>\n",
       "      <td>0</td>\n",
       "    </tr>\n",
       "    <tr>\n",
       "      <th>1</th>\n",
       "      <td>KTMLCPCWNLTDRL-UHFFFAOYSA-N</td>\n",
       "      <td>P00519</td>\n",
       "      <td>5.589825630187988</td>\n",
       "      <td>0</td>\n",
       "    </tr>\n",
       "    <tr>\n",
       "      <th>2</th>\n",
       "      <td>KTMLCPCWNLTDRL-UHFFFAOYSA-N</td>\n",
       "      <td>P00519(phosphorylated)</td>\n",
       "      <td>5.397940158843994</td>\n",
       "      <td>0</td>\n",
       "    </tr>\n",
       "    <tr>\n",
       "      <th>3</th>\n",
       "      <td>KTMLCPCWNLTDRL-UHFFFAOYSA-N</td>\n",
       "      <td>P42684</td>\n",
       "      <td>4.721246242523193</td>\n",
       "      <td>0</td>\n",
       "    </tr>\n",
       "    <tr>\n",
       "      <th>4</th>\n",
       "      <td>KTMLCPCWNLTDRL-UHFFFAOYSA-N</td>\n",
       "      <td>P37023</td>\n",
       "      <td>4.995201110839844</td>\n",
       "      <td>0</td>\n",
       "    </tr>\n",
       "  </tbody>\n",
       "</table>\n",
       "</div>"
      ],
      "text/plain": [
       "                 compound_name                  target   activity_measure  \\\n",
       "0  KTMLCPCWNLTDRL-UHFFFAOYSA-N                  Q2M2I8  5.211629390716553   \n",
       "1  KTMLCPCWNLTDRL-UHFFFAOYSA-N                  P00519  5.589825630187988   \n",
       "2  KTMLCPCWNLTDRL-UHFFFAOYSA-N  P00519(phosphorylated)  5.397940158843994   \n",
       "3  KTMLCPCWNLTDRL-UHFFFAOYSA-N                  P42684  4.721246242523193   \n",
       "4  KTMLCPCWNLTDRL-UHFFFAOYSA-N                  P37023  4.995201110839844   \n",
       "\n",
       "   activity_class  \n",
       "0               0  \n",
       "1               0  \n",
       "2               0  \n",
       "3               0  \n",
       "4               0  "
      ]
     },
     "execution_count": 56,
     "metadata": {},
     "output_type": "execute_result"
    }
   ],
   "source": [
    "inactive_rel.head()"
   ]
  },
  {
   "cell_type": "markdown",
   "metadata": {},
   "source": [
    "## Merge the Dataframes"
   ]
  },
  {
   "cell_type": "code",
   "execution_count": 57,
   "metadata": {},
   "outputs": [],
   "source": [
    "frames = [active_rel, weak_active_rel, inactive_rel, weak_inactive_rel]\n",
    "all_relations = pd.concat(frames)"
   ]
  },
  {
   "cell_type": "code",
   "execution_count": 80,
   "metadata": {},
   "outputs": [
    {
     "data": {
      "text/html": [
       "<div>\n",
       "<style scoped>\n",
       "    .dataframe tbody tr th:only-of-type {\n",
       "        vertical-align: middle;\n",
       "    }\n",
       "\n",
       "    .dataframe tbody tr th {\n",
       "        vertical-align: top;\n",
       "    }\n",
       "\n",
       "    .dataframe thead th {\n",
       "        text-align: right;\n",
       "    }\n",
       "</style>\n",
       "<table border=\"1\" class=\"dataframe\">\n",
       "  <thead>\n",
       "    <tr style=\"text-align: right;\">\n",
       "      <th></th>\n",
       "      <th>compound_name</th>\n",
       "      <th>target</th>\n",
       "      <th>activity_measure</th>\n",
       "      <th>activity_class</th>\n",
       "    </tr>\n",
       "  </thead>\n",
       "  <tbody>\n",
       "    <tr>\n",
       "      <th>16</th>\n",
       "      <td>FFWQODHBPXQXIZ-UHFFFAOYSA-N</td>\n",
       "      <td>Q9Y616</td>\n",
       "      <td>10.0</td>\n",
       "      <td>1</td>\n",
       "    </tr>\n",
       "    <tr>\n",
       "      <th>17</th>\n",
       "      <td>IXTOXNKKHFZYSW-UHFFFAOYSA-N</td>\n",
       "      <td>P00519</td>\n",
       "      <td>10.0</td>\n",
       "      <td>1</td>\n",
       "    </tr>\n",
       "    <tr>\n",
       "      <th>18</th>\n",
       "      <td>IXTOXNKKHFZYSW-UHFFFAOYSA-N</td>\n",
       "      <td>P00519</td>\n",
       "      <td>8.999565124511719</td>\n",
       "      <td>1</td>\n",
       "    </tr>\n",
       "    <tr>\n",
       "      <th>19</th>\n",
       "      <td>IXTOXNKKHFZYSW-UHFFFAOYSA-N</td>\n",
       "      <td>P42684</td>\n",
       "      <td>10.0</td>\n",
       "      <td>1</td>\n",
       "    </tr>\n",
       "  </tbody>\n",
       "</table>\n",
       "</div>"
      ],
      "text/plain": [
       "                  compound_name  target   activity_measure  activity_class\n",
       "16  FFWQODHBPXQXIZ-UHFFFAOYSA-N  Q9Y616               10.0               1\n",
       "17  IXTOXNKKHFZYSW-UHFFFAOYSA-N  P00519               10.0               1\n",
       "18  IXTOXNKKHFZYSW-UHFFFAOYSA-N  P00519  8.999565124511719               1\n",
       "19  IXTOXNKKHFZYSW-UHFFFAOYSA-N  P42684               10.0               1"
      ]
     },
     "execution_count": 80,
     "metadata": {},
     "output_type": "execute_result"
    }
   ],
   "source": [
    "all_relations[16:20]"
   ]
  },
  {
   "cell_type": "markdown",
   "metadata": {},
   "source": [
    "### All files together provide information about 550,952 interactions"
   ]
  },
  {
   "cell_type": "code",
   "execution_count": 58,
   "metadata": {},
   "outputs": [
    {
     "data": {
      "text/plain": [
       "550952"
      ]
     },
     "execution_count": 58,
     "metadata": {},
     "output_type": "execute_result"
    }
   ],
   "source": [
    "len(all_relations)"
   ]
  },
  {
   "cell_type": "markdown",
   "metadata": {},
   "source": [
    "### There are 609 unique targets (we don't include mutations of kinases)"
   ]
  },
  {
   "cell_type": "code",
   "execution_count": 71,
   "metadata": {},
   "outputs": [],
   "source": [
    "unique_targets = list(set(all_relations[\"target\"].str[0:6]))"
   ]
  },
  {
   "cell_type": "code",
   "execution_count": 79,
   "metadata": {},
   "outputs": [],
   "source": [
    "all_relations[\"target\"] = all_relations[\"target\"].str[0:6]"
   ]
  },
  {
   "cell_type": "code",
   "execution_count": 72,
   "metadata": {},
   "outputs": [
    {
     "data": {
      "text/plain": [
       "609"
      ]
     },
     "execution_count": 72,
     "metadata": {},
     "output_type": "execute_result"
    }
   ],
   "source": [
    "len(unique_targets)"
   ]
  },
  {
   "cell_type": "code",
   "execution_count": 73,
   "metadata": {},
   "outputs": [],
   "source": [
    "target_list_size = len(unique_targets)"
   ]
  },
  {
   "cell_type": "markdown",
   "metadata": {},
   "source": [
    "### Check how many times activity measure about each target is provided that is how many records of interactions between kinase and some chemical compound we have."
   ]
  },
  {
   "cell_type": "code",
   "execution_count": 126,
   "metadata": {},
   "outputs": [
    {
     "data": {
      "text/plain": [
       "609"
      ]
     },
     "execution_count": 126,
     "metadata": {},
     "output_type": "execute_result"
    }
   ],
   "source": [
    "len(freq_targets_dict)"
   ]
  },
  {
   "cell_type": "code",
   "execution_count": 127,
   "metadata": {},
   "outputs": [],
   "source": [
    "targets_frequency = all_relations.target.value_counts()"
   ]
  },
  {
   "cell_type": "code",
   "execution_count": 128,
   "metadata": {},
   "outputs": [
    {
     "data": {
      "text/plain": [
       "609"
      ]
     },
     "execution_count": 128,
     "metadata": {},
     "output_type": "execute_result"
    }
   ],
   "source": [
    "len(targets_frequency)"
   ]
  },
  {
   "cell_type": "markdown",
   "metadata": {},
   "source": [
    "## We choose only kinases with more than 100 interaction datapoints for the classification challenge"
   ]
  },
  {
   "cell_type": "code",
   "execution_count": 145,
   "metadata": {},
   "outputs": [],
   "source": [
    "targets_freq_more_than_100 = targets_frequency[targets_frequency > 100]"
   ]
  },
  {
   "cell_type": "code",
   "execution_count": 146,
   "metadata": {},
   "outputs": [
    {
     "data": {
      "text/plain": [
       "420"
      ]
     },
     "execution_count": 146,
     "metadata": {},
     "output_type": "execute_result"
    }
   ],
   "source": [
    "len(targets_freq_more_than_100) "
   ]
  },
  {
   "cell_type": "code",
   "execution_count": 160,
   "metadata": {},
   "outputs": [],
   "source": [
    "targets_freq_more_than_1700 = targets_frequency[targets_frequency > 1700]"
   ]
  },
  {
   "cell_type": "code",
   "execution_count": 161,
   "metadata": {},
   "outputs": [
    {
     "data": {
      "text/plain": [
       "125"
      ]
     },
     "execution_count": 161,
     "metadata": {},
     "output_type": "execute_result"
    }
   ],
   "source": [
    "len(targets_freq_more_than_1700)"
   ]
  },
  {
   "cell_type": "markdown",
   "metadata": {},
   "source": [
    "## Histogram with only top 125 kinases is shown for readibility"
   ]
  },
  {
   "cell_type": "code",
   "execution_count": 163,
   "metadata": {},
   "outputs": [
    {
     "data": {
      "text/plain": [
       "Text(0.5, 1.0, 'Frequency of recorded interactions for top 125 kinases')"
      ]
     },
     "execution_count": 163,
     "metadata": {},
     "output_type": "execute_result"
    },
    {
     "data": {
      "image/png": "[encoded data removed]",
      "text/plain": [
       "<Figure size 1440x720 with 1 Axes>"
      ]
     },
     "metadata": {
      "needs_background": "light"
     },
     "output_type": "display_data"
    }
   ],
   "source": [
    "plt.figure(figsize=(20,10))\n",
    "sns.barplot(targets_freq_more_than_1700.index, targets_freq_more_than_1700.values, alpha=0.8, color='green')\n",
    "plt.xticks(rotation='vertical')\n",
    "plt.xlabel('Name of the top 125 kinase', fontsize=14)\n",
    "plt.ylabel('Number of recorded interactions with the given kinases', fontsize=14)\n",
    "plt.title(\"Frequency of recorded interactions for top 125 kinases\",fontsize=16)"
   ]
  },
  {
   "cell_type": "code",
   "execution_count": null,
   "metadata": {},
   "outputs": [],
   "source": []
  }
 ],
 "metadata": {
  "kernelspec": {
   "display_name": "Python 3",
   "language": "python",
   "name": "python3"
  },
  "language_info": {
   "codemirror_mode": {
    "name": "ipython",
    "version": 3
   },
   "file_extension": ".py",
   "mimetype": "text/x-python",
   "name": "python",
   "nbconvert_exporter": "python",
   "pygments_lexer": "ipython3",
   "version": "3.6.6"
  }
 },
 "nbformat": 4,
 "nbformat_minor": 2
}
