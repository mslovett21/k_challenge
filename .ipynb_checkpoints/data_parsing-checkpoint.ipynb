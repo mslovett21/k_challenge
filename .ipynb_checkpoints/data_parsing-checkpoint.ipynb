{
 "cells": [
  {
   "cell_type": "markdown",
   "metadata": {},
   "source": [
    "# Parsing Kinase Data into a Required Format"
   ]
  },
  {
   "cell_type": "code",
   "execution_count": 1,
   "metadata": {},
   "outputs": [],
   "source": [
    "import re\n",
    "import copy\n",
    "import pandas as pd\n",
    "import os\n",
    "import numpy as np\n",
    "import matplotlib.pyplot as plt\n",
    "import seaborn as sns"
   ]
  },
  {
   "cell_type": "markdown",
   "metadata": {},
   "source": [
    "### Files to consider:"
   ]
  },
  {
   "cell_type": "code",
   "execution_count": 2,
   "metadata": {},
   "outputs": [],
   "source": [
    "file_active      = 'data/kinome_assay_LINCS_kinomescan_active.csv'\n",
    "file_w_active    = 'data/kinome_assay_LINCS_kinomescan_weak_active.csv'\n",
    "file_inactive    = 'data/kinome_assay_LINCS_kinomescan_inactive.csv'\n",
    "file_w_inactive  = 'data/kinome_assay_LINCS_kinomescan_weak_inactive.csv'"
   ]
  },
  {
   "cell_type": "code",
   "execution_count": 3,
   "metadata": {},
   "outputs": [],
   "source": [
    "col_names=[\"compound_name\", \"target\", \"activity_measure\"]\n",
    "active_rel         = pd.read_csv(file_active,names=col_names)\n",
    "weak_active_rel    = pd.read_csv(file_w_active,names=col_names)\n",
    "inactive_rel       = pd.read_csv(file_inactive,names=col_names)\n",
    "weak_inactive_rel  = pd.read_csv(file_w_inactive,names=col_names)"
   ]
  },
  {
   "cell_type": "markdown",
   "metadata": {},
   "source": [
    "### Number of relations of each of 4 types:"
   ]
  },
  {
   "cell_type": "code",
   "execution_count": 4,
   "metadata": {},
   "outputs": [
    {
     "data": {
      "text/plain": [
       "15319"
      ]
     },
     "execution_count": 4,
     "metadata": {},
     "output_type": "execute_result"
    }
   ],
   "source": [
    "len(active_rel)"
   ]
  },
  {
   "cell_type": "code",
   "execution_count": 5,
   "metadata": {},
   "outputs": [
    {
     "data": {
      "text/plain": [
       "32153"
      ]
     },
     "execution_count": 5,
     "metadata": {},
     "output_type": "execute_result"
    }
   ],
   "source": [
    "len(weak_active_rel)"
   ]
  },
  {
   "cell_type": "code",
   "execution_count": 6,
   "metadata": {},
   "outputs": [
    {
     "data": {
      "text/plain": [
       "443682"
      ]
     },
     "execution_count": 6,
     "metadata": {},
     "output_type": "execute_result"
    }
   ],
   "source": [
    "len(inactive_rel)"
   ]
  },
  {
   "cell_type": "code",
   "execution_count": 7,
   "metadata": {},
   "outputs": [
    {
     "data": {
      "text/plain": [
       "59798"
      ]
     },
     "execution_count": 7,
     "metadata": {},
     "output_type": "execute_result"
    }
   ],
   "source": [
    "len(weak_inactive_rel)"
   ]
  },
  {
   "cell_type": "markdown",
   "metadata": {},
   "source": [
    "### Structure of the files:"
   ]
  },
  {
   "cell_type": "code",
   "execution_count": 8,
   "metadata": {},
   "outputs": [
    {
     "data": {
      "text/html": [
       "<div>\n",
       "<style scoped>\n",
       "    .dataframe tbody tr th:only-of-type {\n",
       "        vertical-align: middle;\n",
       "    }\n",
       "\n",
       "    .dataframe tbody tr th {\n",
       "        vertical-align: top;\n",
       "    }\n",
       "\n",
       "    .dataframe thead th {\n",
       "        text-align: right;\n",
       "    }\n",
       "</style>\n",
       "<table border=\"1\" class=\"dataframe\">\n",
       "  <thead>\n",
       "    <tr style=\"text-align: right;\">\n",
       "      <th></th>\n",
       "      <th>compound_name</th>\n",
       "      <th>target</th>\n",
       "      <th>activity_measure</th>\n",
       "    </tr>\n",
       "  </thead>\n",
       "  <tbody>\n",
       "    <tr>\n",
       "      <th>0</th>\n",
       "      <td>KTMLCPCWNLTDRL-UHFFFAOYSA-N</td>\n",
       "      <td>P42338</td>\n",
       "      <td>10.0</td>\n",
       "    </tr>\n",
       "    <tr>\n",
       "      <th>1</th>\n",
       "      <td>KTMLCPCWNLTDRL-UHFFFAOYSA-N</td>\n",
       "      <td>Q8NEB9</td>\n",
       "      <td>10.0</td>\n",
       "    </tr>\n",
       "    <tr>\n",
       "      <th>2</th>\n",
       "      <td>LIGGMBSSOOVGAE-UHFFFAOYSA-N</td>\n",
       "      <td>P00519</td>\n",
       "      <td>8.521574020385742</td>\n",
       "    </tr>\n",
       "    <tr>\n",
       "      <th>3</th>\n",
       "      <td>LIGGMBSSOOVGAE-UHFFFAOYSA-N</td>\n",
       "      <td>P07333</td>\n",
       "      <td>8.999565124511719</td>\n",
       "    </tr>\n",
       "    <tr>\n",
       "      <th>4</th>\n",
       "      <td>LIGGMBSSOOVGAE-UHFFFAOYSA-N</td>\n",
       "      <td>Q9UPZ9</td>\n",
       "      <td>10.0</td>\n",
       "    </tr>\n",
       "  </tbody>\n",
       "</table>\n",
       "</div>"
      ],
      "text/plain": [
       "                 compound_name  target   activity_measure\n",
       "0  KTMLCPCWNLTDRL-UHFFFAOYSA-N  P42338               10.0\n",
       "1  KTMLCPCWNLTDRL-UHFFFAOYSA-N  Q8NEB9               10.0\n",
       "2  LIGGMBSSOOVGAE-UHFFFAOYSA-N  P00519  8.521574020385742\n",
       "3  LIGGMBSSOOVGAE-UHFFFAOYSA-N  P07333  8.999565124511719\n",
       "4  LIGGMBSSOOVGAE-UHFFFAOYSA-N  Q9UPZ9               10.0"
      ]
     },
     "execution_count": 8,
     "metadata": {},
     "output_type": "execute_result"
    }
   ],
   "source": [
    "active_rel.head()"
   ]
  },
  {
   "cell_type": "markdown",
   "metadata": {},
   "source": [
    "Add \"activity_class\" to merge the dataframes.\n",
    "<br>\n",
    "* \"activity_class\" = 1 if from active_rel or weak_active_rel dataframe\n",
    "<br>\n",
    "* \"activity_class\" = 0 if from inactive_rel or weak_inactive_rel dataframe"
   ]
  },
  {
   "cell_type": "code",
   "execution_count": 9,
   "metadata": {},
   "outputs": [],
   "source": [
    "active_rel[\"activity_class\"]        = 1\n",
    "weak_active_rel[\"activity_class\"]   = 1\n",
    "inactive_rel[\"activity_class\"]      = 0\n",
    "weak_inactive_rel[\"activity_class\"] = 0"
   ]
  },
  {
   "cell_type": "code",
   "execution_count": 10,
   "metadata": {},
   "outputs": [
    {
     "data": {
      "text/html": [
       "<div>\n",
       "<style scoped>\n",
       "    .dataframe tbody tr th:only-of-type {\n",
       "        vertical-align: middle;\n",
       "    }\n",
       "\n",
       "    .dataframe tbody tr th {\n",
       "        vertical-align: top;\n",
       "    }\n",
       "\n",
       "    .dataframe thead th {\n",
       "        text-align: right;\n",
       "    }\n",
       "</style>\n",
       "<table border=\"1\" class=\"dataframe\">\n",
       "  <thead>\n",
       "    <tr style=\"text-align: right;\">\n",
       "      <th></th>\n",
       "      <th>compound_name</th>\n",
       "      <th>target</th>\n",
       "      <th>activity_measure</th>\n",
       "      <th>activity_class</th>\n",
       "    </tr>\n",
       "  </thead>\n",
       "  <tbody>\n",
       "    <tr>\n",
       "      <th>0</th>\n",
       "      <td>KTMLCPCWNLTDRL-UHFFFAOYSA-N</td>\n",
       "      <td>Q2M2I8</td>\n",
       "      <td>5.211629390716553</td>\n",
       "      <td>0</td>\n",
       "    </tr>\n",
       "    <tr>\n",
       "      <th>1</th>\n",
       "      <td>KTMLCPCWNLTDRL-UHFFFAOYSA-N</td>\n",
       "      <td>P00519</td>\n",
       "      <td>5.589825630187988</td>\n",
       "      <td>0</td>\n",
       "    </tr>\n",
       "    <tr>\n",
       "      <th>2</th>\n",
       "      <td>KTMLCPCWNLTDRL-UHFFFAOYSA-N</td>\n",
       "      <td>P00519(phosphorylated)</td>\n",
       "      <td>5.397940158843994</td>\n",
       "      <td>0</td>\n",
       "    </tr>\n",
       "    <tr>\n",
       "      <th>3</th>\n",
       "      <td>KTMLCPCWNLTDRL-UHFFFAOYSA-N</td>\n",
       "      <td>P42684</td>\n",
       "      <td>4.721246242523193</td>\n",
       "      <td>0</td>\n",
       "    </tr>\n",
       "    <tr>\n",
       "      <th>4</th>\n",
       "      <td>KTMLCPCWNLTDRL-UHFFFAOYSA-N</td>\n",
       "      <td>P37023</td>\n",
       "      <td>4.995201110839844</td>\n",
       "      <td>0</td>\n",
       "    </tr>\n",
       "  </tbody>\n",
       "</table>\n",
       "</div>"
      ],
      "text/plain": [
       "                 compound_name                  target   activity_measure  \\\n",
       "0  KTMLCPCWNLTDRL-UHFFFAOYSA-N                  Q2M2I8  5.211629390716553   \n",
       "1  KTMLCPCWNLTDRL-UHFFFAOYSA-N                  P00519  5.589825630187988   \n",
       "2  KTMLCPCWNLTDRL-UHFFFAOYSA-N  P00519(phosphorylated)  5.397940158843994   \n",
       "3  KTMLCPCWNLTDRL-UHFFFAOYSA-N                  P42684  4.721246242523193   \n",
       "4  KTMLCPCWNLTDRL-UHFFFAOYSA-N                  P37023  4.995201110839844   \n",
       "\n",
       "   activity_class  \n",
       "0               0  \n",
       "1               0  \n",
       "2               0  \n",
       "3               0  \n",
       "4               0  "
      ]
     },
     "execution_count": 10,
     "metadata": {},
     "output_type": "execute_result"
    }
   ],
   "source": [
    "inactive_rel.head()"
   ]
  },
  {
   "cell_type": "markdown",
   "metadata": {},
   "source": [
    "## Merge the Dataframes"
   ]
  },
  {
   "cell_type": "code",
   "execution_count": 11,
   "metadata": {},
   "outputs": [],
   "source": [
    "frames = [active_rel, weak_active_rel, inactive_rel, weak_inactive_rel]\n",
    "all_relations = pd.concat(frames)"
   ]
  },
  {
   "cell_type": "code",
   "execution_count": 12,
   "metadata": {},
   "outputs": [
    {
     "data": {
      "text/html": [
       "<div>\n",
       "<style scoped>\n",
       "    .dataframe tbody tr th:only-of-type {\n",
       "        vertical-align: middle;\n",
       "    }\n",
       "\n",
       "    .dataframe tbody tr th {\n",
       "        vertical-align: top;\n",
       "    }\n",
       "\n",
       "    .dataframe thead th {\n",
       "        text-align: right;\n",
       "    }\n",
       "</style>\n",
       "<table border=\"1\" class=\"dataframe\">\n",
       "  <thead>\n",
       "    <tr style=\"text-align: right;\">\n",
       "      <th></th>\n",
       "      <th>compound_name</th>\n",
       "      <th>target</th>\n",
       "      <th>activity_measure</th>\n",
       "      <th>activity_class</th>\n",
       "    </tr>\n",
       "  </thead>\n",
       "  <tbody>\n",
       "    <tr>\n",
       "      <th>16</th>\n",
       "      <td>FFWQODHBPXQXIZ-UHFFFAOYSA-N</td>\n",
       "      <td>Q9Y616</td>\n",
       "      <td>10.0</td>\n",
       "      <td>1</td>\n",
       "    </tr>\n",
       "    <tr>\n",
       "      <th>17</th>\n",
       "      <td>IXTOXNKKHFZYSW-UHFFFAOYSA-N</td>\n",
       "      <td>P00519</td>\n",
       "      <td>10.0</td>\n",
       "      <td>1</td>\n",
       "    </tr>\n",
       "    <tr>\n",
       "      <th>18</th>\n",
       "      <td>IXTOXNKKHFZYSW-UHFFFAOYSA-N</td>\n",
       "      <td>P00519(phosphorylated)</td>\n",
       "      <td>8.999565124511719</td>\n",
       "      <td>1</td>\n",
       "    </tr>\n",
       "    <tr>\n",
       "      <th>19</th>\n",
       "      <td>IXTOXNKKHFZYSW-UHFFFAOYSA-N</td>\n",
       "      <td>P42684</td>\n",
       "      <td>10.0</td>\n",
       "      <td>1</td>\n",
       "    </tr>\n",
       "  </tbody>\n",
       "</table>\n",
       "</div>"
      ],
      "text/plain": [
       "                  compound_name                  target   activity_measure  \\\n",
       "16  FFWQODHBPXQXIZ-UHFFFAOYSA-N                  Q9Y616               10.0   \n",
       "17  IXTOXNKKHFZYSW-UHFFFAOYSA-N                  P00519               10.0   \n",
       "18  IXTOXNKKHFZYSW-UHFFFAOYSA-N  P00519(phosphorylated)  8.999565124511719   \n",
       "19  IXTOXNKKHFZYSW-UHFFFAOYSA-N                  P42684               10.0   \n",
       "\n",
       "    activity_class  \n",
       "16               1  \n",
       "17               1  \n",
       "18               1  \n",
       "19               1  "
      ]
     },
     "execution_count": 12,
     "metadata": {},
     "output_type": "execute_result"
    }
   ],
   "source": [
    "all_relations[16:20]"
   ]
  },
  {
   "cell_type": "markdown",
   "metadata": {},
   "source": [
    "### All files together provide information about 550,952 interactions"
   ]
  },
  {
   "cell_type": "code",
   "execution_count": 13,
   "metadata": {},
   "outputs": [
    {
     "data": {
      "text/plain": [
       "550952"
      ]
     },
     "execution_count": 13,
     "metadata": {},
     "output_type": "execute_result"
    }
   ],
   "source": [
    "len(all_relations)"
   ]
  },
  {
   "cell_type": "markdown",
   "metadata": {},
   "source": [
    "### There are 609 unique targets (we don't include mutations of kinases)"
   ]
  },
  {
   "cell_type": "code",
   "execution_count": 14,
   "metadata": {},
   "outputs": [],
   "source": [
    "unique_targets = list(set(all_relations[\"target\"].str[0:6]))"
   ]
  },
  {
   "cell_type": "code",
   "execution_count": 15,
   "metadata": {},
   "outputs": [],
   "source": [
    "all_relations[\"target\"] = all_relations[\"target\"].str[0:6]"
   ]
  },
  {
   "cell_type": "code",
   "execution_count": 16,
   "metadata": {},
   "outputs": [
    {
     "data": {
      "text/plain": [
       "609"
      ]
     },
     "execution_count": 16,
     "metadata": {},
     "output_type": "execute_result"
    }
   ],
   "source": [
    "len(unique_targets)"
   ]
  },
  {
   "cell_type": "code",
   "execution_count": 17,
   "metadata": {},
   "outputs": [],
   "source": [
    "target_list_size = len(unique_targets)"
   ]
  },
  {
   "cell_type": "markdown",
   "metadata": {},
   "source": [
    "### Check how many times activity measure about each target is provided that is how many records of interactions between kinase and some chemical compound we have."
   ]
  },
  {
   "cell_type": "code",
   "execution_count": 18,
   "metadata": {},
   "outputs": [],
   "source": [
    "targets_frequency = all_relations.target.value_counts()"
   ]
  },
  {
   "cell_type": "code",
   "execution_count": 19,
   "metadata": {},
   "outputs": [
    {
     "data": {
      "text/plain": [
       "609"
      ]
     },
     "execution_count": 19,
     "metadata": {},
     "output_type": "execute_result"
    }
   ],
   "source": [
    "len(targets_frequency)"
   ]
  },
  {
   "cell_type": "markdown",
   "metadata": {},
   "source": [
    "## We choose only kinases with more than 100 interaction datapoints for the classification challenge"
   ]
  },
  {
   "cell_type": "code",
   "execution_count": 20,
   "metadata": {},
   "outputs": [],
   "source": [
    "targets_freq_more_than_100 = targets_frequency[targets_frequency > 100]"
   ]
  },
  {
   "cell_type": "code",
   "execution_count": 21,
   "metadata": {},
   "outputs": [],
   "source": [
    "targets_num = len(targets_freq_more_than_100) "
   ]
  },
  {
   "cell_type": "code",
   "execution_count": 22,
   "metadata": {},
   "outputs": [
    {
     "data": {
      "text/plain": [
       "420"
      ]
     },
     "execution_count": 22,
     "metadata": {},
     "output_type": "execute_result"
    }
   ],
   "source": [
    "len(targets_freq_more_than_100) "
   ]
  },
  {
   "cell_type": "code",
   "execution_count": 23,
   "metadata": {},
   "outputs": [],
   "source": [
    "targets_freq_more_than_1700 = targets_frequency[targets_frequency > 1700]"
   ]
  },
  {
   "cell_type": "code",
   "execution_count": 24,
   "metadata": {},
   "outputs": [
    {
     "data": {
      "text/plain": [
       "125"
      ]
     },
     "execution_count": 24,
     "metadata": {},
     "output_type": "execute_result"
    }
   ],
   "source": [
    "len(targets_freq_more_than_1700)"
   ]
  },
  {
   "cell_type": "code",
   "execution_count": 25,
   "metadata": {},
   "outputs": [],
   "source": [
    "chosen_targets = list(targets_freq_more_than_100.index)"
   ]
  },
  {
   "cell_type": "markdown",
   "metadata": {},
   "source": [
    "## Histogram with only top 125 kinases are shown for readibility"
   ]
  },
  {
   "cell_type": "code",
   "execution_count": 26,
   "metadata": {},
   "outputs": [
    {
     "data": {
      "text/plain": [
       "Text(0.5, 1.0, 'Frequency of recorded interactions for top 125 kinases')"
      ]
     },
     "execution_count": 26,
     "metadata": {},
     "output_type": "execute_result"
    },
    {
     "data": {
      "image/png": "[encoded data removed]",
      "text/plain": [
       "<Figure size 1440x720 with 1 Axes>"
      ]
     },
     "metadata": {
      "needs_background": "light"
     },
     "output_type": "display_data"
    }
   ],
   "source": [
    "plt.figure(figsize=(20,10))\n",
    "sns.barplot(targets_freq_more_than_1700.index, targets_freq_more_than_1700.values, alpha=0.8, color='green')\n",
    "plt.xticks(rotation='vertical')\n",
    "plt.xlabel('Name of the top 125 kinase', fontsize=14)\n",
    "plt.ylabel('Number of recorded interactions with the given kinases', fontsize=14)\n",
    "plt.title(\"Frequency of recorded interactions for top 125 kinases\",fontsize=16)"
   ]
  },
  {
   "cell_type": "markdown",
   "metadata": {},
   "source": [
    "## Frequency of recorded kinase interactions per drug"
   ]
  },
  {
   "cell_type": "code",
   "execution_count": 27,
   "metadata": {},
   "outputs": [],
   "source": [
    "drug_frequency = all_relations.compound_name.value_counts()"
   ]
  },
  {
   "cell_type": "code",
   "execution_count": 28,
   "metadata": {},
   "outputs": [],
   "source": [
    "drug_frequency_more_than_1 = drug_frequency[drug_frequency  > 5]"
   ]
  },
  {
   "cell_type": "code",
   "execution_count": 29,
   "metadata": {},
   "outputs": [
    {
     "data": {
      "image/png": "[encoded data removed]",
      "text/plain": [
       "<Figure size 864x576 with 1 Axes>"
      ]
     },
     "metadata": {
      "needs_background": "light"
     },
     "output_type": "display_data"
    }
   ],
   "source": [
    "plt.figure(figsize=(12,8))\n",
    "sns.distplot(drug_frequency.values, bins=30, kde=False, color=\"blue\")\n",
    "plt.title(\"Histogram of number of interactions recorded per drug\")\n",
    "plt.xlabel('Number of Interactions', fontsize=12)\n",
    "plt.ylabel('Number of Drugs', fontsize=12)\n",
    "plt.show()"
   ]
  },
  {
   "cell_type": "code",
   "execution_count": 30,
   "metadata": {},
   "outputs": [],
   "source": [
    "drug_frequency_1 = drug_frequency[drug_frequency  <= 1]"
   ]
  },
  {
   "cell_type": "code",
   "execution_count": 31,
   "metadata": {},
   "outputs": [
    {
     "data": {
      "text/plain": [
       "26725"
      ]
     },
     "execution_count": 31,
     "metadata": {},
     "output_type": "execute_result"
    }
   ],
   "source": [
    "len(drug_frequency_1 )"
   ]
  },
  {
   "cell_type": "markdown",
   "metadata": {},
   "source": [
    "### Comments: over 26,000 chemical compounds have only one recorded target"
   ]
  },
  {
   "cell_type": "markdown",
   "metadata": {},
   "source": [
    "## Frequency of recorded kinase interactions per drug (consider only drugs with more than 5 interactions)"
   ]
  },
  {
   "cell_type": "code",
   "execution_count": 32,
   "metadata": {},
   "outputs": [
    {
     "data": {
      "image/png": "[encoded data removed]",
      "text/plain": [
       "<Figure size 864x576 with 1 Axes>"
      ]
     },
     "metadata": {
      "needs_background": "light"
     },
     "output_type": "display_data"
    }
   ],
   "source": [
    "plt.figure(figsize=(12,8))\n",
    "sns.distplot(drug_frequency_more_than_1.values, bins=30, kde=False, color=\"red\")\n",
    "plt.title(\"Histogram of number of interactions recorded per drug (drugs considered have more than 5 interactiions)\")\n",
    "plt.xlabel('Number of Interactions', fontsize=12)\n",
    "plt.ylabel('Number of Drugs', fontsize=12)\n",
    "plt.show()"
   ]
  },
  {
   "cell_type": "markdown",
   "metadata": {},
   "source": [
    "## Save order of kinases in the list for reference:"
   ]
  },
  {
   "cell_type": "code",
   "execution_count": 33,
   "metadata": {},
   "outputs": [],
   "source": [
    "with open('targets_names.txt', 'w') as f:\n",
    "    for i in chosen_targets:\n",
    "        f.write(i)\n",
    "        f.write('\\n')"
   ]
  },
  {
   "cell_type": "markdown",
   "metadata": {},
   "source": [
    "## Create a dictionary of all the unique compounds (there are 41,464) in the dataset and record all of their interactions with the 420 chosen kinases.\n",
    "* If `activity class` is 1 mark is as 1\n",
    "* If `activity class` is 0 mark it as -1"
   ]
  },
  {
   "cell_type": "code",
   "execution_count": 32,
   "metadata": {},
   "outputs": [
    {
     "data": {
      "text/plain": [
       "41464"
      ]
     },
     "execution_count": 32,
     "metadata": {},
     "output_type": "execute_result"
    }
   ],
   "source": [
    "unique_drugs = list(set(all_relations[\"compound_name\"]))\n",
    "len(unique_drugs)"
   ]
  },
  {
   "cell_type": "code",
   "execution_count": 33,
   "metadata": {},
   "outputs": [],
   "source": [
    "drugs_targets_dict = {}\n",
    "for i in range(len(unique_drugs)):\n",
    "    drugs_targets_dict[unique_drugs[i]] = [0] * targets_num "
   ]
  },
  {
   "cell_type": "code",
   "execution_count": 34,
   "metadata": {},
   "outputs": [],
   "source": [
    "targets_dict = {}\n",
    "for i in range(len(chosen_targets)):\n",
    "    targets_dict[chosen_targets[i]] = i"
   ]
  },
  {
   "cell_type": "code",
   "execution_count": 35,
   "metadata": {},
   "outputs": [],
   "source": [
    "for i in range(len(all_relations)):\n",
    "    kinase_name  = all_relations[\"target\"].values[i]\n",
    "    kinase_name  = kinase_name[0:6]\n",
    "    if kinase_name in chosen_targets:\n",
    "        kinase_index = targets_dict[kinase_name]\n",
    "        drug_name    = all_relations[\"compound_name\"].values[i]\n",
    "        if all_relations[\"activity_class\"].values[i] == 1:\n",
    "            drugs_targets_dict[drug_name][kinase_index] = 1\n",
    "        else:\n",
    "            drugs_targets_dict[drug_name][kinase_index] = -1"
   ]
  },
  {
   "cell_type": "markdown",
   "metadata": {},
   "source": [
    "## Consider how many interactions records we have for each of the drugs"
   ]
  },
  {
   "cell_type": "code",
   "execution_count": 36,
   "metadata": {},
   "outputs": [],
   "source": [
    "num_interaction_per_drug = {}\n",
    "for i in range(len(unique_drugs)):\n",
    "    num_interaction_per_drug[unique_drugs[i]] = 0"
   ]
  },
  {
   "cell_type": "code",
   "execution_count": 37,
   "metadata": {},
   "outputs": [],
   "source": [
    "for i in range(len(unique_drugs)):\n",
    "    recorded_interactions = drugs_targets_dict[unique_drugs[i]]\n",
    "    num_interaction_per_drug[unique_drugs[i]] = np.count_nonzero(recorded_interactions)"
   ]
  },
  {
   "cell_type": "markdown",
   "metadata": {},
   "source": [
    "## Copy the drugs_targets_dict to create weight vectors"
   ]
  },
  {
   "cell_type": "code",
   "execution_count": 38,
   "metadata": {},
   "outputs": [],
   "source": [
    "drugs_targets_weights = copy.deepcopy(drugs_targets_dict)"
   ]
  },
  {
   "cell_type": "markdown",
   "metadata": {},
   "source": [
    "If we have information about the interaction between chemical compound and a given kinases we set weight to 1, otherwise we set the weight to 0."
   ]
  },
  {
   "cell_type": "code",
   "execution_count": 39,
   "metadata": {},
   "outputs": [],
   "source": [
    "for i in range(len(unique_drugs)):\n",
    "    for j in range(len(drugs_targets_weights[unique_drugs[i]])):\n",
    "        if drugs_targets_weights[unique_drugs[i]][j] != 0:\n",
    "            drugs_targets_weights[unique_drugs[i]][j] =1"
   ]
  },
  {
   "cell_type": "markdown",
   "metadata": {},
   "source": [
    "We change in drugs_targets_dict values -1 to 0 since we really mean inactivity."
   ]
  },
  {
   "cell_type": "code",
   "execution_count": 40,
   "metadata": {},
   "outputs": [],
   "source": [
    "for i in range(len(unique_drugs)):\n",
    "    for j in range(len(drugs_targets_dict[unique_drugs[i]])):\n",
    "        if drugs_targets_dict[unique_drugs[i]][j] == -1:\n",
    "            drugs_targets_dict[unique_drugs[i]][j] = 0"
   ]
  },
  {
   "cell_type": "markdown",
   "metadata": {},
   "source": [
    "# Save targets and weights in the files"
   ]
  },
  {
   "cell_type": "code",
   "execution_count": 43,
   "metadata": {},
   "outputs": [],
   "source": [
    "with open('drug_weights.txt', 'w') as f:\n",
    "    for key, value in drugs_targets_weights.items():\n",
    "        f.write(key)\n",
    "        f.write(',')\n",
    "        for i in range(len(value)):\n",
    "            f.write(str(value[i]))\n",
    "            f.write(\",\")\n",
    "        f.write('\\n')"
   ]
  },
  {
   "cell_type": "code",
   "execution_count": 44,
   "metadata": {},
   "outputs": [],
   "source": [
    "with open('drug_targets.txt', 'w') as f:\n",
    "    for key, value in drugs_targets_dict.items():\n",
    "        f.write(key)\n",
    "        f.write(',')\n",
    "        for i in range(len(value)):\n",
    "            f.write(str(value[i]))\n",
    "            f.write(\",\")\n",
    "        f.write('\\n')"
   ]
  },
  {
   "cell_type": "markdown",
   "metadata": {},
   "source": [
    "## Save drug names order"
   ]
  },
  {
   "cell_type": "code",
   "execution_count": 45,
   "metadata": {},
   "outputs": [],
   "source": [
    "with open('drugs_names.txt', 'w') as f:\n",
    "    for i in unique_drugs:\n",
    "        f.write(i)\n",
    "        f.write('\\n')"
   ]
  },
  {
   "cell_type": "markdown",
   "metadata": {},
   "source": [
    "# Find fingerprints for all of the chemical compounds on Venus\n",
    "`get_fingerprint.py` script"
   ]
  },
  {
   "cell_type": "markdown",
   "metadata": {},
   "source": [
    "### Files with fingerprints"
   ]
  },
  {
   "cell_type": "code",
   "execution_count": 99,
   "metadata": {},
   "outputs": [],
   "source": [
    "fingerprints_fh_1    = 'data/fingerprints_1.txt'\n",
    "fingerprints_fh_2    = 'data/fingerprints_2.txt'"
   ]
  },
  {
   "cell_type": "code",
   "execution_count": 100,
   "metadata": {},
   "outputs": [],
   "source": [
    "drugs_fingerprints_dict = {}\n",
    "for i in range(len(unique_drugs)):\n",
    "    drugs_fingerprints_dict[unique_drugs[i]] = [0] * 1024"
   ]
  },
  {
   "cell_type": "code",
   "execution_count": 101,
   "metadata": {},
   "outputs": [],
   "source": [
    "def get_fingerprints(file_handle,drugs_fingerprints_dict, drugs_list,drugs_found):\n",
    "    with open(file_handle) as fh:\n",
    "        j=0\n",
    "        content = fh.readlines()\n",
    "        content = [x.strip() for x in content]\n",
    "        for line in content:\n",
    "            result = re.split(r'[,\\t]\\s*',line)\n",
    "            drug_name = result[0]\n",
    "            if drug_name in drugs_list:\n",
    "                j=j+1\n",
    "                drugs_found.append(drug_name)\n",
    "                for i in range(1,1025):\n",
    "                    drugs_fingerprints_dict[drug_name][i-1] = result[i]\n",
    "    fh.close()\n",
    "    print(j)"
   ]
  },
  {
   "cell_type": "code",
   "execution_count": 102,
   "metadata": {},
   "outputs": [],
   "source": [
    "drugs_found = list()"
   ]
  },
  {
   "cell_type": "code",
   "execution_count": 103,
   "metadata": {},
   "outputs": [
    {
     "name": "stdout",
     "output_type": "stream",
     "text": [
      "21427\n"
     ]
    }
   ],
   "source": [
    "get_fingerprints(fingerprints_fh_1,drugs_fingerprints_dict ,unique_drugs, drugs_found)"
   ]
  },
  {
   "cell_type": "code",
   "execution_count": 104,
   "metadata": {},
   "outputs": [
    {
     "name": "stdout",
     "output_type": "stream",
     "text": [
      "20037\n"
     ]
    }
   ],
   "source": [
    "get_fingerprints(fingerprints_fh_2,drugs_fingerprints_dict ,unique_drugs,drugs_found)"
   ]
  },
  {
   "cell_type": "code",
   "execution_count": 105,
   "metadata": {},
   "outputs": [
    {
     "data": {
      "text/plain": [
       "41464"
      ]
     },
     "execution_count": 105,
     "metadata": {},
     "output_type": "execute_result"
    }
   ],
   "source": [
    "len(unique_drugs)"
   ]
  },
  {
   "cell_type": "markdown",
   "metadata": {},
   "source": [
    "## Print fingerprints to a file:"
   ]
  },
  {
   "cell_type": "code",
   "execution_count": 114,
   "metadata": {},
   "outputs": [],
   "source": [
    "with open('drug_fingerprints.txt', 'w') as f:\n",
    "    for key, value in drugs_fingerprints_dict.items():\n",
    "        f.write(key)\n",
    "        f.write(',')\n",
    "        for i in range(len(value)):\n",
    "            f.write(str(value[i]))\n",
    "            f.write(\",\")\n",
    "        f.write('\\n')"
   ]
  },
  {
   "cell_type": "markdown",
   "metadata": {},
   "source": [
    "## Find ids for the 41,464 unique compounds"
   ]
  },
  {
   "cell_type": "code",
   "execution_count": 65,
   "metadata": {},
   "outputs": [],
   "source": [
    "drugs_index_dict = {}\n",
    "for i in range(len(unique_drugs)):\n",
    "    drugs_index_dict[unique_drugs[i]] = 0"
   ]
  },
  {
   "cell_type": "code",
   "execution_count": 66,
   "metadata": {},
   "outputs": [],
   "source": [
    "drug_index_file = 'similarity/IDG_DREAM_chemIndex.csv'"
   ]
  },
  {
   "cell_type": "code",
   "execution_count": 67,
   "metadata": {},
   "outputs": [],
   "source": [
    "col_names_index  =[\"id\", \"chemical_name\", \"chem_info\", \"chem_structure\"]\n",
    "drugs_index_df   = pd.read_csv(drug_index_file , sep=',',names=col_names_index)"
   ]
  },
  {
   "cell_type": "code",
   "execution_count": 68,
   "metadata": {},
   "outputs": [
    {
     "data": {
      "text/html": [
       "<div>\n",
       "<style scoped>\n",
       "    .dataframe tbody tr th:only-of-type {\n",
       "        vertical-align: middle;\n",
       "    }\n",
       "\n",
       "    .dataframe tbody tr th {\n",
       "        vertical-align: top;\n",
       "    }\n",
       "\n",
       "    .dataframe thead th {\n",
       "        text-align: right;\n",
       "    }\n",
       "</style>\n",
       "<table border=\"1\" class=\"dataframe\">\n",
       "  <thead>\n",
       "    <tr style=\"text-align: right;\">\n",
       "      <th></th>\n",
       "      <th>id</th>\n",
       "      <th>chemical_name</th>\n",
       "      <th>chem_info</th>\n",
       "      <th>chem_structure</th>\n",
       "    </tr>\n",
       "  </thead>\n",
       "  <tbody>\n",
       "    <tr>\n",
       "      <th>0</th>\n",
       "      <td>1</td>\n",
       "      <td>OWRSAHYFSSNENM-UHFFFAOYSA-N</td>\n",
       "      <td>CHEMBL6329</td>\n",
       "      <td>Cc1cc(ccc1C(=O)c2ccccc2Cl)N3N=CC(=O)NC3=O</td>\n",
       "    </tr>\n",
       "    <tr>\n",
       "      <th>1</th>\n",
       "      <td>2</td>\n",
       "      <td>ZJYUMURGSZQFMH-UHFFFAOYSA-N</td>\n",
       "      <td>CHEMBL6328</td>\n",
       "      <td>Cc1cc(ccc1C(=O)c2ccc(cc2)C#N)N3N=CC(=O)NC3=O</td>\n",
       "    </tr>\n",
       "    <tr>\n",
       "      <th>2</th>\n",
       "      <td>3</td>\n",
       "      <td>YOMWDCALSDWFSV-UHFFFAOYSA-N</td>\n",
       "      <td>CHEMBL265667</td>\n",
       "      <td>Cc1cc(cc(C)c1C(O)c2ccc(Cl)cc2)N3N=CC(=O)NC3=O</td>\n",
       "    </tr>\n",
       "    <tr>\n",
       "      <th>3</th>\n",
       "      <td>4</td>\n",
       "      <td>PSOPUAQFGCRDIP-UHFFFAOYSA-N</td>\n",
       "      <td>CHEMBL6362</td>\n",
       "      <td>Cc1ccc(cc1)C(=O)c2ccc(cc2)N3N=CC(=O)NC3=O</td>\n",
       "    </tr>\n",
       "    <tr>\n",
       "      <th>4</th>\n",
       "      <td>5</td>\n",
       "      <td>KEZNSCMBVRNOHO-UHFFFAOYSA-N</td>\n",
       "      <td>CHEMBL267864</td>\n",
       "      <td>Cc1cc(ccc1C(=O)c2ccc(Cl)cc2)N3N=CC(=O)NC3=O</td>\n",
       "    </tr>\n",
       "  </tbody>\n",
       "</table>\n",
       "</div>"
      ],
      "text/plain": [
       "   id                chemical_name     chem_info  \\\n",
       "0   1  OWRSAHYFSSNENM-UHFFFAOYSA-N    CHEMBL6329   \n",
       "1   2  ZJYUMURGSZQFMH-UHFFFAOYSA-N    CHEMBL6328   \n",
       "2   3  YOMWDCALSDWFSV-UHFFFAOYSA-N  CHEMBL265667   \n",
       "3   4  PSOPUAQFGCRDIP-UHFFFAOYSA-N    CHEMBL6362   \n",
       "4   5  KEZNSCMBVRNOHO-UHFFFAOYSA-N  CHEMBL267864   \n",
       "\n",
       "                                  chem_structure  \n",
       "0      Cc1cc(ccc1C(=O)c2ccccc2Cl)N3N=CC(=O)NC3=O  \n",
       "1   Cc1cc(ccc1C(=O)c2ccc(cc2)C#N)N3N=CC(=O)NC3=O  \n",
       "2  Cc1cc(cc(C)c1C(O)c2ccc(Cl)cc2)N3N=CC(=O)NC3=O  \n",
       "3      Cc1ccc(cc1)C(=O)c2ccc(cc2)N3N=CC(=O)NC3=O  \n",
       "4    Cc1cc(ccc1C(=O)c2ccc(Cl)cc2)N3N=CC(=O)NC3=O  "
      ]
     },
     "execution_count": 68,
     "metadata": {},
     "output_type": "execute_result"
    }
   ],
   "source": [
    "drugs_index_df.head()"
   ]
  },
  {
   "cell_type": "code",
   "execution_count": 115,
   "metadata": {},
   "outputs": [],
   "source": [
    "#j=0\n",
    "#for i in range(len(unique_drugs)):\n",
    "#    val = drugs_index_df.loc[drugs_index_df['chemical_name'] == unique_drugs[i]][\"id\"]\n",
    "#    drugs_index_dict[unique_drugs[i]] = val"
   ]
  },
  {
   "cell_type": "code",
   "execution_count": 110,
   "metadata": {},
   "outputs": [
    {
     "data": {
      "text/plain": [
       "Series([], Name: id, dtype: int64)"
      ]
     },
     "execution_count": 110,
     "metadata": {},
     "output_type": "execute_result"
    }
   ],
   "source": [
    "drugs_index_dict[unique_drugs[7285]]"
   ]
  },
  {
   "cell_type": "code",
   "execution_count": null,
   "metadata": {},
   "outputs": [],
   "source": []
  },
  {
   "cell_type": "code",
   "execution_count": 94,
   "metadata": {},
   "outputs": [
    {
     "data": {
      "text/plain": [
       "1656220    1656221\n",
       "1656221    1656222\n",
       "Name: id, dtype: int64"
      ]
     },
     "execution_count": 94,
     "metadata": {},
     "output_type": "execute_result"
    }
   ],
   "source": [
    "drugs_index_dict[unique_drugs[6790]]"
   ]
  },
  {
   "cell_type": "code",
   "execution_count": 113,
   "metadata": {},
   "outputs": [
    {
     "data": {
      "text/plain": [
       "Series([], Name: id, dtype: int64)"
      ]
     },
     "execution_count": 113,
     "metadata": {},
     "output_type": "execute_result"
    }
   ],
   "source": [
    "drugs_index_dict[unique_drugs[7285]]"
   ]
  },
  {
   "cell_type": "code",
   "execution_count": 114,
   "metadata": {},
   "outputs": [],
   "source": [
    "#drug_index_list = list(drugs_index_dict.values())\n",
    "#len(drug_index_list)"
   ]
  },
  {
   "cell_type": "code",
   "execution_count": null,
   "metadata": {},
   "outputs": [],
   "source": [
    "with open('drug_index.txt', 'w') as f:\n",
    "    for key, value in drugs_index_dict.items():\n",
    "        f.write(key)\n",
    "        f.write(',')\n",
    "        f.write(value)\n",
    "        f.write('\\n')"
   ]
  },
  {
   "cell_type": "code",
   "execution_count": null,
   "metadata": {},
   "outputs": [],
   "source": [
    "drug_index_list = list(drugs_index_dict.values())"
   ]
  },
  {
   "cell_type": "code",
   "execution_count": null,
   "metadata": {},
   "outputs": [],
   "source": [
    "drug_similarity_file = 'similarity/round1_chemsim_threshold03.csv'"
   ]
  },
  {
   "cell_type": "code",
   "execution_count": null,
   "metadata": {},
   "outputs": [],
   "source": [
    "col_names_sim  = [\"drug_1_id\", \"drug_2_id\", \"similarity\"]\n",
    "drugs_similarity_df = pd.read_csv(drug_similarity_file, sep=',', names=col_names_sim)"
   ]
  },
  {
   "cell_type": "code",
   "execution_count": null,
   "metadata": {},
   "outputs": [],
   "source": [
    "indexes_with_valid_pairs_drugs = []\n",
    "for i in range(len(drugs_similarity_df)):\n",
    "    tem_drug1_id  = int(drugs_similarity_df.loc[[i], \"drug_1_id\"])\n",
    "    tem_drug2_id  = int(drugs_similarity_df.loc[[i], 'drug_2_id'])\n",
    "    if tem_drug1_id in drug_index_list and tem_drug2_id in drug_index_list:\n",
    "        indexes_with_valid_pairs_drugs.append(i)"
   ]
  },
  {
   "cell_type": "code",
   "execution_count": null,
   "metadata": {},
   "outputs": [],
   "source": [
    "drugs_similarity_df.ix[indexes_with_valid_pairs_drugs]"
   ]
  },
  {
   "cell_type": "markdown",
   "metadata": {},
   "source": [
    "# PART 2: Splitting data into train, dev and test set:"
   ]
  },
  {
   "cell_type": "code",
   "execution_count": 3,
   "metadata": {},
   "outputs": [],
   "source": [
    "file_train  = 'data_splits/kinome_assay_LINCS_kinomescan_round1_train.tsv'\n",
    "file_test   = 'data_splits/kinome_assay_LINCS_kinomescan_round1_test.tsv'\n",
    "file_dev    = 'data_splits/kinome_assay_LINCS_kinomescan_round1_dev.tsv'"
   ]
  },
  {
   "cell_type": "code",
   "execution_count": 21,
   "metadata": {},
   "outputs": [],
   "source": [
    "col_names      = [\"compound_name\", \"target\", \"activity_measure\"]\n",
    "train_set      = pd.read_csv(file_train, sep='\\t',names=col_names)\n",
    "test_set       = pd.read_csv(file_test, sep='\\t',names=col_names)\n",
    "dev_set        = pd.read_csv(file_dev, sep='\\t',names=col_names)"
   ]
  },
  {
   "cell_type": "markdown",
   "metadata": {},
   "source": [
    "## TRAIN"
   ]
  },
  {
   "cell_type": "code",
   "execution_count": 22,
   "metadata": {},
   "outputs": [
    {
     "data": {
      "text/html": [
       "<div>\n",
       "<style scoped>\n",
       "    .dataframe tbody tr th:only-of-type {\n",
       "        vertical-align: middle;\n",
       "    }\n",
       "\n",
       "    .dataframe tbody tr th {\n",
       "        vertical-align: top;\n",
       "    }\n",
       "\n",
       "    .dataframe thead th {\n",
       "        text-align: right;\n",
       "    }\n",
       "</style>\n",
       "<table border=\"1\" class=\"dataframe\">\n",
       "  <thead>\n",
       "    <tr style=\"text-align: right;\">\n",
       "      <th></th>\n",
       "      <th>compound_name</th>\n",
       "      <th>target</th>\n",
       "      <th>activity_measure</th>\n",
       "    </tr>\n",
       "  </thead>\n",
       "  <tbody>\n",
       "    <tr>\n",
       "      <th>0</th>\n",
       "      <td>LIGGMBSSOOVGAE-UHFFFAOYSA-N</td>\n",
       "      <td>P00519-nonphosphorylated</td>\n",
       "      <td>8.521574</td>\n",
       "    </tr>\n",
       "    <tr>\n",
       "      <th>1</th>\n",
       "      <td>LIGGMBSSOOVGAE-UHFFFAOYSA-N</td>\n",
       "      <td>P07333</td>\n",
       "      <td>8.999565</td>\n",
       "    </tr>\n",
       "    <tr>\n",
       "      <th>2</th>\n",
       "      <td>LIGGMBSSOOVGAE-UHFFFAOYSA-N</td>\n",
       "      <td>Q9UPZ9</td>\n",
       "      <td>10.000000</td>\n",
       "    </tr>\n",
       "    <tr>\n",
       "      <th>3</th>\n",
       "      <td>LIGGMBSSOOVGAE-UHFFFAOYSA-N</td>\n",
       "      <td>P10721</td>\n",
       "      <td>10.000000</td>\n",
       "    </tr>\n",
       "    <tr>\n",
       "      <th>4</th>\n",
       "      <td>LIGGMBSSOOVGAE-UHFFFAOYSA-N</td>\n",
       "      <td>Q13163</td>\n",
       "      <td>8.698100</td>\n",
       "    </tr>\n",
       "  </tbody>\n",
       "</table>\n",
       "</div>"
      ],
      "text/plain": [
       "                 compound_name                    target  activity_measure\n",
       "0  LIGGMBSSOOVGAE-UHFFFAOYSA-N  P00519-nonphosphorylated          8.521574\n",
       "1  LIGGMBSSOOVGAE-UHFFFAOYSA-N                    P07333          8.999565\n",
       "2  LIGGMBSSOOVGAE-UHFFFAOYSA-N                    Q9UPZ9         10.000000\n",
       "3  LIGGMBSSOOVGAE-UHFFFAOYSA-N                    P10721         10.000000\n",
       "4  LIGGMBSSOOVGAE-UHFFFAOYSA-N                    Q13163          8.698100"
      ]
     },
     "execution_count": 22,
     "metadata": {},
     "output_type": "execute_result"
    }
   ],
   "source": [
    "train_set.head()"
   ]
  },
  {
   "cell_type": "code",
   "execution_count": 23,
   "metadata": {},
   "outputs": [],
   "source": [
    "train_drugs_set = set(train_set[\"compound_name\"])\n",
    "test_drugs_set = set(test_set[\"compound_name\"])\n",
    "dev_drugs_set = set(dev_set[\"compound_name\"])"
   ]
  },
  {
   "cell_type": "code",
   "execution_count": 24,
   "metadata": {},
   "outputs": [
    {
     "data": {
      "text/plain": [
       "37773"
      ]
     },
     "execution_count": 24,
     "metadata": {},
     "output_type": "execute_result"
    }
   ],
   "source": [
    "len(train_drugs_set)"
   ]
  },
  {
   "cell_type": "code",
   "execution_count": 25,
   "metadata": {},
   "outputs": [
    {
     "data": {
      "text/plain": [
       "101"
      ]
     },
     "execution_count": 25,
     "metadata": {},
     "output_type": "execute_result"
    }
   ],
   "source": [
    "len(test_drugs_set)"
   ]
  },
  {
   "cell_type": "code",
   "execution_count": 26,
   "metadata": {},
   "outputs": [
    {
     "data": {
      "text/plain": [
       "118"
      ]
     },
     "execution_count": 26,
     "metadata": {},
     "output_type": "execute_result"
    }
   ],
   "source": [
    "len(dev_drugs_set)"
   ]
  },
  {
   "cell_type": "markdown",
   "metadata": {},
   "source": [
    "### Check if any of the drugs belongs to more than one set:"
   ]
  },
  {
   "cell_type": "code",
   "execution_count": 36,
   "metadata": {},
   "outputs": [
    {
     "data": {
      "text/plain": [
       "set()"
      ]
     },
     "execution_count": 36,
     "metadata": {},
     "output_type": "execute_result"
    }
   ],
   "source": [
    "train_drugs_set & test_drugs_set"
   ]
  },
  {
   "cell_type": "code",
   "execution_count": 37,
   "metadata": {},
   "outputs": [
    {
     "data": {
      "text/plain": [
       "set()"
      ]
     },
     "execution_count": 37,
     "metadata": {},
     "output_type": "execute_result"
    }
   ],
   "source": [
    "train_drugs_set & dev_drugs_set"
   ]
  },
  {
   "cell_type": "code",
   "execution_count": 35,
   "metadata": {},
   "outputs": [
    {
     "data": {
      "text/plain": [
       "92"
      ]
     },
     "execution_count": 35,
     "metadata": {},
     "output_type": "execute_result"
    }
   ],
   "source": [
    "len( dev_drugs_set & test_drugs_set )"
   ]
  },
  {
   "cell_type": "markdown",
   "metadata": {},
   "source": [
    "Dev and Test Set have 92 drugs in common."
   ]
  },
  {
   "cell_type": "markdown",
   "metadata": {},
   "source": [
    "### Change sets into lists"
   ]
  },
  {
   "cell_type": "code",
   "execution_count": 38,
   "metadata": {},
   "outputs": [],
   "source": [
    "train_drugs_list = list(train_drugs_set)\n",
    "test_drugs_list  = list(test_drugs_set) \n",
    "dev_drugs_list   = list(dev_drugs_set) "
   ]
  },
  {
   "cell_type": "markdown",
   "metadata": {},
   "source": [
    "### Make dictionaries for all of the sets"
   ]
  },
  {
   "cell_type": "code",
   "execution_count": 43,
   "metadata": {},
   "outputs": [],
   "source": [
    "train_targets_dict = {}\n",
    "test_targets_dict  = {}\n",
    "dev_targets_dict   = {}\n",
    "\n",
    "train_weights_dict = {}\n",
    "test_weights_dict  = {}\n",
    "dev_weights_dict   = {}\n",
    "\n",
    "train_fingerprints_dict = {}\n",
    "test_fingerprints_dict  = {}\n",
    "dev_fingerprints_dict   = {}"
   ]
  },
  {
   "cell_type": "code",
   "execution_count": 40,
   "metadata": {},
   "outputs": [],
   "source": [
    "drugs_targets      = 'drug_targets.txt'\n",
    "drugs_weights      = 'drug_weights.txt'\n",
    "drugs_fingerprints = 'drug_fingerprints.txt'"
   ]
  },
  {
   "cell_type": "code",
   "execution_count": 41,
   "metadata": {},
   "outputs": [],
   "source": [
    "def fill_in_dictionary(dict_name, key_list, vec_size):\n",
    "    for i in range(len(key_list)):\n",
    "        dict_name[key_list[i]] = [0] * vec_size"
   ]
  },
  {
   "cell_type": "code",
   "execution_count": 42,
   "metadata": {},
   "outputs": [],
   "source": [
    "target_size = 420\n",
    "weight_size = 420\n",
    "fingerprint_size = 1024"
   ]
  },
  {
   "cell_type": "code",
   "execution_count": 48,
   "metadata": {},
   "outputs": [],
   "source": [
    "#Everything for train set\n",
    "fill_in_dictionary(train_targets_dict,train_drugs_list,target_size)\n",
    "fill_in_dictionary(train_weights_dict, train_drugs_list, weight_size)\n",
    "fill_in_dictionary(train_fingerprints_dict, train_drugs_list, fingerprint_size)\n",
    "\n",
    "#Everything for test set\n",
    "fill_in_dictionary(test_targets_dict, test_drugs_list, target_size)\n",
    "fill_in_dictionary(test_weights_dict, test_drugs_list, weight_size)\n",
    "fill_in_dictionary(test_fingerprints_dict, test_drugs_list, fingerprint_size)\n",
    "\n",
    "#Everything for dev set\n",
    "fill_in_dictionary(dev_targets_dict, dev_drugs_list, target_size)\n",
    "fill_in_dictionary(dev_weights_dict, dev_drugs_list, weight_size)\n",
    "fill_in_dictionary(dev_fingerprints_dict, dev_drugs_list, fingerprint_size)"
   ]
  },
  {
   "cell_type": "code",
   "execution_count": 47,
   "metadata": {},
   "outputs": [],
   "source": [
    "def get_data_into_dict(file_handle,drugs_fingerprints_dict, drugs_list,vec_size):\n",
    "    with open(file_handle) as fh:\n",
    "        j=0\n",
    "        content = fh.readlines()\n",
    "        content = [x.strip() for x in content]\n",
    "        for line in content:\n",
    "            result = re.split(r'[,\\t]\\s*',line)\n",
    "            drug_name = result[0]\n",
    "            if drug_name in drugs_list:\n",
    "                j=j+1\n",
    "                for i in range(1,vec_size+1):\n",
    "                    drugs_fingerprints_dict[drug_name][i-1] = result[i]\n",
    "    fh.close()\n",
    "    print(j)"
   ]
  },
  {
   "cell_type": "code",
   "execution_count": 49,
   "metadata": {},
   "outputs": [
    {
     "name": "stdout",
     "output_type": "stream",
     "text": [
      "37773\n",
      "37773\n",
      "37773\n",
      "101\n",
      "101\n",
      "101\n",
      "118\n",
      "118\n",
      "118\n"
     ]
    }
   ],
   "source": [
    "get_data_into_dict(drugs_targets,train_targets_dict,train_drugs_list,target_size)\n",
    "get_data_into_dict(drugs_weights,train_weights_dict,train_drugs_list,weight_size)\n",
    "get_data_into_dict(drugs_fingerprints,train_fingerprints_dict,train_drugs_list,fingerprint_size)\n",
    "\n",
    "get_data_into_dict(drugs_targets,test_targets_dict,test_drugs_list,target_size)\n",
    "get_data_into_dict(drugs_weights,test_weights_dict,test_drugs_list,weight_size)\n",
    "get_data_into_dict(drugs_fingerprints,test_fingerprints_dict,test_drugs_list,fingerprint_size)\n",
    "\n",
    "get_data_into_dict(drugs_targets,dev_targets_dict,dev_drugs_list,target_size)\n",
    "get_data_into_dict(drugs_weights,dev_weights_dict,dev_drugs_list,weight_size)\n",
    "get_data_into_dict(drugs_fingerprints,dev_fingerprints_dict,dev_drugs_list,fingerprint_size)"
   ]
  },
  {
   "cell_type": "code",
   "execution_count": 50,
   "metadata": {},
   "outputs": [],
   "source": [
    "def data_into_files(data_dict,file_name):\n",
    "    with open(file_name, 'w') as f:\n",
    "        for key, value in data_dict.items():\n",
    "            f.write(key)\n",
    "            f.write(',')\n",
    "            for i in range(len(value)):\n",
    "                f.write(str(value[i]))\n",
    "                f.write(\",\")\n",
    "            f.write('\\n')"
   ]
  },
  {
   "cell_type": "code",
   "execution_count": 52,
   "metadata": {},
   "outputs": [],
   "source": [
    "dict_collection = [train_targets_dict,test_targets_dict,dev_targets_dict,train_weights_dict,test_weights_dict,dev_weights_dict,train_fingerprints_dict,test_fingerprints_dict,dev_fingerprints_dict]"
   ]
  },
  {
   "cell_type": "code",
   "execution_count": 56,
   "metadata": {},
   "outputs": [],
   "source": [
    "file_name_collection = ['train/train_targets.csv', 'test/test_targets.csv','dev/dev_targets.csv','train/train_weights.csv','test/test_weights.csv','dev/dev_weights.csv','train/train_fingerprints.csv','test/test_fingerprints.csv','dev/dev_fingerprints.csv']"
   ]
  },
  {
   "cell_type": "code",
   "execution_count": 57,
   "metadata": {},
   "outputs": [],
   "source": [
    "for i,j in zip(dict_collection, file_name_collection):\n",
    "    data_into_files(i,j)"
   ]
  },
  {
   "cell_type": "code",
   "execution_count": null,
   "metadata": {},
   "outputs": [],
   "source": []
  }
 ],
 "metadata": {
  "kernelspec": {
   "display_name": "Python 3",
   "language": "python",
   "name": "python3"
  },
  "language_info": {
   "codemirror_mode": {
    "name": "ipython",
    "version": 3
   },
   "file_extension": ".py",
   "mimetype": "text/x-python",
   "name": "python",
   "nbconvert_exporter": "python",
   "pygments_lexer": "ipython3",
   "version": "3.6.6"
  }
 },
 "nbformat": 4,
 "nbformat_minor": 2
}
