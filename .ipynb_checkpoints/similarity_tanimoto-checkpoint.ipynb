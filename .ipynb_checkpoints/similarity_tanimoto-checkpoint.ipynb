{
 "cells": [
  {
   "cell_type": "code",
   "execution_count": 1,
   "metadata": {},
   "outputs": [],
   "source": [
    "import re\n",
    "import copy\n",
    "import pandas as pd\n",
    "import numpy as np"
   ]
  },
  {
   "cell_type": "markdown",
   "metadata": {},
   "source": [
    "## Fingerprints into single strings"
   ]
  },
  {
   "cell_type": "code",
   "execution_count": 3,
   "metadata": {},
   "outputs": [],
   "source": [
    "fingerprints_file = \"valid_data/drug_fingerprints.txt\"\n",
    "drug_names_file = 'valid_data/drugs_names.txt'"
   ]
  },
  {
   "cell_type": "code",
   "execution_count": 4,
   "metadata": {},
   "outputs": [],
   "source": [
    "col_names      = [\"chemical_name\"]\n",
    "drugs_names_df = pd.read_csv(drug_names_file, names=col_names)"
   ]
  },
  {
   "cell_type": "code",
   "execution_count": 5,
   "metadata": {},
   "outputs": [],
   "source": [
    "drugs_names = list()\n",
    "for i in range(len(drugs_names_df)):\n",
    "    name = drugs_names_df[\"chemical_name\"][i]\n",
    "    drugs_names.append(name)"
   ]
  },
  {
   "cell_type": "code",
   "execution_count": 6,
   "metadata": {},
   "outputs": [],
   "source": [
    "drugs_fingerprints_dict = {}\n",
    "for i in range(len(drugs_names)):\n",
    "    drugs_fingerprints_dict[drugs_names[i]] = [\"\"] * 1024"
   ]
  },
  {
   "cell_type": "code",
   "execution_count": 7,
   "metadata": {},
   "outputs": [],
   "source": [
    "def get_fingerprints(file_handle,drugs_fingerprints_dict, drugs_list):\n",
    "    with open(file_handle) as fh:\n",
    "        j=0\n",
    "        content = fh.readlines()\n",
    "        content = [x.strip() for x in content]\n",
    "        for line in content:\n",
    "            result = re.split(r'[,\\t]\\s*',line)\n",
    "            drug_name = result[0]\n",
    "            if drug_name in drugs_list:\n",
    "                j=j+1\n",
    "                for i in range(1,1025):\n",
    "                    str1 = str(result[i])\n",
    "                    drugs_fingerprints_dict[drug_name][i-1] = str1[0]\n",
    "    fh.close()\n",
    "    print(j)"
   ]
  },
  {
   "cell_type": "code",
   "execution_count": 8,
   "metadata": {},
   "outputs": [
    {
     "name": "stdout",
     "output_type": "stream",
     "text": [
      "41464\n"
     ]
    }
   ],
   "source": [
    "get_fingerprints(fingerprints_file,drugs_fingerprints_dict, drugs_names)"
   ]
  },
  {
   "cell_type": "code",
   "execution_count": 9,
   "metadata": {},
   "outputs": [],
   "source": [
    "for i in range(len(drugs_names)):\n",
    "    list1 = drugs_fingerprints_dict[drugs_names[i]]\n",
    "    str1 = ''.join(list1)\n",
    "    drugs_fingerprints_dict[drugs_names[i]] = str1"
   ]
  },
  {
   "cell_type": "code",
   "execution_count": 11,
   "metadata": {},
   "outputs": [],
   "source": [
    "with open('fingerprints_strings.txt', 'w') as f:\n",
    "    for key, value in drugs_fingerprints_dict.items():\n",
    "        f.write(key)\n",
    "        f.write(',')\n",
    "        f.write(value)\n",
    "        f.write('\\n')"
   ]
  },
  {
   "cell_type": "markdown",
   "metadata": {},
   "source": [
    "## Calculate similarity"
   ]
  },
  {
   "cell_type": "code",
   "execution_count": 2,
   "metadata": {},
   "outputs": [],
   "source": [
    "fingerprints_file_1 = \"sim_test/fingerprints_sample1.csv\"\n",
    "fingerprints_file_2 = \"sim_test/fingerprints_sample2.csv\"\n",
    "drug_names_file_s   = \"sim_test/name_sample.csv\""
   ]
  },
  {
   "cell_type": "code",
   "execution_count": 3,
   "metadata": {},
   "outputs": [],
   "source": [
    "col_names       = [\"chemical_name\"]\n",
    "drugs_names_df_s = pd.read_csv(drug_names_file_s, names=col_names)"
   ]
  },
  {
   "cell_type": "code",
   "execution_count": 4,
   "metadata": {},
   "outputs": [],
   "source": [
    "size_drugs = len(drugs_names_df_s)"
   ]
  },
  {
   "cell_type": "code",
   "execution_count": 5,
   "metadata": {},
   "outputs": [],
   "source": [
    "col_names_s        = [\"chemical_name\",\"fingerprint\"]\n",
    "fingerprints_df_1  = pd.read_csv(fingerprints_file_1, names=col_names_s)\n",
    "fingerprints_df_2  = pd.read_csv(fingerprints_file_2, names=col_names_s)"
   ]
  },
  {
   "cell_type": "code",
   "execution_count": 6,
   "metadata": {},
   "outputs": [],
   "source": [
    "frames = [fingerprints_df_1, fingerprints_df_2]\n",
    "fingerprints_df_s = pd.concat(frames,ignore_index=True)"
   ]
  },
  {
   "cell_type": "code",
   "execution_count": 7,
   "metadata": {},
   "outputs": [],
   "source": [
    "similarity_matrix = np.zeros(shape=(size_drugs,size_drugs))"
   ]
  },
  {
   "cell_type": "code",
   "execution_count": 8,
   "metadata": {},
   "outputs": [],
   "source": [
    "upper_indexes = np.triu_indices(size_drugs,k=1)\n",
    "num_indexes = len(upper_indexes[0])"
   ]
  },
  {
   "cell_type": "code",
   "execution_count": 9,
   "metadata": {},
   "outputs": [],
   "source": [
    "for i in range(num_indexes):\n",
    "    x = upper_indexes[0][i]\n",
    "    y = upper_indexes[1][i]\n",
    "    fingerprint1 = fingerprints_df_s.fingerprint[x]\n",
    "    fingerprint2 = fingerprints_df_s.fingerprint[y]\n",
    "    fingerprintsAND = bin(int(str(fingerprint1),2) & int(str(fingerprint2),2))[2:].zfill(len(fingerprint1)).count(\"1\")\n",
    "    fingerprintsXOR = bin(int(fingerprint1,2) ^ int(fingerprint2,2))[2:].zfill(len(fingerprint1)).count(\"1\")\n",
    "    tanimoto = float(fingerprintsAND)/(fingerprintsXOR+ fingerprintsAND) \n",
    "    similarity_matrix[x][y] = tanimoto"
   ]
  },
  {
   "cell_type": "code",
   "execution_count": 10,
   "metadata": {},
   "outputs": [],
   "source": [
    "np.savetxt('similarity_test2.txt',similarity_matrix, fmt='%.6f', delimiter=',')"
   ]
  },
  {
   "cell_type": "code",
   "execution_count": null,
   "metadata": {},
   "outputs": [],
   "source": []
  }
 ],
 "metadata": {
  "kernelspec": {
   "display_name": "Python 3",
   "language": "python",
   "name": "python3"
  },
  "language_info": {
   "codemirror_mode": {
    "name": "ipython",
    "version": 3
   },
   "file_extension": ".py",
   "mimetype": "text/x-python",
   "name": "python",
   "nbconvert_exporter": "python",
   "pygments_lexer": "ipython3",
   "version": "3.6.6"
  }
 },
 "nbformat": 4,
 "nbformat_minor": 2
}
