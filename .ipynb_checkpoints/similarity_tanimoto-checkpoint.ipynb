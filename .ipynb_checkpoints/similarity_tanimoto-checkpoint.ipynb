{
 "cells": [
  {
   "cell_type": "code",
   "execution_count": 1,
   "metadata": {},
   "outputs": [],
   "source": [
    "import re\n",
    "import copy\n",
    "import pandas as pd\n",
    "import numpy as np"
   ]
  },
  {
   "cell_type": "markdown",
   "metadata": {},
   "source": [
    "## Fingerprints into single strings"
   ]
  },
  {
   "cell_type": "code",
   "execution_count": 3,
   "metadata": {},
   "outputs": [],
   "source": [
    "fingerprints_file = \"valid_data/drug_fingerprints.txt\"\n",
    "drug_names_file = 'valid_data/drugs_names.txt'"
   ]
  },
  {
   "cell_type": "code",
   "execution_count": 4,
   "metadata": {},
   "outputs": [],
   "source": [
    "col_names      = [\"chemical_name\"]\n",
    "drugs_names_df = pd.read_csv(drug_names_file, names=col_names)"
   ]
  },
  {
   "cell_type": "code",
   "execution_count": 5,
   "metadata": {},
   "outputs": [],
   "source": [
    "drugs_names = list()\n",
    "for i in range(len(drugs_names_df)):\n",
    "    name = drugs_names_df[\"chemical_name\"][i]\n",
    "    drugs_names.append(name)"
   ]
  },
  {
   "cell_type": "code",
   "execution_count": 6,
   "metadata": {},
   "outputs": [],
   "source": [
    "drugs_fingerprints_dict = {}\n",
    "for i in range(len(drugs_names)):\n",
    "    drugs_fingerprints_dict[drugs_names[i]] = [\"\"] * 1024"
   ]
  },
  {
   "cell_type": "code",
   "execution_count": 7,
   "metadata": {},
   "outputs": [],
   "source": [
    "def get_fingerprints(file_handle,drugs_fingerprints_dict, drugs_list):\n",
    "    with open(file_handle) as fh:\n",
    "        j=0\n",
    "        content = fh.readlines()\n",
    "        content = [x.strip() for x in content]\n",
    "        for line in content:\n",
    "            result = re.split(r'[,\\t]\\s*',line)\n",
    "            drug_name = result[0]\n",
    "            if drug_name in drugs_list:\n",
    "                j=j+1\n",
    "                for i in range(1,1025):\n",
    "                    str1 = str(result[i])\n",
    "                    drugs_fingerprints_dict[drug_name][i-1] = str1[0]\n",
    "    fh.close()\n",
    "    print(j)"
   ]
  },
  {
   "cell_type": "code",
   "execution_count": 8,
   "metadata": {},
   "outputs": [
    {
     "name": "stdout",
     "output_type": "stream",
     "text": [
      "41464\n"
     ]
    }
   ],
   "source": [
    "get_fingerprints(fingerprints_file,drugs_fingerprints_dict, drugs_names)"
   ]
  },
  {
   "cell_type": "code",
   "execution_count": 9,
   "metadata": {},
   "outputs": [],
   "source": [
    "for i in range(len(drugs_names)):\n",
    "    list1 = drugs_fingerprints_dict[drugs_names[i]]\n",
    "    str1 = ''.join(list1)\n",
    "    drugs_fingerprints_dict[drugs_names[i]] = str1"
   ]
  },
  {
   "cell_type": "code",
   "execution_count": 11,
   "metadata": {},
   "outputs": [],
   "source": [
    "with open('fingerprints_strings.txt', 'w') as f:\n",
    "    for key, value in drugs_fingerprints_dict.items():\n",
    "        f.write(key)\n",
    "        f.write(',')\n",
    "        f.write(value)\n",
    "        f.write('\\n')"
   ]
  },
  {
   "cell_type": "markdown",
   "metadata": {},
   "source": [
    "## Calculate similarity"
   ]
  },
  {
   "cell_type": "code",
   "execution_count": 2,
   "metadata": {},
   "outputs": [],
   "source": [
    "fingerprints_file_1 = \"sim_test/fingerprints_sample1.csv\"\n",
    "fingerprints_file_2 = \"sim_test/fingerprints_sample2.csv\"\n",
    "drug_names_file_s   = \"sim_test/name_sample.csv\""
   ]
  },
  {
   "cell_type": "code",
   "execution_count": 3,
   "metadata": {},
   "outputs": [],
   "source": [
    "col_names       = [\"chemical_name\"]\n",
    "drugs_names_df_s = pd.read_csv(drug_names_file_s, names=col_names)"
   ]
  },
  {
   "cell_type": "code",
   "execution_count": 4,
   "metadata": {},
   "outputs": [],
   "source": [
    "size_drugs = len(drugs_names_df_s)"
   ]
  },
  {
   "cell_type": "code",
   "execution_count": 5,
   "metadata": {},
   "outputs": [],
   "source": [
    "col_names_s        = [\"chemical_name\",\"fingerprint\"]\n",
    "fingerprints_df_1  = pd.read_csv(fingerprints_file_1, names=col_names_s)\n",
    "fingerprints_df_2  = pd.read_csv(fingerprints_file_2, names=col_names_s)"
   ]
  },
  {
   "cell_type": "code",
   "execution_count": 6,
   "metadata": {},
   "outputs": [],
   "source": [
    "frames = [fingerprints_df_1, fingerprints_df_2]\n",
    "fingerprints_df_s = pd.concat(frames,ignore_index=True)"
   ]
  },
  {
   "cell_type": "code",
   "execution_count": 28,
   "metadata": {},
   "outputs": [],
   "source": [
    "similarity_matrix = np.zeros(shape=(size_drugs,size_drugs))"
   ]
  },
  {
   "cell_type": "code",
   "execution_count": 29,
   "metadata": {},
   "outputs": [],
   "source": [
    "upper_indexes = np.triu_indices(size_drugs,k=1)\n",
    "num_indexes = len(upper_indexes[0])"
   ]
  },
  {
   "cell_type": "code",
   "execution_count": 11,
   "metadata": {},
   "outputs": [],
   "source": [
    "outputFile = open(\"./outputFile.txt\", \"a\", 1)"
   ]
  },
  {
   "cell_type": "code",
   "execution_count": 52,
   "metadata": {},
   "outputs": [],
   "source": [
    "for i in range(num_indexes):\n",
    "    x = upper_indexes[0][i]\n",
    "    y = upper_indexes[1][i]\n",
    "    fingerprint1 = fingerprints_df_s.fingerprint[x]\n",
    "    fingerprint2 = fingerprints_df_s.fingerprint[y]\n",
    "    fingerprintsAND = bin(int(str(fingerprint1),2) & int(str(fingerprint2),2))[2:].zfill(len(fingerprint1)).count(\"1\")\n",
    "    fingerprintsXOR = bin(int(fingerprint1,2) ^ int(fingerprint2,2))[2:].zfill(len(fingerprint1)).count(\"1\")\n",
    "    sum = fingerprintsXOR + fingerprintsAND\n",
    "    if sum == 0:\n",
    "        tanimoto = 0.0\n",
    "    else:\n",
    "        tanimoto = float(fingerprintsAND)/(fingerprintsXOR+ fingerprintsAND)\n",
    "    outputFile.write(\"%d,%d,%.6f \\n\" % (x,y,tanimoto))\n",
    "    similarity_matrix[x][y] = tanimoto"
   ]
  },
  {
   "cell_type": "code",
   "execution_count": 18,
   "metadata": {},
   "outputs": [],
   "source": [
    "np.savetxt('similarity_test100.txt',similarity_matrix, fmt='%.6f', delimiter=',')"
   ]
  },
  {
   "cell_type": "markdown",
   "metadata": {},
   "source": [
    "## Clustering"
   ]
  },
  {
   "cell_type": "code",
   "execution_count": 258,
   "metadata": {},
   "outputs": [],
   "source": [
    "from sklearn.cluster import DBSCAN\n",
    "import pandas as pd\n",
    "import numpy as np"
   ]
  },
  {
   "cell_type": "code",
   "execution_count": 259,
   "metadata": {},
   "outputs": [],
   "source": [
    "similarity_matrix = np.loadtxt(open('similarity_test100.txt', \"r\"), delimiter=\",\")"
   ]
  },
  {
   "cell_type": "code",
   "execution_count": 260,
   "metadata": {},
   "outputs": [],
   "source": [
    "#This show similarity hence bigger number is better, however in term of distance we should do 1 - similarity\n",
    "#DBSCAN, Agglomerative clustering, Ward hierarchical clustering and K-Means\n",
    "similarity_matrix[similarity_matrix == 0] = 1\n",
    "distance_matrix = 1 - similarity_matrix"
   ]
  },
  {
   "cell_type": "code",
   "execution_count": 261,
   "metadata": {},
   "outputs": [],
   "source": [
    "clustering = DBSCAN(eps=0.5, min_samples=5, metric= \"precomputed\", metric_params=None,\n",
    "       algorithm=\"auto\", leaf_size=30, p=None, n_jobs=None).fit(distance_matrix)"
   ]
  },
  {
   "cell_type": "code",
   "execution_count": 262,
   "metadata": {},
   "outputs": [
    {
     "data": {
      "text/plain": [
       "array([ 0,  0,  0,  0,  0,  1,  2,  3,  4,  5,  6,  7,  8,  9,  9,  9,  9,\n",
       "        9,  9,  9,  9,  9,  9,  9,  9,  9,  9,  9,  9,  9,  9,  9,  9,  9,\n",
       "        9,  9,  9,  9,  9,  9,  9,  9,  9,  9,  9,  9,  9,  9,  9,  9,  9,\n",
       "        9,  9,  9,  9,  9,  9,  9,  9,  9,  9,  9,  9,  9,  9,  9,  9,  9,\n",
       "        9,  9,  9,  9,  9,  9,  9,  9,  9,  9,  9,  9,  9,  9,  9,  9, 10,\n",
       "       11, 12, 13, 14, 15, 16, 17, 18, 19, 20, 21, 22, 23, 24, 25])"
      ]
     },
     "execution_count": 262,
     "metadata": {},
     "output_type": "execute_result"
    }
   ],
   "source": [
    "clustering.labels_"
   ]
  },
  {
   "cell_type": "code",
   "execution_count": 263,
   "metadata": {},
   "outputs": [],
   "source": [
    "output = open(\"./clustering_labels.txt\", \"a\")"
   ]
  },
  {
   "cell_type": "code",
   "execution_count": 264,
   "metadata": {},
   "outputs": [],
   "source": [
    "for i in range(len(clustering.labels_)):\n",
    "    output.write(str(clustering.labels_[i]))\n",
    "    output.write(\"\\n\")\n",
    "output.close()"
   ]
  },
  {
   "cell_type": "markdown",
   "metadata": {},
   "source": [
    "## Split data"
   ]
  },
  {
   "cell_type": "code",
   "execution_count": 114,
   "metadata": {},
   "outputs": [],
   "source": [
    "from sklearn.cluster import DBSCAN\n",
    "import pandas as pd\n",
    "import numpy as np\n",
    "import matplotlib.pyplot as plt\n",
    "%matplotlib inline\n",
    "from collections import Counter"
   ]
  },
  {
   "cell_type": "code",
   "execution_count": 89,
   "metadata": {},
   "outputs": [],
   "source": [
    "cluster_labels_df = pd.read_csv(\"clustering_labels_test1003.txt\", names=[\"cluster_label\"])"
   ]
  },
  {
   "cell_type": "code",
   "execution_count": 98,
   "metadata": {},
   "outputs": [],
   "source": [
    "cluster_labels = cluster_labels_df.cluster_label.values"
   ]
  },
  {
   "cell_type": "code",
   "execution_count": 105,
   "metadata": {},
   "outputs": [],
   "source": [
    "unique_labels = list(set(cluster_labels))"
   ]
  },
  {
   "cell_type": "code",
   "execution_count": 111,
   "metadata": {},
   "outputs": [],
   "source": [
    "clusters_dict = {}\n",
    "cluster_len_dict = {}\n",
    "for i in range(len(unique_labels)):\n",
    "    indices = [j for j, x in enumerate(cluster_labels) if x == unique_labels[i]]\n",
    "    clusters_dict[i] = indices\n",
    "    cluster_len_dict[i] = len(indices)"
   ]
  },
  {
   "cell_type": "code",
   "execution_count": null,
   "metadata": {},
   "outputs": [],
   "source": [
    "with open('clusters_members.txt', 'w') as f:\n",
    "    for key, value in clusters_dict.items():\n",
    "        f.write(key)\n",
    "        f.write(',')\n",
    "        for i in range(len(value)):\n",
    "            f.write(str(value[i]))\n",
    "            f.write(\",\")\n",
    "        f.write('\\n')"
   ]
  },
  {
   "cell_type": "code",
   "execution_count": null,
   "metadata": {},
   "outputs": [],
   "source": [
    "with open('clusters_length.txt', 'w') as f:\n",
    "    for key, value in cluster_len_dict.items():\n",
    "        f.write(key)\n",
    "        f.write(',')\n",
    "        f.write(value)\n",
    "        f.write('\\n')"
   ]
  },
  {
   "cell_type": "markdown",
   "metadata": {},
   "source": [
    "## Show distribution of sizes of the clusters "
   ]
  },
  {
   "cell_type": "code",
   "execution_count": 115,
   "metadata": {},
   "outputs": [
    {
     "data": {
      "text/plain": [
       "<BarContainer object of 26 artists>"
      ]
     },
     "execution_count": 115,
     "metadata": {},
     "output_type": "execute_result"
    },
    {
     "data": {
      "image/png": "[encoded data removed]",
      "text/plain": [
       "<Figure size 432x288 with 1 Axes>"
      ]
     },
     "metadata": {
      "needs_background": "light"
     },
     "output_type": "display_data"
    }
   ],
   "source": [
    "plt.bar(unique_labels , cluster_len_dict.values(), color='g')"
   ]
  },
  {
   "cell_type": "code",
   "execution_count": 117,
   "metadata": {},
   "outputs": [
    {
     "data": {
      "text/plain": [
       "Counter({5: 1, 1: 24, 71: 1})"
      ]
     },
     "execution_count": 117,
     "metadata": {},
     "output_type": "execute_result"
    }
   ],
   "source": [
    "Counter(cluster_len_dict.values())\n",
    "\n"
   ]
  },
  {
   "cell_type": "code",
   "execution_count": 118,
   "metadata": {},
   "outputs": [
    {
     "data": {
      "text/plain": [
       "dict_values([5, 1, 1, 1, 1, 1, 1, 1, 1, 71, 1, 1, 1, 1, 1, 1, 1, 1, 1, 1, 1, 1, 1, 1, 1, 1])"
      ]
     },
     "execution_count": 118,
     "metadata": {},
     "output_type": "execute_result"
    }
   ],
   "source": [
    "cluster_len_dict.values()"
   ]
  },
  {
   "cell_type": "code",
   "execution_count": 249,
   "metadata": {},
   "outputs": [],
   "source": [
    "x = 109"
   ]
  },
  {
   "cell_type": "code",
   "execution_count": 250,
   "metadata": {},
   "outputs": [],
   "source": [
    "y = int(0.7*x)"
   ]
  },
  {
   "cell_type": "code",
   "execution_count": 251,
   "metadata": {},
   "outputs": [],
   "source": [
    "z = x - y"
   ]
  },
  {
   "cell_type": "code",
   "execution_count": 252,
   "metadata": {},
   "outputs": [],
   "source": [
    "a=int(z/2)\n",
    "if z%2 == 0:\n",
    "    b=int(z/2)\n",
    "else:\n",
    "    b=int(z/2)+1"
   ]
  },
  {
   "cell_type": "code",
   "execution_count": 253,
   "metadata": {},
   "outputs": [
    {
     "data": {
      "text/plain": [
       "76"
      ]
     },
     "execution_count": 253,
     "metadata": {},
     "output_type": "execute_result"
    }
   ],
   "source": [
    "y"
   ]
  },
  {
   "cell_type": "code",
   "execution_count": 254,
   "metadata": {},
   "outputs": [
    {
     "data": {
      "text/plain": [
       "16"
      ]
     },
     "execution_count": 254,
     "metadata": {},
     "output_type": "execute_result"
    }
   ],
   "source": [
    "a"
   ]
  },
  {
   "cell_type": "code",
   "execution_count": 255,
   "metadata": {},
   "outputs": [
    {
     "data": {
      "text/plain": [
       "17"
      ]
     },
     "execution_count": 255,
     "metadata": {},
     "output_type": "execute_result"
    }
   ],
   "source": [
    "b"
   ]
  },
  {
   "cell_type": "code",
   "execution_count": 256,
   "metadata": {},
   "outputs": [
    {
     "data": {
      "text/plain": [
       "True"
      ]
     },
     "execution_count": 256,
     "metadata": {},
     "output_type": "execute_result"
    }
   ],
   "source": [
    "y+a+b == x"
   ]
  },
  {
   "cell_type": "code",
   "execution_count": 240,
   "metadata": {},
   "outputs": [],
   "source": [
    "# Later deal with the sets of size less than 3 aka 1 or 2: How to split them between training,testing,dev"
   ]
  },
  {
   "cell_type": "code",
   "execution_count": null,
   "metadata": {},
   "outputs": [],
   "source": []
  }
 ],
 "metadata": {
  "kernelspec": {
   "display_name": "Python 3",
   "language": "python",
   "name": "python3"
  },
  "language_info": {
   "codemirror_mode": {
    "name": "ipython",
    "version": 3
   },
   "file_extension": ".py",
   "mimetype": "text/x-python",
   "name": "python",
   "nbconvert_exporter": "python",
   "pygments_lexer": "ipython3",
   "version": "3.6.6"
  }
 },
 "nbformat": 4,
 "nbformat_minor": 2
}
