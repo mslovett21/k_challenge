{
 "cells": [
  {
   "cell_type": "code",
   "execution_count": null,
   "metadata": {},
   "outputs": [],
   "source": [
    "import markov_clustering as mc\n",
    "import numpy as np\n",
    "from sklearn.preprocessing import normalize\n",
    "\n",
    "similarity_matrix = np.loadtxt(open('similarity_test100.txt', \"r\"), delimiter=\",\")\n",
    "print(\"Matrix was loaded to the memory\")\n",
    "similarity_matrix = similarity_matrix + similarity_matrix.T\n",
    "A = similarity_matrix"
   ]
  },
  {
   "cell_type": "code",
   "execution_count": 44,
   "metadata": {},
   "outputs": [],
   "source": [
    "A[A<0.20]=0.0"
   ]
  },
  {
   "cell_type": "code",
   "execution_count": 45,
   "metadata": {},
   "outputs": [
    {
     "data": {
      "text/plain": [
       "array([[0.      , 0.      , 0.      , ..., 0.      , 0.      , 0.      ],\n",
       "       [0.      , 0.      , 0.      , ..., 0.2     , 0.      , 0.      ],\n",
       "       [0.      , 0.      , 0.      , ..., 0.215686, 0.      , 0.      ],\n",
       "       ...,\n",
       "       [0.      , 0.2     , 0.215686, ..., 0.      , 0.      , 0.      ],\n",
       "       [0.      , 0.      , 0.      , ..., 0.      , 0.      , 0.      ],\n",
       "       [0.      , 0.      , 0.      , ..., 0.      , 0.      , 0.      ]])"
      ]
     },
     "execution_count": 45,
     "metadata": {},
     "output_type": "execute_result"
    }
   ],
   "source": [
    "A"
   ]
  },
  {
   "cell_type": "code",
   "execution_count": 46,
   "metadata": {},
   "outputs": [
    {
     "data": {
      "text/plain": [
       "array([[0.        , 0.        , 0.        , ..., 0.        , 0.        ,\n",
       "        0.        ],\n",
       "       [0.        , 0.        , 0.        , ..., 0.06167247, 0.        ,\n",
       "        0.        ],\n",
       "       [0.        , 0.        , 0.        , ..., 0.50812176, 0.        ,\n",
       "        0.        ],\n",
       "       ...,\n",
       "       [0.        , 0.0591355 , 0.0637735 , ..., 0.        , 0.        ,\n",
       "        0.        ],\n",
       "       [0.        , 0.        , 0.        , ..., 0.        , 0.        ,\n",
       "        0.        ],\n",
       "       [0.        , 0.        , 0.        , ..., 0.        , 0.        ,\n",
       "        0.        ]])"
      ]
     },
     "execution_count": 46,
     "metadata": {},
     "output_type": "execute_result"
    }
   ],
   "source": [
    "A =normalize(A,norm='l1' )"
   ]
  },
  {
   "cell_type": "code",
   "execution_count": 47,
   "metadata": {},
   "outputs": [
    {
     "data": {
      "text/plain": [
       "[(0, 17),\n",
       " (1,),\n",
       " (2, 97),\n",
       " (3, 52),\n",
       " (4, 50),\n",
       " (5, 89),\n",
       " (6, 10, 29, 45, 48),\n",
       " (7, 26),\n",
       " (8,),\n",
       " (9,),\n",
       " (11,),\n",
       " (12, 30, 40, 42, 53, 60, 62, 67, 92, 96),\n",
       " (13, 20, 22, 41, 57),\n",
       " (14,),\n",
       " (15, 88),\n",
       " (16,),\n",
       " (18,),\n",
       " (19, 39, 76),\n",
       " (21,),\n",
       " (23, 25),\n",
       " (24,),\n",
       " (27, 38),\n",
       " (28,),\n",
       " (31, 33),\n",
       " (32,),\n",
       " (34, 80, 93, 94),\n",
       " (35, 84),\n",
       " (36, 65),\n",
       " (37,),\n",
       " (43,),\n",
       " (44,),\n",
       " (46,),\n",
       " (47,),\n",
       " (49,),\n",
       " (51, 61),\n",
       " (54,),\n",
       " (55,),\n",
       " (56, 98),\n",
       " (58,),\n",
       " (59, 95),\n",
       " (63, 74),\n",
       " (64,),\n",
       " (66,),\n",
       " (68,),\n",
       " (69,),\n",
       " (70,),\n",
       " (71,),\n",
       " (72, 83),\n",
       " (73, 79, 85, 87, 90),\n",
       " (75,),\n",
       " (77,),\n",
       " (78,),\n",
       " (81,),\n",
       " (82,),\n",
       " (86,),\n",
       " (91,),\n",
       " (99,)]"
      ]
     },
     "execution_count": 47,
     "metadata": {},
     "output_type": "execute_result"
    }
   ],
   "source": [
    "result   = mc.run_mcl(A, inflation = 2.1)\n",
    "clusters = mc.get_clusters(result)\n",
    "clusters"
   ]
  },
  {
   "cell_type": "code",
   "execution_count": null,
   "metadata": {},
   "outputs": [],
   "source": []
  },
  {
   "cell_type": "code",
   "execution_count": null,
   "metadata": {},
   "outputs": [],
   "source": []
  }
 ],
 "metadata": {
  "kernelspec": {
   "display_name": "Python 3",
   "language": "python",
   "name": "python3"
  },
  "language_info": {
   "codemirror_mode": {
    "name": "ipython",
    "version": 3
   },
   "file_extension": ".py",
   "mimetype": "text/x-python",
   "name": "python",
   "nbconvert_exporter": "python",
   "pygments_lexer": "ipython3",
   "version": "3.6.6"
  }
 },
 "nbformat": 4,
 "nbformat_minor": 2
}
