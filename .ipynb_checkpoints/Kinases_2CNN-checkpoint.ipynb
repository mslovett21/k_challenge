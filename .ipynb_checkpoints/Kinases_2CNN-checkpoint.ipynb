{
 "cells": [
  {
   "cell_type": "markdown",
   "metadata": {},
   "source": [
    "# TensorFlow Tutorial"
   ]
  },
  {
   "cell_type": "markdown",
   "metadata": {},
   "source": [
    "## Drug-Kinase Interaction Prediction with CNN"
   ]
  },
  {
   "cell_type": "code",
   "execution_count": 1,
   "metadata": {},
   "outputs": [],
   "source": [
    "%matplotlib inline\n",
    "import matplotlib.pyplot as plt\n",
    "import tensorflow as tf\n",
    "import numpy as np\n",
    "from sklearn.metrics import confusion_matrix\n",
    "import time\n",
    "from datetime import timedelta\n",
    "import math"
   ]
  },
  {
   "cell_type": "markdown",
   "metadata": {},
   "source": [
    "## Load data"
   ]
  },
  {
   "cell_type": "code",
   "execution_count": 1,
   "metadata": {},
   "outputs": [],
   "source": [
    "drug_fingerprints_fh = 'data_fingerprints_2/drug_fingerprints_sample10k.txt'\n",
    "drug_targets_fh      = 'data_fingerprints_2/drug_targets_sample10k.txt'\n",
    "drug_weights_fh      = 'data_fingerprints_2/drug_weights_sample10k.txt'"
   ]
  },
  {
   "cell_type": "markdown",
   "metadata": {},
   "source": [
    "### Dimensions of data "
   ]
  },
  {
   "cell_type": "code",
   "execution_count": 3,
   "metadata": {},
   "outputs": [],
   "source": [
    "sample_size       = 10000\n",
    "fingerprint_size  = 1024\n",
    "fingerprint_width = 32\n",
    "targets_num       = 420\n",
    "weights_num       = 420\n",
    "num_channels      = 1"
   ]
  },
  {
   "cell_type": "markdown",
   "metadata": {},
   "source": [
    "### Function helper that populates data structures with the actual data"
   ]
  },
  {
   "cell_type": "code",
   "execution_count": 4,
   "metadata": {},
   "outputs": [],
   "source": [
    "import re\n",
    "def populate_data(file_handle,data_matrix, data_size):\n",
    "    with open(file_handle) as fh:\n",
    "        j=0\n",
    "        content = fh.readlines()\n",
    "        content = [x.strip() for x in content]\n",
    "        for line in content:\n",
    "            result = re.split(r'[,\\t]\\s*',line)\n",
    "            for i in range(1,data_size+1):\n",
    "                data_matrix[j][i-1] = np.float32(result[i])\n",
    "            j=j+1\n",
    "    fh.close()\n",
    "    print(j)"
   ]
  },
  {
   "cell_type": "markdown",
   "metadata": {},
   "source": [
    "### Data structures for loaded data"
   ]
  },
  {
   "cell_type": "code",
   "execution_count": 5,
   "metadata": {},
   "outputs": [],
   "source": [
    "drug_fingerprints = []\n",
    "drug_targets      = []\n",
    "drug_weights      = []\n",
    "\n",
    "\n",
    "for i in range(sample_size):\n",
    "    fingerprint_holder = [0]* fingerprint_size\n",
    "    drug_fingerprints.append(fingerprint_holder)\n",
    "    \n",
    "for i in range(sample_size):\n",
    "    target_holder = [0]* targets_num\n",
    "    drug_targets.append(target_holder)\n",
    "\n",
    "for i in range(sample_size):\n",
    "    weight_holder = [0]* weights_num\n",
    "    drug_weights.append(weight_holder)"
   ]
  },
  {
   "cell_type": "code",
   "execution_count": 6,
   "metadata": {},
   "outputs": [
    {
     "name": "stdout",
     "output_type": "stream",
     "text": [
      "10000\n",
      "10000\n",
      "10000\n"
     ]
    }
   ],
   "source": [
    "populate_data(drug_weights_fh, drug_weights, weights_num)\n",
    "populate_data(drug_targets_fh, drug_targets, targets_num)\n",
    "populate_data(drug_fingerprints_fh, drug_fingerprints, fingerprint_size)"
   ]
  },
  {
   "cell_type": "code",
   "execution_count": 7,
   "metadata": {},
   "outputs": [],
   "source": [
    "drug_fingerprints = np.array(drug_fingerprints)\n",
    "drug_targets      = np.array(drug_targets)\n",
    "drug_weights      = np.array(drug_weights)"
   ]
  },
  {
   "cell_type": "code",
   "execution_count": 8,
   "metadata": {},
   "outputs": [
    {
     "data": {
      "text/plain": [
       "numpy.ndarray"
      ]
     },
     "execution_count": 8,
     "metadata": {},
     "output_type": "execute_result"
    }
   ],
   "source": [
    "type(drug_fingerprints)"
   ]
  },
  {
   "cell_type": "code",
   "execution_count": 9,
   "metadata": {},
   "outputs": [
    {
     "data": {
      "text/plain": [
       "numpy.ndarray"
      ]
     },
     "execution_count": 9,
     "metadata": {},
     "output_type": "execute_result"
    }
   ],
   "source": [
    "type(drug_fingerprints[0])"
   ]
  },
  {
   "cell_type": "code",
   "execution_count": 10,
   "metadata": {},
   "outputs": [
    {
     "data": {
      "text/plain": [
       "numpy.float32"
      ]
     },
     "execution_count": 10,
     "metadata": {},
     "output_type": "execute_result"
    }
   ],
   "source": [
    "type(drug_fingerprints[0][0])"
   ]
  },
  {
   "cell_type": "markdown",
   "metadata": {},
   "source": [
    "### All needed data is loaded..."
   ]
  },
  {
   "cell_type": "markdown",
   "metadata": {},
   "source": [
    "# TensorFlow"
   ]
  },
  {
   "cell_type": "markdown",
   "metadata": {},
   "source": [
    "## Placeholders"
   ]
  },
  {
   "cell_type": "markdown",
   "metadata": {},
   "source": [
    "Placeholder for the flat 'array' with **fingerprint** of each compound. `None` means that this tensor can hold arbitrary number of arrays with the fingerprints."
   ]
  },
  {
   "cell_type": "code",
   "execution_count": 11,
   "metadata": {},
   "outputs": [],
   "source": [
    "x = tf.placeholder(tf.float32, [None, fingerprint_size])"
   ]
  },
  {
   "cell_type": "markdown",
   "metadata": {},
   "source": [
    "Reshape input as a 2D matrix (imaage)"
   ]
  },
  {
   "cell_type": "code",
   "execution_count": 12,
   "metadata": {},
   "outputs": [],
   "source": [
    "x_image = tf.reshape(x, [-1, fingerprint_width, fingerprint_width, num_channels])"
   ]
  },
  {
   "cell_type": "markdown",
   "metadata": {},
   "source": [
    "Placeholder for the true labels (true targets) for each compound. (Here we have 420 targets - kinases)."
   ]
  },
  {
   "cell_type": "code",
   "execution_count": 13,
   "metadata": {},
   "outputs": [],
   "source": [
    "y_true = tf.placeholder(tf.float32, [None, targets_num])"
   ]
  },
  {
   "cell_type": "markdown",
   "metadata": {},
   "source": [
    "Placeholder for weights. The weights will be used to calculate cross-entropy cost function."
   ]
  },
  {
   "cell_type": "code",
   "execution_count": 14,
   "metadata": {},
   "outputs": [],
   "source": [
    "cross_entropy_weights = tf.placeholder(tf.float32, [None, weights_num])"
   ]
  },
  {
   "cell_type": "markdown",
   "metadata": {},
   "source": [
    "## Variables to Optimize"
   ]
  },
  {
   "cell_type": "code",
   "execution_count": 15,
   "metadata": {},
   "outputs": [],
   "source": [
    "def new_weights(shape):\n",
    "    return tf.Variable(tf.truncated_normal(shape, stddev=0.05))"
   ]
  },
  {
   "cell_type": "code",
   "execution_count": 16,
   "metadata": {},
   "outputs": [],
   "source": [
    "def new_biases(length):\n",
    "    return tf.Variable(tf.constant(0.05, shape=[length]))"
   ]
  },
  {
   "cell_type": "markdown",
   "metadata": {},
   "source": [
    "## Helper Function to Create Convolutional Layer"
   ]
  },
  {
   "cell_type": "code",
   "execution_count": 17,
   "metadata": {},
   "outputs": [],
   "source": [
    "def new_conv_layer(input,              # The previous layer.\n",
    "                   num_input_channels, # Num. channels in prev. layer.\n",
    "                   filter_size,        # Width and height of each filter.\n",
    "                   num_filters,        # Number of filters.\n",
    "                   use_pooling=True):  # Use 2x2 max-pooling.\n",
    "\n",
    "    # Shape of the filter-weights for the convolution.\n",
    "    shape = [filter_size, filter_size, num_input_channels, num_filters]\n",
    "\n",
    "    # Create new weights aka. filters with the given shape.\n",
    "    weights = new_weights(shape=shape)\n",
    "\n",
    "    # Create new biases, one for each filter.\n",
    "    biases = new_biases(length=num_filters)\n",
    "\n",
    "    # But e.g. strides=[1, 2, 2, 1] would mean that the filter\n",
    "    # is moved 2 pixels across the x- and y-axis of the image.\n",
    "    layer = tf.nn.conv2d(input=input,\n",
    "                         filter=weights,\n",
    "                         strides=[1, 1, 1, 1],\n",
    "                         padding='SAME')\n",
    "    \n",
    "    # Add the biases to the results of the convolution.\n",
    "    layer += biases\n",
    "\n",
    "    # Use pooling to down-sample the image resolution?\n",
    "    if use_pooling:\n",
    "        # This is 2x2 max-pooling, which means that we\n",
    "        # consider 2x2 windows and select the largest value\n",
    "        # in each window. Then we move 2 pixels to the next window.\n",
    "        layer = tf.nn.max_pool(value=layer,\n",
    "                               ksize=[1, 2, 2, 1],\n",
    "                               strides=[1, 2, 2, 1],\n",
    "                               padding='SAME')\n",
    "\n",
    "    # Rectified Linear Unit (ReLU).\n",
    "    layer = tf.nn.relu(layer)\n",
    "\n",
    "    return layer, weights"
   ]
  },
  {
   "cell_type": "markdown",
   "metadata": {},
   "source": [
    "## Helper Function for Flattening a Layer\n",
    "\n",
    "A convolutional layer produces an output tensor with 4 dimensions. We will add fully-connected layers after the convolution layers, so we need to reduce the 4-dim tensor to 2-dim which can be used as input to the fully-connected layer."
   ]
  },
  {
   "cell_type": "code",
   "execution_count": 18,
   "metadata": {},
   "outputs": [],
   "source": [
    "def flatten_layer(layer):\n",
    "        # Get the shape of the input layer.\n",
    "    layer_shape = layer.get_shape()\n",
    "\n",
    "    # The shape of the input layer is assumed to be:\n",
    "    # layer_shape == [num_images, img_height, img_width, num_channels]\n",
    "\n",
    "    # The number of features is: img_height * img_width * num_channels\n",
    "    # We can use a function from TensorFlow to calculate this.\n",
    "    num_features = layer_shape[1:4].num_elements()\n",
    "    \n",
    "    # Reshape the layer to [num_images, num_features].\n",
    "    # Note that we just set the size of the second dimension\n",
    "    # to num_features and the size of the first dimension to -1\n",
    "    # which means the size in that dimension is calculated\n",
    "    # so the total size of the tensor is unchanged from the reshaping.\n",
    "    layer_flat = tf.reshape(layer, [-1, num_features])\n",
    "\n",
    "    # The shape of the flattened layer is now:\n",
    "    # [num_images, img_height * img_width * num_channels]\n",
    "\n",
    "    # Return both the flattened layer and the number of features.\n",
    "    return layer_flat, num_features"
   ]
  },
  {
   "cell_type": "markdown",
   "metadata": {},
   "source": [
    "## Helper Function for Creating a New Fully-Connected Layer"
   ]
  },
  {
   "cell_type": "markdown",
   "metadata": {},
   "source": [
    "This function creates a new fully-connected layer in the computational graph for TensorFlow. Nothing is actually calculated here, we are just adding the mathematical formulas to the TensorFlow graph.\n",
    "\n",
    "It is assumed that the input is a 2-dim tensor of shape `[num_images, num_inputs]`. The output is a 2-dim tensor of shape `[num_images, num_outputs]`."
   ]
  },
  {
   "cell_type": "code",
   "execution_count": 19,
   "metadata": {},
   "outputs": [],
   "source": [
    "def new_fc_layer(input,          # The previous layer.\n",
    "                 num_inputs,     # Num. inputs from prev. layer.\n",
    "                 num_outputs,    # Num. outputs.\n",
    "                 use_relu=True): # Use Rectified Linear Unit (ReLU)?\n",
    "\n",
    "    # Create new weights and biases.\n",
    "    weights = new_weights(shape=[num_inputs, num_outputs])\n",
    "    biases = new_biases(length=num_outputs)\n",
    "\n",
    "    # Calculate the layer as the matrix multiplication of\n",
    "    # the input and weights, and then add the bias-values.\n",
    "    layer = tf.matmul(input, weights) + biases\n",
    "\n",
    "    # Use ReLU?\n",
    "    if use_relu:\n",
    "        layer = tf.nn.relu(layer)\n",
    "\n",
    "    return layer"
   ]
  },
  {
   "cell_type": "markdown",
   "metadata": {},
   "source": [
    "# Design Computational Graph for CNN"
   ]
  },
  {
   "cell_type": "markdown",
   "metadata": {},
   "source": [
    "We will create a CNN with two convolutional layers and flat layers. Specifically:\n",
    "* **Fist Layer** "
   ]
  },
  {
   "cell_type": "code",
   "execution_count": 20,
   "metadata": {},
   "outputs": [],
   "source": [
    "filter_size1 = 7\n",
    "num_filters1 = 16"
   ]
  },
  {
   "cell_type": "markdown",
   "metadata": {},
   "source": [
    "* **Second Layer**"
   ]
  },
  {
   "cell_type": "code",
   "execution_count": 21,
   "metadata": {},
   "outputs": [],
   "source": [
    "filter_size2 = 3\n",
    "num_filters2 = 32"
   ]
  },
  {
   "cell_type": "markdown",
   "metadata": {},
   "source": [
    "* **Fully Connected Layer**"
   ]
  },
  {
   "cell_type": "code",
   "execution_count": 22,
   "metadata": {},
   "outputs": [],
   "source": [
    "fc_size = 576"
   ]
  },
  {
   "cell_type": "markdown",
   "metadata": {},
   "source": [
    "### Convolutional Layer #1"
   ]
  },
  {
   "cell_type": "code",
   "execution_count": 23,
   "metadata": {},
   "outputs": [],
   "source": [
    "layer_conv1, weights_conv1 = \\\n",
    "    new_conv_layer(input=x_image,\n",
    "                   num_input_channels=num_channels,\n",
    "                   filter_size=filter_size1,\n",
    "                   num_filters=num_filters1,\n",
    "                   use_pooling=True)"
   ]
  },
  {
   "cell_type": "code",
   "execution_count": 24,
   "metadata": {},
   "outputs": [
    {
     "data": {
      "text/plain": [
       "<tf.Tensor 'Relu:0' shape=(?, 16, 16, 16) dtype=float32>"
      ]
     },
     "execution_count": 24,
     "metadata": {},
     "output_type": "execute_result"
    }
   ],
   "source": [
    "layer_conv1"
   ]
  },
  {
   "cell_type": "markdown",
   "metadata": {},
   "source": [
    "### Convolutional Layer #2"
   ]
  },
  {
   "cell_type": "code",
   "execution_count": 25,
   "metadata": {},
   "outputs": [],
   "source": [
    "layer_conv2, weights_conv2 = \\\n",
    "    new_conv_layer(input=layer_conv1,\n",
    "                   num_input_channels=num_filters1,\n",
    "                   filter_size=filter_size2,\n",
    "                   num_filters=num_filters2,\n",
    "                   use_pooling=True)"
   ]
  },
  {
   "cell_type": "code",
   "execution_count": 26,
   "metadata": {},
   "outputs": [
    {
     "data": {
      "text/plain": [
       "<tf.Tensor 'Relu_1:0' shape=(?, 8, 8, 32) dtype=float32>"
      ]
     },
     "execution_count": 26,
     "metadata": {},
     "output_type": "execute_result"
    }
   ],
   "source": [
    "layer_conv2"
   ]
  },
  {
   "cell_type": "markdown",
   "metadata": {},
   "source": [
    "### Flatten Layer"
   ]
  },
  {
   "cell_type": "code",
   "execution_count": 27,
   "metadata": {},
   "outputs": [],
   "source": [
    "layer_flat, num_features = flatten_layer(layer_conv2)"
   ]
  },
  {
   "cell_type": "code",
   "execution_count": 28,
   "metadata": {},
   "outputs": [
    {
     "data": {
      "text/plain": [
       "<tf.Tensor 'Reshape_1:0' shape=(?, 2048) dtype=float32>"
      ]
     },
     "execution_count": 28,
     "metadata": {},
     "output_type": "execute_result"
    }
   ],
   "source": [
    "layer_flat"
   ]
  },
  {
   "cell_type": "markdown",
   "metadata": {},
   "source": [
    "### Fully-Connected Layer 1"
   ]
  },
  {
   "cell_type": "code",
   "execution_count": 29,
   "metadata": {},
   "outputs": [],
   "source": [
    "layer_fc1 = new_fc_layer(input=layer_flat,\n",
    "                         num_inputs=num_features,\n",
    "                         num_outputs=fc_size,\n",
    "                         use_relu=True)"
   ]
  },
  {
   "cell_type": "code",
   "execution_count": 30,
   "metadata": {},
   "outputs": [
    {
     "data": {
      "text/plain": [
       "<tf.Tensor 'Relu_2:0' shape=(?, 576) dtype=float32>"
      ]
     },
     "execution_count": 30,
     "metadata": {},
     "output_type": "execute_result"
    }
   ],
   "source": [
    "layer_fc1"
   ]
  },
  {
   "cell_type": "markdown",
   "metadata": {},
   "source": [
    "### Fully-Connected Layer 2"
   ]
  },
  {
   "cell_type": "code",
   "execution_count": 31,
   "metadata": {},
   "outputs": [],
   "source": [
    "layer_fc2 = new_fc_layer(input=layer_fc1,\n",
    "                         num_inputs=fc_size,\n",
    "                         num_outputs=targets_num,\n",
    "                         use_relu=False)"
   ]
  },
  {
   "cell_type": "code",
   "execution_count": 32,
   "metadata": {},
   "outputs": [
    {
     "data": {
      "text/plain": [
       "<tf.Tensor 'add_3:0' shape=(?, 420) dtype=float32>"
      ]
     },
     "execution_count": 32,
     "metadata": {},
     "output_type": "execute_result"
    }
   ],
   "source": [
    "layer_fc2"
   ]
  },
  {
   "cell_type": "markdown",
   "metadata": {},
   "source": [
    "## Predicted Classes"
   ]
  },
  {
   "cell_type": "code",
   "execution_count": 33,
   "metadata": {},
   "outputs": [],
   "source": [
    "y_pred =tf.round(tf.nn.sigmoid(layer_fc2))"
   ]
  },
  {
   "cell_type": "code",
   "execution_count": 34,
   "metadata": {},
   "outputs": [
    {
     "data": {
      "text/plain": [
       "<tf.Tensor 'Round:0' shape=(?, 420) dtype=float32>"
      ]
     },
     "execution_count": 34,
     "metadata": {},
     "output_type": "execute_result"
    }
   ],
   "source": [
    "y_pred"
   ]
  },
  {
   "cell_type": "markdown",
   "metadata": {},
   "source": [
    "# Cost Function to be Optimized"
   ]
  },
  {
   "cell_type": "markdown",
   "metadata": {},
   "source": [
    "## tf.nn.weighted_cross_entropy_with_logits "
   ]
  },
  {
   "cell_type": "code",
   "execution_count": 35,
   "metadata": {},
   "outputs": [],
   "source": [
    "cross_entropy = tf.nn.sigmoid_cross_entropy_with_logits(logits=layer_fc2,\n",
    "                                                        labels=y_true)"
   ]
  },
  {
   "cell_type": "code",
   "execution_count": 36,
   "metadata": {},
   "outputs": [
    {
     "data": {
      "text/plain": [
       "<tf.Tensor 'logistic_loss:0' shape=(?, 420) dtype=float32>"
      ]
     },
     "execution_count": 36,
     "metadata": {},
     "output_type": "execute_result"
    }
   ],
   "source": [
    "cross_entropy"
   ]
  },
  {
   "cell_type": "code",
   "execution_count": 37,
   "metadata": {},
   "outputs": [],
   "source": [
    "cost = tf.reduce_mean(cross_entropy)"
   ]
  },
  {
   "cell_type": "code",
   "execution_count": 38,
   "metadata": {},
   "outputs": [
    {
     "data": {
      "text/plain": [
       "<tf.Tensor 'Mean:0' shape=() dtype=float32>"
      ]
     },
     "execution_count": 38,
     "metadata": {},
     "output_type": "execute_result"
    }
   ],
   "source": [
    "cost"
   ]
  },
  {
   "cell_type": "markdown",
   "metadata": {},
   "source": [
    "### Optimization Method"
   ]
  },
  {
   "cell_type": "code",
   "execution_count": 39,
   "metadata": {},
   "outputs": [],
   "source": [
    "optimizer = tf.train.AdamOptimizer(learning_rate=1e-4).minimize(cost)"
   ]
  },
  {
   "cell_type": "markdown",
   "metadata": {},
   "source": [
    "### Performance Measures"
   ]
  },
  {
   "cell_type": "code",
   "execution_count": 40,
   "metadata": {},
   "outputs": [],
   "source": [
    "#accuracy =tf.metrics.accuracy(labels=y_true,predictions=y_pred, weights=cross_entropy_weights)"
   ]
  },
  {
   "cell_type": "code",
   "execution_count": 41,
   "metadata": {},
   "outputs": [],
   "source": [
    "accuracy, accuracy_ops =tf.metrics.accuracy(labels=y_true,predictions=y_pred)"
   ]
  },
  {
   "cell_type": "code",
   "execution_count": 42,
   "metadata": {},
   "outputs": [],
   "source": [
    "stream_vars = [i for i in tf.local_variables()]"
   ]
  },
  {
   "cell_type": "code",
   "execution_count": 43,
   "metadata": {},
   "outputs": [
    {
     "name": "stdout",
     "output_type": "stream",
     "text": [
      "[<tf.Variable 'accuracy/total:0' shape=() dtype=float32_ref>, <tf.Variable 'accuracy/count:0' shape=() dtype=float32_ref>]\n"
     ]
    }
   ],
   "source": [
    "print(stream_vars)"
   ]
  },
  {
   "cell_type": "markdown",
   "metadata": {},
   "source": [
    "### Create TensorFlow session"
   ]
  },
  {
   "cell_type": "code",
   "execution_count": 44,
   "metadata": {},
   "outputs": [],
   "source": [
    "session = tf.Session()\n",
    "init = tf.group(tf.global_variables_initializer(), tf.local_variables_initializer())\n",
    "session.run(init)"
   ]
  },
  {
   "cell_type": "code",
   "execution_count": null,
   "metadata": {},
   "outputs": [],
   "source": []
  },
  {
   "cell_type": "code",
   "execution_count": 45,
   "metadata": {},
   "outputs": [],
   "source": [
    "train_batch_size = 64"
   ]
  },
  {
   "cell_type": "code",
   "execution_count": 46,
   "metadata": {},
   "outputs": [],
   "source": [
    "def fetch_batch(batch_size):\n",
    "    chosen = np.random.randint(len(drug_fingerprints), size = batch_size)\n",
    "    X_batch = drug_fingerprints[chosen, :]\n",
    "    y_batch = drug_targets[chosen, :]\n",
    "    cross_entropy_weights = drug_weights[chosen,:]\n",
    "    return X_batch,y_batch,cross_entropy_weights"
   ]
  },
  {
   "cell_type": "code",
   "execution_count": 47,
   "metadata": {},
   "outputs": [],
   "source": [
    "# Counter for total number of iterations performed so far.\n",
    "total_iterations = 0\n",
    "\n",
    "def optimize(num_iterations):\n",
    "    # Ensure we update the global variable rather than a local copy.\n",
    "    global total_iterations\n",
    "\n",
    "    # Start-time used for printing time-usage below.\n",
    "    start_time = time.time()\n",
    "\n",
    "    for i in range(total_iterations,\n",
    "                   total_iterations + num_iterations):\n",
    "\n",
    "        # Get a batch of training examples.\n",
    "        # x_batch now holds a batch of images and\n",
    "        # y_true_batch are the true labels for those images.\n",
    "        x_batch, y_true_batch, weights_batch = fetch_batch(train_batch_size)\n",
    "\n",
    "        # Put the batch into a dict with the proper names\n",
    "        # for placeholder variables in the TensorFlow graph.\n",
    "        feed_dict_train = {x: x_batch,\n",
    "                           y_true: y_true_batch,\n",
    "                          cross_entropy_weights: weights_batch}\n",
    "\n",
    "        # Run the optimizer using this batch of training data.\n",
    "        # TensorFlow assigns the variables in feed_dict_train\n",
    "        # to the placeholder variables and then runs the optimizer.\n",
    "        session.run(optimizer, feed_dict=feed_dict_train)\n",
    "\n",
    "        # Print status every 100 iterations.\n",
    "        if i % 1 == 0:\n",
    "            # Calculate the accuracy on the training-set.\n",
    "            acc_ops = session.run(accuracy_ops, feed_dict=feed_dict_train)\n",
    "\n",
    "            # Message for printing.\n",
    "            msg = \"Optimization Iteration: , Training Accuracy:\"\n",
    "\n",
    "            # Print it.\n",
    "            print(msg)\n",
    "            print(acc_ops)\n",
    "            print(i+1)\n",
    "            print('[total, count]:',session.run(stream_vars)) \n",
    "\n",
    "    # Update the total number of iterations performed.\n",
    "    total_iterations += num_iterations\n",
    "\n",
    "    # Ending time.\n",
    "    end_time = time.time()\n",
    "\n",
    "    # Difference between start and end-times.\n",
    "    time_dif = end_time - start_time\n",
    "\n",
    "    # Print the time-usage.\n",
    "    print(\"Time usage: \" + str(timedelta(seconds=int(round(time_dif)))))"
   ]
  },
  {
   "cell_type": "code",
   "execution_count": 48,
   "metadata": {},
   "outputs": [
    {
     "name": "stdout",
     "output_type": "stream",
     "text": [
      "Optimization Iteration: , Training Accuracy:\n",
      "0.40081847\n",
      "1\n",
      "[total, count]: [10774.0, 26880.0]\n",
      "Optimization Iteration: , Training Accuracy:\n",
      "0.41780135\n",
      "2\n",
      "[total, count]: [22461.0, 53760.0]\n",
      "Optimization Iteration: , Training Accuracy:\n",
      "0.43395337\n",
      "3\n",
      "[total, count]: [34994.0, 80640.0]\n",
      "Optimization Iteration: , Training Accuracy:\n",
      "0.45096725\n",
      "4\n",
      "[total, count]: [48488.0, 107520.0]\n",
      "Optimization Iteration: , Training Accuracy:\n",
      "0.4692485\n",
      "5\n",
      "[total, count]: [63067.0, 134400.0]\n",
      "Optimization Iteration: , Training Accuracy:\n",
      "0.48734498\n",
      "6\n",
      "[total, count]: [78599.0, 161280.0]\n",
      "Optimization Iteration: , Training Accuracy:\n",
      "0.505304\n",
      "7\n",
      "[total, count]: [95078.0, 188160.0]\n",
      "Optimization Iteration: , Training Accuracy:\n",
      "0.52270275\n",
      "8\n",
      "[total, count]: [112402.0, 215040.0]\n",
      "Optimization Iteration: , Training Accuracy:\n",
      "0.5396743\n",
      "9\n",
      "[total, count]: [130558.0, 241920.0]\n",
      "Optimization Iteration: , Training Accuracy:\n",
      "0.5559822\n",
      "10\n",
      "[total, count]: [149448.0, 268800.0]\n",
      "Optimization Iteration: , Training Accuracy:\n",
      "0.5716078\n",
      "11\n",
      "[total, count]: [169013.0, 295680.0]\n",
      "Optimization Iteration: , Training Accuracy:\n",
      "0.58639634\n",
      "12\n",
      "[total, count]: [189148.0, 322560.0]\n",
      "Optimization Iteration: , Training Accuracy:\n",
      "0.6006868\n",
      "13\n",
      "[total, count]: [209904.0, 349440.0]\n",
      "Optimization Iteration: , Training Accuracy:\n",
      "0.6146046\n",
      "14\n",
      "[total, count]: [231288.0, 376320.0]\n",
      "Optimization Iteration: , Training Accuracy:\n",
      "0.62820935\n",
      "15\n",
      "[total, count]: [253294.0, 403200.0]\n",
      "Optimization Iteration: , Training Accuracy:\n",
      "0.6411133\n",
      "16\n",
      "[total, count]: [275730.0, 430080.0]\n",
      "Optimization Iteration: , Training Accuracy:\n",
      "0.65356266\n",
      "17\n",
      "[total, count]: [298652.0, 456960.0]\n",
      "Optimization Iteration: , Training Accuracy:\n",
      "0.66536665\n",
      "18\n",
      "[total, count]: [321931.0, 483840.0]\n",
      "Optimization Iteration: , Training Accuracy:\n",
      "0.6766467\n",
      "19\n",
      "[total, count]: [345577.0, 510720.0]\n",
      "Optimization Iteration: , Training Accuracy:\n",
      "0.68722284\n",
      "20\n",
      "[total, count]: [369451.0, 537600.0]\n",
      "Optimization Iteration: , Training Accuracy:\n",
      "0.6975783\n",
      "21\n",
      "[total, count]: [393769.0, 564480.0]\n",
      "Optimization Iteration: , Training Accuracy:\n",
      "0.7073272\n",
      "22\n",
      "[total, count]: [418285.0, 591360.0]\n",
      "Optimization Iteration: , Training Accuracy:\n",
      "0.7166505\n",
      "23\n",
      "[total, count]: [443062.0, 618240.0]\n",
      "Optimization Iteration: , Training Accuracy:\n",
      "0.72559524\n",
      "24\n",
      "[total, count]: [468096.0, 645120.0]\n",
      "Optimization Iteration: , Training Accuracy:\n",
      "0.7339271\n",
      "25\n",
      "[total, count]: [493199.0, 672000.0]\n",
      "Optimization Iteration: , Training Accuracy:\n",
      "0.74179685\n",
      "26\n",
      "[total, count]: [518427.0, 698880.0]\n",
      "Optimization Iteration: , Training Accuracy:\n",
      "0.7492532\n",
      "27\n",
      "[total, count]: [543778.0, 725760.0]\n",
      "Optimization Iteration: , Training Accuracy:\n",
      "0.75641876\n",
      "28\n",
      "[total, count]: [569311.0, 752640.0]\n",
      "Optimization Iteration: , Training Accuracy:\n",
      "0.7629374\n",
      "29\n",
      "[total, count]: [594725.0, 779520.0]\n",
      "Optimization Iteration: , Training Accuracy:\n",
      "0.76921874\n",
      "30\n",
      "[total, count]: [620298.0, 806400.0]\n",
      "Optimization Iteration: , Training Accuracy:\n",
      "0.775078\n",
      "31\n",
      "[total, count]: [645857.0, 833280.0]\n",
      "Optimization Iteration: , Training Accuracy:\n",
      "0.7807966\n",
      "32\n",
      "[total, count]: [671610.0, 860160.0]\n",
      "Optimization Iteration: , Training Accuracy:\n",
      "0.7861562\n",
      "33\n",
      "[total, count]: [697352.0, 887040.0]\n",
      "Optimization Iteration: , Training Accuracy:\n",
      "0.791473\n",
      "34\n",
      "[total, count]: [723343.0, 913920.0]\n",
      "Optimization Iteration: , Training Accuracy:\n",
      "0.7966146\n",
      "35\n",
      "[total, count]: [749455.0, 940800.0]\n",
      "Optimization Iteration: , Training Accuracy:\n",
      "0.8014416\n",
      "36\n",
      "[total, count]: [775539.0, 967680.0]\n",
      "Optimization Iteration: , Training Accuracy:\n",
      "0.80608714\n",
      "37\n",
      "[total, count]: [801702.0, 994560.0]\n",
      "Optimization Iteration: , Training Accuracy:\n",
      "0.8105028\n",
      "38\n",
      "[total, count]: [827880.0, 1021440.0]\n",
      "Optimization Iteration: , Training Accuracy:\n",
      "0.8149277\n",
      "39\n",
      "[total, count]: [854305.0, 1048320.0]\n",
      "Optimization Iteration: , Training Accuracy:\n",
      "0.8192057\n",
      "40\n",
      "[total, count]: [880810.0, 1075200.0]\n",
      "Optimization Iteration: , Training Accuracy:\n",
      "0.8233259\n",
      "41\n",
      "[total, count]: [907371.0, 1102080.0]\n",
      "Optimization Iteration: , Training Accuracy:\n",
      "0.82716304\n",
      "42\n",
      "[total, count]: [933834.0, 1128960.0]\n",
      "Optimization Iteration: , Training Accuracy:\n",
      "0.83081484\n",
      "43\n",
      "[total, count]: [960289.0, 1155840.0]\n",
      "Optimization Iteration: , Training Accuracy:\n",
      "0.8344342\n",
      "44\n",
      "[total, count]: [986902.0, 1182720.0]\n",
      "Optimization Iteration: , Training Accuracy:\n",
      "0.83791584\n",
      "45\n",
      "[total, count]: [1013543.0, 1209600.0]\n",
      "Optimization Iteration: , Training Accuracy:\n",
      "0.84121865\n",
      "46\n",
      "[total, count]: [1040150.0, 1236480.0]\n",
      "Optimization Iteration: , Training Accuracy:\n",
      "0.8444347\n",
      "47\n",
      "[total, count]: [1066825.0, 1263360.0]\n",
      "Optimization Iteration: , Training Accuracy:\n",
      "0.84750587\n",
      "48\n",
      "[total, count]: [1093486.0, 1290240.0]\n",
      "Optimization Iteration: , Training Accuracy:\n",
      "0.8501883\n",
      "49\n",
      "[total, count]: [1119800.0, 1317120.0]\n",
      "Optimization Iteration: , Training Accuracy:\n",
      "0.8529286\n",
      "50\n",
      "[total, count]: [1146336.0, 1344000.0]\n",
      "Optimization Iteration: , Training Accuracy:\n",
      "0.8556285\n",
      "51\n",
      "[total, count]: [1172964.0, 1370880.0]\n",
      "Optimization Iteration: , Training Accuracy:\n",
      "0.85830617\n",
      "52\n",
      "[total, count]: [1199706.0, 1397760.0]\n",
      "Optimization Iteration: , Training Accuracy:\n",
      "0.8608315\n",
      "53\n",
      "[total, count]: [1226375.0, 1424640.0]\n",
      "Optimization Iteration: , Training Accuracy:\n",
      "0.8632902\n",
      "54\n",
      "[total, count]: [1253083.0, 1451520.0]\n",
      "Optimization Iteration: , Training Accuracy:\n",
      "0.8655431\n",
      "55\n",
      "[total, count]: [1279619.0, 1478400.0]\n",
      "Optimization Iteration: , Training Accuracy:\n",
      "0.8677668\n",
      "56\n",
      "[total, count]: [1306232.0, 1505280.0]\n",
      "Optimization Iteration: , Training Accuracy:\n",
      "0.8699522\n",
      "57\n",
      "[total, count]: [1332906.0, 1532160.0]\n",
      "Optimization Iteration: , Training Accuracy:\n",
      "0.8720706\n",
      "58\n",
      "[total, count]: [1359593.0, 1559040.0]\n",
      "Optimization Iteration: , Training Accuracy:\n",
      "0.8741122\n",
      "59\n",
      "[total, count]: [1386272.0, 1585920.0]\n",
      "Optimization Iteration: , Training Accuracy:\n",
      "0.87611485\n",
      "60\n",
      "[total, count]: [1412998.0, 1612800.0]\n",
      "Optimization Iteration: , Training Accuracy:\n",
      "0.878014\n",
      "61\n",
      "[total, count]: [1439662.0, 1639680.0]\n",
      "Optimization Iteration: , Training Accuracy:\n",
      "0.8798567\n",
      "62\n",
      "[total, count]: [1466334.0, 1666560.0]\n",
      "Optimization Iteration: , Training Accuracy:\n",
      "0.88159484\n",
      "63\n",
      "[total, count]: [1492928.0, 1693440.0]\n",
      "Optimization Iteration: , Training Accuracy:\n",
      "0.8833316\n",
      "64\n",
      "[total, count]: [1519613.0, 1720320.0]\n",
      "Optimization Iteration: , Training Accuracy:\n",
      "0.8849874\n",
      "65\n",
      "[total, count]: [1546250.0, 1747200.0]\n",
      "Optimization Iteration: , Training Accuracy:\n",
      "0.8866173\n",
      "66\n",
      "[total, count]: [1572930.0, 1774080.0]\n",
      "Optimization Iteration: , Training Accuracy:\n",
      "0.88818794\n",
      "67\n",
      "[total, count]: [1599591.0, 1800960.0]\n",
      "Optimization Iteration: , Training Accuracy:\n",
      "0.8897453\n",
      "68\n",
      "[total, count]: [1626312.0, 1827840.0]\n",
      "Optimization Iteration: , Training Accuracy:\n",
      "0.8912321\n",
      "69\n",
      "[total, count]: [1652986.0, 1854720.0]\n",
      "Optimization Iteration: , Training Accuracy:\n",
      "0.8927057\n",
      "70\n",
      "[total, count]: [1679715.0, 1881600.0]\n",
      "Optimization Iteration: , Training Accuracy:\n",
      "0.8941503\n",
      "71\n",
      "[total, count]: [1706468.0, 1908480.0]\n",
      "Optimization Iteration: , Training Accuracy:\n",
      "0.89552796\n",
      "72\n",
      "[total, count]: [1733169.0, 1935360.0]\n",
      "Optimization Iteration: , Training Accuracy:\n",
      "0.89689285\n",
      "73\n",
      "[total, count]: [1759919.0, 1962240.0]\n",
      "Optimization Iteration: , Training Accuracy:\n",
      "0.8981781\n",
      "74\n",
      "[total, count]: [1786584.0, 1989120.0]\n",
      "Optimization Iteration: , Training Accuracy:\n",
      "0.89946926\n",
      "75\n",
      "[total, count]: [1813330.0, 2016000.0]\n",
      "Optimization Iteration: , Training Accuracy:\n",
      "0.900698\n",
      "76\n",
      "[total, count]: [1840018.0, 2042880.0]\n",
      "Optimization Iteration: , Training Accuracy:\n",
      "0.90188473\n",
      "77\n",
      "[total, count]: [1866685.0, 2069760.0]\n",
      "Optimization Iteration: , Training Accuracy:\n",
      "0.9030449\n",
      "78\n",
      "[total, count]: [1893360.0, 2096640.0]\n",
      "Optimization Iteration: , Training Accuracy:\n",
      "0.90414405\n",
      "79\n",
      "[total, count]: [1919968.0, 2123520.0]\n",
      "Optimization Iteration: , Training Accuracy:\n",
      "0.9052776\n",
      "80\n",
      "[total, count]: [1946709.0, 2150400.0]\n",
      "Optimization Iteration: , Training Accuracy:\n",
      "0.9063644\n",
      "81\n",
      "[total, count]: [1973409.0, 2177280.0]\n",
      "Optimization Iteration: , Training Accuracy:\n",
      "0.90743595\n",
      "82\n",
      "[total, count]: [2000134.0, 2204160.0]\n",
      "Optimization Iteration: , Training Accuracy:\n",
      "0.908475\n",
      "83\n",
      "[total, count]: [2026844.0, 2231040.0]\n",
      "Optimization Iteration: , Training Accuracy:\n",
      "0.9093976\n",
      "84\n",
      "[total, count]: [2053347.0, 2257920.0]\n",
      "Optimization Iteration: , Training Accuracy:\n",
      "0.9103983\n",
      "85\n",
      "[total, count]: [2080078.0, 2284800.0]\n",
      "Optimization Iteration: , Training Accuracy:\n",
      "0.91137224\n",
      "86\n",
      "[total, count]: [2106801.0, 2311680.0]\n",
      "Optimization Iteration: , Training Accuracy:\n",
      "0.9122969\n",
      "87\n",
      "[total, count]: [2133461.0, 2338560.0]\n",
      "Optimization Iteration: , Training Accuracy:\n",
      "0.91320264\n",
      "88\n",
      "[total, count]: [2160126.0, 2365440.0]\n",
      "Optimization Iteration: , Training Accuracy:\n",
      "0.9141135\n",
      "89\n",
      "[total, count]: [2186852.0, 2392320.0]\n"
     ]
    },
    {
     "name": "stdout",
     "output_type": "stream",
     "text": [
      "Optimization Iteration: , Training Accuracy:\n",
      "0.9149392\n",
      "90\n",
      "[total, count]: [2213421.0, 2419200.0]\n",
      "Optimization Iteration: , Training Accuracy:\n",
      "0.9157873\n",
      "91\n",
      "[total, count]: [2240089.0, 2446080.0]\n",
      "Optimization Iteration: , Training Accuracy:\n",
      "0.91665614\n",
      "92\n",
      "[total, count]: [2266854.0, 2472960.0]\n",
      "Optimization Iteration: , Training Accuracy:\n",
      "0.91748995\n",
      "93\n",
      "[total, count]: [2293578.0, 2499840.0]\n",
      "Optimization Iteration: , Training Accuracy:\n",
      "0.9182881\n",
      "94\n",
      "[total, count]: [2320257.0, 2526720.0]\n",
      "Optimization Iteration: , Training Accuracy:\n",
      "0.91906404\n",
      "95\n",
      "[total, count]: [2346922.0, 2553600.0]\n",
      "Optimization Iteration: , Training Accuracy:\n",
      "0.9198467\n",
      "96\n",
      "[total, count]: [2373646.0, 2580480.0]\n",
      "Optimization Iteration: , Training Accuracy:\n",
      "0.92061013\n",
      "97\n",
      "[total, count]: [2400362.0, 2607360.0]\n",
      "Optimization Iteration: , Training Accuracy:\n",
      "0.92136216\n",
      "98\n",
      "[total, count]: [2427089.0, 2634240.0]\n",
      "Optimization Iteration: , Training Accuracy:\n",
      "0.9220948\n",
      "99\n",
      "[total, count]: [2453805.0, 2661120.0]\n",
      "Optimization Iteration: , Training Accuracy:\n",
      "0.9228114\n",
      "100\n",
      "[total, count]: [2480517.0, 2688000.0]\n",
      "Optimization Iteration: , Training Accuracy:\n",
      "0.92352366\n",
      "101\n",
      "[total, count]: [2507256.0, 2714880.0]\n",
      "Optimization Iteration: , Training Accuracy:\n",
      "0.92415494\n",
      "102\n",
      "[total, count]: [2533811.0, 2741760.0]\n",
      "Optimization Iteration: , Training Accuracy:\n",
      "0.9248277\n",
      "103\n",
      "[total, count]: [2560515.0, 2768640.0]\n",
      "Optimization Iteration: , Training Accuracy:\n",
      "0.9254865\n",
      "104\n",
      "[total, count]: [2587216.0, 2795520.0]\n",
      "Optimization Iteration: , Training Accuracy:\n",
      "0.9261065\n",
      "105\n",
      "[total, count]: [2613843.0, 2822400.0]\n",
      "Optimization Iteration: , Training Accuracy:\n",
      "0.9267422\n",
      "106\n",
      "[total, count]: [2640548.0, 2849280.0]\n",
      "Optimization Iteration: , Training Accuracy:\n",
      "0.9273636\n",
      "107\n",
      "[total, count]: [2667246.0, 2876160.0]\n",
      "Optimization Iteration: , Training Accuracy:\n",
      "0.92796105\n",
      "108\n",
      "[total, count]: [2693908.0, 2903040.0]\n",
      "Optimization Iteration: , Training Accuracy:\n",
      "0.9285711\n",
      "109\n",
      "[total, count]: [2720639.0, 2929920.0]\n",
      "Optimization Iteration: , Training Accuracy:\n",
      "0.9291558\n",
      "110\n",
      "[total, count]: [2747328.0, 2956800.0]\n",
      "Optimization Iteration: , Training Accuracy:\n",
      "0.9297431\n",
      "111\n",
      "[total, count]: [2774056.0, 2983680.0]\n",
      "Optimization Iteration: , Training Accuracy:\n",
      "0.9302552\n",
      "112\n",
      "[total, count]: [2800589.0, 3010560.0]\n",
      "Optimization Iteration: , Training Accuracy:\n",
      "0.93084145\n",
      "113\n",
      "[total, count]: [2827375.0, 3037440.0]\n",
      "Optimization Iteration: , Training Accuracy:\n",
      "0.93138313\n",
      "114\n",
      "[total, count]: [2854056.0, 3064320.0]\n",
      "Optimization Iteration: , Training Accuracy:\n",
      "0.93188953\n",
      "115\n",
      "[total, count]: [2880657.0, 3091200.0]\n",
      "Optimization Iteration: , Training Accuracy:\n",
      "0.9324065\n",
      "116\n",
      "[total, count]: [2907318.0, 3118080.0]\n",
      "Optimization Iteration: , Training Accuracy:\n",
      "0.9329044\n",
      "117\n",
      "[total, count]: [2933947.0, 3144960.0]\n",
      "Optimization Iteration: , Training Accuracy:\n",
      "0.9334421\n",
      "118\n",
      "[total, count]: [2960729.0, 3171840.0]\n",
      "Optimization Iteration: , Training Accuracy:\n",
      "0.93395233\n",
      "119\n",
      "[total, count]: [2987452.0, 3198720.0]\n",
      "Optimization Iteration: , Training Accuracy:\n",
      "0.9344457\n",
      "120\n",
      "[total, count]: [3014148.0, 3225600.0]\n",
      "Optimization Iteration: , Training Accuracy:\n",
      "0.93494594\n",
      "121\n",
      "[total, count]: [3040893.0, 3252480.0]\n",
      "Optimization Iteration: , Training Accuracy:\n",
      "0.93542737\n",
      "122\n",
      "[total, count]: [3067603.0, 3279360.0]\n",
      "Optimization Iteration: , Training Accuracy:\n",
      "0.93591696\n",
      "123\n",
      "[total, count]: [3094366.0, 3306240.0]\n",
      "Optimization Iteration: , Training Accuracy:\n",
      "0.93639684\n",
      "124\n",
      "[total, count]: [3121123.0, 3333120.0]\n",
      "Optimization Iteration: , Training Accuracy:\n",
      "0.9368408\n",
      "125\n",
      "[total, count]: [3147785.0, 3360000.0]\n",
      "Optimization Iteration: , Training Accuracy:\n",
      "0.93726\n",
      "126\n",
      "[total, count]: [3174387.0, 3386880.0]\n",
      "Optimization Iteration: , Training Accuracy:\n",
      "0.93770623\n",
      "127\n",
      "[total, count]: [3201104.0, 3413760.0]\n",
      "Optimization Iteration: , Training Accuracy:\n",
      "0.93814725\n",
      "128\n",
      "[total, count]: [3227827.0, 3440640.0]\n",
      "Optimization Iteration: , Training Accuracy:\n",
      "0.93857455\n",
      "129\n",
      "[total, count]: [3254526.0, 3467520.0]\n",
      "Optimization Iteration: , Training Accuracy:\n",
      "0.9390067\n",
      "130\n",
      "[total, count]: [3281265.0, 3494400.0]\n",
      "Optimization Iteration: , Training Accuracy:\n",
      "0.939428\n",
      "131\n",
      "[total, count]: [3307989.0, 3521280.0]\n",
      "Optimization Iteration: , Training Accuracy:\n",
      "0.9398474\n",
      "132\n",
      "[total, count]: [3334729.0, 3548160.0]\n",
      "Optimization Iteration: , Training Accuracy:\n",
      "0.9401872\n",
      "133\n",
      "[total, count]: [3361207.0, 3575040.0]\n",
      "Optimization Iteration: , Training Accuracy:\n",
      "0.94058114\n",
      "134\n",
      "[total, count]: [3387898.0, 3601920.0]\n",
      "Optimization Iteration: , Training Accuracy:\n",
      "0.940986\n",
      "135\n",
      "[total, count]: [3414650.0, 3628800.0]\n",
      "Optimization Iteration: , Training Accuracy:\n",
      "0.9413751\n",
      "136\n",
      "[total, count]: [3441366.0, 3655680.0]\n",
      "Optimization Iteration: , Training Accuracy:\n",
      "0.9417237\n",
      "137\n",
      "[total, count]: [3467954.0, 3682560.0]\n",
      "Optimization Iteration: , Training Accuracy:\n",
      "0.9421131\n",
      "138\n",
      "[total, count]: [3494712.0, 3709440.0]\n",
      "Optimization Iteration: , Training Accuracy:\n",
      "0.94248325\n",
      "139\n",
      "[total, count]: [3521419.0, 3736320.0]\n",
      "Optimization Iteration: , Training Accuracy:\n",
      "0.9428457\n",
      "140\n",
      "[total, count]: [3548117.0, 3763200.0]\n",
      "Optimization Iteration: , Training Accuracy:\n",
      "0.94316506\n",
      "141\n",
      "[total, count]: [3574671.0, 3790080.0]\n",
      "Optimization Iteration: , Training Accuracy:\n",
      "0.94349873\n",
      "142\n",
      "[total, count]: [3601297.0, 3816960.0]\n",
      "Optimization Iteration: , Training Accuracy:\n",
      "0.94384784\n",
      "143\n",
      "[total, count]: [3628000.0, 3843840.0]\n",
      "Optimization Iteration: , Training Accuracy:\n",
      "0.94417137\n",
      "144\n",
      "[total, count]: [3654623.0, 3870720.0]\n",
      "Optimization Iteration: , Training Accuracy:\n",
      "0.94446504\n",
      "145\n",
      "[total, count]: [3681147.0, 3897600.0]\n",
      "Optimization Iteration: , Training Accuracy:\n",
      "0.9448087\n",
      "146\n",
      "[total, count]: [3707883.0, 3924480.0]\n",
      "Optimization Iteration: , Training Accuracy:\n",
      "0.9451579\n",
      "147\n",
      "[total, count]: [3734659.0, 3951360.0]\n",
      "Optimization Iteration: , Training Accuracy:\n",
      "0.9454505\n",
      "148\n",
      "[total, count]: [3761229.0, 3978240.0]\n",
      "Optimization Iteration: , Training Accuracy:\n",
      "0.9457784\n",
      "149\n",
      "[total, count]: [3787956.0, 4005120.0]\n",
      "Optimization Iteration: , Training Accuracy:\n",
      "0.9461069\n",
      "150\n",
      "[total, count]: [3814703.0, 4032000.0]\n",
      "Optimization Iteration: , Training Accuracy:\n",
      "0.94642884\n",
      "151\n",
      "[total, count]: [3841441.0, 4058880.0]\n",
      "Optimization Iteration: , Training Accuracy:\n",
      "0.94675064\n",
      "152\n",
      "[total, count]: [3868196.0, 4085760.0]\n",
      "Optimization Iteration: , Training Accuracy:\n",
      "0.94706005\n",
      "153\n",
      "[total, count]: [3894917.0, 4112640.0]\n",
      "Optimization Iteration: , Training Accuracy:\n",
      "0.94736856\n",
      "154\n",
      "[total, count]: [3921651.0, 4139520.0]\n",
      "Optimization Iteration: , Training Accuracy:\n",
      "0.9476469\n",
      "155\n",
      "[total, count]: [3948276.0, 4166400.0]\n",
      "Optimization Iteration: , Training Accuracy:\n",
      "0.94794697\n",
      "156\n",
      "[total, count]: [3975007.0, 4193280.0]\n",
      "Optimization Iteration: , Training Accuracy:\n",
      "0.94824344\n",
      "157\n",
      "[total, count]: [4001739.0, 4220160.0]\n",
      "Optimization Iteration: , Training Accuracy:\n",
      "0.9485399\n",
      "158\n",
      "[total, count]: [4028487.0, 4247040.0]\n",
      "Optimization Iteration: , Training Accuracy:\n",
      "0.948832\n",
      "159\n",
      "[total, count]: [4055232.0, 4273920.0]\n",
      "Optimization Iteration: , Training Accuracy:\n",
      "0.9491218\n",
      "160\n",
      "[total, count]: [4081983.0, 4300800.0]\n",
      "Optimization Iteration: , Training Accuracy:\n",
      "0.94939876\n",
      "161\n",
      "[total, count]: [4108694.0, 4327680.0]\n",
      "Optimization Iteration: , Training Accuracy:\n",
      "0.9496716\n",
      "162\n",
      "[total, count]: [4135402.0, 4354560.0]\n",
      "Optimization Iteration: , Training Accuracy:\n",
      "0.94995505\n",
      "163\n",
      "[total, count]: [4162171.0, 4381440.0]\n",
      "Optimization Iteration: , Training Accuracy:\n",
      "0.95021915\n",
      "164\n",
      "[total, count]: [4188870.0, 4408320.0]\n",
      "Optimization Iteration: , Training Accuracy:\n",
      "0.95049804\n",
      "165\n",
      "[total, count]: [4215649.0, 4435200.0]\n",
      "Optimization Iteration: , Training Accuracy:\n",
      "0.9507557\n",
      "166\n",
      "[total, count]: [4242348.0, 4462080.0]\n",
      "Optimization Iteration: , Training Accuracy:\n",
      "0.95101094\n",
      "167\n",
      "[total, count]: [4269050.0, 4488960.0]\n",
      "Optimization Iteration: , Training Accuracy:\n",
      "0.9512695\n",
      "168\n",
      "[total, count]: [4295781.0, 4515840.0]\n",
      "Optimization Iteration: , Training Accuracy:\n",
      "0.95152617\n",
      "169\n",
      "[total, count]: [4322517.0, 4542720.0]\n",
      "Optimization Iteration: , Training Accuracy:\n",
      "0.9517658\n",
      "170\n",
      "[total, count]: [4349189.0, 4569600.0]\n",
      "Optimization Iteration: , Training Accuracy:\n",
      "0.9520033\n",
      "171\n",
      "[total, count]: [4375864.0, 4596480.0]\n",
      "Optimization Iteration: , Training Accuracy:\n",
      "0.95223606\n",
      "172\n",
      "[total, count]: [4402530.0, 4623360.0]\n",
      "Optimization Iteration: , Training Accuracy:\n",
      "0.9524818\n",
      "173\n",
      "[total, count]: [4429269.0, 4650240.0]\n"
     ]
    },
    {
     "name": "stdout",
     "output_type": "stream",
     "text": [
      "Optimization Iteration: , Training Accuracy:\n",
      "0.9527245\n",
      "174\n",
      "[total, count]: [4456007.0, 4677120.0]\n",
      "Optimization Iteration: , Training Accuracy:\n",
      "0.9529315\n",
      "175\n",
      "[total, count]: [4482590.0, 4704000.0]\n",
      "Optimization Iteration: , Training Accuracy:\n",
      "0.95317364\n",
      "176\n",
      "[total, count]: [4509350.0, 4730880.0]\n",
      "Optimization Iteration: , Training Accuracy:\n",
      "0.95340204\n",
      "177\n",
      "[total, count]: [4536058.0, 4757760.0]\n",
      "Optimization Iteration: , Training Accuracy:\n",
      "0.9536253\n",
      "178\n",
      "[total, count]: [4562754.0, 4784640.0]\n",
      "Optimization Iteration: , Training Accuracy:\n",
      "0.95384246\n",
      "179\n",
      "[total, count]: [4589432.0, 4811520.0]\n",
      "Optimization Iteration: , Training Accuracy:\n",
      "0.9540257\n",
      "180\n",
      "[total, count]: [4615958.0, 4838400.0]\n",
      "Optimization Iteration: , Training Accuracy:\n",
      "0.95425874\n",
      "181\n",
      "[total, count]: [4642736.0, 4865280.0]\n",
      "Optimization Iteration: , Training Accuracy:\n",
      "0.9544582\n",
      "182\n",
      "[total, count]: [4669362.0, 4892160.0]\n",
      "Optimization Iteration: , Training Accuracy:\n",
      "0.95465314\n",
      "183\n",
      "[total, count]: [4695977.0, 4919040.0]\n",
      "Optimization Iteration: , Training Accuracy:\n",
      "0.9548604\n",
      "184\n",
      "[total, count]: [4722663.0, 4945920.0]\n",
      "Optimization Iteration: , Training Accuracy:\n",
      "0.95507157\n",
      "185\n",
      "[total, count]: [4749380.0, 4972800.0]\n",
      "Optimization Iteration: , Training Accuracy:\n",
      "0.9552795\n",
      "186\n",
      "[total, count]: [4776092.0, 4999680.0]\n",
      "Optimization Iteration: , Training Accuracy:\n",
      "0.95547175\n",
      "187\n",
      "[total, count]: [4802736.0, 5026560.0]\n",
      "Optimization Iteration: , Training Accuracy:\n",
      "0.9556577\n",
      "188\n",
      "[total, count]: [4829359.0, 5053440.0]\n",
      "Optimization Iteration: , Training Accuracy:\n",
      "0.95586616\n",
      "189\n",
      "[total, count]: [4856106.0, 5080320.0]\n",
      "Optimization Iteration: , Training Accuracy:\n",
      "0.9560667\n",
      "190\n",
      "[total, count]: [4882824.0, 5107200.0]\n",
      "Optimization Iteration: , Training Accuracy:\n",
      "0.95626926\n",
      "191\n",
      "[total, count]: [4909563.0, 5134080.0]\n",
      "Optimization Iteration: , Training Accuracy:\n",
      "0.95646006\n",
      "192\n",
      "[total, count]: [4936252.0, 5160960.0]\n",
      "Optimization Iteration: , Training Accuracy:\n",
      "0.95664495\n",
      "193\n",
      "[total, count]: [4962921.0, 5187840.0]\n",
      "Optimization Iteration: , Training Accuracy:\n",
      "0.9568305\n",
      "194\n",
      "[total, count]: [4989603.0, 5214720.0]\n",
      "Optimization Iteration: , Training Accuracy:\n",
      "0.9570204\n",
      "195\n",
      "[total, count]: [5016318.0, 5241600.0]\n",
      "Optimization Iteration: , Training Accuracy:\n",
      "0.9571694\n",
      "196\n",
      "[total, count]: [5042828.0, 5268480.0]\n",
      "Optimization Iteration: , Training Accuracy:\n",
      "0.9573234\n",
      "197\n",
      "[total, count]: [5069372.0, 5295360.0]\n",
      "Optimization Iteration: , Training Accuracy:\n",
      "0.9575087\n",
      "198\n",
      "[total, count]: [5096091.0, 5322240.0]\n",
      "Optimization Iteration: , Training Accuracy:\n",
      "0.957691\n",
      "199\n",
      "[total, count]: [5122804.0, 5349120.0]\n",
      "Optimization Iteration: , Training Accuracy:\n",
      "0.95787185\n",
      "200\n",
      "[total, count]: [5149519.0, 5376000.0]\n",
      "Optimization Iteration: , Training Accuracy:\n",
      "0.95804644\n",
      "201\n",
      "[total, count]: [5176210.0, 5402880.0]\n",
      "Time usage: 0:00:10\n"
     ]
    }
   ],
   "source": [
    "optimize(num_iterations=201)"
   ]
  },
  {
   "cell_type": "code",
   "execution_count": null,
   "metadata": {},
   "outputs": [],
   "source": []
  },
  {
   "cell_type": "code",
   "execution_count": null,
   "metadata": {},
   "outputs": [],
   "source": []
  },
  {
   "cell_type": "markdown",
   "metadata": {},
   "source": [
    "# How to correctly use accuracy in TensorFlow?"
   ]
  },
  {
   "cell_type": "markdown",
   "metadata": {},
   "source": [
    "https://stackoverflow.com/questions/46409626/how-to-properly-use-tf-metrics-accuracy"
   ]
  },
  {
   "cell_type": "markdown",
   "metadata": {},
   "source": [
    "The accuracy function `tf.metrics.accuracy` calculates how often predictions matches labels based on two local variables it creates: `total` and `count`, that are used to compute the frequency with which logits matches labels. "
   ]
  },
  {
   "cell_type": "code",
   "execution_count": 2,
   "metadata": {},
   "outputs": [],
   "source": [
    "logits = tf.placeholder(tf.int64, [2,3])\n",
    "labels = tf.Variable([[0, 1, 0], [1, 0, 1]])\n",
    "\n",
    "acc, acc_op = tf.metrics.accuracy(labels=tf.argmax(labels, 1),   \n",
    "                                  predictions=tf.argmax(logits,1))"
   ]
  },
  {
   "cell_type": "markdown",
   "metadata": {},
   "source": [
    "### Initialize local variables\n",
    "Since metrics.accuracy creates two local variables `total` and `count`, we need to call `local_variables_initializer()` to initialize them."
   ]
  },
  {
   "cell_type": "code",
   "execution_count": 3,
   "metadata": {},
   "outputs": [
    {
     "name": "stdout",
     "output_type": "stream",
     "text": [
      "[<tf.Variable 'accuracy/total:0' shape=() dtype=float32_ref>, <tf.Variable 'accuracy/count:0' shape=() dtype=float32_ref>]\n"
     ]
    }
   ],
   "source": [
    "sess = tf.Session()\n",
    "\n",
    "sess.run(tf.local_variables_initializer())\n",
    "sess.run(tf.global_variables_initializer())\n",
    "\n",
    "stream_vars = [i for i in tf.local_variables()]\n",
    "print(stream_vars)"
   ]
  },
  {
   "cell_type": "code",
   "execution_count": 4,
   "metadata": {},
   "outputs": [],
   "source": [
    "a=[[0,1,0],[1,0,1]]"
   ]
  },
  {
   "cell_type": "code",
   "execution_count": 5,
   "metadata": {},
   "outputs": [
    {
     "data": {
      "text/plain": [
       "array([1, 0])"
      ]
     },
     "execution_count": 5,
     "metadata": {},
     "output_type": "execute_result"
    }
   ],
   "source": [
    "np.argmax(a,axis=1)"
   ]
  },
  {
   "cell_type": "code",
   "execution_count": 6,
   "metadata": {},
   "outputs": [],
   "source": [
    "b = [[1,0,0],[0,1,0]]"
   ]
  },
  {
   "cell_type": "code",
   "execution_count": 7,
   "metadata": {},
   "outputs": [
    {
     "data": {
      "text/plain": [
       "array([0, 1])"
      ]
     },
     "execution_count": 7,
     "metadata": {},
     "output_type": "execute_result"
    }
   ],
   "source": [
    "np.argmax(b,axis=1)"
   ]
  },
  {
   "cell_type": "code",
   "execution_count": 8,
   "metadata": {},
   "outputs": [
    {
     "name": "stdout",
     "output_type": "stream",
     "text": [
      "acc: 0.0\n"
     ]
    }
   ],
   "source": [
    "print('acc:',sess.run(acc, {logits:[[0,1,0],[1,0,1]]}))"
   ]
  },
  {
   "cell_type": "markdown",
   "metadata": {},
   "source": [
    "In the example above even though we gave exactly matching examples, the total and count is zero => accuracy is 0.0"
   ]
  },
  {
   "cell_type": "code",
   "execution_count": 9,
   "metadata": {},
   "outputs": [
    {
     "name": "stdout",
     "output_type": "stream",
     "text": [
      "[total, count]: [0.0, 0.0]\n"
     ]
    }
   ],
   "source": [
    "print('[total, count]:',sess.run(stream_vars)) "
   ]
  },
  {
   "cell_type": "code",
   "execution_count": 10,
   "metadata": {},
   "outputs": [
    {
     "name": "stdout",
     "output_type": "stream",
     "text": [
      "ops: 1.0\n",
      "[total, count]: [2.0, 2.0]\n"
     ]
    }
   ],
   "source": [
    "print('ops:', sess.run(acc_op, {logits:[[0,1,0],[1,0,1]]})) \n",
    "print('[total, count]:',sess.run(stream_vars)) "
   ]
  },
  {
   "cell_type": "markdown",
   "metadata": {},
   "source": [
    "Above, we do it again now calling acc_op and we get actual updated results"
   ]
  },
  {
   "cell_type": "markdown",
   "metadata": {},
   "source": [
    "Now we give new instance that is totally wrong/mismatched"
   ]
  },
  {
   "cell_type": "code",
   "execution_count": 11,
   "metadata": {},
   "outputs": [
    {
     "name": "stdout",
     "output_type": "stream",
     "text": [
      "acc: 1.0\n"
     ]
    }
   ],
   "source": [
    "print('acc:', sess.run(acc,{logits:[[1,0,0],[0,1,0]]}))"
   ]
  },
  {
   "cell_type": "code",
   "execution_count": 12,
   "metadata": {},
   "outputs": [
    {
     "name": "stdout",
     "output_type": "stream",
     "text": [
      "op: 0.75\n"
     ]
    }
   ],
   "source": [
    "print('op:',sess.run(acc_op,{logits:[[0,1,0],[0,1,0]]}))"
   ]
  },
  {
   "cell_type": "code",
   "execution_count": 13,
   "metadata": {},
   "outputs": [
    {
     "name": "stdout",
     "output_type": "stream",
     "text": [
      "[total, count]: [3.0, 4.0]\n"
     ]
    }
   ],
   "source": [
    "print('[total, count]:',sess.run(stream_vars)) "
   ]
  },
  {
   "cell_type": "code",
   "execution_count": null,
   "metadata": {},
   "outputs": [],
   "source": []
  },
  {
   "cell_type": "code",
   "execution_count": null,
   "metadata": {},
   "outputs": [],
   "source": []
  },
  {
   "cell_type": "code",
   "execution_count": null,
   "metadata": {},
   "outputs": [],
   "source": []
  }
 ],
 "metadata": {
  "kernelspec": {
   "display_name": "Python 3",
   "language": "python",
   "name": "python3"
  },
  "language_info": {
   "codemirror_mode": {
    "name": "ipython",
    "version": 3
   },
   "file_extension": ".py",
   "mimetype": "text/x-python",
   "name": "python",
   "nbconvert_exporter": "python",
   "pygments_lexer": "ipython3",
   "version": "3.6.6"
  }
 },
 "nbformat": 4,
 "nbformat_minor": 2
}
