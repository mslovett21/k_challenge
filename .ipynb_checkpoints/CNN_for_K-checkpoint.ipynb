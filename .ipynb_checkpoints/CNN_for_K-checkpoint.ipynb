{
 "cells": [
  {
   "cell_type": "markdown",
   "metadata": {},
   "source": [
    "## Drug-Kinase Interaction Prediction with CNN"
   ]
  },
  {
   "cell_type": "markdown",
   "metadata": {},
   "source": [
    "## Problem:\n",
    "\n",
    "* This is a Multi-Label Classification problem where multiple labels may be assigned to each instance."
   ]
  },
  {
   "cell_type": "markdown",
   "metadata": {},
   "source": [
    "https://nickcdryan.com/2017/01/23/multi-label-classification-a-guided-tour/"
   ]
  },
  {
   "cell_type": "markdown",
   "metadata": {},
   "source": [
    "https://stats.stackexchange.com/questions/12702/what-are-the-measure-for-accuracy-of-multilabel-data?utm_medium=organic&utm_source=google_rich_qa&utm_campaign=google_rich_qa"
   ]
  },
  {
   "cell_type": "markdown",
   "metadata": {},
   "source": [
    "## Network Architecture\n",
    "\n",
    "\n",
    "* INPUT->[CONV -> RELU -> CONV ->RELU ->POOL] ->FC -> RELU -> FC ->SIGMOID ->OUTPUT"
   ]
  },
  {
   "cell_type": "markdown",
   "metadata": {},
   "source": [
    "![title](img/CNN1.png)"
   ]
  },
  {
   "cell_type": "markdown",
   "metadata": {},
   "source": [
    "## Cost Function"
   ]
  },
  {
   "cell_type": "markdown",
   "metadata": {},
   "source": [
    "There are two ways to penalize the instances:\n",
    "* if you do not want to miss any label in an image then if the classification gets all right but one,you should consider the whole things wrong,\n",
    "* you can also that the label missed or misclassified is an error\n",
    "\n",
    "We use the second method:\n",
    "\n",
    "`sigmoid_cross_entropy_with_logits` is a TensorFlow function that penalizes each output node independently. It uses binary loss and model the output of the netowrk as an independed Bernouli distribution per label."
   ]
  },
  {
   "cell_type": "code",
   "execution_count": 1,
   "metadata": {},
   "outputs": [],
   "source": [
    "%matplotlib inline\n",
    "import matplotlib.pyplot as plt\n",
    "import tensorflow as tf\n",
    "import numpy as np\n",
    "from sklearn.metrics import confusion_matrix\n",
    "import time\n",
    "from datetime import timedelta\n",
    "import math"
   ]
  },
  {
   "cell_type": "markdown",
   "metadata": {},
   "source": [
    "## Load data"
   ]
  },
  {
   "cell_type": "code",
   "execution_count": 2,
   "metadata": {},
   "outputs": [],
   "source": [
    "drug_fingerprints_fh = 'sample/sample_fingerprints.csv'\n",
    "drug_targets_fh      = 'sample/sample_targets.csv'\n",
    "drug_weights_fh      = 'sample/sample_weights.csv'"
   ]
  },
  {
   "cell_type": "markdown",
   "metadata": {},
   "source": [
    "### Dimensions of data "
   ]
  },
  {
   "cell_type": "code",
   "execution_count": 3,
   "metadata": {},
   "outputs": [],
   "source": [
    "sample_size       = 10000\n",
    "fingerprint_size  = 1024\n",
    "fingerprint_width = 32\n",
    "targets_num       = 420\n",
    "weights_num       = 420\n",
    "num_channels      = 1"
   ]
  },
  {
   "cell_type": "markdown",
   "metadata": {},
   "source": [
    "### Function helper that populates data structures with the actual data"
   ]
  },
  {
   "cell_type": "code",
   "execution_count": 4,
   "metadata": {},
   "outputs": [],
   "source": [
    "import re\n",
    "def populate_data(file_handle,data_matrix, data_size):\n",
    "    with open(file_handle) as fh:\n",
    "        j=0\n",
    "        content = fh.readlines()\n",
    "        content = [x.strip() for x in content]\n",
    "        for line in content:\n",
    "            result = re.split(r'[,\\t]\\s*',line)\n",
    "            for i in range(1,data_size+1):\n",
    "                data_matrix[j][i-1] = np.float32(result[i])\n",
    "            j = j+1\n",
    "    print(j)\n",
    "    fh.close()"
   ]
  },
  {
   "cell_type": "markdown",
   "metadata": {},
   "source": [
    "### Data structures for loaded data"
   ]
  },
  {
   "cell_type": "code",
   "execution_count": 5,
   "metadata": {},
   "outputs": [],
   "source": [
    "drug_fingerprints = []\n",
    "drug_targets      = []\n",
    "drug_weights      = []\n",
    "\n",
    "\n",
    "for i in range(sample_size):\n",
    "    fingerprint_holder = [0]* fingerprint_size\n",
    "    drug_fingerprints.append(fingerprint_holder)\n",
    "    \n",
    "for i in range(sample_size):\n",
    "    target_holder = [0]* targets_num\n",
    "    drug_targets.append(target_holder)\n",
    "\n",
    "for i in range(sample_size):\n",
    "    weight_holder = [0]* weights_num\n",
    "    drug_weights.append(weight_holder)"
   ]
  },
  {
   "cell_type": "code",
   "execution_count": 6,
   "metadata": {},
   "outputs": [
    {
     "name": "stdout",
     "output_type": "stream",
     "text": [
      "10000\n",
      "10000\n",
      "10000\n"
     ]
    }
   ],
   "source": [
    "populate_data(drug_weights_fh, drug_weights, weights_num)\n",
    "populate_data(drug_targets_fh, drug_targets, targets_num)\n",
    "populate_data(drug_fingerprints_fh, drug_fingerprints, fingerprint_size)"
   ]
  },
  {
   "cell_type": "code",
   "execution_count": 7,
   "metadata": {},
   "outputs": [],
   "source": [
    "drug_fingerprints = np.array(drug_fingerprints)\n",
    "drug_targets      = np.array(drug_targets)\n",
    "drug_weights      = np.array(drug_weights)"
   ]
  },
  {
   "cell_type": "markdown",
   "metadata": {},
   "source": [
    "# TensorFlow"
   ]
  },
  {
   "cell_type": "markdown",
   "metadata": {},
   "source": [
    "## Placeholders\n",
    "Placeholder for the flat 'array' with **fingerprint** of each compound. `None` means that this tensor can hold arbitrary number of arrays with the fingerprints."
   ]
  },
  {
   "cell_type": "code",
   "execution_count": 8,
   "metadata": {},
   "outputs": [],
   "source": [
    "x = tf.placeholder(tf.float32, [None, fingerprint_size],name = \"In_Flat_Drug_Fingerprint\")"
   ]
  },
  {
   "cell_type": "markdown",
   "metadata": {},
   "source": [
    "X is first define as and vecor of size `fingerprint_size` and its then redefine and reshape input as a 2D matrix (image)"
   ]
  },
  {
   "cell_type": "code",
   "execution_count": 9,
   "metadata": {},
   "outputs": [],
   "source": [
    "drug_image = tf.reshape(x, [-1, fingerprint_width, fingerprint_width, num_channels], name=\"Drug_Image_32x32\")"
   ]
  },
  {
   "cell_type": "markdown",
   "metadata": {},
   "source": [
    "Placeholder for the true labels (true targets) for each compound. (Here we have 420 targets - kinases)."
   ]
  },
  {
   "cell_type": "code",
   "execution_count": 10,
   "metadata": {},
   "outputs": [],
   "source": [
    "y_true = tf.placeholder(tf.float32, [None, targets_num],name='True_Labels')"
   ]
  },
  {
   "cell_type": "markdown",
   "metadata": {},
   "source": [
    "Placeholder for weights. The weights will be used to calculate cross-entropy cost function."
   ]
  },
  {
   "cell_type": "code",
   "execution_count": 11,
   "metadata": {},
   "outputs": [],
   "source": [
    "cross_entropy_weights = tf.placeholder(tf.float32, [None, weights_num],name = \"Cross_Entropy_Weights\")"
   ]
  },
  {
   "cell_type": "markdown",
   "metadata": {},
   "source": [
    "## Variables to Optimize"
   ]
  },
  {
   "cell_type": "code",
   "execution_count": 12,
   "metadata": {},
   "outputs": [],
   "source": [
    "def new_weights(shape):\n",
    "    return tf.Variable(tf.truncated_normal(shape, stddev=0.05), name=\"Weights\")"
   ]
  },
  {
   "cell_type": "code",
   "execution_count": 13,
   "metadata": {},
   "outputs": [],
   "source": [
    "def new_biases(length):\n",
    "    return tf.Variable(tf.constant(0.05, shape=[length]), name=\"Biases\")"
   ]
  },
  {
   "cell_type": "markdown",
   "metadata": {},
   "source": [
    "## Network Architecture\n",
    "\n",
    "* INPUT->[CONV -> RELU -> CONV ->RELU ->POOL] ->FC ->RELU->FC->SIGMOID->FC"
   ]
  },
  {
   "cell_type": "markdown",
   "metadata": {},
   "source": [
    "## Helper Functions to Create the Network's Layers"
   ]
  },
  {
   "cell_type": "markdown",
   "metadata": {},
   "source": [
    "### NEW CONVOLUTION LAYER"
   ]
  },
  {
   "cell_type": "code",
   "execution_count": 14,
   "metadata": {},
   "outputs": [],
   "source": [
    "def new_conv_layer_with_RELU(input, num_input_channels, filter_size, num_filters):        \n",
    "    \n",
    "    #number and shape of the filters\n",
    "    shape = [filter_size, filter_size, num_input_channels, num_filters]\n",
    "    \n",
    "    #create the filters\n",
    "    weights = new_weights(shape=shape)\n",
    "\n",
    "    #create bias for each depth slice of the filter volumne\n",
    "    biases = new_biases(length=num_filters)\n",
    "\n",
    "    #convolute stride =[1,1,1,1] move by pixel, padding = \"SAME\" -> add zero padding to keep the dimensions\n",
    "    layer = tf.nn.conv2d(input   = input,filter  = weights, strides = [1, 1, 1, 1],\n",
    "                         padding = 'SAME', name=\"CONVOLUTION_LAYER\")\n",
    "    \n",
    "    # Add the biases \n",
    "    layer += biases\n",
    "    \n",
    "    #  non-linearity (ReLU).\n",
    "    layer = tf.nn.relu(layer)\n",
    "                   \n",
    "    return layer"
   ]
  },
  {
   "cell_type": "markdown",
   "metadata": {},
   "source": [
    "### NEW POOLING LAYER"
   ]
  },
  {
   "cell_type": "code",
   "execution_count": 15,
   "metadata": {},
   "outputs": [],
   "source": [
    "def new_pooling_layer(input, stride):\n",
    "    \n",
    "    layer = tf.nn.max_pool(value=input,ksize=[1, 2, 2, 1],strides=[1, stride, stride, 1],\n",
    "                           padding='SAME', name = \"POOLING_LAYER\")\n",
    "    \n",
    "    return layer"
   ]
  },
  {
   "cell_type": "markdown",
   "metadata": {},
   "source": [
    "### Helper Function for Flattening a Layer"
   ]
  },
  {
   "cell_type": "code",
   "execution_count": 16,
   "metadata": {},
   "outputs": [],
   "source": [
    "def flatten_layer(layer):\n",
    "        \n",
    "    # get the shape of the input layer in a format [num_images, img_height, img_width, num_channels]\n",
    "    layer_shape = layer.get_shape()\n",
    "\n",
    "    # number of features is  img_height * img_width * num_channels\n",
    "    num_features = int(layer_shape[1] * layer_shape[2] * layer_shape[3])\n",
    "    \n",
    "    # reshape the layer to [num_images, num_features].\n",
    "    # -1  means the size in that dimension is calculated so the total size of the tensor is unchanged from the reshaping.\n",
    "    layer_flat = tf.reshape(layer, [-1, num_features],name = \"FLAT_LAYER\")\n",
    "\n",
    "    # return both the flattened layer and the number of features.\n",
    "    return layer_flat, num_features"
   ]
  },
  {
   "cell_type": "markdown",
   "metadata": {},
   "source": [
    "### NEW FULLY-CONNECTED LAYER"
   ]
  },
  {
   "cell_type": "code",
   "execution_count": 17,
   "metadata": {},
   "outputs": [],
   "source": [
    "def new_fc_layer(input, num_inputs,num_outputs,use_relu, use_sigmoid): \n",
    "\n",
    "    # new weights and biases for the layer\n",
    "    weights = new_weights(shape = [num_inputs, num_outputs])\n",
    "    biases = new_biases(length = num_outputs)\n",
    "\n",
    "    # calculate the layer as the matrix multiplication of the input and weights, and then add the bias-values.\n",
    "    layer = tf.matmul(input, weights) + biases\n",
    "\n",
    "    if use_relu:\n",
    "        layer = tf.nn.relu(layer, name = \"FULLY_CONNECTED_WITH_RELU\")\n",
    "       \n",
    "    if use_sigmoid:\n",
    "        layer = tf.nn.sigmoid(layer,name = \"FULLY_CONNECTED_WITH_SIGMOID\")\n",
    "\n",
    "    return layer"
   ]
  },
  {
   "cell_type": "markdown",
   "metadata": {},
   "source": [
    "# Design Computational Graph for CNN"
   ]
  },
  {
   "cell_type": "markdown",
   "metadata": {},
   "source": [
    "### HYPER-PARAMETERS OF THE NETWORK"
   ]
  },
  {
   "cell_type": "markdown",
   "metadata": {},
   "source": [
    "INPUT->[CONV -> RELU -> CONV ->RELU ->POOL] ->FC -> RELU -> FC ->SIGMOID ->OUTPUT"
   ]
  },
  {
   "cell_type": "markdown",
   "metadata": {},
   "source": [
    "* **CONV 1**"
   ]
  },
  {
   "cell_type": "code",
   "execution_count": 18,
   "metadata": {},
   "outputs": [],
   "source": [
    "filter_size1 = 2\n",
    "num_filters1 = 16"
   ]
  },
  {
   "cell_type": "markdown",
   "metadata": {},
   "source": [
    "* **CONV 2**"
   ]
  },
  {
   "cell_type": "code",
   "execution_count": 19,
   "metadata": {},
   "outputs": [],
   "source": [
    "filter_size2 = 3\n",
    "num_filters2 = 32"
   ]
  },
  {
   "cell_type": "markdown",
   "metadata": {},
   "source": [
    "* **FC 1 & FC 2**"
   ]
  },
  {
   "cell_type": "code",
   "execution_count": 20,
   "metadata": {},
   "outputs": [],
   "source": [
    "fc_size1 = 2576\n",
    "fc_size2 = 420"
   ]
  },
  {
   "cell_type": "markdown",
   "metadata": {},
   "source": [
    "DATA DIMENSION REMINDER:\n",
    "* sample_size       = 10000\n",
    "* fingerprint_size  = 1024\n",
    "* fingerprint_width = 32\n",
    "* targets_num       = 420\n",
    "* weights_num       = 420\n",
    "* num_channels      = 1"
   ]
  },
  {
   "cell_type": "markdown",
   "metadata": {},
   "source": [
    "## DEFINE THE LAYERS"
   ]
  },
  {
   "cell_type": "markdown",
   "metadata": {},
   "source": [
    "### Convolutional Layer #1 with RELU"
   ]
  },
  {
   "cell_type": "code",
   "execution_count": 21,
   "metadata": {},
   "outputs": [],
   "source": [
    "conv_layer1 = new_conv_layer_with_RELU(input=drug_image,\n",
    "                                       num_input_channels = num_channels,\n",
    "                                       filter_size = filter_size1,\n",
    "                                       num_filters = num_filters1 )  "
   ]
  },
  {
   "cell_type": "code",
   "execution_count": 22,
   "metadata": {},
   "outputs": [
    {
     "data": {
      "text/plain": [
       "<tf.Tensor 'Relu:0' shape=(?, 32, 32, 16) dtype=float32>"
      ]
     },
     "execution_count": 22,
     "metadata": {},
     "output_type": "execute_result"
    }
   ],
   "source": [
    "conv_layer1"
   ]
  },
  {
   "cell_type": "markdown",
   "metadata": {},
   "source": [
    "### Convolutional Layer #2 with RELU"
   ]
  },
  {
   "cell_type": "code",
   "execution_count": 23,
   "metadata": {},
   "outputs": [],
   "source": [
    "conv_layer2 = new_conv_layer_with_RELU(input = conv_layer1,\n",
    "                                       num_input_channels = num_filters1 ,\n",
    "                                       filter_size = filter_size2,\n",
    "                                       num_filters = num_filters2)  "
   ]
  },
  {
   "cell_type": "code",
   "execution_count": 24,
   "metadata": {},
   "outputs": [
    {
     "data": {
      "text/plain": [
       "<tf.Tensor 'Relu_1:0' shape=(?, 32, 32, 32) dtype=float32>"
      ]
     },
     "execution_count": 24,
     "metadata": {},
     "output_type": "execute_result"
    }
   ],
   "source": [
    "conv_layer2"
   ]
  },
  {
   "cell_type": "markdown",
   "metadata": {},
   "source": [
    "### Pooling Layer"
   ]
  },
  {
   "cell_type": "code",
   "execution_count": 25,
   "metadata": {},
   "outputs": [],
   "source": [
    "pooling_layer = new_pooling_layer(input= conv_layer2, stride = 2)"
   ]
  },
  {
   "cell_type": "code",
   "execution_count": 26,
   "metadata": {},
   "outputs": [
    {
     "data": {
      "text/plain": [
       "<tf.Tensor 'POOLING_LAYER:0' shape=(?, 16, 16, 32) dtype=float32>"
      ]
     },
     "execution_count": 26,
     "metadata": {},
     "output_type": "execute_result"
    }
   ],
   "source": [
    "pooling_layer "
   ]
  },
  {
   "cell_type": "markdown",
   "metadata": {},
   "source": [
    "### Prepare input to FC layer aka flattering the layer"
   ]
  },
  {
   "cell_type": "code",
   "execution_count": 27,
   "metadata": {},
   "outputs": [],
   "source": [
    "layer_flat, features_num = flatten_layer(pooling_layer)"
   ]
  },
  {
   "cell_type": "code",
   "execution_count": 28,
   "metadata": {},
   "outputs": [
    {
     "data": {
      "text/plain": [
       "<tf.Tensor 'FLAT_LAYER:0' shape=(?, 8192) dtype=float32>"
      ]
     },
     "execution_count": 28,
     "metadata": {},
     "output_type": "execute_result"
    }
   ],
   "source": [
    "layer_flat"
   ]
  },
  {
   "cell_type": "markdown",
   "metadata": {},
   "source": [
    "### Fully- Connected Layer 1"
   ]
  },
  {
   "cell_type": "code",
   "execution_count": 29,
   "metadata": {},
   "outputs": [],
   "source": [
    "fc_layer1 = new_fc_layer(input = layer_flat,\n",
    "                         num_inputs = features_num,\n",
    "                         num_outputs = fc_size1,\n",
    "                         use_relu = True,\n",
    "                         use_sigmoid = False)"
   ]
  },
  {
   "cell_type": "code",
   "execution_count": 30,
   "metadata": {},
   "outputs": [
    {
     "data": {
      "text/plain": [
       "<tf.Tensor 'FULLY_CONNECTED_WITH_RELU:0' shape=(?, 2576) dtype=float32>"
      ]
     },
     "execution_count": 30,
     "metadata": {},
     "output_type": "execute_result"
    }
   ],
   "source": [
    "fc_layer1"
   ]
  },
  {
   "cell_type": "markdown",
   "metadata": {},
   "source": [
    "### Fully- Connected Layer 2"
   ]
  },
  {
   "cell_type": "code",
   "execution_count": 31,
   "metadata": {},
   "outputs": [],
   "source": [
    "fc_layer2 = new_fc_layer(input = fc_layer1,\n",
    "                         num_inputs = fc_size1,\n",
    "                         num_outputs = fc_size2,\n",
    "                         use_relu = False,\n",
    "                         use_sigmoid = True)"
   ]
  },
  {
   "cell_type": "code",
   "execution_count": 32,
   "metadata": {},
   "outputs": [
    {
     "data": {
      "text/plain": [
       "<tf.Tensor 'FULLY_CONNECTED_WITH_SIGMOID:0' shape=(?, 420) dtype=float32>"
      ]
     },
     "execution_count": 32,
     "metadata": {},
     "output_type": "execute_result"
    }
   ],
   "source": [
    "fc_layer2"
   ]
  },
  {
   "cell_type": "markdown",
   "metadata": {},
   "source": [
    "### OUTPUT -> Predicted Classes "
   ]
  },
  {
   "cell_type": "code",
   "execution_count": 33,
   "metadata": {},
   "outputs": [],
   "source": [
    "output = tf.round(fc_layer2)"
   ]
  },
  {
   "cell_type": "markdown",
   "metadata": {},
   "source": [
    "# Cost Function to Optimize"
   ]
  },
  {
   "cell_type": "markdown",
   "metadata": {},
   "source": [
    "Because we want to penalize each output node independently, we pick a binary loss and model the ouput of the network as an independent Bernouli Distribution per label."
   ]
  },
  {
   "cell_type": "code",
   "execution_count": 34,
   "metadata": {},
   "outputs": [],
   "source": [
    "cross_entropy = tf.nn.sigmoid_cross_entropy_with_logits(logits = fc_layer2,\n",
    "                                                        labels = y_true)"
   ]
  },
  {
   "cell_type": "markdown",
   "metadata": {},
   "source": [
    "### Multiply logistic loss with weights (ELEMENT-WISE) "
   ]
  },
  {
   "cell_type": "code",
   "execution_count": 35,
   "metadata": {},
   "outputs": [],
   "source": [
    "# sum of cost for all labels with weight 1\n",
    "cost_sum = tf.reduce_sum(tf.multiply(cross_entropy_weights,cross_entropy))\n",
    "\n",
    "# number of labels with weight 1\n",
    "num_nonzero_weights = tf.count_nonzero(input_tensor=cross_entropy_weights,dtype = tf.float32)\n",
    "\n",
    "# average cost\n",
    "cost = tf.divide(cost_sum, num_nonzero_weights, name= \"COST\")"
   ]
  },
  {
   "cell_type": "markdown",
   "metadata": {},
   "source": [
    "### Optimization Method"
   ]
  },
  {
   "cell_type": "code",
   "execution_count": 36,
   "metadata": {},
   "outputs": [],
   "source": [
    "optimizer = tf.train.AdamOptimizer(learning_rate=1e-4).minimize(cost)"
   ]
  },
  {
   "cell_type": "code",
   "execution_count": 37,
   "metadata": {},
   "outputs": [],
   "source": [
    "accuracy, accuracy_ops =tf.metrics.accuracy(labels=y_true,predictions=output, weights = cross_entropy_weights)"
   ]
  },
  {
   "cell_type": "code",
   "execution_count": 38,
   "metadata": {},
   "outputs": [],
   "source": [
    "# Local variables need to show updated accuracy on each iteration \n",
    "stream_vars = [i for i in tf.local_variables()]"
   ]
  },
  {
   "cell_type": "markdown",
   "metadata": {},
   "source": [
    "# Create TensorFlow session"
   ]
  },
  {
   "cell_type": "code",
   "execution_count": 39,
   "metadata": {},
   "outputs": [],
   "source": [
    "session = tf.Session()\n",
    "init = tf.group(tf.global_variables_initializer(), tf.local_variables_initializer())\n",
    "session.run(init)"
   ]
  },
  {
   "cell_type": "code",
   "execution_count": 40,
   "metadata": {},
   "outputs": [],
   "source": [
    "train_batch_size = 50"
   ]
  },
  {
   "cell_type": "code",
   "execution_count": 41,
   "metadata": {},
   "outputs": [],
   "source": [
    "def fetch_batch(batch_size, available_indexes):\n",
    "    chosen = np.random.choice(available_indexes,batch_size, replace=False)\n",
    "    available_indexes = set(available_indexes) - set(chosen)\n",
    "    X_batch = drug_fingerprints[chosen, :]\n",
    "    y_batch = drug_targets[chosen, :]\n",
    "    cross_entropy_weights = drug_weights[chosen,:]\n",
    "    return X_batch,y_batch,cross_entropy_weights, list(available_indexes)"
   ]
  },
  {
   "cell_type": "code",
   "execution_count": 42,
   "metadata": {},
   "outputs": [],
   "source": [
    "# counter for total number of epochs\n",
    "total_epochs = 0\n",
    "\n",
    "def optimize(num_epochs):\n",
    "    \n",
    "    # update the global variable rather than a local copy.\n",
    "    global total_epochs\n",
    "\n",
    "    # start-time \n",
    "    start_time = time.time()\n",
    "\n",
    "    for i in range(total_epochs, total_epochs + num_epochs):\n",
    "\n",
    "        for j in range(int(len(drug_targets)/train_batch_size)):\n",
    "            if j == 0:\n",
    "                available_indexes = list(range(len(drug_targets)))                         \n",
    "            x_batch,y_true_batch, weights_batch, available_indexes = fetch_batch(train_batch_size, available_indexes)\n",
    "\n",
    "            # put the batch into a dict with the proper names for placeholder variables\n",
    "            feed_dict_train = {x: x_batch,\n",
    "                               y_true: y_true_batch,\n",
    "                              cross_entropy_weights: weights_batch}\n",
    "\n",
    "            # run the optimizer with the btch training data\n",
    "            session.run(optimizer, feed_dict=feed_dict_train)\n",
    "\n",
    "            # print update every 10 iterations\n",
    "            if j % 1 == 0:\n",
    "\n",
    "                # calculate the accuracy on the training-set.\n",
    "                acc_ops = session.run(accuracy_ops, feed_dict=feed_dict_train)\n",
    "\n",
    "                # print update\n",
    "                print('[Total correct, Total count]:',session.run(stream_vars)) \n",
    "                print(\"Epoch: {}, Optimization Iteration (batch #): {}, Training Accuracy: {} \\n\".format(i+1,j+1,acc_ops))                        \n",
    "\n",
    "        # update the total number of iterations\n",
    "    total_epochs += num_epochs\n",
    "\n",
    "    # end time\n",
    "    end_time = time.time()\n",
    "\n",
    "    # difference between start and end-times.\n",
    "    time_dif = end_time - start_time\n",
    "\n",
    "    #time-usage\n",
    "    print(\"Time usage: \" + str(timedelta(seconds=int(round(time_dif)))))"
   ]
  },
  {
   "cell_type": "markdown",
   "metadata": {},
   "source": [
    "### How total count is calculated?\n",
    "<br>\n",
    "Per iteration we have 50 example (batch size) each of them has 420 variable\n",
    "<br>\n",
    "This is wrong because many entries are 0 because of inativity as well as luck of knowlegde.\n",
    "<br>\n",
    "\n",
    "**(In that case the Network could perform very well if it starts outputs zeros all the time as the data is unbalanced )**\n",
    "\n",
    "\n",
    "**Accuracy should only calculate among the examples with weight 1 as cross_entropy is.**"
   ]
  },
  {
   "cell_type": "code",
   "execution_count": 43,
   "metadata": {
    "scrolled": true
   },
   "outputs": [
    {
     "name": "stdout",
     "output_type": "stream",
     "text": [
      "[Total correct, Total count]: [204.0, 327.0]\n",
      "Epoch: 1, Optimization Iteration (batch #): 1, Training Accuracy: 0.6238532066345215 \n",
      "\n",
      "[Total correct, Total count]: [691.0, 1093.0]\n",
      "Epoch: 1, Optimization Iteration (batch #): 2, Training Accuracy: 0.6322049498558044 \n",
      "\n",
      "[Total correct, Total count]: [1240.0, 1840.0]\n",
      "Epoch: 1, Optimization Iteration (batch #): 3, Training Accuracy: 0.6739130616188049 \n",
      "\n",
      "[Total correct, Total count]: [1531.0, 2254.0]\n",
      "Epoch: 1, Optimization Iteration (batch #): 4, Training Accuracy: 0.679236888885498 \n",
      "\n",
      "[Total correct, Total count]: [1615.0, 2383.0]\n",
      "Epoch: 1, Optimization Iteration (batch #): 5, Training Accuracy: 0.6777171492576599 \n",
      "\n",
      "[Total correct, Total count]: [2377.0, 3352.0]\n",
      "Epoch: 1, Optimization Iteration (batch #): 6, Training Accuracy: 0.7091288566589355 \n",
      "\n",
      "[Total correct, Total count]: [2564.0, 3606.0]\n",
      "Epoch: 1, Optimization Iteration (batch #): 7, Training Accuracy: 0.7110371589660645 \n",
      "\n",
      "[Total correct, Total count]: [3260.0, 4429.0]\n",
      "Epoch: 1, Optimization Iteration (batch #): 8, Training Accuracy: 0.7360578179359436 \n",
      "\n",
      "[Total correct, Total count]: [4840.0, 6299.0]\n",
      "Epoch: 1, Optimization Iteration (batch #): 9, Training Accuracy: 0.7683759331703186 \n",
      "\n",
      "[Total correct, Total count]: [5272.0, 6829.0]\n",
      "Epoch: 1, Optimization Iteration (batch #): 10, Training Accuracy: 0.7720017433166504 \n",
      "\n",
      "[Total correct, Total count]: [5640.0, 7274.0]\n",
      "Epoch: 1, Optimization Iteration (batch #): 11, Training Accuracy: 0.775364339351654 \n",
      "\n",
      "[Total correct, Total count]: [6163.0, 7874.0]\n",
      "Epoch: 1, Optimization Iteration (batch #): 12, Training Accuracy: 0.7827025651931763 \n",
      "\n",
      "[Total correct, Total count]: [6897.0, 8698.0]\n",
      "Epoch: 1, Optimization Iteration (batch #): 13, Training Accuracy: 0.7929409146308899 \n",
      "\n",
      "[Total correct, Total count]: [7945.0, 9866.0]\n",
      "Epoch: 1, Optimization Iteration (batch #): 14, Training Accuracy: 0.8052908778190613 \n",
      "\n",
      "[Total correct, Total count]: [8036.0, 9988.0]\n",
      "Epoch: 1, Optimization Iteration (batch #): 15, Training Accuracy: 0.8045654892921448 \n",
      "\n",
      "[Total correct, Total count]: [9042.0, 11071.0]\n",
      "Epoch: 1, Optimization Iteration (batch #): 16, Training Accuracy: 0.816728413105011 \n",
      "\n",
      "[Total correct, Total count]: [9351.0, 11427.0]\n",
      "Epoch: 1, Optimization Iteration (batch #): 17, Training Accuracy: 0.8183250427246094 \n",
      "\n",
      "[Total correct, Total count]: [9431.0, 11541.0]\n",
      "Epoch: 1, Optimization Iteration (batch #): 18, Training Accuracy: 0.8171735405921936 \n",
      "\n",
      "[Total correct, Total count]: [10036.0, 12206.0]\n",
      "Epoch: 1, Optimization Iteration (batch #): 19, Training Accuracy: 0.8222185969352722 \n",
      "\n",
      "[Total correct, Total count]: [10350.0, 12597.0]\n",
      "Epoch: 1, Optimization Iteration (batch #): 20, Training Accuracy: 0.821624219417572 \n",
      "\n",
      "[Total correct, Total count]: [11135.0, 13443.0]\n",
      "Epoch: 1, Optimization Iteration (batch #): 21, Training Accuracy: 0.8283121585845947 \n",
      "\n",
      "[Total correct, Total count]: [11637.0, 14001.0]\n",
      "Epoch: 1, Optimization Iteration (batch #): 22, Training Accuracy: 0.8311549425125122 \n",
      "\n",
      "[Total correct, Total count]: [12294.0, 14810.0]\n",
      "Epoch: 1, Optimization Iteration (batch #): 23, Training Accuracy: 0.8301147818565369 \n",
      "\n",
      "[Total correct, Total count]: [12931.0, 15530.0]\n",
      "Epoch: 1, Optimization Iteration (batch #): 24, Training Accuracy: 0.8326464891433716 \n",
      "\n",
      "[Total correct, Total count]: [13244.0, 15872.0]\n",
      "Epoch: 1, Optimization Iteration (batch #): 25, Training Accuracy: 0.8344253897666931 \n",
      "\n",
      "[Total correct, Total count]: [14630.0, 17327.0]\n",
      "Epoch: 1, Optimization Iteration (batch #): 26, Training Accuracy: 0.8443470001220703 \n",
      "\n",
      "[Total correct, Total count]: [15793.0, 18592.0]\n",
      "Epoch: 1, Optimization Iteration (batch #): 27, Training Accuracy: 0.8494513630867004 \n",
      "\n",
      "[Total correct, Total count]: [16268.0, 19099.0]\n",
      "Epoch: 1, Optimization Iteration (batch #): 28, Training Accuracy: 0.8517723679542542 \n",
      "\n",
      "[Total correct, Total count]: [17757.0, 20684.0]\n",
      "Epoch: 1, Optimization Iteration (batch #): 29, Training Accuracy: 0.8584896326065063 \n",
      "\n",
      "[Total correct, Total count]: [18583.0, 21590.0]\n",
      "Epoch: 1, Optimization Iteration (batch #): 30, Training Accuracy: 0.860722541809082 \n",
      "\n",
      "[Total correct, Total count]: [20007.0, 23075.0]\n",
      "Epoch: 1, Optimization Iteration (batch #): 31, Training Accuracy: 0.8670422434806824 \n",
      "\n",
      "[Total correct, Total count]: [20167.0, 23259.0]\n",
      "Epoch: 1, Optimization Iteration (batch #): 32, Training Accuracy: 0.8670622110366821 \n",
      "\n",
      "[Total correct, Total count]: [20587.0, 23733.0]\n",
      "Epoch: 1, Optimization Iteration (batch #): 33, Training Accuracy: 0.8674419522285461 \n",
      "\n",
      "[Total correct, Total count]: [21536.0, 24842.0]\n",
      "Epoch: 1, Optimization Iteration (batch #): 34, Training Accuracy: 0.8669189214706421 \n",
      "\n",
      "[Total correct, Total count]: [22544.0, 25892.0]\n",
      "Epoch: 1, Optimization Iteration (batch #): 35, Training Accuracy: 0.8706936240196228 \n",
      "\n",
      "[Total correct, Total count]: [23325.0, 26715.0]\n",
      "Epoch: 1, Optimization Iteration (batch #): 36, Training Accuracy: 0.873104989528656 \n",
      "\n",
      "[Total correct, Total count]: [23481.0, 26897.0]\n",
      "Epoch: 1, Optimization Iteration (batch #): 37, Training Accuracy: 0.872996985912323 \n",
      "\n",
      "[Total correct, Total count]: [24121.0, 27600.0]\n",
      "Epoch: 1, Optimization Iteration (batch #): 38, Training Accuracy: 0.8739492893218994 \n",
      "\n",
      "[Total correct, Total count]: [25030.0, 28618.0]\n",
      "Epoch: 1, Optimization Iteration (batch #): 39, Training Accuracy: 0.8746243715286255 \n",
      "\n",
      "[Total correct, Total count]: [25866.0, 29511.0]\n",
      "Epoch: 1, Optimization Iteration (batch #): 40, Training Accuracy: 0.8764867186546326 \n",
      "\n",
      "[Total correct, Total count]: [26337.0, 30016.0]\n",
      "Epoch: 1, Optimization Iteration (batch #): 41, Training Accuracy: 0.8774320483207703 \n",
      "\n",
      "[Total correct, Total count]: [27182.0, 30906.0]\n",
      "Epoch: 1, Optimization Iteration (batch #): 42, Training Accuracy: 0.8795055747032166 \n",
      "\n",
      "[Total correct, Total count]: [28216.0, 32084.0]\n",
      "Epoch: 1, Optimization Iteration (batch #): 43, Training Accuracy: 0.8794414401054382 \n",
      "\n",
      "[Total correct, Total count]: [28405.0, 32312.0]\n",
      "Epoch: 1, Optimization Iteration (batch #): 44, Training Accuracy: 0.8790851831436157 \n",
      "\n",
      "[Total correct, Total count]: [28960.0, 32904.0]\n",
      "Epoch: 1, Optimization Iteration (batch #): 45, Training Accuracy: 0.8801361322402954 \n",
      "\n",
      "[Total correct, Total count]: [29827.0, 33810.0]\n",
      "Epoch: 1, Optimization Iteration (batch #): 46, Training Accuracy: 0.8821946382522583 \n",
      "\n",
      "[Total correct, Total count]: [30286.0, 34318.0]\n",
      "Epoch: 1, Optimization Iteration (batch #): 47, Training Accuracy: 0.8825106620788574 \n",
      "\n",
      "[Total correct, Total count]: [30759.0, 34824.0]\n",
      "Epoch: 1, Optimization Iteration (batch #): 48, Training Accuracy: 0.8832701444625854 \n",
      "\n",
      "[Total correct, Total count]: [31469.0, 35589.0]\n",
      "Epoch: 1, Optimization Iteration (batch #): 49, Training Accuracy: 0.8842338919639587 \n",
      "\n",
      "[Total correct, Total count]: [31673.0, 35824.0]\n",
      "Epoch: 1, Optimization Iteration (batch #): 50, Training Accuracy: 0.8841279745101929 \n",
      "\n",
      "[Total correct, Total count]: [32391.0, 36590.0]\n",
      "Epoch: 1, Optimization Iteration (batch #): 51, Training Accuracy: 0.8852418661117554 \n",
      "\n",
      "[Total correct, Total count]: [33148.0, 37393.0]\n",
      "Epoch: 1, Optimization Iteration (batch #): 52, Training Accuracy: 0.8864760994911194 \n",
      "\n",
      "[Total correct, Total count]: [33685.0, 37966.0]\n",
      "Epoch: 1, Optimization Iteration (batch #): 53, Training Accuracy: 0.8872412443161011 \n",
      "\n",
      "[Total correct, Total count]: [33882.0, 38202.0]\n",
      "Epoch: 1, Optimization Iteration (batch #): 54, Training Accuracy: 0.8869169354438782 \n",
      "\n",
      "[Total correct, Total count]: [34789.0, 39145.0]\n",
      "Epoch: 1, Optimization Iteration (batch #): 55, Training Accuracy: 0.8887214064598083 \n",
      "\n",
      "[Total correct, Total count]: [35565.0, 39979.0]\n",
      "Epoch: 1, Optimization Iteration (batch #): 56, Training Accuracy: 0.8895920515060425 \n",
      "\n",
      "[Total correct, Total count]: [35883.0, 40336.0]\n",
      "Epoch: 1, Optimization Iteration (batch #): 57, Training Accuracy: 0.8896023631095886 \n",
      "\n",
      "[Total correct, Total count]: [37399.0, 41895.0]\n",
      "Epoch: 1, Optimization Iteration (batch #): 58, Training Accuracy: 0.8926841020584106 \n",
      "\n",
      "[Total correct, Total count]: [37506.0, 42051.0]\n",
      "Epoch: 1, Optimization Iteration (batch #): 59, Training Accuracy: 0.8919169306755066 \n",
      "\n",
      "[Total correct, Total count]: [37806.0, 42405.0]\n",
      "Epoch: 1, Optimization Iteration (batch #): 60, Training Accuracy: 0.891545832157135 \n",
      "\n",
      "[Total correct, Total count]: [37849.0, 42503.0]\n",
      "Epoch: 1, Optimization Iteration (batch #): 61, Training Accuracy: 0.890501856803894 \n",
      "\n",
      "[Total correct, Total count]: [38288.0, 42989.0]\n",
      "Epoch: 1, Optimization Iteration (batch #): 62, Training Accuracy: 0.8906464576721191 \n",
      "\n"
     ]
    },
    {
     "name": "stdout",
     "output_type": "stream",
     "text": [
      "[Total correct, Total count]: [39628.0, 44547.0]\n",
      "Epoch: 1, Optimization Iteration (batch #): 63, Training Accuracy: 0.889577329158783 \n",
      "\n",
      "[Total correct, Total count]: [39890.0, 44847.0]\n",
      "Epoch: 1, Optimization Iteration (batch #): 64, Training Accuracy: 0.8894686102867126 \n",
      "\n",
      "[Total correct, Total count]: [40751.0, 45836.0]\n",
      "Epoch: 1, Optimization Iteration (batch #): 65, Training Accuracy: 0.8890609741210938 \n",
      "\n",
      "[Total correct, Total count]: [41482.0, 46648.0]\n",
      "Epoch: 1, Optimization Iteration (batch #): 66, Training Accuracy: 0.889255702495575 \n",
      "\n",
      "[Total correct, Total count]: [41822.0, 47021.0]\n",
      "Epoch: 1, Optimization Iteration (batch #): 67, Training Accuracy: 0.8894323706626892 \n",
      "\n",
      "[Total correct, Total count]: [42513.0, 47783.0]\n",
      "Epoch: 1, Optimization Iteration (batch #): 68, Training Accuracy: 0.8897097110748291 \n",
      "\n",
      "[Total correct, Total count]: [43170.0, 48486.0]\n",
      "Epoch: 1, Optimization Iteration (batch #): 69, Training Accuracy: 0.8903601169586182 \n",
      "\n",
      "[Total correct, Total count]: [44225.0, 49589.0]\n",
      "Epoch: 1, Optimization Iteration (batch #): 70, Training Accuracy: 0.8918308615684509 \n",
      "\n",
      "[Total correct, Total count]: [44764.0, 50183.0]\n",
      "Epoch: 1, Optimization Iteration (batch #): 71, Training Accuracy: 0.8920152187347412 \n",
      "\n",
      "[Total correct, Total count]: [45131.0, 50666.0]\n",
      "Epoch: 1, Optimization Iteration (batch #): 72, Training Accuracy: 0.8907551169395447 \n",
      "\n",
      "[Total correct, Total count]: [45739.0, 51309.0]\n",
      "Epoch: 1, Optimization Iteration (batch #): 73, Training Accuracy: 0.891442060470581 \n",
      "\n",
      "[Total correct, Total count]: [46405.0, 52012.0]\n",
      "Epoch: 1, Optimization Iteration (batch #): 74, Training Accuracy: 0.8921979665756226 \n",
      "\n",
      "[Total correct, Total count]: [46613.0, 52261.0]\n",
      "Epoch: 1, Optimization Iteration (batch #): 75, Training Accuracy: 0.8919270634651184 \n",
      "\n",
      "[Total correct, Total count]: [46878.0, 52572.0]\n",
      "Epoch: 1, Optimization Iteration (batch #): 76, Training Accuracy: 0.8916913866996765 \n",
      "\n",
      "[Total correct, Total count]: [47979.0, 53741.0]\n",
      "Epoch: 1, Optimization Iteration (batch #): 77, Training Accuracy: 0.8927820324897766 \n",
      "\n",
      "[Total correct, Total count]: [48698.0, 54506.0]\n",
      "Epoch: 1, Optimization Iteration (batch #): 78, Training Accuracy: 0.8934429287910461 \n",
      "\n",
      "[Total correct, Total count]: [49338.0, 55189.0]\n",
      "Epoch: 1, Optimization Iteration (batch #): 79, Training Accuracy: 0.893982470035553 \n",
      "\n",
      "[Total correct, Total count]: [50078.0, 55968.0]\n",
      "Epoch: 1, Optimization Iteration (batch #): 80, Training Accuracy: 0.8947612643241882 \n",
      "\n",
      "[Total correct, Total count]: [50748.0, 56685.0]\n",
      "Epoch: 1, Optimization Iteration (batch #): 81, Training Accuracy: 0.8952633142471313 \n",
      "\n",
      "[Total correct, Total count]: [52045.0, 58071.0]\n",
      "Epoch: 1, Optimization Iteration (batch #): 82, Training Accuracy: 0.8962304592132568 \n",
      "\n",
      "[Total correct, Total count]: [52924.0, 59017.0]\n",
      "Epoch: 1, Optimization Iteration (batch #): 83, Training Accuracy: 0.8967585563659668 \n",
      "\n",
      "[Total correct, Total count]: [53288.0, 59415.0]\n",
      "Epoch: 1, Optimization Iteration (batch #): 84, Training Accuracy: 0.8968778848648071 \n",
      "\n",
      "[Total correct, Total count]: [53817.0, 59981.0]\n",
      "Epoch: 1, Optimization Iteration (batch #): 85, Training Accuracy: 0.8972341418266296 \n",
      "\n",
      "[Total correct, Total count]: [54986.0, 61201.0]\n",
      "Epoch: 1, Optimization Iteration (batch #): 86, Training Accuracy: 0.8984493613243103 \n",
      "\n",
      "[Total correct, Total count]: [55468.0, 61721.0]\n",
      "Epoch: 1, Optimization Iteration (batch #): 87, Training Accuracy: 0.8986892700195312 \n",
      "\n",
      "[Total correct, Total count]: [56066.0, 62375.0]\n",
      "Epoch: 1, Optimization Iteration (batch #): 88, Training Accuracy: 0.8988537192344666 \n",
      "\n",
      "[Total correct, Total count]: [57903.0, 64281.0]\n",
      "Epoch: 1, Optimization Iteration (batch #): 89, Training Accuracy: 0.9007793664932251 \n",
      "\n",
      "[Total correct, Total count]: [58740.0, 65287.0]\n",
      "Epoch: 1, Optimization Iteration (batch #): 90, Training Accuracy: 0.8997197151184082 \n",
      "\n",
      "[Total correct, Total count]: [59259.0, 65853.0]\n",
      "Epoch: 1, Optimization Iteration (batch #): 91, Training Accuracy: 0.8998678922653198 \n",
      "\n",
      "[Total correct, Total count]: [59386.0, 66009.0]\n",
      "Epoch: 1, Optimization Iteration (batch #): 92, Training Accuracy: 0.8996651768684387 \n",
      "\n",
      "[Total correct, Total count]: [60136.0, 66815.0]\n",
      "Epoch: 1, Optimization Iteration (batch #): 93, Training Accuracy: 0.900037407875061 \n",
      "\n",
      "[Total correct, Total count]: [60784.0, 67512.0]\n",
      "Epoch: 1, Optimization Iteration (batch #): 94, Training Accuracy: 0.900343656539917 \n",
      "\n",
      "[Total correct, Total count]: [61094.0, 67889.0]\n",
      "Epoch: 1, Optimization Iteration (batch #): 95, Training Accuracy: 0.8999101519584656 \n",
      "\n",
      "[Total correct, Total count]: [61472.0, 68324.0]\n",
      "Epoch: 1, Optimization Iteration (batch #): 96, Training Accuracy: 0.8997131586074829 \n",
      "\n",
      "[Total correct, Total count]: [62002.0, 68893.0]\n",
      "Epoch: 1, Optimization Iteration (batch #): 97, Training Accuracy: 0.8999752998352051 \n",
      "\n",
      "[Total correct, Total count]: [62198.0, 69142.0]\n",
      "Epoch: 1, Optimization Iteration (batch #): 98, Training Accuracy: 0.8995689749717712 \n",
      "\n",
      "[Total correct, Total count]: [63029.0, 70042.0]\n",
      "Epoch: 1, Optimization Iteration (batch #): 99, Training Accuracy: 0.8998743891716003 \n",
      "\n",
      "[Total correct, Total count]: [64087.0, 71153.0]\n",
      "Epoch: 1, Optimization Iteration (batch #): 100, Training Accuracy: 0.900692880153656 \n",
      "\n",
      "[Total correct, Total count]: [65634.0, 72800.0]\n",
      "Epoch: 1, Optimization Iteration (batch #): 101, Training Accuracy: 0.9015659093856812 \n",
      "\n",
      "[Total correct, Total count]: [66186.0, 73389.0]\n",
      "Epoch: 1, Optimization Iteration (batch #): 102, Training Accuracy: 0.9018517732620239 \n",
      "\n",
      "[Total correct, Total count]: [67117.0, 74361.0]\n",
      "Epoch: 1, Optimization Iteration (batch #): 103, Training Accuracy: 0.9025833606719971 \n",
      "\n",
      "[Total correct, Total count]: [67787.0, 75065.0]\n",
      "Epoch: 1, Optimization Iteration (batch #): 104, Training Accuracy: 0.9030440449714661 \n",
      "\n",
      "[Total correct, Total count]: [68372.0, 75686.0]\n",
      "Epoch: 1, Optimization Iteration (batch #): 105, Training Accuracy: 0.9033638834953308 \n",
      "\n",
      "[Total correct, Total count]: [68483.0, 75824.0]\n",
      "Epoch: 1, Optimization Iteration (batch #): 106, Training Accuracy: 0.9031836986541748 \n",
      "\n",
      "[Total correct, Total count]: [69313.0, 76708.0]\n",
      "Epoch: 1, Optimization Iteration (batch #): 107, Training Accuracy: 0.9035954475402832 \n",
      "\n",
      "[Total correct, Total count]: [69538.0, 76974.0]\n",
      "Epoch: 1, Optimization Iteration (batch #): 108, Training Accuracy: 0.90339595079422 \n",
      "\n",
      "[Total correct, Total count]: [70261.0, 77745.0]\n",
      "Epoch: 1, Optimization Iteration (batch #): 109, Training Accuracy: 0.9037365913391113 \n",
      "\n",
      "[Total correct, Total count]: [70996.0, 78518.0]\n",
      "Epoch: 1, Optimization Iteration (batch #): 110, Training Accuracy: 0.9042003154754639 \n",
      "\n",
      "[Total correct, Total count]: [71235.0, 78785.0]\n",
      "Epoch: 1, Optimization Iteration (batch #): 111, Training Accuracy: 0.9041695594787598 \n",
      "\n",
      "[Total correct, Total count]: [71568.0, 79177.0]\n",
      "Epoch: 1, Optimization Iteration (batch #): 112, Training Accuracy: 0.9038988351821899 \n",
      "\n",
      "[Total correct, Total count]: [72939.0, 80623.0]\n",
      "Epoch: 1, Optimization Iteration (batch #): 113, Training Accuracy: 0.9046922326087952 \n",
      "\n",
      "[Total correct, Total count]: [73323.0, 81046.0]\n",
      "Epoch: 1, Optimization Iteration (batch #): 114, Training Accuracy: 0.9047084450721741 \n",
      "\n",
      "[Total correct, Total count]: [74181.0, 81956.0]\n",
      "Epoch: 1, Optimization Iteration (batch #): 115, Training Accuracy: 0.905131995677948 \n",
      "\n",
      "[Total correct, Total count]: [75227.0, 83045.0]\n",
      "Epoch: 1, Optimization Iteration (batch #): 116, Training Accuracy: 0.9058582782745361 \n",
      "\n",
      "[Total correct, Total count]: [75847.0, 83704.0]\n",
      "Epoch: 1, Optimization Iteration (batch #): 117, Training Accuracy: 0.9061335325241089 \n",
      "\n",
      "[Total correct, Total count]: [76087.0, 83977.0]\n",
      "Epoch: 1, Optimization Iteration (batch #): 118, Training Accuracy: 0.90604567527771 \n",
      "\n",
      "[Total correct, Total count]: [76543.0, 84485.0]\n",
      "Epoch: 1, Optimization Iteration (batch #): 119, Training Accuracy: 0.9059951305389404 \n",
      "\n",
      "[Total correct, Total count]: [76898.0, 84872.0]\n",
      "Epoch: 1, Optimization Iteration (batch #): 120, Training Accuracy: 0.9060467481613159 \n",
      "\n",
      "[Total correct, Total count]: [77787.0, 85826.0]\n",
      "Epoch: 1, Optimization Iteration (batch #): 121, Training Accuracy: 0.9063337445259094 \n",
      "\n",
      "[Total correct, Total count]: [78728.0, 86822.0]\n",
      "Epoch: 1, Optimization Iteration (batch #): 122, Training Accuracy: 0.9067747592926025 \n",
      "\n"
     ]
    },
    {
     "name": "stdout",
     "output_type": "stream",
     "text": [
      "[Total correct, Total count]: [79007.0, 87138.0]\n",
      "Epoch: 1, Optimization Iteration (batch #): 123, Training Accuracy: 0.9066882133483887 \n",
      "\n",
      "[Total correct, Total count]: [80094.0, 88277.0]\n",
      "Epoch: 1, Optimization Iteration (batch #): 124, Training Accuracy: 0.9073031544685364 \n",
      "\n",
      "[Total correct, Total count]: [80596.0, 88815.0]\n",
      "Epoch: 1, Optimization Iteration (batch #): 125, Training Accuracy: 0.9074593186378479 \n",
      "\n",
      "[Total correct, Total count]: [81363.0, 89657.0]\n",
      "Epoch: 1, Optimization Iteration (batch #): 126, Training Accuracy: 0.9074918627738953 \n",
      "\n",
      "[Total correct, Total count]: [81586.0, 89931.0]\n",
      "Epoch: 1, Optimization Iteration (batch #): 127, Training Accuracy: 0.907206654548645 \n",
      "\n",
      "[Total correct, Total count]: [82324.0, 90743.0]\n",
      "Epoch: 1, Optimization Iteration (batch #): 128, Training Accuracy: 0.9072214961051941 \n",
      "\n",
      "[Total correct, Total count]: [82769.0, 91239.0]\n",
      "Epoch: 1, Optimization Iteration (batch #): 129, Training Accuracy: 0.9071668982505798 \n",
      "\n",
      "[Total correct, Total count]: [83438.0, 91975.0]\n",
      "Epoch: 1, Optimization Iteration (batch #): 130, Training Accuracy: 0.9071813225746155 \n",
      "\n",
      "[Total correct, Total count]: [83849.0, 92452.0]\n",
      "Epoch: 1, Optimization Iteration (batch #): 131, Training Accuracy: 0.9069463014602661 \n",
      "\n",
      "[Total correct, Total count]: [84959.0, 93613.0]\n",
      "Epoch: 1, Optimization Iteration (batch #): 132, Training Accuracy: 0.9075555801391602 \n",
      "\n",
      "[Total correct, Total count]: [85899.0, 94701.0]\n",
      "Epoch: 1, Optimization Iteration (batch #): 133, Training Accuracy: 0.9070548415184021 \n",
      "\n",
      "[Total correct, Total count]: [86324.0, 95155.0]\n",
      "Epoch: 1, Optimization Iteration (batch #): 134, Training Accuracy: 0.9071935415267944 \n",
      "\n",
      "[Total correct, Total count]: [86478.0, 95351.0]\n",
      "Epoch: 1, Optimization Iteration (batch #): 135, Training Accuracy: 0.9069437980651855 \n",
      "\n",
      "[Total correct, Total count]: [86987.0, 95908.0]\n",
      "Epoch: 1, Optimization Iteration (batch #): 136, Training Accuracy: 0.9069837927818298 \n",
      "\n",
      "[Total correct, Total count]: [87565.0, 96529.0]\n",
      "Epoch: 1, Optimization Iteration (batch #): 137, Training Accuracy: 0.9071367383003235 \n",
      "\n",
      "[Total correct, Total count]: [87997.0, 97001.0]\n",
      "Epoch: 1, Optimization Iteration (batch #): 138, Training Accuracy: 0.9071761965751648 \n",
      "\n",
      "[Total correct, Total count]: [88597.0, 97678.0]\n",
      "Epoch: 1, Optimization Iteration (batch #): 139, Training Accuracy: 0.907031238079071 \n",
      "\n",
      "[Total correct, Total count]: [89396.0, 98560.0]\n",
      "Epoch: 1, Optimization Iteration (batch #): 140, Training Accuracy: 0.9070211052894592 \n",
      "\n",
      "[Total correct, Total count]: [89452.0, 98647.0]\n",
      "Epoch: 1, Optimization Iteration (batch #): 141, Training Accuracy: 0.9067888259887695 \n",
      "\n",
      "[Total correct, Total count]: [90170.0, 99421.0]\n",
      "Epoch: 1, Optimization Iteration (batch #): 142, Training Accuracy: 0.9069512486457825 \n",
      "\n",
      "[Total correct, Total count]: [90263.0, 99544.0]\n",
      "Epoch: 1, Optimization Iteration (batch #): 143, Training Accuracy: 0.9067648649215698 \n",
      "\n",
      "[Total correct, Total count]: [91189.0, 100654.0]\n",
      "Epoch: 1, Optimization Iteration (batch #): 144, Training Accuracy: 0.9059649705886841 \n",
      "\n",
      "[Total correct, Total count]: [91982.0, 101504.0]\n",
      "Epoch: 1, Optimization Iteration (batch #): 145, Training Accuracy: 0.9061908721923828 \n",
      "\n",
      "[Total correct, Total count]: [92197.0, 101780.0]\n",
      "Epoch: 1, Optimization Iteration (batch #): 146, Training Accuracy: 0.9058459401130676 \n",
      "\n",
      "[Total correct, Total count]: [92900.0, 102523.0]\n",
      "Epoch: 1, Optimization Iteration (batch #): 147, Training Accuracy: 0.9061381220817566 \n",
      "\n",
      "[Total correct, Total count]: [93380.0, 103045.0]\n",
      "Epoch: 1, Optimization Iteration (batch #): 148, Training Accuracy: 0.9062060117721558 \n",
      "\n",
      "[Total correct, Total count]: [93415.0, 103110.0]\n",
      "Epoch: 1, Optimization Iteration (batch #): 149, Training Accuracy: 0.9059742093086243 \n",
      "\n",
      "[Total correct, Total count]: [93771.0, 103511.0]\n",
      "Epoch: 1, Optimization Iteration (batch #): 150, Training Accuracy: 0.905903697013855 \n",
      "\n",
      "[Total correct, Total count]: [94622.0, 104400.0]\n",
      "Epoch: 1, Optimization Iteration (batch #): 151, Training Accuracy: 0.906341016292572 \n",
      "\n",
      "[Total correct, Total count]: [94856.0, 104662.0]\n",
      "Epoch: 1, Optimization Iteration (batch #): 152, Training Accuracy: 0.9063079357147217 \n",
      "\n",
      "[Total correct, Total count]: [95213.0, 105059.0]\n",
      "Epoch: 1, Optimization Iteration (batch #): 153, Training Accuracy: 0.9062812328338623 \n",
      "\n",
      "[Total correct, Total count]: [95729.0, 105676.0]\n",
      "Epoch: 1, Optimization Iteration (batch #): 154, Training Accuracy: 0.905872642993927 \n",
      "\n",
      "[Total correct, Total count]: [96470.0, 106483.0]\n",
      "Epoch: 1, Optimization Iteration (batch #): 155, Training Accuracy: 0.9059662222862244 \n",
      "\n",
      "[Total correct, Total count]: [97173.0, 107242.0]\n",
      "Epoch: 1, Optimization Iteration (batch #): 156, Training Accuracy: 0.9061095714569092 \n",
      "\n",
      "[Total correct, Total count]: [97717.0, 107838.0]\n",
      "Epoch: 1, Optimization Iteration (batch #): 157, Training Accuracy: 0.906146228313446 \n",
      "\n",
      "[Total correct, Total count]: [98882.0, 109069.0]\n",
      "Epoch: 1, Optimization Iteration (batch #): 158, Training Accuracy: 0.9066004157066345 \n",
      "\n",
      "[Total correct, Total count]: [99586.0, 109817.0]\n",
      "Epoch: 1, Optimization Iteration (batch #): 159, Training Accuracy: 0.9068359136581421 \n",
      "\n",
      "[Total correct, Total count]: [99856.0, 110132.0]\n",
      "Epoch: 1, Optimization Iteration (batch #): 160, Training Accuracy: 0.9066937565803528 \n",
      "\n",
      "[Total correct, Total count]: [100590.0, 110890.0]\n",
      "Epoch: 1, Optimization Iteration (batch #): 161, Training Accuracy: 0.9071151614189148 \n",
      "\n",
      "[Total correct, Total count]: [100798.0, 111125.0]\n",
      "Epoch: 1, Optimization Iteration (batch #): 162, Training Accuracy: 0.9070686101913452 \n",
      "\n",
      "[Total correct, Total count]: [101393.0, 111766.0]\n",
      "Epoch: 1, Optimization Iteration (batch #): 163, Training Accuracy: 0.9071900248527527 \n",
      "\n",
      "[Total correct, Total count]: [101926.0, 112342.0]\n",
      "Epoch: 1, Optimization Iteration (batch #): 164, Training Accuracy: 0.9072831273078918 \n",
      "\n",
      "[Total correct, Total count]: [102632.0, 113079.0]\n",
      "Epoch: 1, Optimization Iteration (batch #): 165, Training Accuracy: 0.9076132774353027 \n",
      "\n",
      "[Total correct, Total count]: [103829.0, 114324.0]\n",
      "Epoch: 1, Optimization Iteration (batch #): 166, Training Accuracy: 0.9081994891166687 \n",
      "\n",
      "[Total correct, Total count]: [104767.0, 115324.0]\n",
      "Epoch: 1, Optimization Iteration (batch #): 167, Training Accuracy: 0.9084579348564148 \n",
      "\n",
      "[Total correct, Total count]: [105141.0, 115752.0]\n",
      "Epoch: 1, Optimization Iteration (batch #): 168, Training Accuracy: 0.9083299040794373 \n",
      "\n",
      "[Total correct, Total count]: [105556.0, 116214.0]\n",
      "Epoch: 1, Optimization Iteration (batch #): 169, Training Accuracy: 0.9082898497581482 \n",
      "\n",
      "[Total correct, Total count]: [106253.0, 116949.0]\n",
      "Epoch: 1, Optimization Iteration (batch #): 170, Training Accuracy: 0.9085413217544556 \n",
      "\n",
      "[Total correct, Total count]: [106463.0, 117198.0]\n",
      "Epoch: 1, Optimization Iteration (batch #): 171, Training Accuracy: 0.9084028601646423 \n",
      "\n",
      "[Total correct, Total count]: [107186.0, 117970.0]\n",
      "Epoch: 1, Optimization Iteration (batch #): 172, Training Accuracy: 0.9085869193077087 \n",
      "\n",
      "[Total correct, Total count]: [108234.0, 119087.0]\n",
      "Epoch: 1, Optimization Iteration (batch #): 173, Training Accuracy: 0.9088649749755859 \n",
      "\n",
      "[Total correct, Total count]: [108897.0, 119786.0]\n",
      "Epoch: 1, Optimization Iteration (batch #): 174, Training Accuracy: 0.9090962409973145 \n",
      "\n",
      "[Total correct, Total count]: [108990.0, 119903.0]\n",
      "Epoch: 1, Optimization Iteration (batch #): 175, Training Accuracy: 0.9089847803115845 \n",
      "\n",
      "[Total correct, Total count]: [109143.0, 120098.0]\n",
      "Epoch: 1, Optimization Iteration (batch #): 176, Training Accuracy: 0.9087828397750854 \n",
      "\n",
      "[Total correct, Total count]: [109477.0, 120504.0]\n",
      "Epoch: 1, Optimization Iteration (batch #): 177, Training Accuracy: 0.9084926843643188 \n",
      "\n",
      "[Total correct, Total count]: [110788.0, 121852.0]\n",
      "Epoch: 1, Optimization Iteration (batch #): 178, Training Accuracy: 0.9092013239860535 \n",
      "\n",
      "[Total correct, Total count]: [111287.0, 122406.0]\n",
      "Epoch: 1, Optimization Iteration (batch #): 179, Training Accuracy: 0.9091629385948181 \n",
      "\n",
      "[Total correct, Total count]: [112356.0, 123535.0]\n",
      "Epoch: 1, Optimization Iteration (batch #): 180, Training Accuracy: 0.9095074534416199 \n",
      "\n",
      "[Total correct, Total count]: [112764.0, 124012.0]\n",
      "Epoch: 1, Optimization Iteration (batch #): 181, Training Accuracy: 0.9092990756034851 \n",
      "\n",
      "[Total correct, Total count]: [113500.0, 124802.0]\n",
      "Epoch: 1, Optimization Iteration (batch #): 182, Training Accuracy: 0.9094405770301819 \n",
      "\n"
     ]
    },
    {
     "name": "stdout",
     "output_type": "stream",
     "text": [
      "[Total correct, Total count]: [114003.0, 125353.0]\n",
      "Epoch: 1, Optimization Iteration (batch #): 183, Training Accuracy: 0.9094557166099548 \n",
      "\n",
      "[Total correct, Total count]: [114940.0, 126355.0]\n",
      "Epoch: 1, Optimization Iteration (batch #): 184, Training Accuracy: 0.9096592664718628 \n",
      "\n",
      "[Total correct, Total count]: [115486.0, 126950.0]\n",
      "Epoch: 1, Optimization Iteration (batch #): 185, Training Accuracy: 0.9096967577934265 \n",
      "\n",
      "[Total correct, Total count]: [115963.0, 127458.0]\n",
      "Epoch: 1, Optimization Iteration (batch #): 186, Training Accuracy: 0.909813404083252 \n",
      "\n",
      "[Total correct, Total count]: [116401.0, 127933.0]\n",
      "Epoch: 1, Optimization Iteration (batch #): 187, Training Accuracy: 0.9098590612411499 \n",
      "\n",
      "[Total correct, Total count]: [117966.0, 129598.0]\n",
      "Epoch: 1, Optimization Iteration (batch #): 188, Training Accuracy: 0.9102455377578735 \n",
      "\n",
      "[Total correct, Total count]: [118646.0, 130329.0]\n",
      "Epoch: 1, Optimization Iteration (batch #): 189, Training Accuracy: 0.910357654094696 \n",
      "\n",
      "[Total correct, Total count]: [119510.0, 131233.0]\n",
      "Epoch: 1, Optimization Iteration (batch #): 190, Training Accuracy: 0.9106703400611877 \n",
      "\n",
      "[Total correct, Total count]: [120542.0, 132333.0]\n",
      "Epoch: 1, Optimization Iteration (batch #): 191, Training Accuracy: 0.9108990430831909 \n",
      "\n",
      "[Total correct, Total count]: [121006.0, 132847.0]\n",
      "Epoch: 1, Optimization Iteration (batch #): 192, Training Accuracy: 0.9108673930168152 \n",
      "\n",
      "[Total correct, Total count]: [121755.0, 133639.0]\n",
      "Epoch: 1, Optimization Iteration (batch #): 193, Training Accuracy: 0.9110738635063171 \n",
      "\n",
      "[Total correct, Total count]: [122483.0, 134395.0]\n",
      "Epoch: 1, Optimization Iteration (batch #): 194, Training Accuracy: 0.9113657474517822 \n",
      "\n",
      "[Total correct, Total count]: [123173.0, 135144.0]\n",
      "Epoch: 1, Optimization Iteration (batch #): 195, Training Accuracy: 0.9114204049110413 \n",
      "\n",
      "[Total correct, Total count]: [124020.0, 136034.0]\n",
      "Epoch: 1, Optimization Iteration (batch #): 196, Training Accuracy: 0.9116838574409485 \n",
      "\n",
      "[Total correct, Total count]: [124367.0, 136426.0]\n",
      "Epoch: 1, Optimization Iteration (batch #): 197, Training Accuracy: 0.9116077423095703 \n",
      "\n",
      "[Total correct, Total count]: [124783.0, 136877.0]\n",
      "Epoch: 1, Optimization Iteration (batch #): 198, Training Accuracy: 0.9116433262825012 \n",
      "\n",
      "[Total correct, Total count]: [125370.0, 137515.0]\n",
      "Epoch: 1, Optimization Iteration (batch #): 199, Training Accuracy: 0.9116823673248291 \n",
      "\n",
      "[Total correct, Total count]: [125949.0, 138109.0]\n",
      "Epoch: 1, Optimization Iteration (batch #): 200, Training Accuracy: 0.9119536280632019 \n",
      "\n",
      "[Total correct, Total count]: [126607.0, 138818.0]\n",
      "Epoch: 2, Optimization Iteration (batch #): 1, Training Accuracy: 0.9120358824729919 \n",
      "\n",
      "[Total correct, Total count]: [127209.0, 139495.0]\n",
      "Epoch: 2, Optimization Iteration (batch #): 2, Training Accuracy: 0.9119251370429993 \n",
      "\n",
      "[Total correct, Total count]: [127721.0, 140058.0]\n",
      "Epoch: 2, Optimization Iteration (batch #): 3, Training Accuracy: 0.9119150638580322 \n",
      "\n",
      "[Total correct, Total count]: [128092.0, 140458.0]\n",
      "Epoch: 2, Optimization Iteration (batch #): 4, Training Accuracy: 0.9119594693183899 \n",
      "\n",
      "[Total correct, Total count]: [128369.0, 140878.0]\n",
      "Epoch: 2, Optimization Iteration (batch #): 5, Training Accuracy: 0.911206841468811 \n",
      "\n",
      "[Total correct, Total count]: [129255.0, 141791.0]\n",
      "Epoch: 2, Optimization Iteration (batch #): 6, Training Accuracy: 0.911588191986084 \n",
      "\n",
      "[Total correct, Total count]: [130007.0, 142583.0]\n",
      "Epoch: 2, Optimization Iteration (batch #): 7, Training Accuracy: 0.9117987155914307 \n",
      "\n",
      "[Total correct, Total count]: [130918.0, 143591.0]\n",
      "Epoch: 2, Optimization Iteration (batch #): 8, Training Accuracy: 0.9117423892021179 \n",
      "\n",
      "[Total correct, Total count]: [131838.0, 144585.0]\n",
      "Epoch: 2, Optimization Iteration (batch #): 9, Training Accuracy: 0.9118373394012451 \n",
      "\n",
      "[Total correct, Total count]: [132714.0, 145535.0]\n",
      "Epoch: 2, Optimization Iteration (batch #): 10, Training Accuracy: 0.9119043350219727 \n",
      "\n",
      "[Total correct, Total count]: [132885.0, 145750.0]\n",
      "Epoch: 2, Optimization Iteration (batch #): 11, Training Accuracy: 0.9117324352264404 \n",
      "\n",
      "[Total correct, Total count]: [133774.0, 146669.0]\n",
      "Epoch: 2, Optimization Iteration (batch #): 12, Training Accuracy: 0.9120809435844421 \n",
      "\n",
      "[Total correct, Total count]: [133964.0, 146926.0]\n",
      "Epoch: 2, Optimization Iteration (batch #): 13, Training Accuracy: 0.9117787480354309 \n",
      "\n",
      "[Total correct, Total count]: [134664.0, 147664.0]\n",
      "Epoch: 2, Optimization Iteration (batch #): 14, Training Accuracy: 0.9119622707366943 \n",
      "\n",
      "[Total correct, Total count]: [134788.0, 147855.0]\n",
      "Epoch: 2, Optimization Iteration (batch #): 15, Training Accuracy: 0.9116228818893433 \n",
      "\n",
      "[Total correct, Total count]: [135285.0, 148392.0]\n",
      "Epoch: 2, Optimization Iteration (batch #): 16, Training Accuracy: 0.9116731286048889 \n",
      "\n",
      "[Total correct, Total count]: [135805.0, 148970.0]\n",
      "Epoch: 2, Optimization Iteration (batch #): 17, Training Accuracy: 0.9116265177726746 \n",
      "\n",
      "[Total correct, Total count]: [136773.0, 149976.0]\n",
      "Epoch: 2, Optimization Iteration (batch #): 18, Training Accuracy: 0.9119659066200256 \n",
      "\n",
      "[Total correct, Total count]: [138275.0, 151517.0]\n",
      "Epoch: 2, Optimization Iteration (batch #): 19, Training Accuracy: 0.9126038551330566 \n",
      "\n",
      "[Total correct, Total count]: [139013.0, 152330.0]\n",
      "Epoch: 2, Optimization Iteration (batch #): 20, Training Accuracy: 0.9125779271125793 \n",
      "\n",
      "[Total correct, Total count]: [139549.0, 152916.0]\n",
      "Epoch: 2, Optimization Iteration (batch #): 21, Training Accuracy: 0.912585973739624 \n",
      "\n",
      "[Total correct, Total count]: [139938.0, 153439.0]\n",
      "Epoch: 2, Optimization Iteration (batch #): 22, Training Accuracy: 0.9120106101036072 \n",
      "\n",
      "[Total correct, Total count]: [140503.0, 154058.0]\n",
      "Epoch: 2, Optimization Iteration (batch #): 23, Training Accuracy: 0.9120136499404907 \n",
      "\n",
      "[Total correct, Total count]: [141020.0, 154603.0]\n",
      "Epoch: 2, Optimization Iteration (batch #): 24, Training Accuracy: 0.9121426939964294 \n",
      "\n",
      "[Total correct, Total count]: [141116.0, 154732.0]\n",
      "Epoch: 2, Optimization Iteration (batch #): 25, Training Accuracy: 0.912002682685852 \n",
      "\n",
      "[Total correct, Total count]: [141601.0, 155255.0]\n",
      "Epoch: 2, Optimization Iteration (batch #): 26, Training Accuracy: 0.9120543599128723 \n",
      "\n",
      "[Total correct, Total count]: [142096.0, 155791.0]\n",
      "Epoch: 2, Optimization Iteration (batch #): 27, Training Accuracy: 0.9120937585830688 \n",
      "\n",
      "[Total correct, Total count]: [142998.0, 156755.0]\n",
      "Epoch: 2, Optimization Iteration (batch #): 28, Training Accuracy: 0.9122388362884521 \n",
      "\n",
      "[Total correct, Total count]: [143516.0, 157297.0]\n",
      "Epoch: 2, Optimization Iteration (batch #): 29, Training Accuracy: 0.9123886823654175 \n",
      "\n",
      "[Total correct, Total count]: [143974.0, 157794.0]\n",
      "Epoch: 2, Optimization Iteration (batch #): 30, Training Accuracy: 0.912417471408844 \n",
      "\n",
      "[Total correct, Total count]: [145026.0, 158917.0]\n",
      "Epoch: 2, Optimization Iteration (batch #): 31, Training Accuracy: 0.9125896096229553 \n",
      "\n",
      "[Total correct, Total count]: [145064.0, 158990.0]\n",
      "Epoch: 2, Optimization Iteration (batch #): 32, Training Accuracy: 0.9124096035957336 \n",
      "\n",
      "[Total correct, Total count]: [146675.0, 160665.0]\n",
      "Epoch: 2, Optimization Iteration (batch #): 33, Training Accuracy: 0.9129244089126587 \n",
      "\n",
      "[Total correct, Total count]: [147165.0, 161194.0]\n",
      "Epoch: 2, Optimization Iteration (batch #): 34, Training Accuracy: 0.9129682183265686 \n",
      "\n",
      "[Total correct, Total count]: [148191.0, 162344.0]\n",
      "Epoch: 2, Optimization Iteration (batch #): 35, Training Accuracy: 0.9128209352493286 \n",
      "\n",
      "[Total correct, Total count]: [149162.0, 163392.0]\n",
      "Epoch: 2, Optimization Iteration (batch #): 36, Training Accuracy: 0.9129088521003723 \n",
      "\n",
      "[Total correct, Total count]: [149429.0, 163714.0]\n",
      "Epoch: 2, Optimization Iteration (batch #): 37, Training Accuracy: 0.9127441644668579 \n",
      "\n",
      "[Total correct, Total count]: [149791.0, 164099.0]\n",
      "Epoch: 2, Optimization Iteration (batch #): 38, Training Accuracy: 0.9128087162971497 \n",
      "\n",
      "[Total correct, Total count]: [150288.0, 164624.0]\n",
      "Epoch: 2, Optimization Iteration (batch #): 39, Training Accuracy: 0.9129167199134827 \n",
      "\n",
      "[Total correct, Total count]: [150849.0, 165249.0]\n",
      "Epoch: 2, Optimization Iteration (batch #): 40, Training Accuracy: 0.912858784198761 \n",
      "\n",
      "[Total correct, Total count]: [152117.0, 166587.0]\n",
      "Epoch: 2, Optimization Iteration (batch #): 41, Training Accuracy: 0.9131385087966919 \n",
      "\n",
      "[Total correct, Total count]: [152516.0, 167089.0]\n",
      "Epoch: 2, Optimization Iteration (batch #): 42, Training Accuracy: 0.9127830266952515 \n",
      "\n"
     ]
    },
    {
     "name": "stdout",
     "output_type": "stream",
     "text": [
      "[Total correct, Total count]: [153265.0, 167940.0]\n",
      "Epoch: 2, Optimization Iteration (batch #): 43, Training Accuracy: 0.9126176238059998 \n",
      "\n",
      "[Total correct, Total count]: [154365.0, 169099.0]\n",
      "Epoch: 2, Optimization Iteration (batch #): 44, Training Accuracy: 0.9128676056861877 \n",
      "\n",
      "[Total correct, Total count]: [154965.0, 169746.0]\n",
      "Epoch: 2, Optimization Iteration (batch #): 45, Training Accuracy: 0.9129228591918945 \n",
      "\n",
      "[Total correct, Total count]: [155212.0, 170019.0]\n",
      "Epoch: 2, Optimization Iteration (batch #): 46, Training Accuracy: 0.912909746170044 \n",
      "\n",
      "[Total correct, Total count]: [156174.0, 171041.0]\n",
      "Epoch: 2, Optimization Iteration (batch #): 47, Training Accuracy: 0.9130793213844299 \n",
      "\n",
      "[Total correct, Total count]: [157137.0, 172057.0]\n",
      "Epoch: 2, Optimization Iteration (batch #): 48, Training Accuracy: 0.9132845401763916 \n",
      "\n",
      "[Total correct, Total count]: [157587.0, 172557.0]\n",
      "Epoch: 2, Optimization Iteration (batch #): 49, Training Accuracy: 0.9132460355758667 \n",
      "\n",
      "[Total correct, Total count]: [158239.0, 173237.0]\n",
      "Epoch: 2, Optimization Iteration (batch #): 50, Training Accuracy: 0.9134249687194824 \n",
      "\n",
      "[Total correct, Total count]: [159310.0, 174445.0]\n",
      "Epoch: 2, Optimization Iteration (batch #): 51, Training Accuracy: 0.9132391214370728 \n",
      "\n",
      "[Total correct, Total count]: [160466.0, 175691.0]\n",
      "Epoch: 2, Optimization Iteration (batch #): 52, Training Accuracy: 0.9133421778678894 \n",
      "\n",
      "[Total correct, Total count]: [160962.0, 176220.0]\n",
      "Epoch: 2, Optimization Iteration (batch #): 53, Training Accuracy: 0.9134150743484497 \n",
      "\n",
      "[Total correct, Total count]: [161215.0, 176503.0]\n",
      "Epoch: 2, Optimization Iteration (batch #): 54, Training Accuracy: 0.9133839011192322 \n",
      "\n",
      "[Total correct, Total count]: [162043.0, 177360.0]\n",
      "Epoch: 2, Optimization Iteration (batch #): 55, Training Accuracy: 0.9136389493942261 \n",
      "\n",
      "[Total correct, Total count]: [162181.0, 177552.0]\n",
      "Epoch: 2, Optimization Iteration (batch #): 56, Training Accuracy: 0.9134281873703003 \n",
      "\n",
      "[Total correct, Total count]: [163265.0, 178681.0]\n",
      "Epoch: 2, Optimization Iteration (batch #): 57, Training Accuracy: 0.913723349571228 \n",
      "\n",
      "[Total correct, Total count]: [163966.0, 179471.0]\n",
      "Epoch: 2, Optimization Iteration (batch #): 58, Training Accuracy: 0.9136072397232056 \n",
      "\n",
      "[Total correct, Total count]: [164167.0, 179701.0]\n",
      "Epoch: 2, Optimization Iteration (batch #): 59, Training Accuracy: 0.9135563969612122 \n",
      "\n",
      "[Total correct, Total count]: [165775.0, 181422.0]\n",
      "Epoch: 2, Optimization Iteration (batch #): 60, Training Accuracy: 0.9137535691261292 \n",
      "\n",
      "[Total correct, Total count]: [166812.0, 182515.0]\n",
      "Epoch: 2, Optimization Iteration (batch #): 61, Training Accuracy: 0.913963258266449 \n",
      "\n",
      "[Total correct, Total count]: [167214.0, 182991.0]\n",
      "Epoch: 2, Optimization Iteration (batch #): 62, Training Accuracy: 0.9137826561927795 \n",
      "\n",
      "[Total correct, Total count]: [168405.0, 184258.0]\n",
      "Epoch: 2, Optimization Iteration (batch #): 63, Training Accuracy: 0.9139630198478699 \n",
      "\n",
      "[Total correct, Total count]: [169118.0, 185013.0]\n",
      "Epoch: 2, Optimization Iteration (batch #): 64, Training Accuracy: 0.9140871167182922 \n",
      "\n",
      "[Total correct, Total count]: [169535.0, 185481.0]\n",
      "Epoch: 2, Optimization Iteration (batch #): 65, Training Accuracy: 0.9140289425849915 \n",
      "\n",
      "[Total correct, Total count]: [169607.0, 185605.0]\n",
      "Epoch: 2, Optimization Iteration (batch #): 66, Training Accuracy: 0.9138062000274658 \n",
      "\n",
      "[Total correct, Total count]: [170190.0, 186248.0]\n",
      "Epoch: 2, Optimization Iteration (batch #): 67, Training Accuracy: 0.9137816429138184 \n",
      "\n",
      "[Total correct, Total count]: [171303.0, 187426.0]\n",
      "Epoch: 2, Optimization Iteration (batch #): 68, Training Accuracy: 0.9139767289161682 \n",
      "\n",
      "[Total correct, Total count]: [172101.0, 188269.0]\n",
      "Epoch: 2, Optimization Iteration (batch #): 69, Training Accuracy: 0.9141228795051575 \n",
      "\n",
      "[Total correct, Total count]: [172615.0, 188830.0]\n",
      "Epoch: 2, Optimization Iteration (batch #): 70, Training Accuracy: 0.9141291379928589 \n",
      "\n",
      "[Total correct, Total count]: [173226.0, 189469.0]\n",
      "Epoch: 2, Optimization Iteration (batch #): 71, Training Accuracy: 0.9142709374427795 \n",
      "\n",
      "[Total correct, Total count]: [173835.0, 190106.0]\n",
      "Epoch: 2, Optimization Iteration (batch #): 72, Training Accuracy: 0.9144108891487122 \n",
      "\n",
      "[Total correct, Total count]: [174083.0, 190395.0]\n",
      "Epoch: 2, Optimization Iteration (batch #): 73, Training Accuracy: 0.914325475692749 \n",
      "\n",
      "[Total correct, Total count]: [175122.0, 191528.0]\n",
      "Epoch: 2, Optimization Iteration (batch #): 74, Training Accuracy: 0.9143415093421936 \n",
      "\n",
      "[Total correct, Total count]: [175174.0, 191614.0]\n",
      "Epoch: 2, Optimization Iteration (batch #): 75, Training Accuracy: 0.9142025113105774 \n",
      "\n",
      "[Total correct, Total count]: [175986.0, 192484.0]\n",
      "Epoch: 2, Optimization Iteration (batch #): 76, Training Accuracy: 0.9142889976501465 \n",
      "\n",
      "[Total correct, Total count]: [176867.0, 193408.0]\n",
      "Epoch: 2, Optimization Iteration (batch #): 77, Training Accuracy: 0.9144761562347412 \n",
      "\n",
      "[Total correct, Total count]: [177863.0, 194457.0]\n",
      "Epoch: 2, Optimization Iteration (batch #): 78, Training Accuracy: 0.9146649241447449 \n",
      "\n",
      "[Total correct, Total count]: [177960.0, 194580.0]\n",
      "Epoch: 2, Optimization Iteration (batch #): 79, Training Accuracy: 0.9145852327346802 \n",
      "\n",
      "[Total correct, Total count]: [178323.0, 194990.0]\n",
      "Epoch: 2, Optimization Iteration (batch #): 80, Training Accuracy: 0.9145238399505615 \n",
      "\n",
      "[Total correct, Total count]: [180137.0, 196884.0]\n",
      "Epoch: 2, Optimization Iteration (batch #): 81, Training Accuracy: 0.9149397611618042 \n",
      "\n",
      "[Total correct, Total count]: [180726.0, 197587.0]\n",
      "Epoch: 2, Optimization Iteration (batch #): 82, Training Accuracy: 0.9146654605865479 \n",
      "\n",
      "[Total correct, Total count]: [181935.0, 198845.0]\n",
      "Epoch: 2, Optimization Iteration (batch #): 83, Training Accuracy: 0.9149588942527771 \n",
      "\n",
      "[Total correct, Total count]: [182938.0, 199937.0]\n",
      "Epoch: 2, Optimization Iteration (batch #): 84, Training Accuracy: 0.9149782061576843 \n",
      "\n",
      "[Total correct, Total count]: [183798.0, 200883.0]\n",
      "Epoch: 2, Optimization Iteration (batch #): 85, Training Accuracy: 0.9149504899978638 \n",
      "\n",
      "[Total correct, Total count]: [184363.0, 201503.0]\n",
      "Epoch: 2, Optimization Iteration (batch #): 86, Training Accuracy: 0.9149392247200012 \n",
      "\n",
      "[Total correct, Total count]: [185738.0, 202950.0]\n",
      "Epoch: 2, Optimization Iteration (batch #): 87, Training Accuracy: 0.9151909351348877 \n",
      "\n",
      "[Total correct, Total count]: [186734.0, 203981.0]\n",
      "Epoch: 2, Optimization Iteration (batch #): 88, Training Accuracy: 0.915448009967804 \n",
      "\n",
      "[Total correct, Total count]: [187678.0, 205046.0]\n",
      "Epoch: 2, Optimization Iteration (batch #): 89, Training Accuracy: 0.9152970314025879 \n",
      "\n",
      "[Total correct, Total count]: [188506.0, 205946.0]\n",
      "Epoch: 2, Optimization Iteration (batch #): 90, Training Accuracy: 0.9153175950050354 \n",
      "\n",
      "[Total correct, Total count]: [189398.0, 206884.0]\n",
      "Epoch: 2, Optimization Iteration (batch #): 91, Training Accuracy: 0.9154791831970215 \n",
      "\n",
      "[Total correct, Total count]: [190862.0, 208421.0]\n",
      "Epoch: 2, Optimization Iteration (batch #): 92, Training Accuracy: 0.9157522320747375 \n",
      "\n",
      "[Total correct, Total count]: [191756.0, 209366.0]\n",
      "Epoch: 2, Optimization Iteration (batch #): 93, Training Accuracy: 0.9158889055252075 \n",
      "\n",
      "[Total correct, Total count]: [192062.0, 209728.0]\n",
      "Epoch: 2, Optimization Iteration (batch #): 94, Training Accuracy: 0.9157670736312866 \n",
      "\n",
      "[Total correct, Total count]: [192325.0, 210026.0]\n",
      "Epoch: 2, Optimization Iteration (batch #): 95, Training Accuracy: 0.9157199859619141 \n",
      "\n",
      "[Total correct, Total count]: [192465.0, 210201.0]\n",
      "Epoch: 2, Optimization Iteration (batch #): 96, Training Accuracy: 0.9156236052513123 \n",
      "\n",
      "[Total correct, Total count]: [192992.0, 210769.0]\n",
      "Epoch: 2, Optimization Iteration (batch #): 97, Training Accuracy: 0.9156564474105835 \n",
      "\n",
      "[Total correct, Total count]: [193305.0, 211125.0]\n",
      "Epoch: 2, Optimization Iteration (batch #): 98, Training Accuracy: 0.9155950546264648 \n",
      "\n",
      "[Total correct, Total count]: [193777.0, 211682.0]\n",
      "Epoch: 2, Optimization Iteration (batch #): 99, Training Accuracy: 0.9154155850410461 \n",
      "\n",
      "[Total correct, Total count]: [194769.0, 212698.0]\n",
      "Epoch: 2, Optimization Iteration (batch #): 100, Training Accuracy: 0.9157067537307739 \n",
      "\n",
      "[Total correct, Total count]: [195380.0, 213371.0]\n",
      "Epoch: 2, Optimization Iteration (batch #): 101, Training Accuracy: 0.9156820774078369 \n",
      "\n",
      "[Total correct, Total count]: [196825.0, 214891.0]\n",
      "Epoch: 2, Optimization Iteration (batch #): 102, Training Accuracy: 0.9159294962882996 \n",
      "\n"
     ]
    },
    {
     "name": "stdout",
     "output_type": "stream",
     "text": [
      "[Total correct, Total count]: [197101.0, 215214.0]\n",
      "Epoch: 2, Optimization Iteration (batch #): 103, Training Accuracy: 0.915837287902832 \n",
      "\n",
      "[Total correct, Total count]: [197884.0, 216045.0]\n",
      "Epoch: 2, Optimization Iteration (batch #): 104, Training Accuracy: 0.9159387946128845 \n",
      "\n",
      "[Total correct, Total count]: [198520.0, 216729.0]\n",
      "Epoch: 2, Optimization Iteration (batch #): 105, Training Accuracy: 0.9159826040267944 \n",
      "\n",
      "[Total correct, Total count]: [199238.0, 217497.0]\n",
      "Epoch: 2, Optimization Iteration (batch #): 106, Training Accuracy: 0.9160494208335876 \n",
      "\n",
      "[Total correct, Total count]: [200140.0, 218427.0]\n",
      "Epoch: 2, Optimization Iteration (batch #): 107, Training Accuracy: 0.9162786602973938 \n",
      "\n",
      "[Total correct, Total count]: [200978.0, 219315.0]\n",
      "Epoch: 2, Optimization Iteration (batch #): 108, Training Accuracy: 0.9163896441459656 \n",
      "\n",
      "[Total correct, Total count]: [201576.0, 219949.0]\n",
      "Epoch: 2, Optimization Iteration (batch #): 109, Training Accuracy: 0.916467010974884 \n",
      "\n",
      "[Total correct, Total count]: [202147.0, 220590.0]\n",
      "Epoch: 2, Optimization Iteration (batch #): 110, Training Accuracy: 0.9163923859596252 \n",
      "\n",
      "[Total correct, Total count]: [202803.0, 221289.0]\n",
      "Epoch: 2, Optimization Iteration (batch #): 111, Training Accuracy: 0.9164621829986572 \n",
      "\n",
      "[Total correct, Total count]: [203258.0, 221795.0]\n",
      "Epoch: 2, Optimization Iteration (batch #): 112, Training Accuracy: 0.9164228439331055 \n",
      "\n",
      "[Total correct, Total count]: [204018.0, 222586.0]\n",
      "Epoch: 2, Optimization Iteration (batch #): 113, Training Accuracy: 0.9165805578231812 \n",
      "\n",
      "[Total correct, Total count]: [205041.0, 223656.0]\n",
      "Epoch: 2, Optimization Iteration (batch #): 114, Training Accuracy: 0.9167695045471191 \n",
      "\n",
      "[Total correct, Total count]: [205503.0, 224159.0]\n",
      "Epoch: 2, Optimization Iteration (batch #): 115, Training Accuracy: 0.9167733788490295 \n",
      "\n",
      "[Total correct, Total count]: [206308.0, 225025.0]\n",
      "Epoch: 2, Optimization Iteration (batch #): 116, Training Accuracy: 0.9168225526809692 \n",
      "\n",
      "[Total correct, Total count]: [206865.0, 225660.0]\n",
      "Epoch: 2, Optimization Iteration (batch #): 117, Training Accuracy: 0.9167109727859497 \n",
      "\n",
      "[Total correct, Total count]: [207223.0, 226069.0]\n",
      "Epoch: 2, Optimization Iteration (batch #): 118, Training Accuracy: 0.916636049747467 \n",
      "\n",
      "[Total correct, Total count]: [208323.0, 227251.0]\n",
      "Epoch: 2, Optimization Iteration (batch #): 119, Training Accuracy: 0.9167088270187378 \n",
      "\n",
      "[Total correct, Total count]: [208759.0, 227712.0]\n",
      "Epoch: 2, Optimization Iteration (batch #): 120, Training Accuracy: 0.9167676568031311 \n",
      "\n",
      "[Total correct, Total count]: [209150.0, 228140.0]\n",
      "Epoch: 2, Optimization Iteration (batch #): 121, Training Accuracy: 0.9167616367340088 \n",
      "\n",
      "[Total correct, Total count]: [209883.0, 228927.0]\n",
      "Epoch: 2, Optimization Iteration (batch #): 122, Training Accuracy: 0.9168118834495544 \n",
      "\n",
      "[Total correct, Total count]: [210893.0, 229982.0]\n",
      "Epoch: 2, Optimization Iteration (batch #): 123, Training Accuracy: 0.9169978499412537 \n",
      "\n",
      "[Total correct, Total count]: [211220.0, 230349.0]\n",
      "Epoch: 2, Optimization Iteration (batch #): 124, Training Accuracy: 0.9169564247131348 \n",
      "\n",
      "[Total correct, Total count]: [211407.0, 230560.0]\n",
      "Epoch: 2, Optimization Iteration (batch #): 125, Training Accuracy: 0.9169283509254456 \n",
      "\n",
      "[Total correct, Total count]: [211842.0, 231037.0]\n",
      "Epoch: 2, Optimization Iteration (batch #): 126, Training Accuracy: 0.9169180989265442 \n",
      "\n",
      "[Total correct, Total count]: [212106.0, 231334.0]\n",
      "Epoch: 2, Optimization Iteration (batch #): 127, Training Accuracy: 0.9168820977210999 \n",
      "\n",
      "[Total correct, Total count]: [212397.0, 231667.0]\n",
      "Epoch: 2, Optimization Iteration (batch #): 128, Training Accuracy: 0.9168202877044678 \n",
      "\n",
      "[Total correct, Total count]: [213519.0, 232868.0]\n",
      "Epoch: 2, Optimization Iteration (batch #): 129, Training Accuracy: 0.9169099926948547 \n",
      "\n",
      "[Total correct, Total count]: [214041.0, 233426.0]\n",
      "Epoch: 2, Optimization Iteration (batch #): 130, Training Accuracy: 0.9169543981552124 \n",
      "\n",
      "[Total correct, Total count]: [215367.0, 234826.0]\n",
      "Epoch: 2, Optimization Iteration (batch #): 131, Training Accuracy: 0.9171344041824341 \n",
      "\n",
      "[Total correct, Total count]: [215618.0, 235110.0]\n",
      "Epoch: 2, Optimization Iteration (batch #): 132, Training Accuracy: 0.9170941114425659 \n",
      "\n",
      "[Total correct, Total count]: [215844.0, 235406.0]\n",
      "Epoch: 2, Optimization Iteration (batch #): 133, Training Accuracy: 0.9169009923934937 \n",
      "\n",
      "[Total correct, Total count]: [216180.0, 235768.0]\n",
      "Epoch: 2, Optimization Iteration (batch #): 134, Training Accuracy: 0.9169183373451233 \n",
      "\n",
      "[Total correct, Total count]: [216441.0, 236072.0]\n",
      "Epoch: 2, Optimization Iteration (batch #): 135, Training Accuracy: 0.9168431758880615 \n",
      "\n",
      "[Total correct, Total count]: [217321.0, 237002.0]\n",
      "Epoch: 2, Optimization Iteration (batch #): 136, Training Accuracy: 0.9169585108757019 \n",
      "\n",
      "[Total correct, Total count]: [218346.0, 238080.0]\n",
      "Epoch: 2, Optimization Iteration (batch #): 137, Training Accuracy: 0.917111873626709 \n",
      "\n",
      "[Total correct, Total count]: [218745.0, 238529.0]\n",
      "Epoch: 2, Optimization Iteration (batch #): 138, Training Accuracy: 0.9170582890510559 \n",
      "\n",
      "[Total correct, Total count]: [219101.0, 238921.0]\n",
      "Epoch: 2, Optimization Iteration (batch #): 139, Training Accuracy: 0.9170436859130859 \n",
      "\n",
      "[Total correct, Total count]: [219870.0, 239728.0]\n",
      "Epoch: 2, Optimization Iteration (batch #): 140, Training Accuracy: 0.9171644449234009 \n",
      "\n",
      "[Total correct, Total count]: [220001.0, 239886.0]\n",
      "Epoch: 2, Optimization Iteration (batch #): 141, Training Accuracy: 0.9171064496040344 \n",
      "\n",
      "[Total correct, Total count]: [220990.0, 240904.0]\n",
      "Epoch: 2, Optimization Iteration (batch #): 142, Training Accuracy: 0.9173363447189331 \n",
      "\n",
      "[Total correct, Total count]: [221452.0, 241393.0]\n",
      "Epoch: 2, Optimization Iteration (batch #): 143, Training Accuracy: 0.9173919558525085 \n",
      "\n",
      "[Total correct, Total count]: [222598.0, 242632.0]\n",
      "Epoch: 2, Optimization Iteration (batch #): 144, Training Accuracy: 0.9174305200576782 \n",
      "\n",
      "[Total correct, Total count]: [223309.0, 243418.0]\n",
      "Epoch: 2, Optimization Iteration (batch #): 145, Training Accuracy: 0.9173890352249146 \n",
      "\n",
      "[Total correct, Total count]: [223612.0, 243753.0]\n",
      "Epoch: 2, Optimization Iteration (batch #): 146, Training Accuracy: 0.9173712730407715 \n",
      "\n",
      "[Total correct, Total count]: [224154.0, 244330.0]\n",
      "Epoch: 2, Optimization Iteration (batch #): 147, Training Accuracy: 0.9174231290817261 \n",
      "\n",
      "[Total correct, Total count]: [224640.0, 244853.0]\n",
      "Epoch: 2, Optimization Iteration (batch #): 148, Training Accuracy: 0.9174484014511108 \n",
      "\n",
      "[Total correct, Total count]: [225509.0, 245788.0]\n",
      "Epoch: 2, Optimization Iteration (batch #): 149, Training Accuracy: 0.9174939393997192 \n",
      "\n",
      "[Total correct, Total count]: [225961.0, 246285.0]\n",
      "Epoch: 2, Optimization Iteration (batch #): 150, Training Accuracy: 0.9174777269363403 \n",
      "\n",
      "[Total correct, Total count]: [226386.0, 246745.0]\n",
      "Epoch: 2, Optimization Iteration (batch #): 151, Training Accuracy: 0.9174897074699402 \n",
      "\n",
      "[Total correct, Total count]: [226875.0, 247315.0]\n",
      "Epoch: 2, Optimization Iteration (batch #): 152, Training Accuracy: 0.9173523783683777 \n",
      "\n",
      "[Total correct, Total count]: [227952.0, 248496.0]\n",
      "Epoch: 2, Optimization Iteration (batch #): 153, Training Accuracy: 0.9173266291618347 \n",
      "\n",
      "[Total correct, Total count]: [228263.0, 248847.0]\n",
      "Epoch: 2, Optimization Iteration (batch #): 154, Training Accuracy: 0.9172825217247009 \n",
      "\n",
      "[Total correct, Total count]: [228711.0, 249333.0]\n",
      "Epoch: 2, Optimization Iteration (batch #): 155, Training Accuracy: 0.9172913432121277 \n",
      "\n",
      "[Total correct, Total count]: [229141.0, 249812.0]\n",
      "Epoch: 2, Optimization Iteration (batch #): 156, Training Accuracy: 0.9172537922859192 \n",
      "\n",
      "[Total correct, Total count]: [229747.0, 250499.0]\n",
      "Epoch: 2, Optimization Iteration (batch #): 157, Training Accuracy: 0.9171573519706726 \n",
      "\n",
      "[Total correct, Total count]: [230337.0, 251152.0]\n",
      "Epoch: 2, Optimization Iteration (batch #): 158, Training Accuracy: 0.9171218872070312 \n",
      "\n",
      "[Total correct, Total count]: [231324.0, 252183.0]\n",
      "Epoch: 2, Optimization Iteration (batch #): 159, Training Accuracy: 0.9172862768173218 \n",
      "\n",
      "[Total correct, Total count]: [231560.0, 252461.0]\n",
      "Epoch: 2, Optimization Iteration (batch #): 160, Training Accuracy: 0.9172109961509705 \n",
      "\n",
      "[Total correct, Total count]: [232029.0, 252974.0]\n",
      "Epoch: 2, Optimization Iteration (batch #): 161, Training Accuracy: 0.9172049164772034 \n",
      "\n",
      "[Total correct, Total count]: [232531.0, 253558.0]\n",
      "Epoch: 2, Optimization Iteration (batch #): 162, Training Accuracy: 0.9170722365379333 \n",
      "\n"
     ]
    },
    {
     "name": "stdout",
     "output_type": "stream",
     "text": [
      "[Total correct, Total count]: [233314.0, 254376.0]\n",
      "Epoch: 2, Optimization Iteration (batch #): 163, Training Accuracy: 0.9172012805938721 \n",
      "\n",
      "[Total correct, Total count]: [234119.0, 255213.0]\n",
      "Epoch: 2, Optimization Iteration (batch #): 164, Training Accuracy: 0.9173474907875061 \n",
      "\n",
      "[Total correct, Total count]: [235141.0, 256266.0]\n",
      "Epoch: 2, Optimization Iteration (batch #): 165, Training Accuracy: 0.9175661206245422 \n",
      "\n",
      "[Total correct, Total count]: [235533.0, 256709.0]\n",
      "Epoch: 2, Optimization Iteration (batch #): 166, Training Accuracy: 0.9175097346305847 \n",
      "\n",
      "[Total correct, Total count]: [235907.0, 257132.0]\n",
      "Epoch: 2, Optimization Iteration (batch #): 167, Training Accuracy: 0.9174548387527466 \n",
      "\n",
      "[Total correct, Total count]: [236262.0, 257550.0]\n",
      "Epoch: 2, Optimization Iteration (batch #): 168, Training Accuracy: 0.9173442125320435 \n",
      "\n",
      "[Total correct, Total count]: [236682.0, 258004.0]\n",
      "Epoch: 2, Optimization Iteration (batch #): 169, Training Accuracy: 0.917357861995697 \n",
      "\n",
      "[Total correct, Total count]: [237266.0, 258627.0]\n",
      "Epoch: 2, Optimization Iteration (batch #): 170, Training Accuracy: 0.9174061417579651 \n",
      "\n",
      "[Total correct, Total count]: [237298.0, 258714.0]\n",
      "Epoch: 2, Optimization Iteration (batch #): 171, Training Accuracy: 0.9172213077545166 \n",
      "\n",
      "[Total correct, Total count]: [237983.0, 259468.0]\n",
      "Epoch: 2, Optimization Iteration (batch #): 172, Training Accuracy: 0.9171959757804871 \n",
      "\n",
      "[Total correct, Total count]: [238665.0, 260186.0]\n",
      "Epoch: 2, Optimization Iteration (batch #): 173, Training Accuracy: 0.9172860980033875 \n",
      "\n",
      "[Total correct, Total count]: [239323.0, 260887.0]\n",
      "Epoch: 2, Optimization Iteration (batch #): 174, Training Accuracy: 0.9173434972763062 \n",
      "\n",
      "[Total correct, Total count]: [240840.0, 262455.0]\n",
      "Epoch: 2, Optimization Iteration (batch #): 175, Training Accuracy: 0.9176430106163025 \n",
      "\n",
      "[Total correct, Total count]: [241295.0, 262946.0]\n",
      "Epoch: 2, Optimization Iteration (batch #): 176, Training Accuracy: 0.9176598787307739 \n",
      "\n",
      "[Total correct, Total count]: [241403.0, 263086.0]\n",
      "Epoch: 2, Optimization Iteration (batch #): 177, Training Accuracy: 0.917582094669342 \n",
      "\n",
      "[Total correct, Total count]: [241623.0, 263342.0]\n",
      "Epoch: 2, Optimization Iteration (batch #): 178, Training Accuracy: 0.9175254702568054 \n",
      "\n",
      "[Total correct, Total count]: [242395.0, 264160.0]\n",
      "Epoch: 2, Optimization Iteration (batch #): 179, Training Accuracy: 0.917606770992279 \n",
      "\n",
      "[Total correct, Total count]: [242984.0, 264783.0]\n",
      "Epoch: 2, Optimization Iteration (batch #): 180, Training Accuracy: 0.9176722168922424 \n",
      "\n",
      "[Total correct, Total count]: [244163.0, 266030.0]\n",
      "Epoch: 2, Optimization Iteration (batch #): 181, Training Accuracy: 0.9178025126457214 \n",
      "\n",
      "[Total correct, Total count]: [244793.0, 266699.0]\n",
      "Epoch: 2, Optimization Iteration (batch #): 182, Training Accuracy: 0.9178624749183655 \n",
      "\n",
      "[Total correct, Total count]: [245312.0, 267273.0]\n",
      "Epoch: 2, Optimization Iteration (batch #): 183, Training Accuracy: 0.9178330898284912 \n",
      "\n",
      "[Total correct, Total count]: [245452.0, 267461.0]\n",
      "Epoch: 2, Optimization Iteration (batch #): 184, Training Accuracy: 0.9177113771438599 \n",
      "\n",
      "[Total correct, Total count]: [245911.0, 267960.0]\n",
      "Epoch: 2, Optimization Iteration (batch #): 185, Training Accuracy: 0.917715311050415 \n",
      "\n",
      "[Total correct, Total count]: [246439.0, 268542.0]\n",
      "Epoch: 2, Optimization Iteration (batch #): 186, Training Accuracy: 0.9176926016807556 \n",
      "\n",
      "[Total correct, Total count]: [246657.0, 268799.0]\n",
      "Epoch: 2, Optimization Iteration (batch #): 187, Training Accuracy: 0.9176262021064758 \n",
      "\n",
      "[Total correct, Total count]: [247022.0, 269209.0]\n",
      "Epoch: 2, Optimization Iteration (batch #): 188, Training Accuracy: 0.9175844788551331 \n",
      "\n",
      "[Total correct, Total count]: [247246.0, 269456.0]\n",
      "Epoch: 2, Optimization Iteration (batch #): 189, Training Accuracy: 0.9175746440887451 \n",
      "\n",
      "[Total correct, Total count]: [247744.0, 270017.0]\n",
      "Epoch: 2, Optimization Iteration (batch #): 190, Training Accuracy: 0.9175125956535339 \n",
      "\n",
      "[Total correct, Total count]: [247796.0, 270128.0]\n",
      "Epoch: 2, Optimization Iteration (batch #): 191, Training Accuracy: 0.9173280596733093 \n",
      "\n",
      "[Total correct, Total count]: [248978.0, 271409.0]\n",
      "Epoch: 2, Optimization Iteration (batch #): 192, Training Accuracy: 0.9173535108566284 \n",
      "\n",
      "[Total correct, Total count]: [249463.0, 271987.0]\n",
      "Epoch: 2, Optimization Iteration (batch #): 193, Training Accuracy: 0.9171872138977051 \n",
      "\n",
      "[Total correct, Total count]: [251009.0, 273621.0]\n",
      "Epoch: 2, Optimization Iteration (batch #): 194, Training Accuracy: 0.9173601269721985 \n",
      "\n",
      "[Total correct, Total count]: [251297.0, 273958.0]\n",
      "Epoch: 2, Optimization Iteration (batch #): 195, Training Accuracy: 0.9172829389572144 \n",
      "\n",
      "[Total correct, Total count]: [251647.0, 274383.0]\n",
      "Epoch: 2, Optimization Iteration (batch #): 196, Training Accuracy: 0.9171377420425415 \n",
      "\n",
      "[Total correct, Total count]: [252543.0, 275416.0]\n",
      "Epoch: 2, Optimization Iteration (batch #): 197, Training Accuracy: 0.916951060295105 \n",
      "\n",
      "[Total correct, Total count]: [252888.0, 275813.0]\n",
      "Epoch: 2, Optimization Iteration (batch #): 198, Training Accuracy: 0.9168820977210999 \n",
      "\n",
      "[Total correct, Total count]: [253192.0, 276151.0]\n",
      "Epoch: 2, Optimization Iteration (batch #): 199, Training Accuracy: 0.9168606996536255 \n",
      "\n",
      "[Total correct, Total count]: [253225.0, 276218.0]\n",
      "Epoch: 2, Optimization Iteration (batch #): 200, Training Accuracy: 0.9167577624320984 \n",
      "\n",
      "Time usage: 0:00:54\n"
     ]
    }
   ],
   "source": [
    "optimize(num_epochs=2)"
   ]
  },
  {
   "cell_type": "code",
   "execution_count": 44,
   "metadata": {},
   "outputs": [],
   "source": [
    "writer = tf.summary.FileWriter(\"./logs/CNN_1\", session.graph)"
   ]
  },
  {
   "cell_type": "code",
   "execution_count": 45,
   "metadata": {},
   "outputs": [],
   "source": [
    "# ! tensorboard --logdir=log+"
   ]
  },
  {
   "cell_type": "markdown",
   "metadata": {},
   "source": [
    "21000"
   ]
  },
  {
   "cell_type": "code",
   "execution_count": 46,
   "metadata": {},
   "outputs": [
    {
     "data": {
      "text/plain": [
       "10000"
      ]
     },
     "execution_count": 46,
     "metadata": {},
     "output_type": "execute_result"
    }
   ],
   "source": [
    "len(drug_targets)"
   ]
  },
  {
   "cell_type": "code",
   "execution_count": null,
   "metadata": {},
   "outputs": [],
   "source": []
  }
 ],
 "metadata": {
  "kernelspec": {
   "display_name": "Python 3",
   "language": "python",
   "name": "python3"
  },
  "language_info": {
   "codemirror_mode": {
    "name": "ipython",
    "version": 3
   },
   "file_extension": ".py",
   "mimetype": "text/x-python",
   "name": "python",
   "nbconvert_exporter": "python",
   "pygments_lexer": "ipython3",
   "version": "3.6.6"
  }
 },
 "nbformat": 4,
 "nbformat_minor": 2
}
