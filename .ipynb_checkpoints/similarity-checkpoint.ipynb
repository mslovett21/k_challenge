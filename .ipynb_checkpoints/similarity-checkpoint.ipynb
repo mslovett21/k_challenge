{
 "cells": [
  {
   "cell_type": "code",
   "execution_count": 4,
   "metadata": {},
   "outputs": [],
   "source": [
    "import re\n",
    "import copy\n",
    "import pandas as pd\n",
    "import os\n",
    "import numpy as np\n",
    "import matplotlib.pyplot as plt\n",
    "import seaborn as sns"
   ]
  },
  {
   "cell_type": "code",
   "execution_count": 8,
   "metadata": {},
   "outputs": [],
   "source": [
    "drug_names_file = 'drugs_names.txt'"
   ]
  },
  {
   "cell_type": "code",
   "execution_count": 10,
   "metadata": {},
   "outputs": [],
   "source": [
    "col_names      = [\"chemical_name\"]\n",
    "drugs_index_df = pd.read_csv(drug_names_file, names=col_names_index)"
   ]
  },
  {
   "cell_type": "code",
   "execution_count": 16,
   "metadata": {},
   "outputs": [],
   "source": [
    "drugs_names = list()\n",
    "for i in range(len(drugs_index_df)):\n",
    "    name = drugs_index_df[\"chemical_name\"][i]\n",
    "    drugs_names.append(name)"
   ]
  },
  {
   "cell_type": "code",
   "execution_count": 18,
   "metadata": {},
   "outputs": [],
   "source": [
    "drugs_index_dict = {}\n",
    "for i in range(len(drugs_names)):\n",
    "    drugs_index_dict[drugs_names[i]] = 0"
   ]
  },
  {
   "cell_type": "code",
   "execution_count": 19,
   "metadata": {},
   "outputs": [],
   "source": [
    "drug_index_file = 'similarity/index.json'"
   ]
  },
  {
   "cell_type": "code",
   "execution_count": 20,
   "metadata": {},
   "outputs": [],
   "source": [
    "col_names_index  =[\"name\", \"my_index\"]\n",
    "drugs_index_df   = pd.read_csv(drug_index_file , sep='\":',names=col_names_index,engine=\"python\")"
   ]
  },
  {
   "cell_type": "code",
   "execution_count": 21,
   "metadata": {},
   "outputs": [
    {
     "data": {
      "text/html": [
       "<div>\n",
       "<style scoped>\n",
       "    .dataframe tbody tr th:only-of-type {\n",
       "        vertical-align: middle;\n",
       "    }\n",
       "\n",
       "    .dataframe tbody tr th {\n",
       "        vertical-align: top;\n",
       "    }\n",
       "\n",
       "    .dataframe thead th {\n",
       "        text-align: right;\n",
       "    }\n",
       "</style>\n",
       "<table border=\"1\" class=\"dataframe\">\n",
       "  <thead>\n",
       "    <tr style=\"text-align: right;\">\n",
       "      <th></th>\n",
       "      <th>name</th>\n",
       "      <th>my_index</th>\n",
       "    </tr>\n",
       "  </thead>\n",
       "  <tbody>\n",
       "    <tr>\n",
       "      <th>0</th>\n",
       "      <td>\"AAAAEENPAALFRN-UHFFFAOYSA-N</td>\n",
       "      <td>1,</td>\n",
       "    </tr>\n",
       "    <tr>\n",
       "      <th>1</th>\n",
       "      <td>\"AAAAKTROWFNLEP-UHFFFAOYSA-N</td>\n",
       "      <td>2,</td>\n",
       "    </tr>\n",
       "    <tr>\n",
       "      <th>2</th>\n",
       "      <td>\"AAAATQFUBIBQIS-IRXDYDNUSA-N</td>\n",
       "      <td>3,</td>\n",
       "    </tr>\n",
       "    <tr>\n",
       "      <th>3</th>\n",
       "      <td>\"AAAAZQPHATYWOK-JXMROGBWSA-N</td>\n",
       "      <td>4,</td>\n",
       "    </tr>\n",
       "    <tr>\n",
       "      <th>4</th>\n",
       "      <td>\"AAABBEXKLPHOMC-UHFFFAOYSA-N</td>\n",
       "      <td>5,</td>\n",
       "    </tr>\n",
       "  </tbody>\n",
       "</table>\n",
       "</div>"
      ],
      "text/plain": [
       "                           name my_index\n",
       "0  \"AAAAEENPAALFRN-UHFFFAOYSA-N       1,\n",
       "1  \"AAAAKTROWFNLEP-UHFFFAOYSA-N       2,\n",
       "2  \"AAAATQFUBIBQIS-IRXDYDNUSA-N       3,\n",
       "3  \"AAAAZQPHATYWOK-JXMROGBWSA-N       4,\n",
       "4  \"AAABBEXKLPHOMC-UHFFFAOYSA-N       5,"
      ]
     },
     "execution_count": 21,
     "metadata": {},
     "output_type": "execute_result"
    }
   ],
   "source": [
    "drugs_index_df.head()"
   ]
  },
  {
   "cell_type": "code",
   "execution_count": null,
   "metadata": {},
   "outputs": [],
   "source": [
    "for i in range(len(drugs_index_df)):\n",
    "    name = drugs_index_df.loc[i, [\"name\"]].item()[1:]\n",
    "    drugs_index_df.loc[i, [\"name\"]] = name"
   ]
  },
  {
   "cell_type": "code",
   "execution_count": null,
   "metadata": {},
   "outputs": [],
   "source": [
    "for i in range(len(drugs_names)):\n",
    "    val = drugs_index_df.loc[drugs_index_df['name'] == drugs_name[i]][\"my_index\"].item()\n",
    "    val = int(val[1:-1])\n",
    "    drugs_index_dict[drugs_names[i]] = val"
   ]
  },
  {
   "cell_type": "code",
   "execution_count": null,
   "metadata": {},
   "outputs": [],
   "source": [
    "drug_similarity_file = 'similarity/chem_chem_sim.csv'\n",
    "col_names_sim        = [\"drug_1_id\", \"drug_2_id\", \"similarity\"]\n",
    "drugs_similarity_df  = pd.read_csv(drug_similarity_file, sep=',', names=col_names_sim)"
   ]
  },
  {
   "cell_type": "code",
   "execution_count": null,
   "metadata": {},
   "outputs": [],
   "source": [
    "indexes_with_valid_pairs_drugs = []\n",
    "for i in range(len(drugs_similarity_df)):\n",
    "    tem_drug1_id  = int(drugs_similarity_df.loc[[i], \"drug_1_id\"])\n",
    "    tem_drug2_id  = int(drugs_similarity_df.loc[[i], 'drug_2_id'])\n",
    "    if tem_drug1_id in drug_index_list and tem_drug2_id in drug_index_list:\n",
    "        indexes_with_valid_pairs_drugs.append(i)"
   ]
  },
  {
   "cell_type": "code",
   "execution_count": null,
   "metadata": {},
   "outputs": [],
   "source": [
    "drugs_similarity_df.ix[indexes_with_valid_pairs_drugs]"
   ]
  }
 ],
 "metadata": {
  "kernelspec": {
   "display_name": "Python 3",
   "language": "python",
   "name": "python3"
  },
  "language_info": {
   "codemirror_mode": {
    "name": "ipython",
    "version": 3
   },
   "file_extension": ".py",
   "mimetype": "text/x-python",
   "name": "python",
   "nbconvert_exporter": "python",
   "pygments_lexer": "ipython3",
   "version": "3.6.6"
  }
 },
 "nbformat": 4,
 "nbformat_minor": 2
}
